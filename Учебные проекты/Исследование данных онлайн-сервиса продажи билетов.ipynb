{
 "cells": [
  {
   "cell_type": "markdown",
   "metadata": {
    "id": "LMuaGIE3lGcr"
   },
   "source": [
    "# Исследование данных онлайн-сервиса продажи билетов\n",
    "\n",
    "- Автор: Юлия Прохорова\n",
    "- Дата: 14.06.2025"
   ]
  },
  {
   "cell_type": "markdown",
   "metadata": {},
   "source": [
    "**Цель:**\n",
    "- провести исследовательский анализ данных, выявить инсайты об изменении пользовательских предпочтений и популярности событий осенью 2024 года;\n",
    "- проверить гипотезы о разнице в поведении пользователей с мобильными и стационарными устройствами."
   ]
  },
  {
   "cell_type": "markdown",
   "metadata": {},
   "source": [
    "<a id='intro-10'></a>\n",
    "**Содержание проекта:**\n",
    "\n",
    "[1. Описание данных](#intro-1)\n",
    "\n",
    "[2. Загрузка данных и знакомство с ними](#intro-2)\n",
    "\n",
    "[3. Предобработка данных и подготовка их к исследованию](#intro-3)\n",
    "\n",
    "[4. Исследовательский анализ данных](#intro-4)\n",
    "\n",
    "[4.1. Анализ распределения заказов по сегментам и их сезонные изменения](#intro-5)\n",
    "\n",
    "[4.2. Осенняя активность пользователей](#intro-6)\n",
    "\n",
    "[4.3. Популярные события и партнёры](#intro-7)\n",
    "\n",
    "[5. Статистический анализ данных](#intro-8)\n",
    "\n",
    "[6. Общий вывод и рекомендации](#intro-9)"
   ]
  },
  {
   "cell_type": "markdown",
   "metadata": {},
   "source": [
    "<a id='intro-1'></a>\n",
    "##  Описание данных"
   ]
  },
  {
   "cell_type": "markdown",
   "metadata": {},
   "source": [
    "Данные о бронировании билетов на сервисе Яндекс Афиша за период с 1 июня по 30 октября 2024 года.\n",
    "\n",
    "Датасет `final_tickets_orders_df.csv` включает информацию обо всех заказах билетов, совершённых с двух типов устройств — мобильных и стационарных. Датасет содержит поля:\n",
    "- `order_id` — уникальный идентификатор заказа.\n",
    "- `user_id` — уникальный идентификатор пользователя.\n",
    "- `created_dt_msk` — дата создания заказа (московское время).\n",
    "- `created_ts_msk` — дата и время создания заказа (московское время).\n",
    "- `event_id` — идентификатор мероприятия из таблицы events.\n",
    "- `cinema_circuit` — сеть кинотеатров. Если не применимо, то здесь будет значение 'нет'.\n",
    "- `age_limit` — возрастное ограничение мероприятия.\n",
    "- `currency_code` — валюта оплаты, например rub для российских рублей.\n",
    "- `device_type_canonical` — тип устройства, с которого был оформлен заказ, например mobile для мобильных устройств, desktop для стационарных.\n",
    "- `revenue` — выручка от заказа.\n",
    "- `service_name` — название билетного оператора.\n",
    "- `tickets_count` — количество купленных билетов.\n",
    "- `total` — общая сумма заказа.\n",
    "- `days_since_prev` - количество дней с предыдущей покупки для каждого пользователя. Если покупки не было, то данные содержат пропуск.\n",
    "\n",
    "Датасет `final_tickets_events_df` содержит информацию о событиях, включая город и регион события, а также информацию о площадке проведения мероприятия. Датасет содержит поля:\n",
    "- `event_id` — уникальный идентификатор мероприятия.\n",
    "- `event_name` — название мероприятия. \n",
    "- `event_type_description` — описание типа мероприятия.\n",
    "- `event_type_main` — основной тип мероприятия: театральная постановка, концерт и так далее.\n",
    "- `organizers` — организаторы мероприятия.\n",
    "- `region_name` — название региона.\n",
    "- `city_name` — название города.\n",
    "- `venue_id` — уникальный идентификатор площадки.\n",
    "- `venue_name` — название площадки.\n",
    "- `venue_address` — адрес площадки.\n",
    "\n",
    "Датасет `final_tickets_tenge_df.csv` содержит информацию о курсе тенге к российскому рублю за 2024 год. Значения в рублях представлено для 100 тенге. Датасет содержит такие поля:\n",
    "- `nominal` — номинал (100 тенге).\n",
    "- `data` — дата.\n",
    "- `curs` — курс тенге к рублю.\n",
    "- `cdx` — обозначение валюты (kzt)."
   ]
  },
  {
   "cell_type": "markdown",
   "metadata": {},
   "source": [
    "<a id='intro-2'></a>\n",
    "##  Загрузка данных и знакомство с ними"
   ]
  },
  {
   "cell_type": "markdown",
   "metadata": {},
   "source": [
    "Загрузим необходимые библиотеки Python."
   ]
  },
  {
   "cell_type": "code",
   "execution_count": 1,
   "metadata": {},
   "outputs": [],
   "source": [
    "import pandas as pd\n",
    "import matplotlib.pyplot as plt\n",
    "import seaborn as sns\n",
    "import scipy.stats as st\n",
    "from scipy.stats import mannwhitneyu\n",
    "import warnings\n",
    "\n",
    "warnings.filterwarnings(\"ignore\")  # убираем предупреждения"
   ]
  },
  {
   "cell_type": "code",
   "execution_count": 2,
   "metadata": {},
   "outputs": [],
   "source": [
    "# Настройка отображения всех столбцов в Jupyter Notebook\n",
    "pd.set_option('display.max_columns', None)  # Показывать все столбцы\n",
    "pd.set_option('display.expand_frame_repr', False)  # Не переносить строки\n",
    "pd.set_option('display.max_colwidth', None)  # Показывать полное содержимое ячеек"
   ]
  },
  {
   "cell_type": "markdown",
   "metadata": {},
   "source": [
    "Загрузим данные."
   ]
  },
  {
   "cell_type": "markdown",
   "metadata": {},
   "source": [
    "Ознакомимся с данными:"
   ]
  },
  {
   "cell_type": "code",
   "execution_count": 4,
   "metadata": {},
   "outputs": [
    {
     "data": {
      "text/html": [
       "<div>\n",
       "<style scoped>\n",
       "    .dataframe tbody tr th:only-of-type {\n",
       "        vertical-align: middle;\n",
       "    }\n",
       "\n",
       "    .dataframe tbody tr th {\n",
       "        vertical-align: top;\n",
       "    }\n",
       "\n",
       "    .dataframe thead th {\n",
       "        text-align: right;\n",
       "    }\n",
       "</style>\n",
       "<table border=\"1\" class=\"dataframe\">\n",
       "  <thead>\n",
       "    <tr style=\"text-align: right;\">\n",
       "      <th></th>\n",
       "      <th>order_id</th>\n",
       "      <th>user_id</th>\n",
       "      <th>created_dt_msk</th>\n",
       "      <th>created_ts_msk</th>\n",
       "      <th>event_id</th>\n",
       "      <th>cinema_circuit</th>\n",
       "      <th>age_limit</th>\n",
       "      <th>currency_code</th>\n",
       "      <th>device_type_canonical</th>\n",
       "      <th>revenue</th>\n",
       "      <th>service_name</th>\n",
       "      <th>tickets_count</th>\n",
       "      <th>total</th>\n",
       "      <th>days_since_prev</th>\n",
       "    </tr>\n",
       "  </thead>\n",
       "  <tbody>\n",
       "    <tr>\n",
       "      <th>0</th>\n",
       "      <td>4359165</td>\n",
       "      <td>0002849b70a3ce2</td>\n",
       "      <td>2024-08-20</td>\n",
       "      <td>2024-08-20 16:08:03</td>\n",
       "      <td>169230</td>\n",
       "      <td>нет</td>\n",
       "      <td>16</td>\n",
       "      <td>rub</td>\n",
       "      <td>mobile</td>\n",
       "      <td>1521.94</td>\n",
       "      <td>Край билетов</td>\n",
       "      <td>4</td>\n",
       "      <td>10870.99</td>\n",
       "      <td>NaN</td>\n",
       "    </tr>\n",
       "    <tr>\n",
       "      <th>1</th>\n",
       "      <td>7965605</td>\n",
       "      <td>0005ca5e93f2cf4</td>\n",
       "      <td>2024-07-23</td>\n",
       "      <td>2024-07-23 18:36:24</td>\n",
       "      <td>237325</td>\n",
       "      <td>нет</td>\n",
       "      <td>0</td>\n",
       "      <td>rub</td>\n",
       "      <td>mobile</td>\n",
       "      <td>289.45</td>\n",
       "      <td>Мой билет</td>\n",
       "      <td>2</td>\n",
       "      <td>2067.51</td>\n",
       "      <td>NaN</td>\n",
       "    </tr>\n",
       "    <tr>\n",
       "      <th>2</th>\n",
       "      <td>7292370</td>\n",
       "      <td>0005ca5e93f2cf4</td>\n",
       "      <td>2024-10-06</td>\n",
       "      <td>2024-10-06 13:56:02</td>\n",
       "      <td>578454</td>\n",
       "      <td>нет</td>\n",
       "      <td>0</td>\n",
       "      <td>rub</td>\n",
       "      <td>mobile</td>\n",
       "      <td>1258.57</td>\n",
       "      <td>За билетом!</td>\n",
       "      <td>4</td>\n",
       "      <td>13984.16</td>\n",
       "      <td>75.0</td>\n",
       "    </tr>\n",
       "    <tr>\n",
       "      <th>3</th>\n",
       "      <td>1139875</td>\n",
       "      <td>000898990054619</td>\n",
       "      <td>2024-07-13</td>\n",
       "      <td>2024-07-13 19:40:48</td>\n",
       "      <td>387271</td>\n",
       "      <td>нет</td>\n",
       "      <td>0</td>\n",
       "      <td>rub</td>\n",
       "      <td>mobile</td>\n",
       "      <td>8.49</td>\n",
       "      <td>Лови билет!</td>\n",
       "      <td>2</td>\n",
       "      <td>212.28</td>\n",
       "      <td>NaN</td>\n",
       "    </tr>\n",
       "    <tr>\n",
       "      <th>4</th>\n",
       "      <td>972400</td>\n",
       "      <td>000898990054619</td>\n",
       "      <td>2024-10-04</td>\n",
       "      <td>2024-10-04 22:33:15</td>\n",
       "      <td>509453</td>\n",
       "      <td>нет</td>\n",
       "      <td>18</td>\n",
       "      <td>rub</td>\n",
       "      <td>mobile</td>\n",
       "      <td>1390.41</td>\n",
       "      <td>Билеты без проблем</td>\n",
       "      <td>3</td>\n",
       "      <td>10695.43</td>\n",
       "      <td>83.0</td>\n",
       "    </tr>\n",
       "  </tbody>\n",
       "</table>\n",
       "</div>"
      ],
      "text/plain": [
       "   order_id          user_id created_dt_msk       created_ts_msk  event_id cinema_circuit  age_limit currency_code device_type_canonical  revenue        service_name  tickets_count     total  days_since_prev\n",
       "0   4359165  0002849b70a3ce2     2024-08-20  2024-08-20 16:08:03    169230            нет         16           rub                mobile  1521.94        Край билетов              4  10870.99              NaN\n",
       "1   7965605  0005ca5e93f2cf4     2024-07-23  2024-07-23 18:36:24    237325            нет          0           rub                mobile   289.45           Мой билет              2   2067.51              NaN\n",
       "2   7292370  0005ca5e93f2cf4     2024-10-06  2024-10-06 13:56:02    578454            нет          0           rub                mobile  1258.57         За билетом!              4  13984.16             75.0\n",
       "3   1139875  000898990054619     2024-07-13  2024-07-13 19:40:48    387271            нет          0           rub                mobile     8.49         Лови билет!              2    212.28              NaN\n",
       "4    972400  000898990054619     2024-10-04  2024-10-04 22:33:15    509453            нет         18           rub                mobile  1390.41  Билеты без проблем              3  10695.43             83.0"
      ]
     },
     "metadata": {},
     "output_type": "display_data"
    },
    {
     "name": "stdout",
     "output_type": "stream",
     "text": [
      "<class 'pandas.core.frame.DataFrame'>\n",
      "RangeIndex: 290849 entries, 0 to 290848\n",
      "Data columns (total 14 columns):\n",
      " #   Column                 Non-Null Count   Dtype  \n",
      "---  ------                 --------------   -----  \n",
      " 0   order_id               290849 non-null  int64  \n",
      " 1   user_id                290849 non-null  object \n",
      " 2   created_dt_msk         290849 non-null  object \n",
      " 3   created_ts_msk         290849 non-null  object \n",
      " 4   event_id               290849 non-null  int64  \n",
      " 5   cinema_circuit         290849 non-null  object \n",
      " 6   age_limit              290849 non-null  int64  \n",
      " 7   currency_code          290849 non-null  object \n",
      " 8   device_type_canonical  290849 non-null  object \n",
      " 9   revenue                290849 non-null  float64\n",
      " 10  service_name           290849 non-null  object \n",
      " 11  tickets_count          290849 non-null  int64  \n",
      " 12  total                  290849 non-null  float64\n",
      " 13  days_since_prev        268909 non-null  float64\n",
      "dtypes: float64(3), int64(4), object(7)\n",
      "memory usage: 31.1+ MB\n"
     ]
    }
   ],
   "source": [
    "display(orders.head(5))\n",
    "orders.info()"
   ]
  },
  {
   "cell_type": "code",
   "execution_count": 5,
   "metadata": {},
   "outputs": [
    {
     "data": {
      "text/html": [
       "<div>\n",
       "<style scoped>\n",
       "    .dataframe tbody tr th:only-of-type {\n",
       "        vertical-align: middle;\n",
       "    }\n",
       "\n",
       "    .dataframe tbody tr th {\n",
       "        vertical-align: top;\n",
       "    }\n",
       "\n",
       "    .dataframe thead th {\n",
       "        text-align: right;\n",
       "    }\n",
       "</style>\n",
       "<table border=\"1\" class=\"dataframe\">\n",
       "  <thead>\n",
       "    <tr style=\"text-align: right;\">\n",
       "      <th></th>\n",
       "      <th>event_id</th>\n",
       "      <th>event_name</th>\n",
       "      <th>event_type_description</th>\n",
       "      <th>event_type_main</th>\n",
       "      <th>organizers</th>\n",
       "      <th>region_name</th>\n",
       "      <th>city_name</th>\n",
       "      <th>city_id</th>\n",
       "      <th>venue_id</th>\n",
       "      <th>venue_name</th>\n",
       "      <th>venue_address</th>\n",
       "    </tr>\n",
       "  </thead>\n",
       "  <tbody>\n",
       "    <tr>\n",
       "      <th>0</th>\n",
       "      <td>4436</td>\n",
       "      <td>e4f26fba-da77-4c61-928a-6c3e434d793f</td>\n",
       "      <td>спектакль</td>\n",
       "      <td>театр</td>\n",
       "      <td>№4893</td>\n",
       "      <td>Североярская область</td>\n",
       "      <td>Озёрск</td>\n",
       "      <td>2</td>\n",
       "      <td>1600</td>\n",
       "      <td>Кладбище искусств \"Проблема\" и партнеры</td>\n",
       "      <td>наб. Загородная, д. 785</td>\n",
       "    </tr>\n",
       "    <tr>\n",
       "      <th>1</th>\n",
       "      <td>5785</td>\n",
       "      <td>5cc08a60-fdea-4186-9bb2-bffc3603fb77</td>\n",
       "      <td>спектакль</td>\n",
       "      <td>театр</td>\n",
       "      <td>№1931</td>\n",
       "      <td>Светополянский округ</td>\n",
       "      <td>Глиноград</td>\n",
       "      <td>54</td>\n",
       "      <td>2196</td>\n",
       "      <td>Лекции по искусству \"Свет\" Групп</td>\n",
       "      <td>ул. Ягодная, д. 942</td>\n",
       "    </tr>\n",
       "    <tr>\n",
       "      <th>2</th>\n",
       "      <td>8817</td>\n",
       "      <td>8e379a89-3a10-4811-ba06-ec22ebebe989</td>\n",
       "      <td>спектакль</td>\n",
       "      <td>театр</td>\n",
       "      <td>№4896</td>\n",
       "      <td>Североярская область</td>\n",
       "      <td>Озёрск</td>\n",
       "      <td>2</td>\n",
       "      <td>4043</td>\n",
       "      <td>Кинокомитет \"Золотая\" Инк</td>\n",
       "      <td>ш. Коммуны, д. 92 стр. 6</td>\n",
       "    </tr>\n",
       "    <tr>\n",
       "      <th>3</th>\n",
       "      <td>8849</td>\n",
       "      <td>682e3129-6a32-4952-9d8a-ef7f60d4c247</td>\n",
       "      <td>спектакль</td>\n",
       "      <td>театр</td>\n",
       "      <td>№4960</td>\n",
       "      <td>Каменевский регион</td>\n",
       "      <td>Глиногорск</td>\n",
       "      <td>213</td>\n",
       "      <td>1987</td>\n",
       "      <td>Выставка ремесел \"Свет\" Лтд</td>\n",
       "      <td>пер. Набережный, д. 35</td>\n",
       "    </tr>\n",
       "    <tr>\n",
       "      <th>4</th>\n",
       "      <td>8850</td>\n",
       "      <td>d6e99176-c77f-4af0-9222-07c571f6c624</td>\n",
       "      <td>спектакль</td>\n",
       "      <td>театр</td>\n",
       "      <td>№4770</td>\n",
       "      <td>Лесодальний край</td>\n",
       "      <td>Родниковец</td>\n",
       "      <td>55</td>\n",
       "      <td>4230</td>\n",
       "      <td>Фестивальный проект \"Листья\" Групп</td>\n",
       "      <td>пер. Проезжий, д. 9</td>\n",
       "    </tr>\n",
       "  </tbody>\n",
       "</table>\n",
       "</div>"
      ],
      "text/plain": [
       "   event_id                            event_name event_type_description event_type_main organizers           region_name   city_name  city_id  venue_id                               venue_name             venue_address\n",
       "0      4436  e4f26fba-da77-4c61-928a-6c3e434d793f              спектакль           театр      №4893  Североярская область      Озёрск        2      1600  Кладбище искусств \"Проблема\" и партнеры   наб. Загородная, д. 785\n",
       "1      5785  5cc08a60-fdea-4186-9bb2-bffc3603fb77              спектакль           театр      №1931  Светополянский округ   Глиноград       54      2196         Лекции по искусству \"Свет\" Групп       ул. Ягодная, д. 942\n",
       "2      8817  8e379a89-3a10-4811-ba06-ec22ebebe989              спектакль           театр      №4896  Североярская область      Озёрск        2      4043                Кинокомитет \"Золотая\" Инк  ш. Коммуны, д. 92 стр. 6\n",
       "3      8849  682e3129-6a32-4952-9d8a-ef7f60d4c247              спектакль           театр      №4960    Каменевский регион  Глиногорск      213      1987              Выставка ремесел \"Свет\" Лтд    пер. Набережный, д. 35\n",
       "4      8850  d6e99176-c77f-4af0-9222-07c571f6c624              спектакль           театр      №4770      Лесодальний край  Родниковец       55      4230       Фестивальный проект \"Листья\" Групп       пер. Проезжий, д. 9"
      ]
     },
     "metadata": {},
     "output_type": "display_data"
    },
    {
     "name": "stdout",
     "output_type": "stream",
     "text": [
      "<class 'pandas.core.frame.DataFrame'>\n",
      "RangeIndex: 22427 entries, 0 to 22426\n",
      "Data columns (total 11 columns):\n",
      " #   Column                  Non-Null Count  Dtype \n",
      "---  ------                  --------------  ----- \n",
      " 0   event_id                22427 non-null  int64 \n",
      " 1   event_name              22427 non-null  object\n",
      " 2   event_type_description  22427 non-null  object\n",
      " 3   event_type_main         22427 non-null  object\n",
      " 4   organizers              22427 non-null  object\n",
      " 5   region_name             22427 non-null  object\n",
      " 6   city_name               22427 non-null  object\n",
      " 7   city_id                 22427 non-null  int64 \n",
      " 8   venue_id                22427 non-null  int64 \n",
      " 9   venue_name              22427 non-null  object\n",
      " 10  venue_address           22427 non-null  object\n",
      "dtypes: int64(3), object(8)\n",
      "memory usage: 1.9+ MB\n"
     ]
    }
   ],
   "source": [
    "display(events.head(5))\n",
    "events.info()"
   ]
  },
  {
   "cell_type": "code",
   "execution_count": 6,
   "metadata": {},
   "outputs": [
    {
     "data": {
      "text/html": [
       "<div>\n",
       "<style scoped>\n",
       "    .dataframe tbody tr th:only-of-type {\n",
       "        vertical-align: middle;\n",
       "    }\n",
       "\n",
       "    .dataframe tbody tr th {\n",
       "        vertical-align: top;\n",
       "    }\n",
       "\n",
       "    .dataframe thead th {\n",
       "        text-align: right;\n",
       "    }\n",
       "</style>\n",
       "<table border=\"1\" class=\"dataframe\">\n",
       "  <thead>\n",
       "    <tr style=\"text-align: right;\">\n",
       "      <th></th>\n",
       "      <th>data</th>\n",
       "      <th>nominal</th>\n",
       "      <th>curs</th>\n",
       "      <th>cdx</th>\n",
       "    </tr>\n",
       "  </thead>\n",
       "  <tbody>\n",
       "    <tr>\n",
       "      <th>0</th>\n",
       "      <td>2024-01-10</td>\n",
       "      <td>100</td>\n",
       "      <td>19.9391</td>\n",
       "      <td>kzt</td>\n",
       "    </tr>\n",
       "    <tr>\n",
       "      <th>1</th>\n",
       "      <td>2024-01-11</td>\n",
       "      <td>100</td>\n",
       "      <td>19.7255</td>\n",
       "      <td>kzt</td>\n",
       "    </tr>\n",
       "    <tr>\n",
       "      <th>2</th>\n",
       "      <td>2024-01-12</td>\n",
       "      <td>100</td>\n",
       "      <td>19.5839</td>\n",
       "      <td>kzt</td>\n",
       "    </tr>\n",
       "    <tr>\n",
       "      <th>3</th>\n",
       "      <td>2024-01-13</td>\n",
       "      <td>100</td>\n",
       "      <td>19.4501</td>\n",
       "      <td>kzt</td>\n",
       "    </tr>\n",
       "    <tr>\n",
       "      <th>4</th>\n",
       "      <td>2024-01-14</td>\n",
       "      <td>100</td>\n",
       "      <td>19.4501</td>\n",
       "      <td>kzt</td>\n",
       "    </tr>\n",
       "  </tbody>\n",
       "</table>\n",
       "</div>"
      ],
      "text/plain": [
       "         data  nominal     curs  cdx\n",
       "0  2024-01-10      100  19.9391  kzt\n",
       "1  2024-01-11      100  19.7255  kzt\n",
       "2  2024-01-12      100  19.5839  kzt\n",
       "3  2024-01-13      100  19.4501  kzt\n",
       "4  2024-01-14      100  19.4501  kzt"
      ]
     },
     "metadata": {},
     "output_type": "display_data"
    },
    {
     "name": "stdout",
     "output_type": "stream",
     "text": [
      "<class 'pandas.core.frame.DataFrame'>\n",
      "RangeIndex: 357 entries, 0 to 356\n",
      "Data columns (total 4 columns):\n",
      " #   Column   Non-Null Count  Dtype  \n",
      "---  ------   --------------  -----  \n",
      " 0   data     357 non-null    object \n",
      " 1   nominal  357 non-null    int64  \n",
      " 2   curs     357 non-null    float64\n",
      " 3   cdx      357 non-null    object \n",
      "dtypes: float64(1), int64(1), object(2)\n",
      "memory usage: 11.3+ KB\n"
     ]
    }
   ],
   "source": [
    "display(tenge.head(5))\n",
    "tenge.info()"
   ]
  },
  {
   "cell_type": "markdown",
   "metadata": {},
   "source": [
    "**Выводы:**\n",
    "\n",
    "Данные соответствуют описанию. Пропусков нет, за исключением столбца `days_since_prev`. Необходимо преобразовать тип данных содержащих дату."
   ]
  },
  {
   "cell_type": "markdown",
   "metadata": {},
   "source": [
    "<a id='intro-3'></a>\n",
    "##  Предобработка данных и подготовка их к исследованию"
   ]
  },
  {
   "cell_type": "markdown",
   "metadata": {},
   "source": [
    "Пропуски содержатся в столбце `days_since_prev`. Наличие пропусков говорит о том, что покупки не было. Преобразовывать пропуски не нужно."
   ]
  },
  {
   "cell_type": "markdown",
   "metadata": {},
   "source": [
    "Изучим значения в ключевых столбцах для категориальных значений."
   ]
  },
  {
   "cell_type": "code",
   "execution_count": 7,
   "metadata": {
    "scrolled": true
   },
   "outputs": [
    {
     "name": "stdout",
     "output_type": "stream",
     "text": [
      "\n",
      "Column: age_limit\n",
      "Unique values: [16  0 18 12  6]\n",
      "Missing values count: 0\n",
      "Value counts:\n",
      "16    78579\n",
      "12    62557\n",
      "0     61487\n",
      "6     52173\n",
      "18    36053\n",
      "Name: age_limit, dtype: int64 \n",
      "\n",
      "\n",
      "Column: currency_code\n",
      "Unique values: ['rub' 'kzt']\n",
      "Missing values count: 0\n",
      "Value counts:\n",
      "rub    285780\n",
      "kzt      5069\n",
      "Name: currency_code, dtype: int64 \n",
      "\n",
      "\n",
      "Column: device_type_canonical\n",
      "Unique values: ['mobile' 'desktop']\n",
      "Missing values count: 0\n",
      "Value counts:\n",
      "mobile     232679\n",
      "desktop     58170\n",
      "Name: device_type_canonical, dtype: int64 \n",
      "\n",
      "\n",
      "Column: service_name\n",
      "Unique values: ['Край билетов' 'Мой билет' 'За билетом!' 'Лови билет!'\n",
      " 'Билеты без проблем' 'Облачко' 'Лучшие билеты' 'Прачечная' 'Быстробилет'\n",
      " 'Дом культуры' 'Весь в билетах' 'Билеты в руки' 'Тебе билет!'\n",
      " 'Show_ticket' 'Городской дом культуры' 'Яблоко' 'Билет по телефону'\n",
      " 'Выступления.ру' 'Росбилет' 'Шоу начинается!' 'Мир касс' 'Восьмёрка'\n",
      " 'Телебилет' 'Crazy ticket!' 'Реестр' 'Быстрый кассир' 'КарандашРУ'\n",
      " 'Радио ticket' 'Дырокол' 'Вперёд!' 'Кино билет' 'Цвет и билет' 'Зе Бест!'\n",
      " 'Тех билет' 'Лимоны' 'Билеты в интернете']\n",
      "Missing values count: 0\n",
      "Value counts:\n",
      "Билеты без проблем        63709\n",
      "Лови билет!               41126\n",
      "Билеты в руки             40364\n",
      "Мой билет                 34843\n",
      "Облачко                   26642\n",
      "Лучшие билеты             17795\n",
      "Весь в билетах            16849\n",
      "Прачечная                 10273\n",
      "Край билетов               6207\n",
      "Тебе билет!                5228\n",
      "Яблоко                     5039\n",
      "Дом культуры               4502\n",
      "За билетом!                2865\n",
      "Городской дом культуры     2733\n",
      "Show_ticket                2200\n",
      "Мир касс                   2167\n",
      "Быстробилет                2003\n",
      "Выступления.ру             1616\n",
      "Восьмёрка                  1118\n",
      "Crazy ticket!               790\n",
      "Росбилет                    539\n",
      "Шоу начинается!             499\n",
      "Быстрый кассир              381\n",
      "Радио ticket                376\n",
      "Телебилет                   321\n",
      "КарандашРУ                  133\n",
      "Реестр                      125\n",
      "Билет по телефону            85\n",
      "Вперёд!                      80\n",
      "Дырокол                      74\n",
      "Кино билет                   67\n",
      "Цвет и билет                 61\n",
      "Тех билет                    22\n",
      "Лимоны                        8\n",
      "Зе Бест!                      5\n",
      "Билеты в интернете            4\n",
      "Name: service_name, dtype: int64 \n",
      "\n"
     ]
    }
   ],
   "source": [
    "# Анализ категориальных значений\n",
    "for column in ['age_limit', 'currency_code', 'device_type_canonical', 'service_name']:\n",
    "    print(f\"\\nColumn: {column}\")\n",
    "    print(\"Unique values:\", orders[column].unique())\n",
    "    print(\"Missing values count:\", orders[column].isna().sum())\n",
    "    print(\"Value counts:\")\n",
    "    print(orders[column].value_counts(dropna=False), \"\\n\")"
   ]
  },
  {
   "cell_type": "code",
   "execution_count": 8,
   "metadata": {},
   "outputs": [
    {
     "name": "stdout",
     "output_type": "stream",
     "text": [
      "\n",
      "Column: event_type_main\n",
      "Unique values: ['театр' 'концерты' 'ёлки' 'другое' 'стендап' 'выставки' 'спорт']\n",
      "Missing values count: 0\n",
      "Value counts:\n",
      "концерты    8680\n",
      "театр       7076\n",
      "другое      4658\n",
      "спорт        872\n",
      "стендап      636\n",
      "выставки     290\n",
      "ёлки         215\n",
      "Name: event_type_main, dtype: int64 \n",
      "\n"
     ]
    }
   ],
   "source": [
    "# Столбец из датафрейма events\n",
    "print(f\"\\nColumn: event_type_main\")\n",
    "print(\"Unique values:\", events['event_type_main'].unique())\n",
    "print(\"Missing values count:\", events['event_type_main'].isna().sum())\n",
    "print(\"Value counts:\")\n",
    "print(events['event_type_main'].value_counts(dropna=False), \"\\n\")"
   ]
  },
  {
   "cell_type": "markdown",
   "metadata": {},
   "source": [
    "Изучим значения в ключевых столбцах для количественных значений."
   ]
  },
  {
   "cell_type": "markdown",
   "metadata": {},
   "source": [
    "Рассмотрим распределение данных по выручке."
   ]
  },
  {
   "cell_type": "code",
   "execution_count": 9,
   "metadata": {},
   "outputs": [
    {
     "data": {
      "text/html": [
       "<div>\n",
       "<style scoped>\n",
       "    .dataframe tbody tr th:only-of-type {\n",
       "        vertical-align: middle;\n",
       "    }\n",
       "\n",
       "    .dataframe tbody tr th {\n",
       "        vertical-align: top;\n",
       "    }\n",
       "\n",
       "    .dataframe thead th {\n",
       "        text-align: right;\n",
       "    }\n",
       "</style>\n",
       "<table border=\"1\" class=\"dataframe\">\n",
       "  <thead>\n",
       "    <tr style=\"text-align: right;\">\n",
       "      <th></th>\n",
       "      <th>count</th>\n",
       "      <th>mean</th>\n",
       "      <th>std</th>\n",
       "      <th>min</th>\n",
       "      <th>25%</th>\n",
       "      <th>50%</th>\n",
       "      <th>75%</th>\n",
       "      <th>95%</th>\n",
       "      <th>99%</th>\n",
       "      <th>max</th>\n",
       "    </tr>\n",
       "    <tr>\n",
       "      <th>currency_code</th>\n",
       "      <th></th>\n",
       "      <th></th>\n",
       "      <th></th>\n",
       "      <th></th>\n",
       "      <th></th>\n",
       "      <th></th>\n",
       "      <th></th>\n",
       "      <th></th>\n",
       "      <th></th>\n",
       "      <th></th>\n",
       "    </tr>\n",
       "  </thead>\n",
       "  <tbody>\n",
       "    <tr>\n",
       "      <th>rub</th>\n",
       "      <td>285780.0</td>\n",
       "      <td>547.568333</td>\n",
       "      <td>871.524559</td>\n",
       "      <td>-90.76</td>\n",
       "      <td>113.8275</td>\n",
       "      <td>346.10</td>\n",
       "      <td>791.70</td>\n",
       "      <td>1606.50</td>\n",
       "      <td>2569.5942</td>\n",
       "      <td>81174.54</td>\n",
       "    </tr>\n",
       "    <tr>\n",
       "      <th>kzt</th>\n",
       "      <td>5069.0</td>\n",
       "      <td>4995.206767</td>\n",
       "      <td>4916.752776</td>\n",
       "      <td>0.00</td>\n",
       "      <td>518.1000</td>\n",
       "      <td>3698.83</td>\n",
       "      <td>7397.66</td>\n",
       "      <td>13784.26</td>\n",
       "      <td>17617.2400</td>\n",
       "      <td>26425.86</td>\n",
       "    </tr>\n",
       "  </tbody>\n",
       "</table>\n",
       "</div>"
      ],
      "text/plain": [
       "                  count         mean          std    min       25%      50%      75%       95%         99%       max\n",
       "currency_code                                                                                                       \n",
       "rub            285780.0   547.568333   871.524559 -90.76  113.8275   346.10   791.70   1606.50   2569.5942  81174.54\n",
       "kzt              5069.0  4995.206767  4916.752776   0.00  518.1000  3698.83  7397.66  13784.26  17617.2400  26425.86"
      ]
     },
     "metadata": {},
     "output_type": "display_data"
    }
   ],
   "source": [
    "# Выведим статистику для столбца revenue\n",
    "display(orders.groupby('currency_code')['revenue'].describe(percentiles=[0.25, 0.5, 0.75, 0.95, 0.99]).loc[['rub', 'kzt']])"
   ]
  },
  {
   "cell_type": "code",
   "execution_count": 10,
   "metadata": {},
   "outputs": [
    {
     "data": {
      "image/png": "[encoded data removed]",
      "text/plain": [
       "<Figure size 1152x432 with 1 Axes>"
      ]
     },
     "metadata": {
      "needs_background": "light"
     },
     "output_type": "display_data"
    }
   ],
   "source": [
    "# Построим ящик с усами для столбца revenue\n",
    "# Фильтруем данные\n",
    "filtered_data = orders[orders['currency_code'].isin(['rub', 'kzt'])]\n",
    "\n",
    "# Создаем горизонтальный boxplot с Seaborn\n",
    "plt.figure(figsize=(16, 6))\n",
    "boxplot = sns.boxplot(data=filtered_data,\n",
    "                     y='currency_code',  \n",
    "                     x='revenue',      \n",
    "                     orient='h',       \n",
    "                     palette=['lightgreen', 'lightblue'],\n",
    "                     width=0.6)\n",
    "\n",
    "# Настройки графика с увеличенными шрифтами\n",
    "plt.title('Распределение выручки по валютам', \n",
    "          pad=20, \n",
    "          fontsize=18,  # Увеличиваем размер шрифта заголовка\n",
    "          fontweight='bold')  # Делаем заголовок полужирным\n",
    "\n",
    "# Увеличиваем шрифты подписей осей\n",
    "plt.xlabel('Выручка', fontsize=14)\n",
    "plt.ylabel('Валюта', fontsize=14)\n",
    "\n",
    "\n",
    "# Увеличиваем шрифты меток на осях\n",
    "plt.xticks(fontsize=12)\n",
    "plt.yticks(fontsize=12)\n",
    "\n",
    "# Настройка сетки\n",
    "plt.grid(True, linestyle='--', alpha=0.3)\n",
    "\n",
    "plt.show()"
   ]
  },
  {
   "cell_type": "code",
   "execution_count": 11,
   "metadata": {},
   "outputs": [
    {
     "data": {
      "image/png": "[encoded data removed]",
      "text/plain": [
       "<Figure size 1152x432 with 2 Axes>"
      ]
     },
     "metadata": {
      "needs_background": "light"
     },
     "output_type": "display_data"
    }
   ],
   "source": [
    "# Построим гистограмму для столбца revenue\n",
    "# Фильтрация данных\n",
    "rub_data = orders[orders['currency_code'] == 'rub']\n",
    "kzt_data = orders[orders['currency_code'] == 'kzt']\n",
    "\n",
    "# Создаем фигуру с двумя подграфиками\n",
    "fig, (ax1, ax2) = plt.subplots(1, 2, figsize=(16, 6))\n",
    "\n",
    "# Гистограмма для рублей\n",
    "sns.histplot(data=rub_data, x='revenue', ax=ax1, color='lightgreen', bins=70)\n",
    "ax1.set_title('Распределение выручки (рубли)', fontsize=14)\n",
    "ax1.set_xlabel('Выручка', fontsize=12)\n",
    "ax1.set_ylabel('Количество', fontsize=12)\n",
    "ax1.grid(True, linestyle='--', alpha=0.3)\n",
    "\n",
    "# Гистограмма для тенге\n",
    "sns.histplot(data=kzt_data, x='revenue', ax=ax2, color='lightblue', bins=50)\n",
    "ax2.set_title('Распределение выручки (тенге)', fontsize=14)\n",
    "ax2.set_xlabel('Выручка', fontsize=12)\n",
    "ax2.set_ylabel('Количество', fontsize=12)\n",
    "ax2.grid(True, linestyle='--', alpha=0.3)\n",
    "\n",
    "plt.tight_layout()  # Автоматическая подгонка расстояний между графиками\n",
    "plt.show()"
   ]
  },
  {
   "cell_type": "markdown",
   "metadata": {},
   "source": [
    "**Выводы:** Распределение данных о выручке в рублях имеет сильную правостороннюю асимметрию с редкими, но очень высокими значениями выручки. Распределение в тенге более сбалансированное, но тоже с перекосом вправо. В рублях больше неоднородности (отрицательные значения, экстремальные максимумы), что требует дополнительной очистки данных. После дополнительной обработки в дальнейшем отберем данные по 99-му процентилю, для исключения выбросов."
   ]
  },
  {
   "cell_type": "markdown",
   "metadata": {},
   "source": [
    "Рассмотрим распределение данных о количестве купленных билетов."
   ]
  },
  {
   "cell_type": "code",
   "execution_count": 12,
   "metadata": {},
   "outputs": [
    {
     "data": {
      "text/html": [
       "<div>\n",
       "<style scoped>\n",
       "    .dataframe tbody tr th:only-of-type {\n",
       "        vertical-align: middle;\n",
       "    }\n",
       "\n",
       "    .dataframe tbody tr th {\n",
       "        vertical-align: top;\n",
       "    }\n",
       "\n",
       "    .dataframe thead th {\n",
       "        text-align: right;\n",
       "    }\n",
       "</style>\n",
       "<table border=\"1\" class=\"dataframe\">\n",
       "  <thead>\n",
       "    <tr style=\"text-align: right;\">\n",
       "      <th></th>\n",
       "      <th>count</th>\n",
       "      <th>mean</th>\n",
       "      <th>std</th>\n",
       "      <th>min</th>\n",
       "      <th>25%</th>\n",
       "      <th>50%</th>\n",
       "      <th>75%</th>\n",
       "      <th>95%</th>\n",
       "      <th>99%</th>\n",
       "      <th>max</th>\n",
       "    </tr>\n",
       "    <tr>\n",
       "      <th>currency_code</th>\n",
       "      <th></th>\n",
       "      <th></th>\n",
       "      <th></th>\n",
       "      <th></th>\n",
       "      <th></th>\n",
       "      <th></th>\n",
       "      <th></th>\n",
       "      <th></th>\n",
       "      <th></th>\n",
       "      <th></th>\n",
       "    </tr>\n",
       "  </thead>\n",
       "  <tbody>\n",
       "    <tr>\n",
       "      <th>rub</th>\n",
       "      <td>285780.0</td>\n",
       "      <td>2.754077</td>\n",
       "      <td>1.171419</td>\n",
       "      <td>1.0</td>\n",
       "      <td>2.0</td>\n",
       "      <td>3.0</td>\n",
       "      <td>4.0</td>\n",
       "      <td>5.0</td>\n",
       "      <td>6.0</td>\n",
       "      <td>57.0</td>\n",
       "    </tr>\n",
       "    <tr>\n",
       "      <th>kzt</th>\n",
       "      <td>5069.0</td>\n",
       "      <td>2.762872</td>\n",
       "      <td>1.115558</td>\n",
       "      <td>1.0</td>\n",
       "      <td>2.0</td>\n",
       "      <td>3.0</td>\n",
       "      <td>4.0</td>\n",
       "      <td>5.0</td>\n",
       "      <td>6.0</td>\n",
       "      <td>6.0</td>\n",
       "    </tr>\n",
       "  </tbody>\n",
       "</table>\n",
       "</div>"
      ],
      "text/plain": [
       "                  count      mean       std  min  25%  50%  75%  95%  99%   max\n",
       "currency_code                                                                  \n",
       "rub            285780.0  2.754077  1.171419  1.0  2.0  3.0  4.0  5.0  6.0  57.0\n",
       "kzt              5069.0  2.762872  1.115558  1.0  2.0  3.0  4.0  5.0  6.0   6.0"
      ]
     },
     "metadata": {},
     "output_type": "display_data"
    }
   ],
   "source": [
    "# выведим статистику для столбца tickets_count\n",
    "display(orders.groupby('currency_code')['tickets_count'].describe(percentiles=[0.25, 0.5, 0.75, 0.95, 0.99]).loc[['rub', 'kzt']])"
   ]
  },
  {
   "cell_type": "code",
   "execution_count": 13,
   "metadata": {},
   "outputs": [
    {
     "data": {
      "image/png": "[encoded data removed]",
      "text/plain": [
       "<Figure size 1152x432 with 1 Axes>"
      ]
     },
     "metadata": {
      "needs_background": "light"
     },
     "output_type": "display_data"
    }
   ],
   "source": [
    "# Построим ящик с усами для столбца tickets_count\n",
    "# Фильтруем данные\n",
    "filtered_data = orders[orders['currency_code'].isin(['rub', 'kzt'])]\n",
    "\n",
    "# Создаем горизонтальный boxplot с Seaborn\n",
    "plt.figure(figsize=(16, 6))\n",
    "boxplot = sns.boxplot(data=filtered_data,\n",
    "                     y='currency_code',  \n",
    "                     x='tickets_count',      \n",
    "                     orient='h',       \n",
    "                     palette=['lightgreen', 'lightblue'],\n",
    "                     width=0.6)\n",
    "\n",
    "# Настройки графика с увеличенными шрифтами\n",
    "plt.title('Распределение данных по количеству купленных билетов', \n",
    "          pad=20, \n",
    "          fontsize=18,  # Увеличиваем размер шрифта заголовка\n",
    "          fontweight='bold')  # Делаем заголовок полужирным\n",
    "\n",
    "# Увеличиваем шрифты подписей осей\n",
    "plt.xlabel('Кол-во билетов', fontsize=14)\n",
    "plt.ylabel('Валюта', fontsize=14)\n",
    "\n",
    "\n",
    "# Увеличиваем шрифты меток на осях\n",
    "plt.xticks(fontsize=12)\n",
    "plt.yticks(fontsize=12)\n",
    "\n",
    "# Настройка сетки\n",
    "plt.grid(True, linestyle='--', alpha=0.3)\n",
    "\n",
    "plt.show()"
   ]
  },
  {
   "cell_type": "code",
   "execution_count": 14,
   "metadata": {},
   "outputs": [
    {
     "data": {
      "image/png": "[encoded data removed]",
      "text/plain": [
       "<Figure size 1152x432 with 2 Axes>"
      ]
     },
     "metadata": {
      "needs_background": "light"
     },
     "output_type": "display_data"
    }
   ],
   "source": [
    "# Построим гистограмму для столбца tickets_count\n",
    "# Фильтрация данных\n",
    "rub_data = orders[orders['currency_code'] == 'rub']\n",
    "kzt_data = orders[orders['currency_code'] == 'kzt']\n",
    "\n",
    "# Создаем фигуру с двумя подграфиками\n",
    "fig, (ax1, ax2) = plt.subplots(1, 2, figsize=(16, 6))\n",
    "\n",
    "# Гистограмма для рублей\n",
    "sns.histplot(data=rub_data, x='tickets_count', ax=ax1, color='lightgreen', bins=50)\n",
    "ax1.set_title('Распределение кол-ва билетов (рубли)', fontsize=14)\n",
    "ax1.set_xlabel('Кол-во билетов', fontsize=12)\n",
    "ax1.set_ylabel('Частота', fontsize=12)\n",
    "ax1.grid(True, linestyle='--', alpha=0.3)\n",
    "\n",
    "# Гистограмма для тенге\n",
    "sns.histplot(data=kzt_data, x='tickets_count', ax=ax2, color='lightblue', bins=30)\n",
    "ax2.set_title('Распределение кол-ва билетов (тенге)', fontsize=14)\n",
    "ax2.set_xlabel('Количество билетов', fontsize=12)\n",
    "ax2.set_ylabel('Частота', fontsize=12)\n",
    "ax2.grid(True, linestyle='--', alpha=0.3)\n",
    "\n",
    "plt.tight_layout()  # Автоматическая подгонка расстояний между графиками\n",
    "plt.show()"
   ]
  },
  {
   "cell_type": "markdown",
   "metadata": {},
   "source": [
    "**Вывод:** распределение данных о количестве купленных билетов в рублях и тенге очень похоже по средним значениям и квартилям. Основное отличие — в рублях есть редкие аномально большие покупки (до 57 билетов), тогда как в тенге максимальное количество покупок не превышает 6. Разброс данных немного выше в рублях, но в целом тенденции схожи. Большинство покупателей (75%) берут не более 4 билетов в обеих валютах. Аномальные значения можно исключить."
   ]
  },
  {
   "cell_type": "markdown",
   "metadata": {},
   "source": [
    "Проведём преобразование типа данных для столбцов с датами."
   ]
  },
  {
   "cell_type": "code",
   "execution_count": 15,
   "metadata": {},
   "outputs": [],
   "source": [
    "orders['created_dt_msk'] = pd.to_datetime(orders['created_dt_msk'])\n",
    "orders['created_ts_msk'] = pd.to_datetime(orders['created_ts_msk'])\n",
    "tenge['data'] = pd.to_datetime(tenge['data'])"
   ]
  },
  {
   "cell_type": "markdown",
   "metadata": {},
   "source": [
    "Объединим данные в один датафрейм."
   ]
  },
  {
   "cell_type": "markdown",
   "metadata": {},
   "source": [
    "Размеры датасетов до объединения:"
   ]
  },
  {
   "cell_type": "code",
   "execution_count": 16,
   "metadata": {},
   "outputs": [
    {
     "name": "stdout",
     "output_type": "stream",
     "text": [
      "Датасет orders:\n",
      "<class 'pandas.core.frame.DataFrame'>\n",
      "RangeIndex: 290849 entries, 0 to 290848\n",
      "Data columns (total 14 columns):\n",
      " #   Column                 Non-Null Count   Dtype         \n",
      "---  ------                 --------------   -----         \n",
      " 0   order_id               290849 non-null  int64         \n",
      " 1   user_id                290849 non-null  object        \n",
      " 2   created_dt_msk         290849 non-null  datetime64[ns]\n",
      " 3   created_ts_msk         290849 non-null  datetime64[ns]\n",
      " 4   event_id               290849 non-null  int64         \n",
      " 5   cinema_circuit         290849 non-null  object        \n",
      " 6   age_limit              290849 non-null  int64         \n",
      " 7   currency_code          290849 non-null  object        \n",
      " 8   device_type_canonical  290849 non-null  object        \n",
      " 9   revenue                290849 non-null  float64       \n",
      " 10  service_name           290849 non-null  object        \n",
      " 11  tickets_count          290849 non-null  int64         \n",
      " 12  total                  290849 non-null  float64       \n",
      " 13  days_since_prev        268909 non-null  float64       \n",
      "dtypes: datetime64[ns](2), float64(3), int64(4), object(5)\n",
      "memory usage: 31.1+ MB\n",
      "None\n",
      "--------------------------------------------------------\n",
      "Датасет events:\n",
      "<class 'pandas.core.frame.DataFrame'>\n",
      "RangeIndex: 22427 entries, 0 to 22426\n",
      "Data columns (total 11 columns):\n",
      " #   Column                  Non-Null Count  Dtype \n",
      "---  ------                  --------------  ----- \n",
      " 0   event_id                22427 non-null  int64 \n",
      " 1   event_name              22427 non-null  object\n",
      " 2   event_type_description  22427 non-null  object\n",
      " 3   event_type_main         22427 non-null  object\n",
      " 4   organizers              22427 non-null  object\n",
      " 5   region_name             22427 non-null  object\n",
      " 6   city_name               22427 non-null  object\n",
      " 7   city_id                 22427 non-null  int64 \n",
      " 8   venue_id                22427 non-null  int64 \n",
      " 9   venue_name              22427 non-null  object\n",
      " 10  venue_address           22427 non-null  object\n",
      "dtypes: int64(3), object(8)\n",
      "memory usage: 1.9+ MB\n",
      "None\n",
      "--------------------------------------------------------\n",
      "Датасет tenge:\n",
      "<class 'pandas.core.frame.DataFrame'>\n",
      "RangeIndex: 357 entries, 0 to 356\n",
      "Data columns (total 4 columns):\n",
      " #   Column   Non-Null Count  Dtype         \n",
      "---  ------   --------------  -----         \n",
      " 0   data     357 non-null    datetime64[ns]\n",
      " 1   nominal  357 non-null    int64         \n",
      " 2   curs     357 non-null    float64       \n",
      " 3   cdx      357 non-null    object        \n",
      "dtypes: datetime64[ns](1), float64(1), int64(1), object(1)\n",
      "memory usage: 11.3+ KB\n",
      "None\n"
     ]
    }
   ],
   "source": [
    "print('Датасет orders:')\n",
    "print(orders.info())\n",
    "print('--------------------------------------------------------')\n",
    "print('Датасет events:')\n",
    "print(events.info())\n",
    "print('--------------------------------------------------------')\n",
    "print('Датасет tenge:')\n",
    "print(tenge.info())"
   ]
  },
  {
   "cell_type": "code",
   "execution_count": 17,
   "metadata": {},
   "outputs": [],
   "source": [
    "# Объединим датасеты\n",
    "merged = pd.merge(orders, events, on='event_id', how='left')\n",
    "final_merged = pd.merge(merged, tenge, left_on='created_dt_msk', right_on='data', how='left')"
   ]
  },
  {
   "cell_type": "markdown",
   "metadata": {},
   "source": [
    "Размер результирующего датафрейма (объединен по типу left):"
   ]
  },
  {
   "cell_type": "code",
   "execution_count": 18,
   "metadata": {},
   "outputs": [
    {
     "name": "stdout",
     "output_type": "stream",
     "text": [
      "<class 'pandas.core.frame.DataFrame'>\n",
      "Int64Index: 290849 entries, 0 to 290848\n",
      "Data columns (total 28 columns):\n",
      " #   Column                  Non-Null Count   Dtype         \n",
      "---  ------                  --------------   -----         \n",
      " 0   order_id                290849 non-null  int64         \n",
      " 1   user_id                 290849 non-null  object        \n",
      " 2   created_dt_msk          290849 non-null  datetime64[ns]\n",
      " 3   created_ts_msk          290849 non-null  datetime64[ns]\n",
      " 4   event_id                290849 non-null  int64         \n",
      " 5   cinema_circuit          290849 non-null  object        \n",
      " 6   age_limit               290849 non-null  int64         \n",
      " 7   currency_code           290849 non-null  object        \n",
      " 8   device_type_canonical   290849 non-null  object        \n",
      " 9   revenue                 290849 non-null  float64       \n",
      " 10  service_name            290849 non-null  object        \n",
      " 11  tickets_count           290849 non-null  int64         \n",
      " 12  total                   290849 non-null  float64       \n",
      " 13  days_since_prev         268909 non-null  float64       \n",
      " 14  event_name              290611 non-null  object        \n",
      " 15  event_type_description  290611 non-null  object        \n",
      " 16  event_type_main         290611 non-null  object        \n",
      " 17  organizers              290611 non-null  object        \n",
      " 18  region_name             290611 non-null  object        \n",
      " 19  city_name               290611 non-null  object        \n",
      " 20  city_id                 290611 non-null  float64       \n",
      " 21  venue_id                290611 non-null  float64       \n",
      " 22  venue_name              290611 non-null  object        \n",
      " 23  venue_address           290611 non-null  object        \n",
      " 24  data                    290849 non-null  datetime64[ns]\n",
      " 25  nominal                 290849 non-null  int64         \n",
      " 26  curs                    290849 non-null  float64       \n",
      " 27  cdx                     290849 non-null  object        \n",
      "dtypes: datetime64[ns](3), float64(6), int64(5), object(14)\n",
      "memory usage: 64.4+ MB\n"
     ]
    }
   ],
   "source": [
    "final_merged.info()"
   ]
  },
  {
   "cell_type": "markdown",
   "metadata": {},
   "source": [
    "Датасеты объедены по left, количество строк соответствуют основному датасету `orders`."
   ]
  },
  {
   "cell_type": "markdown",
   "metadata": {},
   "source": [
    "Посмотрим на итоговый датасет."
   ]
  },
  {
   "cell_type": "code",
   "execution_count": 19,
   "metadata": {},
   "outputs": [
    {
     "data": {
      "text/html": [
       "<div>\n",
       "<style scoped>\n",
       "    .dataframe tbody tr th:only-of-type {\n",
       "        vertical-align: middle;\n",
       "    }\n",
       "\n",
       "    .dataframe tbody tr th {\n",
       "        vertical-align: top;\n",
       "    }\n",
       "\n",
       "    .dataframe thead th {\n",
       "        text-align: right;\n",
       "    }\n",
       "</style>\n",
       "<table border=\"1\" class=\"dataframe\">\n",
       "  <thead>\n",
       "    <tr style=\"text-align: right;\">\n",
       "      <th></th>\n",
       "      <th>order_id</th>\n",
       "      <th>user_id</th>\n",
       "      <th>created_dt_msk</th>\n",
       "      <th>created_ts_msk</th>\n",
       "      <th>event_id</th>\n",
       "      <th>cinema_circuit</th>\n",
       "      <th>age_limit</th>\n",
       "      <th>currency_code</th>\n",
       "      <th>device_type_canonical</th>\n",
       "      <th>revenue</th>\n",
       "      <th>service_name</th>\n",
       "      <th>tickets_count</th>\n",
       "      <th>total</th>\n",
       "      <th>days_since_prev</th>\n",
       "      <th>event_name</th>\n",
       "      <th>event_type_description</th>\n",
       "      <th>event_type_main</th>\n",
       "      <th>organizers</th>\n",
       "      <th>region_name</th>\n",
       "      <th>city_name</th>\n",
       "      <th>city_id</th>\n",
       "      <th>venue_id</th>\n",
       "      <th>venue_name</th>\n",
       "      <th>venue_address</th>\n",
       "      <th>data</th>\n",
       "      <th>nominal</th>\n",
       "      <th>curs</th>\n",
       "      <th>cdx</th>\n",
       "    </tr>\n",
       "  </thead>\n",
       "  <tbody>\n",
       "    <tr>\n",
       "      <th>0</th>\n",
       "      <td>4359165</td>\n",
       "      <td>0002849b70a3ce2</td>\n",
       "      <td>2024-08-20</td>\n",
       "      <td>2024-08-20 16:08:03</td>\n",
       "      <td>169230</td>\n",
       "      <td>нет</td>\n",
       "      <td>16</td>\n",
       "      <td>rub</td>\n",
       "      <td>mobile</td>\n",
       "      <td>1521.94</td>\n",
       "      <td>Край билетов</td>\n",
       "      <td>4</td>\n",
       "      <td>10870.99</td>\n",
       "      <td>NaN</td>\n",
       "      <td>f0f7b271-04eb-4af6-bcb8-8f05cf46d6ad</td>\n",
       "      <td>спектакль</td>\n",
       "      <td>театр</td>\n",
       "      <td>№3322</td>\n",
       "      <td>Каменевский регион</td>\n",
       "      <td>Глиногорск</td>\n",
       "      <td>213.0</td>\n",
       "      <td>3972.0</td>\n",
       "      <td>Сценический центр \"Деталь\" Групп</td>\n",
       "      <td>алл. Машиностроителей, д. 19 стр. 6</td>\n",
       "      <td>2024-08-20</td>\n",
       "      <td>100</td>\n",
       "      <td>18.6972</td>\n",
       "      <td>kzt</td>\n",
       "    </tr>\n",
       "    <tr>\n",
       "      <th>1</th>\n",
       "      <td>7965605</td>\n",
       "      <td>0005ca5e93f2cf4</td>\n",
       "      <td>2024-07-23</td>\n",
       "      <td>2024-07-23 18:36:24</td>\n",
       "      <td>237325</td>\n",
       "      <td>нет</td>\n",
       "      <td>0</td>\n",
       "      <td>rub</td>\n",
       "      <td>mobile</td>\n",
       "      <td>289.45</td>\n",
       "      <td>Мой билет</td>\n",
       "      <td>2</td>\n",
       "      <td>2067.51</td>\n",
       "      <td>NaN</td>\n",
       "      <td>40efeb04-81b7-4135-b41f-708ff00cc64c</td>\n",
       "      <td>событие</td>\n",
       "      <td>выставки</td>\n",
       "      <td>№4850</td>\n",
       "      <td>Каменевский регион</td>\n",
       "      <td>Глиногорск</td>\n",
       "      <td>213.0</td>\n",
       "      <td>2941.0</td>\n",
       "      <td>Музыкальная школа для детей \"Аккаунт\" Лтд</td>\n",
       "      <td>алл. Шмидта, д. 9 стр. 4</td>\n",
       "      <td>2024-07-23</td>\n",
       "      <td>100</td>\n",
       "      <td>18.3419</td>\n",
       "      <td>kzt</td>\n",
       "    </tr>\n",
       "    <tr>\n",
       "      <th>2</th>\n",
       "      <td>7292370</td>\n",
       "      <td>0005ca5e93f2cf4</td>\n",
       "      <td>2024-10-06</td>\n",
       "      <td>2024-10-06 13:56:02</td>\n",
       "      <td>578454</td>\n",
       "      <td>нет</td>\n",
       "      <td>0</td>\n",
       "      <td>rub</td>\n",
       "      <td>mobile</td>\n",
       "      <td>1258.57</td>\n",
       "      <td>За билетом!</td>\n",
       "      <td>4</td>\n",
       "      <td>13984.16</td>\n",
       "      <td>75.0</td>\n",
       "      <td>01f3fb7b-ed07-4f94-b1d3-9a2e1ee5a8ca</td>\n",
       "      <td>цирковое шоу</td>\n",
       "      <td>другое</td>\n",
       "      <td>№1540</td>\n",
       "      <td>Каменевский регион</td>\n",
       "      <td>Глиногорск</td>\n",
       "      <td>213.0</td>\n",
       "      <td>4507.0</td>\n",
       "      <td>Училище искусств \"Нирвана\" Инк</td>\n",
       "      <td>алл. Юбилейная, д. 5/6</td>\n",
       "      <td>2024-10-06</td>\n",
       "      <td>100</td>\n",
       "      <td>19.6475</td>\n",
       "      <td>kzt</td>\n",
       "    </tr>\n",
       "  </tbody>\n",
       "</table>\n",
       "</div>"
      ],
      "text/plain": [
       "   order_id          user_id created_dt_msk      created_ts_msk  event_id cinema_circuit  age_limit currency_code device_type_canonical  revenue  service_name  tickets_count     total  days_since_prev                            event_name event_type_description event_type_main organizers         region_name   city_name  city_id  venue_id                                 venue_name                        venue_address       data  nominal     curs  cdx\n",
       "0   4359165  0002849b70a3ce2     2024-08-20 2024-08-20 16:08:03    169230            нет         16           rub                mobile  1521.94  Край билетов              4  10870.99              NaN  f0f7b271-04eb-4af6-bcb8-8f05cf46d6ad              спектакль           театр      №3322  Каменевский регион  Глиногорск    213.0    3972.0           Сценический центр \"Деталь\" Групп  алл. Машиностроителей, д. 19 стр. 6 2024-08-20      100  18.6972  kzt\n",
       "1   7965605  0005ca5e93f2cf4     2024-07-23 2024-07-23 18:36:24    237325            нет          0           rub                mobile   289.45     Мой билет              2   2067.51              NaN  40efeb04-81b7-4135-b41f-708ff00cc64c                событие        выставки      №4850  Каменевский регион  Глиногорск    213.0    2941.0  Музыкальная школа для детей \"Аккаунт\" Лтд             алл. Шмидта, д. 9 стр. 4 2024-07-23      100  18.3419  kzt\n",
       "2   7292370  0005ca5e93f2cf4     2024-10-06 2024-10-06 13:56:02    578454            нет          0           rub                mobile  1258.57   За билетом!              4  13984.16             75.0  01f3fb7b-ed07-4f94-b1d3-9a2e1ee5a8ca           цирковое шоу          другое      №1540  Каменевский регион  Глиногорск    213.0    4507.0             Училище искусств \"Нирвана\" Инк               алл. Юбилейная, д. 5/6 2024-10-06      100  19.6475  kzt"
      ]
     },
     "execution_count": 19,
     "metadata": {},
     "output_type": "execute_result"
    }
   ],
   "source": [
    "final_merged.head(3)"
   ]
  },
  {
   "cell_type": "markdown",
   "metadata": {},
   "source": [
    "Удалим не нужные столбцы."
   ]
  },
  {
   "cell_type": "code",
   "execution_count": 20,
   "metadata": {},
   "outputs": [],
   "source": [
    "final_merged = final_merged.drop(columns=['data'])\n",
    "final_merged = final_merged.drop(columns=['cdx'])"
   ]
  },
  {
   "cell_type": "markdown",
   "metadata": {},
   "source": [
    "Проверим явные и неявные дубликаты."
   ]
  },
  {
   "cell_type": "code",
   "execution_count": 21,
   "metadata": {},
   "outputs": [
    {
     "data": {
      "text/plain": [
       "0"
      ]
     },
     "execution_count": 21,
     "metadata": {},
     "output_type": "execute_result"
    }
   ],
   "source": [
    "# Проверяем явные дубликаты\n",
    "final_merged.duplicated().sum()"
   ]
  },
  {
   "cell_type": "code",
   "execution_count": 22,
   "metadata": {},
   "outputs": [
    {
     "data": {
      "text/plain": [
       "30"
      ]
     },
     "execution_count": 22,
     "metadata": {},
     "output_type": "execute_result"
    }
   ],
   "source": [
    "# Проверяем неявные дубликаты\n",
    "final_merged.duplicated(subset=final_merged.columns.difference(['order_id'])).sum()"
   ]
  },
  {
   "cell_type": "markdown",
   "metadata": {},
   "source": []
  },
  {
   "cell_type": "code",
   "execution_count": 23,
   "metadata": {},
   "outputs": [
    {
     "data": {
      "text/html": [
       "<div>\n",
       "<style scoped>\n",
       "    .dataframe tbody tr th:only-of-type {\n",
       "        vertical-align: middle;\n",
       "    }\n",
       "\n",
       "    .dataframe tbody tr th {\n",
       "        vertical-align: top;\n",
       "    }\n",
       "\n",
       "    .dataframe thead th {\n",
       "        text-align: right;\n",
       "    }\n",
       "</style>\n",
       "<table border=\"1\" class=\"dataframe\">\n",
       "  <thead>\n",
       "    <tr style=\"text-align: right;\">\n",
       "      <th></th>\n",
       "      <th>order_id</th>\n",
       "      <th>user_id</th>\n",
       "      <th>created_dt_msk</th>\n",
       "      <th>created_ts_msk</th>\n",
       "      <th>event_id</th>\n",
       "      <th>cinema_circuit</th>\n",
       "      <th>age_limit</th>\n",
       "      <th>currency_code</th>\n",
       "      <th>device_type_canonical</th>\n",
       "      <th>revenue</th>\n",
       "      <th>service_name</th>\n",
       "      <th>tickets_count</th>\n",
       "      <th>total</th>\n",
       "      <th>days_since_prev</th>\n",
       "      <th>event_name</th>\n",
       "      <th>event_type_description</th>\n",
       "      <th>event_type_main</th>\n",
       "      <th>organizers</th>\n",
       "      <th>region_name</th>\n",
       "      <th>city_name</th>\n",
       "      <th>city_id</th>\n",
       "      <th>venue_id</th>\n",
       "      <th>venue_name</th>\n",
       "      <th>venue_address</th>\n",
       "      <th>nominal</th>\n",
       "      <th>curs</th>\n",
       "    </tr>\n",
       "  </thead>\n",
       "  <tbody>\n",
       "    <tr>\n",
       "      <th>228554</th>\n",
       "      <td>2768196</td>\n",
       "      <td>c2c6d35ff678ca6</td>\n",
       "      <td>2024-08-06</td>\n",
       "      <td>2024-08-06 13:26:42</td>\n",
       "      <td>379268</td>\n",
       "      <td>нет</td>\n",
       "      <td>0</td>\n",
       "      <td>rub</td>\n",
       "      <td>mobile</td>\n",
       "      <td>87.02</td>\n",
       "      <td>Билеты без проблем</td>\n",
       "      <td>4</td>\n",
       "      <td>4350.98</td>\n",
       "      <td>0.0</td>\n",
       "      <td>b16a8d23-6085-4b04-8b8a-35b74a3d89f2</td>\n",
       "      <td>событие</td>\n",
       "      <td>другое</td>\n",
       "      <td>№2685</td>\n",
       "      <td>Североярская область</td>\n",
       "      <td>Озёрск</td>\n",
       "      <td>2.0</td>\n",
       "      <td>1283.0</td>\n",
       "      <td>Клуб начинающих писателей \"Детство\" Лимитед</td>\n",
       "      <td>ул. Заозерная, д. 9</td>\n",
       "      <td>100</td>\n",
       "      <td>17.8998</td>\n",
       "    </tr>\n",
       "    <tr>\n",
       "      <th>228559</th>\n",
       "      <td>2768051</td>\n",
       "      <td>c2c6d35ff678ca6</td>\n",
       "      <td>2024-08-06</td>\n",
       "      <td>2024-08-06 13:26:42</td>\n",
       "      <td>379268</td>\n",
       "      <td>нет</td>\n",
       "      <td>0</td>\n",
       "      <td>rub</td>\n",
       "      <td>mobile</td>\n",
       "      <td>87.02</td>\n",
       "      <td>Билеты без проблем</td>\n",
       "      <td>4</td>\n",
       "      <td>4350.98</td>\n",
       "      <td>0.0</td>\n",
       "      <td>b16a8d23-6085-4b04-8b8a-35b74a3d89f2</td>\n",
       "      <td>событие</td>\n",
       "      <td>другое</td>\n",
       "      <td>№2685</td>\n",
       "      <td>Североярская область</td>\n",
       "      <td>Озёрск</td>\n",
       "      <td>2.0</td>\n",
       "      <td>1283.0</td>\n",
       "      <td>Клуб начинающих писателей \"Детство\" Лимитед</td>\n",
       "      <td>ул. Заозерная, д. 9</td>\n",
       "      <td>100</td>\n",
       "      <td>17.8998</td>\n",
       "    </tr>\n",
       "    <tr>\n",
       "      <th>228555</th>\n",
       "      <td>2768167</td>\n",
       "      <td>c2c6d35ff678ca6</td>\n",
       "      <td>2024-08-06</td>\n",
       "      <td>2024-08-06 13:26:42</td>\n",
       "      <td>379268</td>\n",
       "      <td>нет</td>\n",
       "      <td>0</td>\n",
       "      <td>rub</td>\n",
       "      <td>mobile</td>\n",
       "      <td>108.77</td>\n",
       "      <td>Билеты без проблем</td>\n",
       "      <td>5</td>\n",
       "      <td>5438.72</td>\n",
       "      <td>0.0</td>\n",
       "      <td>b16a8d23-6085-4b04-8b8a-35b74a3d89f2</td>\n",
       "      <td>событие</td>\n",
       "      <td>другое</td>\n",
       "      <td>№2685</td>\n",
       "      <td>Североярская область</td>\n",
       "      <td>Озёрск</td>\n",
       "      <td>2.0</td>\n",
       "      <td>1283.0</td>\n",
       "      <td>Клуб начинающих писателей \"Детство\" Лимитед</td>\n",
       "      <td>ул. Заозерная, д. 9</td>\n",
       "      <td>100</td>\n",
       "      <td>17.8998</td>\n",
       "    </tr>\n",
       "    <tr>\n",
       "      <th>228561</th>\n",
       "      <td>2767964</td>\n",
       "      <td>c2c6d35ff678ca6</td>\n",
       "      <td>2024-08-06</td>\n",
       "      <td>2024-08-06 13:26:42</td>\n",
       "      <td>379268</td>\n",
       "      <td>нет</td>\n",
       "      <td>0</td>\n",
       "      <td>rub</td>\n",
       "      <td>mobile</td>\n",
       "      <td>108.77</td>\n",
       "      <td>Билеты без проблем</td>\n",
       "      <td>5</td>\n",
       "      <td>5438.72</td>\n",
       "      <td>0.0</td>\n",
       "      <td>b16a8d23-6085-4b04-8b8a-35b74a3d89f2</td>\n",
       "      <td>событие</td>\n",
       "      <td>другое</td>\n",
       "      <td>№2685</td>\n",
       "      <td>Североярская область</td>\n",
       "      <td>Озёрск</td>\n",
       "      <td>2.0</td>\n",
       "      <td>1283.0</td>\n",
       "      <td>Клуб начинающих писателей \"Детство\" Лимитед</td>\n",
       "      <td>ул. Заозерная, д. 9</td>\n",
       "      <td>100</td>\n",
       "      <td>17.8998</td>\n",
       "    </tr>\n",
       "    <tr>\n",
       "      <th>154981</th>\n",
       "      <td>3463732</td>\n",
       "      <td>7eb4fc207ecc10f</td>\n",
       "      <td>2024-09-21</td>\n",
       "      <td>2024-09-21 11:43:58</td>\n",
       "      <td>448579</td>\n",
       "      <td>нет</td>\n",
       "      <td>0</td>\n",
       "      <td>rub</td>\n",
       "      <td>mobile</td>\n",
       "      <td>2.54</td>\n",
       "      <td>Лови билет!</td>\n",
       "      <td>1</td>\n",
       "      <td>84.82</td>\n",
       "      <td>0.0</td>\n",
       "      <td>a751c430-d352-44d7-99a0-29e97193eba5</td>\n",
       "      <td>спорт</td>\n",
       "      <td>спорт</td>\n",
       "      <td>№1622</td>\n",
       "      <td>Североярская область</td>\n",
       "      <td>Озёрск</td>\n",
       "      <td>2.0</td>\n",
       "      <td>4607.0</td>\n",
       "      <td>Команда артистов \"Светлячок\" Лимитед</td>\n",
       "      <td>пер. Невского, д. 72</td>\n",
       "      <td>100</td>\n",
       "      <td>19.3316</td>\n",
       "    </tr>\n",
       "    <tr>\n",
       "      <th>154993</th>\n",
       "      <td>3463819</td>\n",
       "      <td>7eb4fc207ecc10f</td>\n",
       "      <td>2024-09-21</td>\n",
       "      <td>2024-09-21 11:43:58</td>\n",
       "      <td>448579</td>\n",
       "      <td>нет</td>\n",
       "      <td>0</td>\n",
       "      <td>rub</td>\n",
       "      <td>mobile</td>\n",
       "      <td>2.54</td>\n",
       "      <td>Лови билет!</td>\n",
       "      <td>1</td>\n",
       "      <td>84.82</td>\n",
       "      <td>0.0</td>\n",
       "      <td>a751c430-d352-44d7-99a0-29e97193eba5</td>\n",
       "      <td>спорт</td>\n",
       "      <td>спорт</td>\n",
       "      <td>№1622</td>\n",
       "      <td>Североярская область</td>\n",
       "      <td>Озёрск</td>\n",
       "      <td>2.0</td>\n",
       "      <td>4607.0</td>\n",
       "      <td>Команда артистов \"Светлячок\" Лимитед</td>\n",
       "      <td>пер. Невского, д. 72</td>\n",
       "      <td>100</td>\n",
       "      <td>19.3316</td>\n",
       "    </tr>\n",
       "    <tr>\n",
       "      <th>176438</th>\n",
       "      <td>8248268</td>\n",
       "      <td>8f95286aa5fd8d7</td>\n",
       "      <td>2024-06-20</td>\n",
       "      <td>2024-06-20 10:57:19</td>\n",
       "      <td>244875</td>\n",
       "      <td>нет</td>\n",
       "      <td>0</td>\n",
       "      <td>rub</td>\n",
       "      <td>mobile</td>\n",
       "      <td>15.73</td>\n",
       "      <td>Лови билет!</td>\n",
       "      <td>3</td>\n",
       "      <td>524.39</td>\n",
       "      <td>0.0</td>\n",
       "      <td>61f8b9bd-a66f-4cd9-ae10-a0e62e923476</td>\n",
       "      <td>выставка</td>\n",
       "      <td>другое</td>\n",
       "      <td>№3906</td>\n",
       "      <td>Каменноозёрный край</td>\n",
       "      <td>Ордакент</td>\n",
       "      <td>12.0</td>\n",
       "      <td>2492.0</td>\n",
       "      <td>Кинофестиваль \"Хранитель\" Инкорпорэйтед</td>\n",
       "      <td>пр. Балтийский, д. 8 к. 51</td>\n",
       "      <td>100</td>\n",
       "      <td>18.0419</td>\n",
       "    </tr>\n",
       "    <tr>\n",
       "      <th>176439</th>\n",
       "      <td>8248210</td>\n",
       "      <td>8f95286aa5fd8d7</td>\n",
       "      <td>2024-06-20</td>\n",
       "      <td>2024-06-20 10:57:19</td>\n",
       "      <td>244875</td>\n",
       "      <td>нет</td>\n",
       "      <td>0</td>\n",
       "      <td>rub</td>\n",
       "      <td>mobile</td>\n",
       "      <td>15.73</td>\n",
       "      <td>Лови билет!</td>\n",
       "      <td>3</td>\n",
       "      <td>524.39</td>\n",
       "      <td>0.0</td>\n",
       "      <td>61f8b9bd-a66f-4cd9-ae10-a0e62e923476</td>\n",
       "      <td>выставка</td>\n",
       "      <td>другое</td>\n",
       "      <td>№3906</td>\n",
       "      <td>Каменноозёрный край</td>\n",
       "      <td>Ордакент</td>\n",
       "      <td>12.0</td>\n",
       "      <td>2492.0</td>\n",
       "      <td>Кинофестиваль \"Хранитель\" Инкорпорэйтед</td>\n",
       "      <td>пр. Балтийский, д. 8 к. 51</td>\n",
       "      <td>100</td>\n",
       "      <td>18.0419</td>\n",
       "    </tr>\n",
       "    <tr>\n",
       "      <th>148473</th>\n",
       "      <td>2324032</td>\n",
       "      <td>7b525118ae656af</td>\n",
       "      <td>2024-10-28</td>\n",
       "      <td>2024-10-28 08:33:04</td>\n",
       "      <td>588203</td>\n",
       "      <td>нет</td>\n",
       "      <td>0</td>\n",
       "      <td>rub</td>\n",
       "      <td>mobile</td>\n",
       "      <td>26.96</td>\n",
       "      <td>Лучшие билеты</td>\n",
       "      <td>4</td>\n",
       "      <td>674.12</td>\n",
       "      <td>0.0</td>\n",
       "      <td>88478781-0311-42e3-b0ea-d4d6a171b70a</td>\n",
       "      <td>спорт</td>\n",
       "      <td>спорт</td>\n",
       "      <td>№1503</td>\n",
       "      <td>Чистогорская область</td>\n",
       "      <td>Песчанская</td>\n",
       "      <td>21.0</td>\n",
       "      <td>2155.0</td>\n",
       "      <td>Клуб моделей \"Гармония\" Инк</td>\n",
       "      <td>ул. Прохладная, д. 8 к. 432</td>\n",
       "      <td>100</td>\n",
       "      <td>19.9266</td>\n",
       "    </tr>\n",
       "    <tr>\n",
       "      <th>148477</th>\n",
       "      <td>2323916</td>\n",
       "      <td>7b525118ae656af</td>\n",
       "      <td>2024-10-28</td>\n",
       "      <td>2024-10-28 08:33:04</td>\n",
       "      <td>588203</td>\n",
       "      <td>нет</td>\n",
       "      <td>0</td>\n",
       "      <td>rub</td>\n",
       "      <td>mobile</td>\n",
       "      <td>26.96</td>\n",
       "      <td>Лучшие билеты</td>\n",
       "      <td>4</td>\n",
       "      <td>674.12</td>\n",
       "      <td>0.0</td>\n",
       "      <td>88478781-0311-42e3-b0ea-d4d6a171b70a</td>\n",
       "      <td>спорт</td>\n",
       "      <td>спорт</td>\n",
       "      <td>№1503</td>\n",
       "      <td>Чистогорская область</td>\n",
       "      <td>Песчанская</td>\n",
       "      <td>21.0</td>\n",
       "      <td>2155.0</td>\n",
       "      <td>Клуб моделей \"Гармония\" Инк</td>\n",
       "      <td>ул. Прохладная, д. 8 к. 432</td>\n",
       "      <td>100</td>\n",
       "      <td>19.9266</td>\n",
       "    </tr>\n",
       "    <tr>\n",
       "      <th>156213</th>\n",
       "      <td>6657937</td>\n",
       "      <td>7eb4fc207ecc10f</td>\n",
       "      <td>2024-10-26</td>\n",
       "      <td>2024-10-26 09:39:03</td>\n",
       "      <td>418836</td>\n",
       "      <td>нет</td>\n",
       "      <td>0</td>\n",
       "      <td>rub</td>\n",
       "      <td>mobile</td>\n",
       "      <td>294.85</td>\n",
       "      <td>Лови билет!</td>\n",
       "      <td>3</td>\n",
       "      <td>4914.21</td>\n",
       "      <td>0.0</td>\n",
       "      <td>a4478837-4631-4e28-95d7-a4c26751a232</td>\n",
       "      <td>цирковое шоу</td>\n",
       "      <td>другое</td>\n",
       "      <td>№1703</td>\n",
       "      <td>Тепляковская область</td>\n",
       "      <td>Горнодолинск</td>\n",
       "      <td>43.0</td>\n",
       "      <td>4481.0</td>\n",
       "      <td>Школа сценического мастерства \"Вдох\" Лтд</td>\n",
       "      <td>пер. Полярный, д. 87</td>\n",
       "      <td>100</td>\n",
       "      <td>19.9266</td>\n",
       "    </tr>\n",
       "    <tr>\n",
       "      <th>156215</th>\n",
       "      <td>6657995</td>\n",
       "      <td>7eb4fc207ecc10f</td>\n",
       "      <td>2024-10-26</td>\n",
       "      <td>2024-10-26 09:39:03</td>\n",
       "      <td>418836</td>\n",
       "      <td>нет</td>\n",
       "      <td>0</td>\n",
       "      <td>rub</td>\n",
       "      <td>mobile</td>\n",
       "      <td>294.85</td>\n",
       "      <td>Лови билет!</td>\n",
       "      <td>3</td>\n",
       "      <td>4914.21</td>\n",
       "      <td>0.0</td>\n",
       "      <td>a4478837-4631-4e28-95d7-a4c26751a232</td>\n",
       "      <td>цирковое шоу</td>\n",
       "      <td>другое</td>\n",
       "      <td>№1703</td>\n",
       "      <td>Тепляковская область</td>\n",
       "      <td>Горнодолинск</td>\n",
       "      <td>43.0</td>\n",
       "      <td>4481.0</td>\n",
       "      <td>Школа сценического мастерства \"Вдох\" Лтд</td>\n",
       "      <td>пер. Полярный, д. 87</td>\n",
       "      <td>100</td>\n",
       "      <td>19.9266</td>\n",
       "    </tr>\n",
       "    <tr>\n",
       "      <th>237738</th>\n",
       "      <td>4739065</td>\n",
       "      <td>cbe06d8837e87fb</td>\n",
       "      <td>2024-10-01</td>\n",
       "      <td>2024-10-01 11:11:17</td>\n",
       "      <td>574431</td>\n",
       "      <td>нет</td>\n",
       "      <td>0</td>\n",
       "      <td>rub</td>\n",
       "      <td>desktop</td>\n",
       "      <td>155.99</td>\n",
       "      <td>Билеты в руки</td>\n",
       "      <td>4</td>\n",
       "      <td>3899.74</td>\n",
       "      <td>0.0</td>\n",
       "      <td>d4344522-b7cf-4539-96c8-efece75e9b16</td>\n",
       "      <td>спорт</td>\n",
       "      <td>спорт</td>\n",
       "      <td>№1531</td>\n",
       "      <td>Медовская область</td>\n",
       "      <td>Радужсвет</td>\n",
       "      <td>47.0</td>\n",
       "      <td>2157.0</td>\n",
       "      <td>Студия дизайна \"Платформа\" Инкорпорэйтед</td>\n",
       "      <td>наб. Магистральная, д. 5</td>\n",
       "      <td>100</td>\n",
       "      <td>19.4525</td>\n",
       "    </tr>\n",
       "    <tr>\n",
       "      <th>237742</th>\n",
       "      <td>6597994</td>\n",
       "      <td>cbe06d8837e87fb</td>\n",
       "      <td>2024-10-01</td>\n",
       "      <td>2024-10-01 11:11:17</td>\n",
       "      <td>574431</td>\n",
       "      <td>нет</td>\n",
       "      <td>0</td>\n",
       "      <td>rub</td>\n",
       "      <td>desktop</td>\n",
       "      <td>155.99</td>\n",
       "      <td>Билеты в руки</td>\n",
       "      <td>4</td>\n",
       "      <td>3899.74</td>\n",
       "      <td>0.0</td>\n",
       "      <td>d4344522-b7cf-4539-96c8-efece75e9b16</td>\n",
       "      <td>спорт</td>\n",
       "      <td>спорт</td>\n",
       "      <td>№1531</td>\n",
       "      <td>Медовская область</td>\n",
       "      <td>Радужсвет</td>\n",
       "      <td>47.0</td>\n",
       "      <td>2157.0</td>\n",
       "      <td>Студия дизайна \"Платформа\" Инкорпорэйтед</td>\n",
       "      <td>наб. Магистральная, д. 5</td>\n",
       "      <td>100</td>\n",
       "      <td>19.4525</td>\n",
       "    </tr>\n",
       "    <tr>\n",
       "      <th>237733</th>\n",
       "      <td>2321712</td>\n",
       "      <td>cbe06d8837e87fb</td>\n",
       "      <td>2024-10-01</td>\n",
       "      <td>2024-10-01 11:20:05</td>\n",
       "      <td>574431</td>\n",
       "      <td>нет</td>\n",
       "      <td>0</td>\n",
       "      <td>rub</td>\n",
       "      <td>desktop</td>\n",
       "      <td>155.99</td>\n",
       "      <td>Билеты в руки</td>\n",
       "      <td>4</td>\n",
       "      <td>3899.74</td>\n",
       "      <td>0.0</td>\n",
       "      <td>d4344522-b7cf-4539-96c8-efece75e9b16</td>\n",
       "      <td>спорт</td>\n",
       "      <td>спорт</td>\n",
       "      <td>№1531</td>\n",
       "      <td>Медовская область</td>\n",
       "      <td>Радужсвет</td>\n",
       "      <td>47.0</td>\n",
       "      <td>2157.0</td>\n",
       "      <td>Студия дизайна \"Платформа\" Инкорпорэйтед</td>\n",
       "      <td>наб. Магистральная, д. 5</td>\n",
       "      <td>100</td>\n",
       "      <td>19.4525</td>\n",
       "    </tr>\n",
       "    <tr>\n",
       "      <th>237736</th>\n",
       "      <td>602012</td>\n",
       "      <td>cbe06d8837e87fb</td>\n",
       "      <td>2024-10-01</td>\n",
       "      <td>2024-10-01 11:20:05</td>\n",
       "      <td>574431</td>\n",
       "      <td>нет</td>\n",
       "      <td>0</td>\n",
       "      <td>rub</td>\n",
       "      <td>desktop</td>\n",
       "      <td>155.99</td>\n",
       "      <td>Билеты в руки</td>\n",
       "      <td>4</td>\n",
       "      <td>3899.74</td>\n",
       "      <td>0.0</td>\n",
       "      <td>d4344522-b7cf-4539-96c8-efece75e9b16</td>\n",
       "      <td>спорт</td>\n",
       "      <td>спорт</td>\n",
       "      <td>№1531</td>\n",
       "      <td>Медовская область</td>\n",
       "      <td>Радужсвет</td>\n",
       "      <td>47.0</td>\n",
       "      <td>2157.0</td>\n",
       "      <td>Студия дизайна \"Платформа\" Инкорпорэйтед</td>\n",
       "      <td>наб. Магистральная, д. 5</td>\n",
       "      <td>100</td>\n",
       "      <td>19.4525</td>\n",
       "    </tr>\n",
       "    <tr>\n",
       "      <th>241381</th>\n",
       "      <td>5571220</td>\n",
       "      <td>cdbc02c6ad8087a</td>\n",
       "      <td>2024-10-01</td>\n",
       "      <td>2024-10-01 11:36:30</td>\n",
       "      <td>574431</td>\n",
       "      <td>нет</td>\n",
       "      <td>0</td>\n",
       "      <td>rub</td>\n",
       "      <td>desktop</td>\n",
       "      <td>116.99</td>\n",
       "      <td>Билеты в руки</td>\n",
       "      <td>3</td>\n",
       "      <td>2924.80</td>\n",
       "      <td>0.0</td>\n",
       "      <td>d4344522-b7cf-4539-96c8-efece75e9b16</td>\n",
       "      <td>спорт</td>\n",
       "      <td>спорт</td>\n",
       "      <td>№1531</td>\n",
       "      <td>Медовская область</td>\n",
       "      <td>Радужсвет</td>\n",
       "      <td>47.0</td>\n",
       "      <td>2157.0</td>\n",
       "      <td>Студия дизайна \"Платформа\" Инкорпорэйтед</td>\n",
       "      <td>наб. Магистральная, д. 5</td>\n",
       "      <td>100</td>\n",
       "      <td>19.4525</td>\n",
       "    </tr>\n",
       "    <tr>\n",
       "      <th>241393</th>\n",
       "      <td>5875662</td>\n",
       "      <td>cdbc02c6ad8087a</td>\n",
       "      <td>2024-10-01</td>\n",
       "      <td>2024-10-01 11:36:30</td>\n",
       "      <td>574431</td>\n",
       "      <td>нет</td>\n",
       "      <td>0</td>\n",
       "      <td>rub</td>\n",
       "      <td>desktop</td>\n",
       "      <td>116.99</td>\n",
       "      <td>Билеты в руки</td>\n",
       "      <td>3</td>\n",
       "      <td>2924.80</td>\n",
       "      <td>0.0</td>\n",
       "      <td>d4344522-b7cf-4539-96c8-efece75e9b16</td>\n",
       "      <td>спорт</td>\n",
       "      <td>спорт</td>\n",
       "      <td>№1531</td>\n",
       "      <td>Медовская область</td>\n",
       "      <td>Радужсвет</td>\n",
       "      <td>47.0</td>\n",
       "      <td>2157.0</td>\n",
       "      <td>Студия дизайна \"Платформа\" Инкорпорэйтед</td>\n",
       "      <td>наб. Магистральная, д. 5</td>\n",
       "      <td>100</td>\n",
       "      <td>19.4525</td>\n",
       "    </tr>\n",
       "    <tr>\n",
       "      <th>177607</th>\n",
       "      <td>6431041</td>\n",
       "      <td>9103be7b790235f</td>\n",
       "      <td>2024-08-03</td>\n",
       "      <td>2024-08-03 15:01:56</td>\n",
       "      <td>410465</td>\n",
       "      <td>нет</td>\n",
       "      <td>0</td>\n",
       "      <td>rub</td>\n",
       "      <td>mobile</td>\n",
       "      <td>685.12</td>\n",
       "      <td>Мой билет</td>\n",
       "      <td>2</td>\n",
       "      <td>5709.34</td>\n",
       "      <td>0.0</td>\n",
       "      <td>ca2f9e9a-313d-404b-9c35-074e7a238df7</td>\n",
       "      <td>шоу</td>\n",
       "      <td>другое</td>\n",
       "      <td>№3287</td>\n",
       "      <td>Каменевский регион</td>\n",
       "      <td>Глиногорск</td>\n",
       "      <td>213.0</td>\n",
       "      <td>3391.0</td>\n",
       "      <td>Театральные мастерские \"Сюжет\" Инк</td>\n",
       "      <td>бул. Володарского, д. 237 стр. 9/3</td>\n",
       "      <td>100</td>\n",
       "      <td>18.0536</td>\n",
       "    </tr>\n",
       "    <tr>\n",
       "      <th>177608</th>\n",
       "      <td>6431070</td>\n",
       "      <td>9103be7b790235f</td>\n",
       "      <td>2024-08-03</td>\n",
       "      <td>2024-08-03 15:01:56</td>\n",
       "      <td>410465</td>\n",
       "      <td>нет</td>\n",
       "      <td>0</td>\n",
       "      <td>rub</td>\n",
       "      <td>mobile</td>\n",
       "      <td>685.12</td>\n",
       "      <td>Мой билет</td>\n",
       "      <td>2</td>\n",
       "      <td>5709.34</td>\n",
       "      <td>0.0</td>\n",
       "      <td>ca2f9e9a-313d-404b-9c35-074e7a238df7</td>\n",
       "      <td>шоу</td>\n",
       "      <td>другое</td>\n",
       "      <td>№3287</td>\n",
       "      <td>Каменевский регион</td>\n",
       "      <td>Глиногорск</td>\n",
       "      <td>213.0</td>\n",
       "      <td>3391.0</td>\n",
       "      <td>Театральные мастерские \"Сюжет\" Инк</td>\n",
       "      <td>бул. Володарского, д. 237 стр. 9/3</td>\n",
       "      <td>100</td>\n",
       "      <td>18.0536</td>\n",
       "    </tr>\n",
       "    <tr>\n",
       "      <th>154170</th>\n",
       "      <td>5372628</td>\n",
       "      <td>7eb4fc207ecc10f</td>\n",
       "      <td>2024-08-23</td>\n",
       "      <td>2024-08-23 14:08:19</td>\n",
       "      <td>298035</td>\n",
       "      <td>нет</td>\n",
       "      <td>6</td>\n",
       "      <td>rub</td>\n",
       "      <td>mobile</td>\n",
       "      <td>126.84</td>\n",
       "      <td>Билеты без проблем</td>\n",
       "      <td>1</td>\n",
       "      <td>3170.95</td>\n",
       "      <td>0.0</td>\n",
       "      <td>09164a56-0fb3-43c7-91d3-8ed22bb3d8ef</td>\n",
       "      <td>событие</td>\n",
       "      <td>другое</td>\n",
       "      <td>№4403</td>\n",
       "      <td>Североярская область</td>\n",
       "      <td>Озёрск</td>\n",
       "      <td>2.0</td>\n",
       "      <td>2795.0</td>\n",
       "      <td>Клуб исторических реконструкций \"Логос\" и партнеры</td>\n",
       "      <td>пр. Пушкина, д. 8/6 к. 482</td>\n",
       "      <td>100</td>\n",
       "      <td>19.1903</td>\n",
       "    </tr>\n",
       "    <tr>\n",
       "      <th>154173</th>\n",
       "      <td>5372831</td>\n",
       "      <td>7eb4fc207ecc10f</td>\n",
       "      <td>2024-08-23</td>\n",
       "      <td>2024-08-23 14:08:19</td>\n",
       "      <td>298035</td>\n",
       "      <td>нет</td>\n",
       "      <td>6</td>\n",
       "      <td>rub</td>\n",
       "      <td>mobile</td>\n",
       "      <td>126.84</td>\n",
       "      <td>Билеты без проблем</td>\n",
       "      <td>1</td>\n",
       "      <td>3170.95</td>\n",
       "      <td>0.0</td>\n",
       "      <td>09164a56-0fb3-43c7-91d3-8ed22bb3d8ef</td>\n",
       "      <td>событие</td>\n",
       "      <td>другое</td>\n",
       "      <td>№4403</td>\n",
       "      <td>Североярская область</td>\n",
       "      <td>Озёрск</td>\n",
       "      <td>2.0</td>\n",
       "      <td>2795.0</td>\n",
       "      <td>Клуб исторических реконструкций \"Логос\" и партнеры</td>\n",
       "      <td>пр. Пушкина, д. 8/6 к. 482</td>\n",
       "      <td>100</td>\n",
       "      <td>19.1903</td>\n",
       "    </tr>\n",
       "    <tr>\n",
       "      <th>154178</th>\n",
       "      <td>5373179</td>\n",
       "      <td>7eb4fc207ecc10f</td>\n",
       "      <td>2024-08-23</td>\n",
       "      <td>2024-08-23 14:08:19</td>\n",
       "      <td>298035</td>\n",
       "      <td>нет</td>\n",
       "      <td>6</td>\n",
       "      <td>rub</td>\n",
       "      <td>mobile</td>\n",
       "      <td>126.84</td>\n",
       "      <td>Билеты без проблем</td>\n",
       "      <td>1</td>\n",
       "      <td>3170.95</td>\n",
       "      <td>0.0</td>\n",
       "      <td>09164a56-0fb3-43c7-91d3-8ed22bb3d8ef</td>\n",
       "      <td>событие</td>\n",
       "      <td>другое</td>\n",
       "      <td>№4403</td>\n",
       "      <td>Североярская область</td>\n",
       "      <td>Озёрск</td>\n",
       "      <td>2.0</td>\n",
       "      <td>2795.0</td>\n",
       "      <td>Клуб исторических реконструкций \"Логос\" и партнеры</td>\n",
       "      <td>пр. Пушкина, д. 8/6 к. 482</td>\n",
       "      <td>100</td>\n",
       "      <td>19.1903</td>\n",
       "    </tr>\n",
       "    <tr>\n",
       "      <th>84010</th>\n",
       "      <td>3363711</td>\n",
       "      <td>3ee7dc2e115847f</td>\n",
       "      <td>2024-06-25</td>\n",
       "      <td>2024-06-25 07:32:08</td>\n",
       "      <td>277504</td>\n",
       "      <td>нет</td>\n",
       "      <td>6</td>\n",
       "      <td>rub</td>\n",
       "      <td>mobile</td>\n",
       "      <td>59.19</td>\n",
       "      <td>Билеты в руки</td>\n",
       "      <td>3</td>\n",
       "      <td>739.85</td>\n",
       "      <td>0.0</td>\n",
       "      <td>dcb6fe75-8502-480d-b8a2-6bee187cb7ee</td>\n",
       "      <td>событие</td>\n",
       "      <td>выставки</td>\n",
       "      <td>№5015</td>\n",
       "      <td>Нежинская область</td>\n",
       "      <td>Каменёвка</td>\n",
       "      <td>76.0</td>\n",
       "      <td>3094.0</td>\n",
       "      <td>Сообщество художников \"Палитра\" и партнеры</td>\n",
       "      <td>пр. Театральный, д. 161 стр. 2</td>\n",
       "      <td>100</td>\n",
       "      <td>18.8012</td>\n",
       "    </tr>\n",
       "    <tr>\n",
       "      <th>84015</th>\n",
       "      <td>3363798</td>\n",
       "      <td>3ee7dc2e115847f</td>\n",
       "      <td>2024-06-25</td>\n",
       "      <td>2024-06-25 07:32:08</td>\n",
       "      <td>277504</td>\n",
       "      <td>нет</td>\n",
       "      <td>6</td>\n",
       "      <td>rub</td>\n",
       "      <td>mobile</td>\n",
       "      <td>59.19</td>\n",
       "      <td>Билеты в руки</td>\n",
       "      <td>3</td>\n",
       "      <td>739.85</td>\n",
       "      <td>0.0</td>\n",
       "      <td>dcb6fe75-8502-480d-b8a2-6bee187cb7ee</td>\n",
       "      <td>событие</td>\n",
       "      <td>выставки</td>\n",
       "      <td>№5015</td>\n",
       "      <td>Нежинская область</td>\n",
       "      <td>Каменёвка</td>\n",
       "      <td>76.0</td>\n",
       "      <td>3094.0</td>\n",
       "      <td>Сообщество художников \"Палитра\" и партнеры</td>\n",
       "      <td>пр. Театральный, д. 161 стр. 2</td>\n",
       "      <td>100</td>\n",
       "      <td>18.8012</td>\n",
       "    </tr>\n",
       "    <tr>\n",
       "      <th>255428</th>\n",
       "      <td>7229817</td>\n",
       "      <td>de88a121becea97</td>\n",
       "      <td>2024-09-21</td>\n",
       "      <td>2024-09-21 17:21:18</td>\n",
       "      <td>571963</td>\n",
       "      <td>нет</td>\n",
       "      <td>6</td>\n",
       "      <td>rub</td>\n",
       "      <td>mobile</td>\n",
       "      <td>1065.84</td>\n",
       "      <td>Мой билет</td>\n",
       "      <td>2</td>\n",
       "      <td>8881.97</td>\n",
       "      <td>0.0</td>\n",
       "      <td>5a27dd84-bbe8-48bf-9aba-02ae43037ac6</td>\n",
       "      <td>цирковое шоу</td>\n",
       "      <td>другое</td>\n",
       "      <td>№4551</td>\n",
       "      <td>Каменевский регион</td>\n",
       "      <td>Глиногорск</td>\n",
       "      <td>213.0</td>\n",
       "      <td>4363.0</td>\n",
       "      <td>Студия дизайна \"Лестница\" Лимитед</td>\n",
       "      <td>наб. Школьная, д. 9/8 стр. 7/5</td>\n",
       "      <td>100</td>\n",
       "      <td>19.3316</td>\n",
       "    </tr>\n",
       "    <tr>\n",
       "      <th>255429</th>\n",
       "      <td>7229759</td>\n",
       "      <td>de88a121becea97</td>\n",
       "      <td>2024-09-21</td>\n",
       "      <td>2024-09-21 17:21:18</td>\n",
       "      <td>571963</td>\n",
       "      <td>нет</td>\n",
       "      <td>6</td>\n",
       "      <td>rub</td>\n",
       "      <td>mobile</td>\n",
       "      <td>1065.84</td>\n",
       "      <td>Мой билет</td>\n",
       "      <td>2</td>\n",
       "      <td>8881.97</td>\n",
       "      <td>0.0</td>\n",
       "      <td>5a27dd84-bbe8-48bf-9aba-02ae43037ac6</td>\n",
       "      <td>цирковое шоу</td>\n",
       "      <td>другое</td>\n",
       "      <td>№4551</td>\n",
       "      <td>Каменевский регион</td>\n",
       "      <td>Глиногорск</td>\n",
       "      <td>213.0</td>\n",
       "      <td>4363.0</td>\n",
       "      <td>Студия дизайна \"Лестница\" Лимитед</td>\n",
       "      <td>наб. Школьная, д. 9/8 стр. 7/5</td>\n",
       "      <td>100</td>\n",
       "      <td>19.3316</td>\n",
       "    </tr>\n",
       "    <tr>\n",
       "      <th>181790</th>\n",
       "      <td>1799219</td>\n",
       "      <td>9402cc20d69d44f</td>\n",
       "      <td>2024-09-30</td>\n",
       "      <td>2024-09-30 21:35:37</td>\n",
       "      <td>540784</td>\n",
       "      <td>нет</td>\n",
       "      <td>6</td>\n",
       "      <td>rub</td>\n",
       "      <td>desktop</td>\n",
       "      <td>177.04</td>\n",
       "      <td>За билетом!</td>\n",
       "      <td>2</td>\n",
       "      <td>2529.11</td>\n",
       "      <td>0.0</td>\n",
       "      <td>f0a4bbbc-c5bb-4648-884f-87c539056f5f</td>\n",
       "      <td>концерт</td>\n",
       "      <td>концерты</td>\n",
       "      <td>№1874</td>\n",
       "      <td>Каменевский регион</td>\n",
       "      <td>Глиногорск</td>\n",
       "      <td>213.0</td>\n",
       "      <td>2304.0</td>\n",
       "      <td>Творческое объединение \"Гармония\" Инк</td>\n",
       "      <td>наб. Партизанская, д. 47</td>\n",
       "      <td>100</td>\n",
       "      <td>19.3741</td>\n",
       "    </tr>\n",
       "    <tr>\n",
       "      <th>181791</th>\n",
       "      <td>1799248</td>\n",
       "      <td>9402cc20d69d44f</td>\n",
       "      <td>2024-09-30</td>\n",
       "      <td>2024-09-30 21:35:37</td>\n",
       "      <td>540784</td>\n",
       "      <td>нет</td>\n",
       "      <td>6</td>\n",
       "      <td>rub</td>\n",
       "      <td>desktop</td>\n",
       "      <td>177.04</td>\n",
       "      <td>За билетом!</td>\n",
       "      <td>2</td>\n",
       "      <td>2529.11</td>\n",
       "      <td>0.0</td>\n",
       "      <td>f0a4bbbc-c5bb-4648-884f-87c539056f5f</td>\n",
       "      <td>концерт</td>\n",
       "      <td>концерты</td>\n",
       "      <td>№1874</td>\n",
       "      <td>Каменевский регион</td>\n",
       "      <td>Глиногорск</td>\n",
       "      <td>213.0</td>\n",
       "      <td>2304.0</td>\n",
       "      <td>Творческое объединение \"Гармония\" Инк</td>\n",
       "      <td>наб. Партизанская, д. 47</td>\n",
       "      <td>100</td>\n",
       "      <td>19.3741</td>\n",
       "    </tr>\n",
       "    <tr>\n",
       "      <th>231623</th>\n",
       "      <td>2411061</td>\n",
       "      <td>c68f202c21433f7</td>\n",
       "      <td>2024-10-16</td>\n",
       "      <td>2024-10-16 17:20:16</td>\n",
       "      <td>469657</td>\n",
       "      <td>нет</td>\n",
       "      <td>6</td>\n",
       "      <td>rub</td>\n",
       "      <td>mobile</td>\n",
       "      <td>12.64</td>\n",
       "      <td>Билеты без проблем</td>\n",
       "      <td>1</td>\n",
       "      <td>421.17</td>\n",
       "      <td>0.0</td>\n",
       "      <td>d14300fe-85a9-4458-8d9d-eaf0bf7c6295</td>\n",
       "      <td>спектакль</td>\n",
       "      <td>театр</td>\n",
       "      <td>№1763</td>\n",
       "      <td>Североключевской округ</td>\n",
       "      <td>Зоречанск</td>\n",
       "      <td>1092.0</td>\n",
       "      <td>2474.0</td>\n",
       "      <td>Образовательное учреждение искусства \"Кубок\" Инк</td>\n",
       "      <td>бул. Пролетарский, д. 332</td>\n",
       "      <td>100</td>\n",
       "      <td>20.0393</td>\n",
       "    </tr>\n",
       "    <tr>\n",
       "      <th>231626</th>\n",
       "      <td>2410887</td>\n",
       "      <td>c68f202c21433f7</td>\n",
       "      <td>2024-10-16</td>\n",
       "      <td>2024-10-16 17:20:16</td>\n",
       "      <td>469657</td>\n",
       "      <td>нет</td>\n",
       "      <td>6</td>\n",
       "      <td>rub</td>\n",
       "      <td>mobile</td>\n",
       "      <td>12.64</td>\n",
       "      <td>Билеты без проблем</td>\n",
       "      <td>1</td>\n",
       "      <td>421.17</td>\n",
       "      <td>0.0</td>\n",
       "      <td>d14300fe-85a9-4458-8d9d-eaf0bf7c6295</td>\n",
       "      <td>спектакль</td>\n",
       "      <td>театр</td>\n",
       "      <td>№1763</td>\n",
       "      <td>Североключевской округ</td>\n",
       "      <td>Зоречанск</td>\n",
       "      <td>1092.0</td>\n",
       "      <td>2474.0</td>\n",
       "      <td>Образовательное учреждение искусства \"Кубок\" Инк</td>\n",
       "      <td>бул. Пролетарский, д. 332</td>\n",
       "      <td>100</td>\n",
       "      <td>20.0393</td>\n",
       "    </tr>\n",
       "    <tr>\n",
       "      <th>57217</th>\n",
       "      <td>160922</td>\n",
       "      <td>2564e3703075008</td>\n",
       "      <td>2024-10-30</td>\n",
       "      <td>2024-10-30 10:04:15</td>\n",
       "      <td>589005</td>\n",
       "      <td>нет</td>\n",
       "      <td>6</td>\n",
       "      <td>rub</td>\n",
       "      <td>mobile</td>\n",
       "      <td>11.23</td>\n",
       "      <td>Лови билет!</td>\n",
       "      <td>2</td>\n",
       "      <td>280.81</td>\n",
       "      <td>0.0</td>\n",
       "      <td>bee8d0cc-282b-492e-9ed8-ec0990f43ffd</td>\n",
       "      <td>выставка</td>\n",
       "      <td>другое</td>\n",
       "      <td>№1810</td>\n",
       "      <td>Яблоневская область</td>\n",
       "      <td>Горяново</td>\n",
       "      <td>11036.0</td>\n",
       "      <td>1656.0</td>\n",
       "      <td>Модная академия \"Пункт\" Лимитед</td>\n",
       "      <td>бул. Гагарина, д. 39</td>\n",
       "      <td>100</td>\n",
       "      <td>19.9516</td>\n",
       "    </tr>\n",
       "    <tr>\n",
       "      <th>57220</th>\n",
       "      <td>160893</td>\n",
       "      <td>2564e3703075008</td>\n",
       "      <td>2024-10-30</td>\n",
       "      <td>2024-10-30 10:04:15</td>\n",
       "      <td>589005</td>\n",
       "      <td>нет</td>\n",
       "      <td>6</td>\n",
       "      <td>rub</td>\n",
       "      <td>mobile</td>\n",
       "      <td>11.23</td>\n",
       "      <td>Лови билет!</td>\n",
       "      <td>2</td>\n",
       "      <td>280.81</td>\n",
       "      <td>0.0</td>\n",
       "      <td>bee8d0cc-282b-492e-9ed8-ec0990f43ffd</td>\n",
       "      <td>выставка</td>\n",
       "      <td>другое</td>\n",
       "      <td>№1810</td>\n",
       "      <td>Яблоневская область</td>\n",
       "      <td>Горяново</td>\n",
       "      <td>11036.0</td>\n",
       "      <td>1656.0</td>\n",
       "      <td>Модная академия \"Пункт\" Лимитед</td>\n",
       "      <td>бул. Гагарина, д. 39</td>\n",
       "      <td>100</td>\n",
       "      <td>19.9516</td>\n",
       "    </tr>\n",
       "    <tr>\n",
       "      <th>234814</th>\n",
       "      <td>8237161</td>\n",
       "      <td>c96b961916a84fb</td>\n",
       "      <td>2024-10-26</td>\n",
       "      <td>2024-10-26 15:06:16</td>\n",
       "      <td>551137</td>\n",
       "      <td>нет</td>\n",
       "      <td>12</td>\n",
       "      <td>rub</td>\n",
       "      <td>mobile</td>\n",
       "      <td>1044.19</td>\n",
       "      <td>Билеты без проблем</td>\n",
       "      <td>3</td>\n",
       "      <td>13052.41</td>\n",
       "      <td>0.0</td>\n",
       "      <td>ed68265d-d72d-49ac-95a6-44dc732b896d</td>\n",
       "      <td>концерт</td>\n",
       "      <td>концерты</td>\n",
       "      <td>№4389</td>\n",
       "      <td>Североярская область</td>\n",
       "      <td>Озёрск</td>\n",
       "      <td>2.0</td>\n",
       "      <td>2805.0</td>\n",
       "      <td>Центр культурного наследия \"Заряд\" и партнеры</td>\n",
       "      <td>ш. Пугачева, д. 9/7 к. 39</td>\n",
       "      <td>100</td>\n",
       "      <td>19.9266</td>\n",
       "    </tr>\n",
       "    <tr>\n",
       "      <th>234818</th>\n",
       "      <td>8237045</td>\n",
       "      <td>c96b961916a84fb</td>\n",
       "      <td>2024-10-26</td>\n",
       "      <td>2024-10-26 15:06:16</td>\n",
       "      <td>551137</td>\n",
       "      <td>нет</td>\n",
       "      <td>12</td>\n",
       "      <td>rub</td>\n",
       "      <td>mobile</td>\n",
       "      <td>1044.19</td>\n",
       "      <td>Билеты без проблем</td>\n",
       "      <td>3</td>\n",
       "      <td>13052.41</td>\n",
       "      <td>0.0</td>\n",
       "      <td>ed68265d-d72d-49ac-95a6-44dc732b896d</td>\n",
       "      <td>концерт</td>\n",
       "      <td>концерты</td>\n",
       "      <td>№4389</td>\n",
       "      <td>Североярская область</td>\n",
       "      <td>Озёрск</td>\n",
       "      <td>2.0</td>\n",
       "      <td>2805.0</td>\n",
       "      <td>Центр культурного наследия \"Заряд\" и партнеры</td>\n",
       "      <td>ш. Пугачева, д. 9/7 к. 39</td>\n",
       "      <td>100</td>\n",
       "      <td>19.9266</td>\n",
       "    </tr>\n",
       "    <tr>\n",
       "      <th>200453</th>\n",
       "      <td>6001812</td>\n",
       "      <td>a6e25611c394f8c</td>\n",
       "      <td>2024-10-04</td>\n",
       "      <td>2024-10-04 10:11:25</td>\n",
       "      <td>514735</td>\n",
       "      <td>нет</td>\n",
       "      <td>12</td>\n",
       "      <td>rub</td>\n",
       "      <td>mobile</td>\n",
       "      <td>259.64</td>\n",
       "      <td>Лучшие билеты</td>\n",
       "      <td>3</td>\n",
       "      <td>2596.43</td>\n",
       "      <td>0.0</td>\n",
       "      <td>9a0a7a42-94f6-439d-af02-1f0f083c4b1a</td>\n",
       "      <td>спектакль</td>\n",
       "      <td>театр</td>\n",
       "      <td>№1738</td>\n",
       "      <td>Яблоневская область</td>\n",
       "      <td>Светополье</td>\n",
       "      <td>39.0</td>\n",
       "      <td>3939.0</td>\n",
       "      <td>Этнографический музей \"Магнит\" Групп</td>\n",
       "      <td>наб. Полярная, д. 874</td>\n",
       "      <td>100</td>\n",
       "      <td>19.6648</td>\n",
       "    </tr>\n",
       "    <tr>\n",
       "      <th>200458</th>\n",
       "      <td>6002015</td>\n",
       "      <td>a6e25611c394f8c</td>\n",
       "      <td>2024-10-04</td>\n",
       "      <td>2024-10-04 10:11:25</td>\n",
       "      <td>514735</td>\n",
       "      <td>нет</td>\n",
       "      <td>12</td>\n",
       "      <td>rub</td>\n",
       "      <td>mobile</td>\n",
       "      <td>259.64</td>\n",
       "      <td>Лучшие билеты</td>\n",
       "      <td>3</td>\n",
       "      <td>2596.43</td>\n",
       "      <td>0.0</td>\n",
       "      <td>9a0a7a42-94f6-439d-af02-1f0f083c4b1a</td>\n",
       "      <td>спектакль</td>\n",
       "      <td>театр</td>\n",
       "      <td>№1738</td>\n",
       "      <td>Яблоневская область</td>\n",
       "      <td>Светополье</td>\n",
       "      <td>39.0</td>\n",
       "      <td>3939.0</td>\n",
       "      <td>Этнографический музей \"Магнит\" Групп</td>\n",
       "      <td>наб. Полярная, д. 874</td>\n",
       "      <td>100</td>\n",
       "      <td>19.6648</td>\n",
       "    </tr>\n",
       "    <tr>\n",
       "      <th>259940</th>\n",
       "      <td>588411</td>\n",
       "      <td>e333b28575ed7f9</td>\n",
       "      <td>2024-07-28</td>\n",
       "      <td>2024-07-28 12:50:38</td>\n",
       "      <td>81165</td>\n",
       "      <td>нет</td>\n",
       "      <td>12</td>\n",
       "      <td>rub</td>\n",
       "      <td>mobile</td>\n",
       "      <td>40.84</td>\n",
       "      <td>Тебе билет!</td>\n",
       "      <td>1</td>\n",
       "      <td>510.46</td>\n",
       "      <td>0.0</td>\n",
       "      <td>3989adcc-5d67-4a18-a741-6118a6568172</td>\n",
       "      <td>спектакль</td>\n",
       "      <td>театр</td>\n",
       "      <td>№3902</td>\n",
       "      <td>Солнечноземская область</td>\n",
       "      <td>Глинополье</td>\n",
       "      <td>56.0</td>\n",
       "      <td>3005.0</td>\n",
       "      <td>Арт-кафе \"Аксессуар\" Лимитед</td>\n",
       "      <td>бул. Логовой, д. 94 к. 1/5</td>\n",
       "      <td>100</td>\n",
       "      <td>18.0243</td>\n",
       "    </tr>\n",
       "    <tr>\n",
       "      <th>259941</th>\n",
       "      <td>589252</td>\n",
       "      <td>e333b28575ed7f9</td>\n",
       "      <td>2024-07-28</td>\n",
       "      <td>2024-07-28 12:50:38</td>\n",
       "      <td>81165</td>\n",
       "      <td>нет</td>\n",
       "      <td>12</td>\n",
       "      <td>rub</td>\n",
       "      <td>mobile</td>\n",
       "      <td>40.84</td>\n",
       "      <td>Тебе билет!</td>\n",
       "      <td>1</td>\n",
       "      <td>510.46</td>\n",
       "      <td>0.0</td>\n",
       "      <td>3989adcc-5d67-4a18-a741-6118a6568172</td>\n",
       "      <td>спектакль</td>\n",
       "      <td>театр</td>\n",
       "      <td>№3902</td>\n",
       "      <td>Солнечноземская область</td>\n",
       "      <td>Глинополье</td>\n",
       "      <td>56.0</td>\n",
       "      <td>3005.0</td>\n",
       "      <td>Арт-кафе \"Аксессуар\" Лимитед</td>\n",
       "      <td>бул. Логовой, д. 94 к. 1/5</td>\n",
       "      <td>100</td>\n",
       "      <td>18.0243</td>\n",
       "    </tr>\n",
       "    <tr>\n",
       "      <th>231606</th>\n",
       "      <td>4569328</td>\n",
       "      <td>c68f202c21433f7</td>\n",
       "      <td>2024-10-09</td>\n",
       "      <td>2024-10-09 13:58:41</td>\n",
       "      <td>578715</td>\n",
       "      <td>нет</td>\n",
       "      <td>12</td>\n",
       "      <td>rub</td>\n",
       "      <td>mobile</td>\n",
       "      <td>38.21</td>\n",
       "      <td>Билеты без проблем</td>\n",
       "      <td>1</td>\n",
       "      <td>764.25</td>\n",
       "      <td>0.0</td>\n",
       "      <td>6fbfcff4-a4ef-4441-888a-2b5bfcf10912</td>\n",
       "      <td>событие</td>\n",
       "      <td>другое</td>\n",
       "      <td>№1764</td>\n",
       "      <td>Североключевской округ</td>\n",
       "      <td>Зоречанск</td>\n",
       "      <td>1092.0</td>\n",
       "      <td>1768.0</td>\n",
       "      <td>Театр \"Задор\" Инкорпорэйтед</td>\n",
       "      <td>пер. Боровой, д. 1 стр. 75</td>\n",
       "      <td>100</td>\n",
       "      <td>19.8418</td>\n",
       "    </tr>\n",
       "    <tr>\n",
       "      <th>231611</th>\n",
       "      <td>4569444</td>\n",
       "      <td>c68f202c21433f7</td>\n",
       "      <td>2024-10-09</td>\n",
       "      <td>2024-10-09 13:58:41</td>\n",
       "      <td>578715</td>\n",
       "      <td>нет</td>\n",
       "      <td>12</td>\n",
       "      <td>rub</td>\n",
       "      <td>mobile</td>\n",
       "      <td>38.21</td>\n",
       "      <td>Билеты без проблем</td>\n",
       "      <td>1</td>\n",
       "      <td>764.25</td>\n",
       "      <td>0.0</td>\n",
       "      <td>6fbfcff4-a4ef-4441-888a-2b5bfcf10912</td>\n",
       "      <td>событие</td>\n",
       "      <td>другое</td>\n",
       "      <td>№1764</td>\n",
       "      <td>Североключевской округ</td>\n",
       "      <td>Зоречанск</td>\n",
       "      <td>1092.0</td>\n",
       "      <td>1768.0</td>\n",
       "      <td>Театр \"Задор\" Инкорпорэйтед</td>\n",
       "      <td>пер. Боровой, д. 1 стр. 75</td>\n",
       "      <td>100</td>\n",
       "      <td>19.8418</td>\n",
       "    </tr>\n",
       "    <tr>\n",
       "      <th>231603</th>\n",
       "      <td>4569560</td>\n",
       "      <td>c68f202c21433f7</td>\n",
       "      <td>2024-10-09</td>\n",
       "      <td>2024-10-09 13:58:42</td>\n",
       "      <td>578715</td>\n",
       "      <td>нет</td>\n",
       "      <td>12</td>\n",
       "      <td>rub</td>\n",
       "      <td>mobile</td>\n",
       "      <td>38.21</td>\n",
       "      <td>Билеты без проблем</td>\n",
       "      <td>1</td>\n",
       "      <td>764.25</td>\n",
       "      <td>0.0</td>\n",
       "      <td>6fbfcff4-a4ef-4441-888a-2b5bfcf10912</td>\n",
       "      <td>событие</td>\n",
       "      <td>другое</td>\n",
       "      <td>№1764</td>\n",
       "      <td>Североключевской округ</td>\n",
       "      <td>Зоречанск</td>\n",
       "      <td>1092.0</td>\n",
       "      <td>1768.0</td>\n",
       "      <td>Театр \"Задор\" Инкорпорэйтед</td>\n",
       "      <td>пер. Боровой, д. 1 стр. 75</td>\n",
       "      <td>100</td>\n",
       "      <td>19.8418</td>\n",
       "    </tr>\n",
       "    <tr>\n",
       "      <th>231607</th>\n",
       "      <td>4569357</td>\n",
       "      <td>c68f202c21433f7</td>\n",
       "      <td>2024-10-09</td>\n",
       "      <td>2024-10-09 13:58:42</td>\n",
       "      <td>578715</td>\n",
       "      <td>нет</td>\n",
       "      <td>12</td>\n",
       "      <td>rub</td>\n",
       "      <td>mobile</td>\n",
       "      <td>38.21</td>\n",
       "      <td>Билеты без проблем</td>\n",
       "      <td>1</td>\n",
       "      <td>764.25</td>\n",
       "      <td>0.0</td>\n",
       "      <td>6fbfcff4-a4ef-4441-888a-2b5bfcf10912</td>\n",
       "      <td>событие</td>\n",
       "      <td>другое</td>\n",
       "      <td>№1764</td>\n",
       "      <td>Североключевской округ</td>\n",
       "      <td>Зоречанск</td>\n",
       "      <td>1092.0</td>\n",
       "      <td>1768.0</td>\n",
       "      <td>Театр \"Задор\" Инкорпорэйтед</td>\n",
       "      <td>пер. Боровой, д. 1 стр. 75</td>\n",
       "      <td>100</td>\n",
       "      <td>19.8418</td>\n",
       "    </tr>\n",
       "    <tr>\n",
       "      <th>192882</th>\n",
       "      <td>7299649</td>\n",
       "      <td>a0384c26d91e09e</td>\n",
       "      <td>2024-08-24</td>\n",
       "      <td>2024-08-24 00:07:14</td>\n",
       "      <td>534657</td>\n",
       "      <td>нет</td>\n",
       "      <td>16</td>\n",
       "      <td>rub</td>\n",
       "      <td>mobile</td>\n",
       "      <td>679.21</td>\n",
       "      <td>Быстробилет</td>\n",
       "      <td>2</td>\n",
       "      <td>5224.70</td>\n",
       "      <td>0.0</td>\n",
       "      <td>dff567b7-11a5-4c4c-b223-70c8ab7efd15</td>\n",
       "      <td>концерт</td>\n",
       "      <td>концерты</td>\n",
       "      <td>№1134</td>\n",
       "      <td>Ветренский регион</td>\n",
       "      <td>Кокжар</td>\n",
       "      <td>20.0</td>\n",
       "      <td>2866.0</td>\n",
       "      <td>Школа фотографии \"Золотое\" Инк</td>\n",
       "      <td>ш. Микрорайон, д. 79 стр. 50</td>\n",
       "      <td>100</td>\n",
       "      <td>19.1202</td>\n",
       "    </tr>\n",
       "    <tr>\n",
       "      <th>192883</th>\n",
       "      <td>7299678</td>\n",
       "      <td>a0384c26d91e09e</td>\n",
       "      <td>2024-08-24</td>\n",
       "      <td>2024-08-24 00:07:14</td>\n",
       "      <td>534657</td>\n",
       "      <td>нет</td>\n",
       "      <td>16</td>\n",
       "      <td>rub</td>\n",
       "      <td>mobile</td>\n",
       "      <td>679.21</td>\n",
       "      <td>Быстробилет</td>\n",
       "      <td>2</td>\n",
       "      <td>5224.70</td>\n",
       "      <td>0.0</td>\n",
       "      <td>dff567b7-11a5-4c4c-b223-70c8ab7efd15</td>\n",
       "      <td>концерт</td>\n",
       "      <td>концерты</td>\n",
       "      <td>№1134</td>\n",
       "      <td>Ветренский регион</td>\n",
       "      <td>Кокжар</td>\n",
       "      <td>20.0</td>\n",
       "      <td>2866.0</td>\n",
       "      <td>Школа фотографии \"Золотое\" Инк</td>\n",
       "      <td>ш. Микрорайон, д. 79 стр. 50</td>\n",
       "      <td>100</td>\n",
       "      <td>19.1202</td>\n",
       "    </tr>\n",
       "    <tr>\n",
       "      <th>174481</th>\n",
       "      <td>312621</td>\n",
       "      <td>8d6c1ff89fac35f</td>\n",
       "      <td>2024-10-31</td>\n",
       "      <td>2024-10-31 22:28:57</td>\n",
       "      <td>589624</td>\n",
       "      <td>нет</td>\n",
       "      <td>16</td>\n",
       "      <td>rub</td>\n",
       "      <td>desktop</td>\n",
       "      <td>41.83</td>\n",
       "      <td>Мой билет</td>\n",
       "      <td>1</td>\n",
       "      <td>1045.75</td>\n",
       "      <td>0.0</td>\n",
       "      <td>c9eb1fa4-257b-4290-975a-7fe34b46d11b</td>\n",
       "      <td>концерт</td>\n",
       "      <td>концерты</td>\n",
       "      <td>№2121</td>\n",
       "      <td>Каменевский регион</td>\n",
       "      <td>Глиногорск</td>\n",
       "      <td>213.0</td>\n",
       "      <td>1365.0</td>\n",
       "      <td>Картинная галерея \"Светлячок\" Лтд</td>\n",
       "      <td>ул. Дальневосточная, д. 97 к. 1/4</td>\n",
       "      <td>100</td>\n",
       "      <td>19.7383</td>\n",
       "    </tr>\n",
       "    <tr>\n",
       "      <th>174584</th>\n",
       "      <td>6114564</td>\n",
       "      <td>8d6c1ff89fac35f</td>\n",
       "      <td>2024-10-31</td>\n",
       "      <td>2024-10-31 22:28:57</td>\n",
       "      <td>589624</td>\n",
       "      <td>нет</td>\n",
       "      <td>16</td>\n",
       "      <td>rub</td>\n",
       "      <td>desktop</td>\n",
       "      <td>41.83</td>\n",
       "      <td>Мой билет</td>\n",
       "      <td>1</td>\n",
       "      <td>1045.75</td>\n",
       "      <td>0.0</td>\n",
       "      <td>c9eb1fa4-257b-4290-975a-7fe34b46d11b</td>\n",
       "      <td>концерт</td>\n",
       "      <td>концерты</td>\n",
       "      <td>№2121</td>\n",
       "      <td>Каменевский регион</td>\n",
       "      <td>Глиногорск</td>\n",
       "      <td>213.0</td>\n",
       "      <td>1365.0</td>\n",
       "      <td>Картинная галерея \"Светлячок\" Лтд</td>\n",
       "      <td>ул. Дальневосточная, д. 97 к. 1/4</td>\n",
       "      <td>100</td>\n",
       "      <td>19.7383</td>\n",
       "    </tr>\n",
       "    <tr>\n",
       "      <th>11777</th>\n",
       "      <td>1123983</td>\n",
       "      <td>06eb7897f65b433</td>\n",
       "      <td>2024-08-13</td>\n",
       "      <td>2024-08-13 16:31:07</td>\n",
       "      <td>183706</td>\n",
       "      <td>нет</td>\n",
       "      <td>18</td>\n",
       "      <td>rub</td>\n",
       "      <td>mobile</td>\n",
       "      <td>69.82</td>\n",
       "      <td>Билеты в руки</td>\n",
       "      <td>1</td>\n",
       "      <td>997.48</td>\n",
       "      <td>0.0</td>\n",
       "      <td>69796237-909b-42a7-bfb5-c1b8574c4c76</td>\n",
       "      <td>спектакль</td>\n",
       "      <td>театр</td>\n",
       "      <td>№1482</td>\n",
       "      <td>Светополянский округ</td>\n",
       "      <td>Глиноград</td>\n",
       "      <td>54.0</td>\n",
       "      <td>4443.0</td>\n",
       "      <td>Центр культурного наследия \"Объединение\" и партнеры</td>\n",
       "      <td>бул. Карбышева, д. 50</td>\n",
       "      <td>100</td>\n",
       "      <td>18.8553</td>\n",
       "    </tr>\n",
       "    <tr>\n",
       "      <th>11778</th>\n",
       "      <td>1123867</td>\n",
       "      <td>06eb7897f65b433</td>\n",
       "      <td>2024-08-13</td>\n",
       "      <td>2024-08-13 16:31:07</td>\n",
       "      <td>183706</td>\n",
       "      <td>нет</td>\n",
       "      <td>18</td>\n",
       "      <td>rub</td>\n",
       "      <td>mobile</td>\n",
       "      <td>69.82</td>\n",
       "      <td>Билеты в руки</td>\n",
       "      <td>1</td>\n",
       "      <td>997.48</td>\n",
       "      <td>0.0</td>\n",
       "      <td>69796237-909b-42a7-bfb5-c1b8574c4c76</td>\n",
       "      <td>спектакль</td>\n",
       "      <td>театр</td>\n",
       "      <td>№1482</td>\n",
       "      <td>Светополянский округ</td>\n",
       "      <td>Глиноград</td>\n",
       "      <td>54.0</td>\n",
       "      <td>4443.0</td>\n",
       "      <td>Центр культурного наследия \"Объединение\" и партнеры</td>\n",
       "      <td>бул. Карбышева, д. 50</td>\n",
       "      <td>100</td>\n",
       "      <td>18.8553</td>\n",
       "    </tr>\n",
       "    <tr>\n",
       "      <th>232673</th>\n",
       "      <td>1585808</td>\n",
       "      <td>c7a762e320f0def</td>\n",
       "      <td>2024-06-19</td>\n",
       "      <td>2024-06-19 11:07:59</td>\n",
       "      <td>538926</td>\n",
       "      <td>нет</td>\n",
       "      <td>18</td>\n",
       "      <td>rub</td>\n",
       "      <td>mobile</td>\n",
       "      <td>0.00</td>\n",
       "      <td>Билеты без проблем</td>\n",
       "      <td>3</td>\n",
       "      <td>0.00</td>\n",
       "      <td>0.0</td>\n",
       "      <td>7b378eca-5d03-4f42-9491-a32887424226</td>\n",
       "      <td>событие</td>\n",
       "      <td>другое</td>\n",
       "      <td>№4549</td>\n",
       "      <td>Каменевский регион</td>\n",
       "      <td>Глиногорск</td>\n",
       "      <td>213.0</td>\n",
       "      <td>3474.0</td>\n",
       "      <td>Креативное пространство \"Вдох\" Лимитед</td>\n",
       "      <td>бул. Пригородный, д. 7/1</td>\n",
       "      <td>100</td>\n",
       "      <td>19.2165</td>\n",
       "    </tr>\n",
       "    <tr>\n",
       "      <th>232676</th>\n",
       "      <td>7927528</td>\n",
       "      <td>c7a762e320f0def</td>\n",
       "      <td>2024-06-19</td>\n",
       "      <td>2024-06-19 11:07:59</td>\n",
       "      <td>538926</td>\n",
       "      <td>нет</td>\n",
       "      <td>18</td>\n",
       "      <td>rub</td>\n",
       "      <td>mobile</td>\n",
       "      <td>0.00</td>\n",
       "      <td>Билеты без проблем</td>\n",
       "      <td>3</td>\n",
       "      <td>0.00</td>\n",
       "      <td>0.0</td>\n",
       "      <td>7b378eca-5d03-4f42-9491-a32887424226</td>\n",
       "      <td>событие</td>\n",
       "      <td>другое</td>\n",
       "      <td>№4549</td>\n",
       "      <td>Каменевский регион</td>\n",
       "      <td>Глиногорск</td>\n",
       "      <td>213.0</td>\n",
       "      <td>3474.0</td>\n",
       "      <td>Креативное пространство \"Вдох\" Лимитед</td>\n",
       "      <td>бул. Пригородный, д. 7/1</td>\n",
       "      <td>100</td>\n",
       "      <td>19.2165</td>\n",
       "    </tr>\n",
       "    <tr>\n",
       "      <th>285617</th>\n",
       "      <td>8548041</td>\n",
       "      <td>fd4d47438ebb946</td>\n",
       "      <td>2024-06-19</td>\n",
       "      <td>2024-06-19 15:40:50</td>\n",
       "      <td>489843</td>\n",
       "      <td>нет</td>\n",
       "      <td>18</td>\n",
       "      <td>rub</td>\n",
       "      <td>desktop</td>\n",
       "      <td>989.57</td>\n",
       "      <td>Билеты без проблем</td>\n",
       "      <td>3</td>\n",
       "      <td>10995.23</td>\n",
       "      <td>0.0</td>\n",
       "      <td>25a26bf3-cb70-4f37-a7f0-c97cc065d414</td>\n",
       "      <td>спектакль</td>\n",
       "      <td>театр</td>\n",
       "      <td>№1858</td>\n",
       "      <td>Каменевский регион</td>\n",
       "      <td>Глиногорск</td>\n",
       "      <td>213.0</td>\n",
       "      <td>4017.0</td>\n",
       "      <td>Студия анимации \"Точка\" Инкорпорэйтед</td>\n",
       "      <td>алл. Тамбовская, д. 7 к. 827</td>\n",
       "      <td>100</td>\n",
       "      <td>19.2165</td>\n",
       "    </tr>\n",
       "    <tr>\n",
       "      <th>285618</th>\n",
       "      <td>8548070</td>\n",
       "      <td>fd4d47438ebb946</td>\n",
       "      <td>2024-06-19</td>\n",
       "      <td>2024-06-19 15:40:50</td>\n",
       "      <td>489843</td>\n",
       "      <td>нет</td>\n",
       "      <td>18</td>\n",
       "      <td>rub</td>\n",
       "      <td>desktop</td>\n",
       "      <td>989.57</td>\n",
       "      <td>Билеты без проблем</td>\n",
       "      <td>3</td>\n",
       "      <td>10995.23</td>\n",
       "      <td>0.0</td>\n",
       "      <td>25a26bf3-cb70-4f37-a7f0-c97cc065d414</td>\n",
       "      <td>спектакль</td>\n",
       "      <td>театр</td>\n",
       "      <td>№1858</td>\n",
       "      <td>Каменевский регион</td>\n",
       "      <td>Глиногорск</td>\n",
       "      <td>213.0</td>\n",
       "      <td>4017.0</td>\n",
       "      <td>Студия анимации \"Точка\" Инкорпорэйтед</td>\n",
       "      <td>алл. Тамбовская, д. 7 к. 827</td>\n",
       "      <td>100</td>\n",
       "      <td>19.2165</td>\n",
       "    </tr>\n",
       "    <tr>\n",
       "      <th>285612</th>\n",
       "      <td>8547809</td>\n",
       "      <td>fd4d47438ebb946</td>\n",
       "      <td>2024-06-19</td>\n",
       "      <td>2024-06-19 15:40:56</td>\n",
       "      <td>489843</td>\n",
       "      <td>нет</td>\n",
       "      <td>18</td>\n",
       "      <td>rub</td>\n",
       "      <td>desktop</td>\n",
       "      <td>989.57</td>\n",
       "      <td>Билеты без проблем</td>\n",
       "      <td>3</td>\n",
       "      <td>10995.23</td>\n",
       "      <td>0.0</td>\n",
       "      <td>25a26bf3-cb70-4f37-a7f0-c97cc065d414</td>\n",
       "      <td>спектакль</td>\n",
       "      <td>театр</td>\n",
       "      <td>№1858</td>\n",
       "      <td>Каменевский регион</td>\n",
       "      <td>Глиногорск</td>\n",
       "      <td>213.0</td>\n",
       "      <td>4017.0</td>\n",
       "      <td>Студия анимации \"Точка\" Инкорпорэйтед</td>\n",
       "      <td>алл. Тамбовская, д. 7 к. 827</td>\n",
       "      <td>100</td>\n",
       "      <td>19.2165</td>\n",
       "    </tr>\n",
       "    <tr>\n",
       "      <th>285619</th>\n",
       "      <td>8548099</td>\n",
       "      <td>fd4d47438ebb946</td>\n",
       "      <td>2024-06-19</td>\n",
       "      <td>2024-06-19 15:40:56</td>\n",
       "      <td>489843</td>\n",
       "      <td>нет</td>\n",
       "      <td>18</td>\n",
       "      <td>rub</td>\n",
       "      <td>desktop</td>\n",
       "      <td>989.57</td>\n",
       "      <td>Билеты без проблем</td>\n",
       "      <td>3</td>\n",
       "      <td>10995.23</td>\n",
       "      <td>0.0</td>\n",
       "      <td>25a26bf3-cb70-4f37-a7f0-c97cc065d414</td>\n",
       "      <td>спектакль</td>\n",
       "      <td>театр</td>\n",
       "      <td>№1858</td>\n",
       "      <td>Каменевский регион</td>\n",
       "      <td>Глиногорск</td>\n",
       "      <td>213.0</td>\n",
       "      <td>4017.0</td>\n",
       "      <td>Студия анимации \"Точка\" Инкорпорэйтед</td>\n",
       "      <td>алл. Тамбовская, д. 7 к. 827</td>\n",
       "      <td>100</td>\n",
       "      <td>19.2165</td>\n",
       "    </tr>\n",
       "    <tr>\n",
       "      <th>285614</th>\n",
       "      <td>8547983</td>\n",
       "      <td>fd4d47438ebb946</td>\n",
       "      <td>2024-06-19</td>\n",
       "      <td>2024-06-19 15:40:56</td>\n",
       "      <td>489843</td>\n",
       "      <td>нет</td>\n",
       "      <td>18</td>\n",
       "      <td>rub</td>\n",
       "      <td>desktop</td>\n",
       "      <td>1319.43</td>\n",
       "      <td>Билеты без проблем</td>\n",
       "      <td>4</td>\n",
       "      <td>14660.31</td>\n",
       "      <td>0.0</td>\n",
       "      <td>25a26bf3-cb70-4f37-a7f0-c97cc065d414</td>\n",
       "      <td>спектакль</td>\n",
       "      <td>театр</td>\n",
       "      <td>№1858</td>\n",
       "      <td>Каменевский регион</td>\n",
       "      <td>Глиногорск</td>\n",
       "      <td>213.0</td>\n",
       "      <td>4017.0</td>\n",
       "      <td>Студия анимации \"Точка\" Инкорпорэйтед</td>\n",
       "      <td>алл. Тамбовская, д. 7 к. 827</td>\n",
       "      <td>100</td>\n",
       "      <td>19.2165</td>\n",
       "    </tr>\n",
       "    <tr>\n",
       "      <th>285615</th>\n",
       "      <td>8548012</td>\n",
       "      <td>fd4d47438ebb946</td>\n",
       "      <td>2024-06-19</td>\n",
       "      <td>2024-06-19 15:40:56</td>\n",
       "      <td>489843</td>\n",
       "      <td>нет</td>\n",
       "      <td>18</td>\n",
       "      <td>rub</td>\n",
       "      <td>desktop</td>\n",
       "      <td>1319.43</td>\n",
       "      <td>Билеты без проблем</td>\n",
       "      <td>4</td>\n",
       "      <td>14660.31</td>\n",
       "      <td>0.0</td>\n",
       "      <td>25a26bf3-cb70-4f37-a7f0-c97cc065d414</td>\n",
       "      <td>спектакль</td>\n",
       "      <td>театр</td>\n",
       "      <td>№1858</td>\n",
       "      <td>Каменевский регион</td>\n",
       "      <td>Глиногорск</td>\n",
       "      <td>213.0</td>\n",
       "      <td>4017.0</td>\n",
       "      <td>Студия анимации \"Точка\" Инкорпорэйтед</td>\n",
       "      <td>алл. Тамбовская, д. 7 к. 827</td>\n",
       "      <td>100</td>\n",
       "      <td>19.2165</td>\n",
       "    </tr>\n",
       "    <tr>\n",
       "      <th>285622</th>\n",
       "      <td>8547867</td>\n",
       "      <td>fd4d47438ebb946</td>\n",
       "      <td>2024-06-19</td>\n",
       "      <td>2024-06-19 15:40:56</td>\n",
       "      <td>489843</td>\n",
       "      <td>нет</td>\n",
       "      <td>18</td>\n",
       "      <td>rub</td>\n",
       "      <td>desktop</td>\n",
       "      <td>1319.43</td>\n",
       "      <td>Билеты без проблем</td>\n",
       "      <td>4</td>\n",
       "      <td>14660.31</td>\n",
       "      <td>0.0</td>\n",
       "      <td>25a26bf3-cb70-4f37-a7f0-c97cc065d414</td>\n",
       "      <td>спектакль</td>\n",
       "      <td>театр</td>\n",
       "      <td>№1858</td>\n",
       "      <td>Каменевский регион</td>\n",
       "      <td>Глиногорск</td>\n",
       "      <td>213.0</td>\n",
       "      <td>4017.0</td>\n",
       "      <td>Студия анимации \"Точка\" Инкорпорэйтед</td>\n",
       "      <td>алл. Тамбовская, д. 7 к. 827</td>\n",
       "      <td>100</td>\n",
       "      <td>19.2165</td>\n",
       "    </tr>\n",
       "  </tbody>\n",
       "</table>\n",
       "</div>"
      ],
      "text/plain": [
       "        order_id          user_id created_dt_msk      created_ts_msk  event_id cinema_circuit  age_limit currency_code device_type_canonical  revenue        service_name  tickets_count     total  days_since_prev                            event_name event_type_description event_type_main organizers              region_name     city_name  city_id  venue_id                                           venue_name                       venue_address  nominal     curs\n",
       "228554   2768196  c2c6d35ff678ca6     2024-08-06 2024-08-06 13:26:42    379268            нет          0           rub                mobile    87.02  Билеты без проблем              4   4350.98              0.0  b16a8d23-6085-4b04-8b8a-35b74a3d89f2                событие          другое      №2685     Североярская область        Озёрск      2.0    1283.0          Клуб начинающих писателей \"Детство\" Лимитед                 ул. Заозерная, д. 9      100  17.8998\n",
       "228559   2768051  c2c6d35ff678ca6     2024-08-06 2024-08-06 13:26:42    379268            нет          0           rub                mobile    87.02  Билеты без проблем              4   4350.98              0.0  b16a8d23-6085-4b04-8b8a-35b74a3d89f2                событие          другое      №2685     Североярская область        Озёрск      2.0    1283.0          Клуб начинающих писателей \"Детство\" Лимитед                 ул. Заозерная, д. 9      100  17.8998\n",
       "228555   2768167  c2c6d35ff678ca6     2024-08-06 2024-08-06 13:26:42    379268            нет          0           rub                mobile   108.77  Билеты без проблем              5   5438.72              0.0  b16a8d23-6085-4b04-8b8a-35b74a3d89f2                событие          другое      №2685     Североярская область        Озёрск      2.0    1283.0          Клуб начинающих писателей \"Детство\" Лимитед                 ул. Заозерная, д. 9      100  17.8998\n",
       "228561   2767964  c2c6d35ff678ca6     2024-08-06 2024-08-06 13:26:42    379268            нет          0           rub                mobile   108.77  Билеты без проблем              5   5438.72              0.0  b16a8d23-6085-4b04-8b8a-35b74a3d89f2                событие          другое      №2685     Североярская область        Озёрск      2.0    1283.0          Клуб начинающих писателей \"Детство\" Лимитед                 ул. Заозерная, д. 9      100  17.8998\n",
       "154981   3463732  7eb4fc207ecc10f     2024-09-21 2024-09-21 11:43:58    448579            нет          0           rub                mobile     2.54         Лови билет!              1     84.82              0.0  a751c430-d352-44d7-99a0-29e97193eba5                  спорт           спорт      №1622     Североярская область        Озёрск      2.0    4607.0                 Команда артистов \"Светлячок\" Лимитед                пер. Невского, д. 72      100  19.3316\n",
       "154993   3463819  7eb4fc207ecc10f     2024-09-21 2024-09-21 11:43:58    448579            нет          0           rub                mobile     2.54         Лови билет!              1     84.82              0.0  a751c430-d352-44d7-99a0-29e97193eba5                  спорт           спорт      №1622     Североярская область        Озёрск      2.0    4607.0                 Команда артистов \"Светлячок\" Лимитед                пер. Невского, д. 72      100  19.3316\n",
       "176438   8248268  8f95286aa5fd8d7     2024-06-20 2024-06-20 10:57:19    244875            нет          0           rub                mobile    15.73         Лови билет!              3    524.39              0.0  61f8b9bd-a66f-4cd9-ae10-a0e62e923476               выставка          другое      №3906      Каменноозёрный край      Ордакент     12.0    2492.0              Кинофестиваль \"Хранитель\" Инкорпорэйтед          пр. Балтийский, д. 8 к. 51      100  18.0419\n",
       "176439   8248210  8f95286aa5fd8d7     2024-06-20 2024-06-20 10:57:19    244875            нет          0           rub                mobile    15.73         Лови билет!              3    524.39              0.0  61f8b9bd-a66f-4cd9-ae10-a0e62e923476               выставка          другое      №3906      Каменноозёрный край      Ордакент     12.0    2492.0              Кинофестиваль \"Хранитель\" Инкорпорэйтед          пр. Балтийский, д. 8 к. 51      100  18.0419\n",
       "148473   2324032  7b525118ae656af     2024-10-28 2024-10-28 08:33:04    588203            нет          0           rub                mobile    26.96       Лучшие билеты              4    674.12              0.0  88478781-0311-42e3-b0ea-d4d6a171b70a                  спорт           спорт      №1503     Чистогорская область    Песчанская     21.0    2155.0                          Клуб моделей \"Гармония\" Инк         ул. Прохладная, д. 8 к. 432      100  19.9266\n",
       "148477   2323916  7b525118ae656af     2024-10-28 2024-10-28 08:33:04    588203            нет          0           rub                mobile    26.96       Лучшие билеты              4    674.12              0.0  88478781-0311-42e3-b0ea-d4d6a171b70a                  спорт           спорт      №1503     Чистогорская область    Песчанская     21.0    2155.0                          Клуб моделей \"Гармония\" Инк         ул. Прохладная, д. 8 к. 432      100  19.9266\n",
       "156213   6657937  7eb4fc207ecc10f     2024-10-26 2024-10-26 09:39:03    418836            нет          0           rub                mobile   294.85         Лови билет!              3   4914.21              0.0  a4478837-4631-4e28-95d7-a4c26751a232           цирковое шоу          другое      №1703     Тепляковская область  Горнодолинск     43.0    4481.0             Школа сценического мастерства \"Вдох\" Лтд                пер. Полярный, д. 87      100  19.9266\n",
       "156215   6657995  7eb4fc207ecc10f     2024-10-26 2024-10-26 09:39:03    418836            нет          0           rub                mobile   294.85         Лови билет!              3   4914.21              0.0  a4478837-4631-4e28-95d7-a4c26751a232           цирковое шоу          другое      №1703     Тепляковская область  Горнодолинск     43.0    4481.0             Школа сценического мастерства \"Вдох\" Лтд                пер. Полярный, д. 87      100  19.9266\n",
       "237738   4739065  cbe06d8837e87fb     2024-10-01 2024-10-01 11:11:17    574431            нет          0           rub               desktop   155.99       Билеты в руки              4   3899.74              0.0  d4344522-b7cf-4539-96c8-efece75e9b16                  спорт           спорт      №1531        Медовская область     Радужсвет     47.0    2157.0             Студия дизайна \"Платформа\" Инкорпорэйтед            наб. Магистральная, д. 5      100  19.4525\n",
       "237742   6597994  cbe06d8837e87fb     2024-10-01 2024-10-01 11:11:17    574431            нет          0           rub               desktop   155.99       Билеты в руки              4   3899.74              0.0  d4344522-b7cf-4539-96c8-efece75e9b16                  спорт           спорт      №1531        Медовская область     Радужсвет     47.0    2157.0             Студия дизайна \"Платформа\" Инкорпорэйтед            наб. Магистральная, д. 5      100  19.4525\n",
       "237733   2321712  cbe06d8837e87fb     2024-10-01 2024-10-01 11:20:05    574431            нет          0           rub               desktop   155.99       Билеты в руки              4   3899.74              0.0  d4344522-b7cf-4539-96c8-efece75e9b16                  спорт           спорт      №1531        Медовская область     Радужсвет     47.0    2157.0             Студия дизайна \"Платформа\" Инкорпорэйтед            наб. Магистральная, д. 5      100  19.4525\n",
       "237736    602012  cbe06d8837e87fb     2024-10-01 2024-10-01 11:20:05    574431            нет          0           rub               desktop   155.99       Билеты в руки              4   3899.74              0.0  d4344522-b7cf-4539-96c8-efece75e9b16                  спорт           спорт      №1531        Медовская область     Радужсвет     47.0    2157.0             Студия дизайна \"Платформа\" Инкорпорэйтед            наб. Магистральная, д. 5      100  19.4525\n",
       "241381   5571220  cdbc02c6ad8087a     2024-10-01 2024-10-01 11:36:30    574431            нет          0           rub               desktop   116.99       Билеты в руки              3   2924.80              0.0  d4344522-b7cf-4539-96c8-efece75e9b16                  спорт           спорт      №1531        Медовская область     Радужсвет     47.0    2157.0             Студия дизайна \"Платформа\" Инкорпорэйтед            наб. Магистральная, д. 5      100  19.4525\n",
       "241393   5875662  cdbc02c6ad8087a     2024-10-01 2024-10-01 11:36:30    574431            нет          0           rub               desktop   116.99       Билеты в руки              3   2924.80              0.0  d4344522-b7cf-4539-96c8-efece75e9b16                  спорт           спорт      №1531        Медовская область     Радужсвет     47.0    2157.0             Студия дизайна \"Платформа\" Инкорпорэйтед            наб. Магистральная, д. 5      100  19.4525\n",
       "177607   6431041  9103be7b790235f     2024-08-03 2024-08-03 15:01:56    410465            нет          0           rub                mobile   685.12           Мой билет              2   5709.34              0.0  ca2f9e9a-313d-404b-9c35-074e7a238df7                    шоу          другое      №3287       Каменевский регион    Глиногорск    213.0    3391.0                   Театральные мастерские \"Сюжет\" Инк  бул. Володарского, д. 237 стр. 9/3      100  18.0536\n",
       "177608   6431070  9103be7b790235f     2024-08-03 2024-08-03 15:01:56    410465            нет          0           rub                mobile   685.12           Мой билет              2   5709.34              0.0  ca2f9e9a-313d-404b-9c35-074e7a238df7                    шоу          другое      №3287       Каменевский регион    Глиногорск    213.0    3391.0                   Театральные мастерские \"Сюжет\" Инк  бул. Володарского, д. 237 стр. 9/3      100  18.0536\n",
       "154170   5372628  7eb4fc207ecc10f     2024-08-23 2024-08-23 14:08:19    298035            нет          6           rub                mobile   126.84  Билеты без проблем              1   3170.95              0.0  09164a56-0fb3-43c7-91d3-8ed22bb3d8ef                событие          другое      №4403     Североярская область        Озёрск      2.0    2795.0   Клуб исторических реконструкций \"Логос\" и партнеры          пр. Пушкина, д. 8/6 к. 482      100  19.1903\n",
       "154173   5372831  7eb4fc207ecc10f     2024-08-23 2024-08-23 14:08:19    298035            нет          6           rub                mobile   126.84  Билеты без проблем              1   3170.95              0.0  09164a56-0fb3-43c7-91d3-8ed22bb3d8ef                событие          другое      №4403     Североярская область        Озёрск      2.0    2795.0   Клуб исторических реконструкций \"Логос\" и партнеры          пр. Пушкина, д. 8/6 к. 482      100  19.1903\n",
       "154178   5373179  7eb4fc207ecc10f     2024-08-23 2024-08-23 14:08:19    298035            нет          6           rub                mobile   126.84  Билеты без проблем              1   3170.95              0.0  09164a56-0fb3-43c7-91d3-8ed22bb3d8ef                событие          другое      №4403     Североярская область        Озёрск      2.0    2795.0   Клуб исторических реконструкций \"Логос\" и партнеры          пр. Пушкина, д. 8/6 к. 482      100  19.1903\n",
       "84010    3363711  3ee7dc2e115847f     2024-06-25 2024-06-25 07:32:08    277504            нет          6           rub                mobile    59.19       Билеты в руки              3    739.85              0.0  dcb6fe75-8502-480d-b8a2-6bee187cb7ee                событие        выставки      №5015        Нежинская область     Каменёвка     76.0    3094.0           Сообщество художников \"Палитра\" и партнеры      пр. Театральный, д. 161 стр. 2      100  18.8012\n",
       "84015    3363798  3ee7dc2e115847f     2024-06-25 2024-06-25 07:32:08    277504            нет          6           rub                mobile    59.19       Билеты в руки              3    739.85              0.0  dcb6fe75-8502-480d-b8a2-6bee187cb7ee                событие        выставки      №5015        Нежинская область     Каменёвка     76.0    3094.0           Сообщество художников \"Палитра\" и партнеры      пр. Театральный, д. 161 стр. 2      100  18.8012\n",
       "255428   7229817  de88a121becea97     2024-09-21 2024-09-21 17:21:18    571963            нет          6           rub                mobile  1065.84           Мой билет              2   8881.97              0.0  5a27dd84-bbe8-48bf-9aba-02ae43037ac6           цирковое шоу          другое      №4551       Каменевский регион    Глиногорск    213.0    4363.0                    Студия дизайна \"Лестница\" Лимитед      наб. Школьная, д. 9/8 стр. 7/5      100  19.3316\n",
       "255429   7229759  de88a121becea97     2024-09-21 2024-09-21 17:21:18    571963            нет          6           rub                mobile  1065.84           Мой билет              2   8881.97              0.0  5a27dd84-bbe8-48bf-9aba-02ae43037ac6           цирковое шоу          другое      №4551       Каменевский регион    Глиногорск    213.0    4363.0                    Студия дизайна \"Лестница\" Лимитед      наб. Школьная, д. 9/8 стр. 7/5      100  19.3316\n",
       "181790   1799219  9402cc20d69d44f     2024-09-30 2024-09-30 21:35:37    540784            нет          6           rub               desktop   177.04         За билетом!              2   2529.11              0.0  f0a4bbbc-c5bb-4648-884f-87c539056f5f                концерт        концерты      №1874       Каменевский регион    Глиногорск    213.0    2304.0                Творческое объединение \"Гармония\" Инк            наб. Партизанская, д. 47      100  19.3741\n",
       "181791   1799248  9402cc20d69d44f     2024-09-30 2024-09-30 21:35:37    540784            нет          6           rub               desktop   177.04         За билетом!              2   2529.11              0.0  f0a4bbbc-c5bb-4648-884f-87c539056f5f                концерт        концерты      №1874       Каменевский регион    Глиногорск    213.0    2304.0                Творческое объединение \"Гармония\" Инк            наб. Партизанская, д. 47      100  19.3741\n",
       "231623   2411061  c68f202c21433f7     2024-10-16 2024-10-16 17:20:16    469657            нет          6           rub                mobile    12.64  Билеты без проблем              1    421.17              0.0  d14300fe-85a9-4458-8d9d-eaf0bf7c6295              спектакль           театр      №1763   Североключевской округ     Зоречанск   1092.0    2474.0     Образовательное учреждение искусства \"Кубок\" Инк           бул. Пролетарский, д. 332      100  20.0393\n",
       "231626   2410887  c68f202c21433f7     2024-10-16 2024-10-16 17:20:16    469657            нет          6           rub                mobile    12.64  Билеты без проблем              1    421.17              0.0  d14300fe-85a9-4458-8d9d-eaf0bf7c6295              спектакль           театр      №1763   Североключевской округ     Зоречанск   1092.0    2474.0     Образовательное учреждение искусства \"Кубок\" Инк           бул. Пролетарский, д. 332      100  20.0393\n",
       "57217     160922  2564e3703075008     2024-10-30 2024-10-30 10:04:15    589005            нет          6           rub                mobile    11.23         Лови билет!              2    280.81              0.0  bee8d0cc-282b-492e-9ed8-ec0990f43ffd               выставка          другое      №1810      Яблоневская область      Горяново  11036.0    1656.0                      Модная академия \"Пункт\" Лимитед                бул. Гагарина, д. 39      100  19.9516\n",
       "57220     160893  2564e3703075008     2024-10-30 2024-10-30 10:04:15    589005            нет          6           rub                mobile    11.23         Лови билет!              2    280.81              0.0  bee8d0cc-282b-492e-9ed8-ec0990f43ffd               выставка          другое      №1810      Яблоневская область      Горяново  11036.0    1656.0                      Модная академия \"Пункт\" Лимитед                бул. Гагарина, д. 39      100  19.9516\n",
       "234814   8237161  c96b961916a84fb     2024-10-26 2024-10-26 15:06:16    551137            нет         12           rub                mobile  1044.19  Билеты без проблем              3  13052.41              0.0  ed68265d-d72d-49ac-95a6-44dc732b896d                концерт        концерты      №4389     Североярская область        Озёрск      2.0    2805.0        Центр культурного наследия \"Заряд\" и партнеры           ш. Пугачева, д. 9/7 к. 39      100  19.9266\n",
       "234818   8237045  c96b961916a84fb     2024-10-26 2024-10-26 15:06:16    551137            нет         12           rub                mobile  1044.19  Билеты без проблем              3  13052.41              0.0  ed68265d-d72d-49ac-95a6-44dc732b896d                концерт        концерты      №4389     Североярская область        Озёрск      2.0    2805.0        Центр культурного наследия \"Заряд\" и партнеры           ш. Пугачева, д. 9/7 к. 39      100  19.9266\n",
       "200453   6001812  a6e25611c394f8c     2024-10-04 2024-10-04 10:11:25    514735            нет         12           rub                mobile   259.64       Лучшие билеты              3   2596.43              0.0  9a0a7a42-94f6-439d-af02-1f0f083c4b1a              спектакль           театр      №1738      Яблоневская область    Светополье     39.0    3939.0                 Этнографический музей \"Магнит\" Групп               наб. Полярная, д. 874      100  19.6648\n",
       "200458   6002015  a6e25611c394f8c     2024-10-04 2024-10-04 10:11:25    514735            нет         12           rub                mobile   259.64       Лучшие билеты              3   2596.43              0.0  9a0a7a42-94f6-439d-af02-1f0f083c4b1a              спектакль           театр      №1738      Яблоневская область    Светополье     39.0    3939.0                 Этнографический музей \"Магнит\" Групп               наб. Полярная, д. 874      100  19.6648\n",
       "259940    588411  e333b28575ed7f9     2024-07-28 2024-07-28 12:50:38     81165            нет         12           rub                mobile    40.84         Тебе билет!              1    510.46              0.0  3989adcc-5d67-4a18-a741-6118a6568172              спектакль           театр      №3902  Солнечноземская область    Глинополье     56.0    3005.0                         Арт-кафе \"Аксессуар\" Лимитед          бул. Логовой, д. 94 к. 1/5      100  18.0243\n",
       "259941    589252  e333b28575ed7f9     2024-07-28 2024-07-28 12:50:38     81165            нет         12           rub                mobile    40.84         Тебе билет!              1    510.46              0.0  3989adcc-5d67-4a18-a741-6118a6568172              спектакль           театр      №3902  Солнечноземская область    Глинополье     56.0    3005.0                         Арт-кафе \"Аксессуар\" Лимитед          бул. Логовой, д. 94 к. 1/5      100  18.0243\n",
       "231606   4569328  c68f202c21433f7     2024-10-09 2024-10-09 13:58:41    578715            нет         12           rub                mobile    38.21  Билеты без проблем              1    764.25              0.0  6fbfcff4-a4ef-4441-888a-2b5bfcf10912                событие          другое      №1764   Североключевской округ     Зоречанск   1092.0    1768.0                          Театр \"Задор\" Инкорпорэйтед          пер. Боровой, д. 1 стр. 75      100  19.8418\n",
       "231611   4569444  c68f202c21433f7     2024-10-09 2024-10-09 13:58:41    578715            нет         12           rub                mobile    38.21  Билеты без проблем              1    764.25              0.0  6fbfcff4-a4ef-4441-888a-2b5bfcf10912                событие          другое      №1764   Североключевской округ     Зоречанск   1092.0    1768.0                          Театр \"Задор\" Инкорпорэйтед          пер. Боровой, д. 1 стр. 75      100  19.8418\n",
       "231603   4569560  c68f202c21433f7     2024-10-09 2024-10-09 13:58:42    578715            нет         12           rub                mobile    38.21  Билеты без проблем              1    764.25              0.0  6fbfcff4-a4ef-4441-888a-2b5bfcf10912                событие          другое      №1764   Североключевской округ     Зоречанск   1092.0    1768.0                          Театр \"Задор\" Инкорпорэйтед          пер. Боровой, д. 1 стр. 75      100  19.8418\n",
       "231607   4569357  c68f202c21433f7     2024-10-09 2024-10-09 13:58:42    578715            нет         12           rub                mobile    38.21  Билеты без проблем              1    764.25              0.0  6fbfcff4-a4ef-4441-888a-2b5bfcf10912                событие          другое      №1764   Североключевской округ     Зоречанск   1092.0    1768.0                          Театр \"Задор\" Инкорпорэйтед          пер. Боровой, д. 1 стр. 75      100  19.8418\n",
       "192882   7299649  a0384c26d91e09e     2024-08-24 2024-08-24 00:07:14    534657            нет         16           rub                mobile   679.21         Быстробилет              2   5224.70              0.0  dff567b7-11a5-4c4c-b223-70c8ab7efd15                концерт        концерты      №1134        Ветренский регион        Кокжар     20.0    2866.0                       Школа фотографии \"Золотое\" Инк        ш. Микрорайон, д. 79 стр. 50      100  19.1202\n",
       "192883   7299678  a0384c26d91e09e     2024-08-24 2024-08-24 00:07:14    534657            нет         16           rub                mobile   679.21         Быстробилет              2   5224.70              0.0  dff567b7-11a5-4c4c-b223-70c8ab7efd15                концерт        концерты      №1134        Ветренский регион        Кокжар     20.0    2866.0                       Школа фотографии \"Золотое\" Инк        ш. Микрорайон, д. 79 стр. 50      100  19.1202\n",
       "174481    312621  8d6c1ff89fac35f     2024-10-31 2024-10-31 22:28:57    589624            нет         16           rub               desktop    41.83           Мой билет              1   1045.75              0.0  c9eb1fa4-257b-4290-975a-7fe34b46d11b                концерт        концерты      №2121       Каменевский регион    Глиногорск    213.0    1365.0                    Картинная галерея \"Светлячок\" Лтд   ул. Дальневосточная, д. 97 к. 1/4      100  19.7383\n",
       "174584   6114564  8d6c1ff89fac35f     2024-10-31 2024-10-31 22:28:57    589624            нет         16           rub               desktop    41.83           Мой билет              1   1045.75              0.0  c9eb1fa4-257b-4290-975a-7fe34b46d11b                концерт        концерты      №2121       Каменевский регион    Глиногорск    213.0    1365.0                    Картинная галерея \"Светлячок\" Лтд   ул. Дальневосточная, д. 97 к. 1/4      100  19.7383\n",
       "11777    1123983  06eb7897f65b433     2024-08-13 2024-08-13 16:31:07    183706            нет         18           rub                mobile    69.82       Билеты в руки              1    997.48              0.0  69796237-909b-42a7-bfb5-c1b8574c4c76              спектакль           театр      №1482     Светополянский округ     Глиноград     54.0    4443.0  Центр культурного наследия \"Объединение\" и партнеры               бул. Карбышева, д. 50      100  18.8553\n",
       "11778    1123867  06eb7897f65b433     2024-08-13 2024-08-13 16:31:07    183706            нет         18           rub                mobile    69.82       Билеты в руки              1    997.48              0.0  69796237-909b-42a7-bfb5-c1b8574c4c76              спектакль           театр      №1482     Светополянский округ     Глиноград     54.0    4443.0  Центр культурного наследия \"Объединение\" и партнеры               бул. Карбышева, д. 50      100  18.8553\n",
       "232673   1585808  c7a762e320f0def     2024-06-19 2024-06-19 11:07:59    538926            нет         18           rub                mobile     0.00  Билеты без проблем              3      0.00              0.0  7b378eca-5d03-4f42-9491-a32887424226                событие          другое      №4549       Каменевский регион    Глиногорск    213.0    3474.0               Креативное пространство \"Вдох\" Лимитед            бул. Пригородный, д. 7/1      100  19.2165\n",
       "232676   7927528  c7a762e320f0def     2024-06-19 2024-06-19 11:07:59    538926            нет         18           rub                mobile     0.00  Билеты без проблем              3      0.00              0.0  7b378eca-5d03-4f42-9491-a32887424226                событие          другое      №4549       Каменевский регион    Глиногорск    213.0    3474.0               Креативное пространство \"Вдох\" Лимитед            бул. Пригородный, д. 7/1      100  19.2165\n",
       "285617   8548041  fd4d47438ebb946     2024-06-19 2024-06-19 15:40:50    489843            нет         18           rub               desktop   989.57  Билеты без проблем              3  10995.23              0.0  25a26bf3-cb70-4f37-a7f0-c97cc065d414              спектакль           театр      №1858       Каменевский регион    Глиногорск    213.0    4017.0                Студия анимации \"Точка\" Инкорпорэйтед        алл. Тамбовская, д. 7 к. 827      100  19.2165\n",
       "285618   8548070  fd4d47438ebb946     2024-06-19 2024-06-19 15:40:50    489843            нет         18           rub               desktop   989.57  Билеты без проблем              3  10995.23              0.0  25a26bf3-cb70-4f37-a7f0-c97cc065d414              спектакль           театр      №1858       Каменевский регион    Глиногорск    213.0    4017.0                Студия анимации \"Точка\" Инкорпорэйтед        алл. Тамбовская, д. 7 к. 827      100  19.2165\n",
       "285612   8547809  fd4d47438ebb946     2024-06-19 2024-06-19 15:40:56    489843            нет         18           rub               desktop   989.57  Билеты без проблем              3  10995.23              0.0  25a26bf3-cb70-4f37-a7f0-c97cc065d414              спектакль           театр      №1858       Каменевский регион    Глиногорск    213.0    4017.0                Студия анимации \"Точка\" Инкорпорэйтед        алл. Тамбовская, д. 7 к. 827      100  19.2165\n",
       "285619   8548099  fd4d47438ebb946     2024-06-19 2024-06-19 15:40:56    489843            нет         18           rub               desktop   989.57  Билеты без проблем              3  10995.23              0.0  25a26bf3-cb70-4f37-a7f0-c97cc065d414              спектакль           театр      №1858       Каменевский регион    Глиногорск    213.0    4017.0                Студия анимации \"Точка\" Инкорпорэйтед        алл. Тамбовская, д. 7 к. 827      100  19.2165\n",
       "285614   8547983  fd4d47438ebb946     2024-06-19 2024-06-19 15:40:56    489843            нет         18           rub               desktop  1319.43  Билеты без проблем              4  14660.31              0.0  25a26bf3-cb70-4f37-a7f0-c97cc065d414              спектакль           театр      №1858       Каменевский регион    Глиногорск    213.0    4017.0                Студия анимации \"Точка\" Инкорпорэйтед        алл. Тамбовская, д. 7 к. 827      100  19.2165\n",
       "285615   8548012  fd4d47438ebb946     2024-06-19 2024-06-19 15:40:56    489843            нет         18           rub               desktop  1319.43  Билеты без проблем              4  14660.31              0.0  25a26bf3-cb70-4f37-a7f0-c97cc065d414              спектакль           театр      №1858       Каменевский регион    Глиногорск    213.0    4017.0                Студия анимации \"Точка\" Инкорпорэйтед        алл. Тамбовская, д. 7 к. 827      100  19.2165\n",
       "285622   8547867  fd4d47438ebb946     2024-06-19 2024-06-19 15:40:56    489843            нет         18           rub               desktop  1319.43  Билеты без проблем              4  14660.31              0.0  25a26bf3-cb70-4f37-a7f0-c97cc065d414              спектакль           театр      №1858       Каменевский регион    Глиногорск    213.0    4017.0                Студия анимации \"Точка\" Инкорпорэйтед        алл. Тамбовская, д. 7 к. 827      100  19.2165"
      ]
     },
     "metadata": {},
     "output_type": "display_data"
    }
   ],
   "source": [
    "# Выведем неявные дубликаты\n",
    "cols_to_check = final_merged.columns.difference(['order_id'])\n",
    "grouped_duplicates = final_merged[final_merged.duplicated(subset=cols_to_check, keep=False)] \\\n",
    "    .groupby(cols_to_check.tolist()) \\\n",
    "    .apply(lambda x: x) \\\n",
    "    .sort_values(by=cols_to_check.tolist())\n",
    "\n",
    "display(grouped_duplicates) "
   ]
  },
  {
   "cell_type": "markdown",
   "metadata": {},
   "source": [
    "Неявные дубликаты можно удалить, видно что заказы по дате и времени в системе задублировались."
   ]
  },
  {
   "cell_type": "code",
   "execution_count": 24,
   "metadata": {},
   "outputs": [
    {
     "name": "stdout",
     "output_type": "stream",
     "text": [
      "Оставшееся количество дубликатов: 0\n"
     ]
    }
   ],
   "source": [
    "# Удаляем дубликаты, игнорируя столбец order_id\n",
    "final_merged_cleaned = final_merged.drop_duplicates(\n",
    "    subset=final_merged.columns.difference(['order_id']),\n",
    "    keep='first'  \n",
    ")\n",
    "\n",
    "# Проверяем количество оставшихся дубликатов \n",
    "remaining_duplicates = final_merged_cleaned.duplicated(\n",
    "    subset=final_merged_cleaned.columns.difference(['order_id'])\n",
    ").sum()\n",
    "print(f\"Оставшееся количество дубликатов: {remaining_duplicates}\")"
   ]
  },
  {
   "cell_type": "markdown",
   "metadata": {},
   "source": [
    "Посмотрим информацию об объединённом датафрейме."
   ]
  },
  {
   "cell_type": "code",
   "execution_count": 25,
   "metadata": {},
   "outputs": [
    {
     "name": "stdout",
     "output_type": "stream",
     "text": [
      "<class 'pandas.core.frame.DataFrame'>\n",
      "Int64Index: 290819 entries, 0 to 290848\n",
      "Data columns (total 26 columns):\n",
      " #   Column                  Non-Null Count   Dtype         \n",
      "---  ------                  --------------   -----         \n",
      " 0   order_id                290819 non-null  int64         \n",
      " 1   user_id                 290819 non-null  object        \n",
      " 2   created_dt_msk          290819 non-null  datetime64[ns]\n",
      " 3   created_ts_msk          290819 non-null  datetime64[ns]\n",
      " 4   event_id                290819 non-null  int64         \n",
      " 5   cinema_circuit          290819 non-null  object        \n",
      " 6   age_limit               290819 non-null  int64         \n",
      " 7   currency_code           290819 non-null  object        \n",
      " 8   device_type_canonical   290819 non-null  object        \n",
      " 9   revenue                 290819 non-null  float64       \n",
      " 10  service_name            290819 non-null  object        \n",
      " 11  tickets_count           290819 non-null  int64         \n",
      " 12  total                   290819 non-null  float64       \n",
      " 13  days_since_prev         268879 non-null  float64       \n",
      " 14  event_name              290581 non-null  object        \n",
      " 15  event_type_description  290581 non-null  object        \n",
      " 16  event_type_main         290581 non-null  object        \n",
      " 17  organizers              290581 non-null  object        \n",
      " 18  region_name             290581 non-null  object        \n",
      " 19  city_name               290581 non-null  object        \n",
      " 20  city_id                 290581 non-null  float64       \n",
      " 21  venue_id                290581 non-null  float64       \n",
      " 22  venue_name              290581 non-null  object        \n",
      " 23  venue_address           290581 non-null  object        \n",
      " 24  nominal                 290819 non-null  int64         \n",
      " 25  curs                    290819 non-null  float64       \n",
      "dtypes: datetime64[ns](2), float64(6), int64(5), object(13)\n",
      "memory usage: 59.9+ MB\n"
     ]
    }
   ],
   "source": [
    "final_merged_cleaned.info()"
   ]
  },
  {
   "cell_type": "code",
   "execution_count": 26,
   "metadata": {},
   "outputs": [
    {
     "data": {
      "text/plain": [
       "order_id                  0.0\n",
       "user_id                   0.0\n",
       "created_dt_msk            0.0\n",
       "created_ts_msk            0.0\n",
       "event_id                  0.0\n",
       "cinema_circuit            0.0\n",
       "age_limit                 0.0\n",
       "currency_code             0.0\n",
       "device_type_canonical     0.0\n",
       "revenue                   0.0\n",
       "service_name              0.0\n",
       "tickets_count             0.0\n",
       "total                     0.0\n",
       "days_since_prev           7.5\n",
       "event_name                0.1\n",
       "event_type_description    0.1\n",
       "event_type_main           0.1\n",
       "organizers                0.1\n",
       "region_name               0.1\n",
       "city_name                 0.1\n",
       "city_id                   0.1\n",
       "venue_id                  0.1\n",
       "venue_name                0.1\n",
       "venue_address             0.1\n",
       "nominal                   0.0\n",
       "curs                      0.0\n",
       "dtype: float64"
      ]
     },
     "execution_count": 26,
     "metadata": {},
     "output_type": "execute_result"
    }
   ],
   "source": [
    "# Подсчитываем процент строк с пропусками\n",
    "round(final_merged_cleaned.isna().sum() / final_merged_cleaned.shape[0]*100, 1)"
   ]
  },
  {
   "cell_type": "markdown",
   "metadata": {},
   "source": [
    "Оставим пропуски без изменений, при необходимости учтем в дальнейшем анализе."
   ]
  },
  {
   "cell_type": "markdown",
   "metadata": {},
   "source": [
    "Для дальнейшего анализа создадим несколько новых столбцов:\n",
    "- `revenue_rub` — приведем выручку с заказа к единой валюте — российскому рублю; \n",
    "- `one_ticket_revenue_rub` — рассчитаем выручку с продажи одного билета на мероприятие;\n",
    "- `month` — выделим месяц оформления заказа в отдельный столбец;\n",
    "- `season` — создадим столбец с информацией о сезонности, включая такие категории, как: 'лето', 'осень', 'зима', 'весна'."
   ]
  },
  {
   "cell_type": "code",
   "execution_count": 27,
   "metadata": {},
   "outputs": [],
   "source": [
    "# Код для столбца revenue_rub\n",
    "def convert_to_rub(row):\n",
    "    if row['currency_code'] == 'kzt':\n",
    "        return row['revenue'] * row['curs'] / 100  # KZT → RUB\n",
    "    elif row['currency_code'] == 'rub':\n",
    "        return row['revenue']  # уже в рублях\n",
    "    else:\n",
    "        return None  \n",
    "\n",
    "final_merged_cleaned['revenue_rub'] = final_merged_cleaned.apply(convert_to_rub, axis=1)"
   ]
  },
  {
   "cell_type": "code",
   "execution_count": 28,
   "metadata": {},
   "outputs": [],
   "source": [
    "# Код для столбца one_ticket_revenue_rub\n",
    "final_merged_cleaned['one_ticket_revenue_rub'] = final_merged_cleaned['revenue_rub'] / final_merged_cleaned['tickets_count']"
   ]
  },
  {
   "cell_type": "code",
   "execution_count": 29,
   "metadata": {},
   "outputs": [],
   "source": [
    "# Код для столбца month\n",
    "final_merged_cleaned['month'] = final_merged_cleaned['created_dt_msk'].dt.month"
   ]
  },
  {
   "cell_type": "code",
   "execution_count": 30,
   "metadata": {},
   "outputs": [],
   "source": [
    "# Код для столбца season\n",
    "final_merged_cleaned['season'] = final_merged_cleaned['month'].apply(\n",
    "    lambda x: 'лето' if x in [6, 7, 8] else 'осень'\n",
    ")"
   ]
  },
  {
   "cell_type": "markdown",
   "metadata": {},
   "source": [
    "Удалим выбросы, содержащие 1% данных для столбца `revenue_rub`."
   ]
  },
  {
   "cell_type": "code",
   "execution_count": 31,
   "metadata": {},
   "outputs": [],
   "source": [
    "# Находим 99-й процентиль по столбцу revenue_rub\n",
    "threshold = final_merged_cleaned['revenue_rub'].quantile(0.99)\n",
    "\n",
    "# Фильтруем датафрейм, оставляя только строки, где revenue_rub < threshold\n",
    "total_df = final_merged_cleaned[final_merged_cleaned['revenue_rub'] < threshold]"
   ]
  },
  {
   "cell_type": "code",
   "execution_count": 32,
   "metadata": {},
   "outputs": [
    {
     "data": {
      "text/plain": [
       "2628.4217390400004"
      ]
     },
     "execution_count": 32,
     "metadata": {},
     "output_type": "execute_result"
    }
   ],
   "source": [
    "threshold"
   ]
  },
  {
   "cell_type": "code",
   "execution_count": 33,
   "metadata": {},
   "outputs": [
    {
     "data": {
      "text/html": [
       "<div>\n",
       "<style scoped>\n",
       "    .dataframe tbody tr th:only-of-type {\n",
       "        vertical-align: middle;\n",
       "    }\n",
       "\n",
       "    .dataframe tbody tr th {\n",
       "        vertical-align: top;\n",
       "    }\n",
       "\n",
       "    .dataframe thead th {\n",
       "        text-align: right;\n",
       "    }\n",
       "</style>\n",
       "<table border=\"1\" class=\"dataframe\">\n",
       "  <thead>\n",
       "    <tr style=\"text-align: right;\">\n",
       "      <th></th>\n",
       "      <th>order_id</th>\n",
       "      <th>user_id</th>\n",
       "      <th>created_dt_msk</th>\n",
       "      <th>created_ts_msk</th>\n",
       "      <th>event_id</th>\n",
       "      <th>cinema_circuit</th>\n",
       "      <th>age_limit</th>\n",
       "      <th>currency_code</th>\n",
       "      <th>device_type_canonical</th>\n",
       "      <th>revenue</th>\n",
       "      <th>service_name</th>\n",
       "      <th>tickets_count</th>\n",
       "      <th>total</th>\n",
       "      <th>days_since_prev</th>\n",
       "      <th>event_name</th>\n",
       "      <th>event_type_description</th>\n",
       "      <th>event_type_main</th>\n",
       "      <th>organizers</th>\n",
       "      <th>region_name</th>\n",
       "      <th>city_name</th>\n",
       "      <th>city_id</th>\n",
       "      <th>venue_id</th>\n",
       "      <th>venue_name</th>\n",
       "      <th>venue_address</th>\n",
       "      <th>nominal</th>\n",
       "      <th>curs</th>\n",
       "      <th>revenue_rub</th>\n",
       "      <th>one_ticket_revenue_rub</th>\n",
       "      <th>month</th>\n",
       "      <th>season</th>\n",
       "    </tr>\n",
       "  </thead>\n",
       "  <tbody>\n",
       "    <tr>\n",
       "      <th>0</th>\n",
       "      <td>4359165</td>\n",
       "      <td>0002849b70a3ce2</td>\n",
       "      <td>2024-08-20</td>\n",
       "      <td>2024-08-20 16:08:03</td>\n",
       "      <td>169230</td>\n",
       "      <td>нет</td>\n",
       "      <td>16</td>\n",
       "      <td>rub</td>\n",
       "      <td>mobile</td>\n",
       "      <td>1521.94</td>\n",
       "      <td>Край билетов</td>\n",
       "      <td>4</td>\n",
       "      <td>10870.99</td>\n",
       "      <td>NaN</td>\n",
       "      <td>f0f7b271-04eb-4af6-bcb8-8f05cf46d6ad</td>\n",
       "      <td>спектакль</td>\n",
       "      <td>театр</td>\n",
       "      <td>№3322</td>\n",
       "      <td>Каменевский регион</td>\n",
       "      <td>Глиногорск</td>\n",
       "      <td>213.0</td>\n",
       "      <td>3972.0</td>\n",
       "      <td>Сценический центр \"Деталь\" Групп</td>\n",
       "      <td>алл. Машиностроителей, д. 19 стр. 6</td>\n",
       "      <td>100</td>\n",
       "      <td>18.6972</td>\n",
       "      <td>1521.94</td>\n",
       "      <td>380.4850</td>\n",
       "      <td>8</td>\n",
       "      <td>лето</td>\n",
       "    </tr>\n",
       "    <tr>\n",
       "      <th>1</th>\n",
       "      <td>7965605</td>\n",
       "      <td>0005ca5e93f2cf4</td>\n",
       "      <td>2024-07-23</td>\n",
       "      <td>2024-07-23 18:36:24</td>\n",
       "      <td>237325</td>\n",
       "      <td>нет</td>\n",
       "      <td>0</td>\n",
       "      <td>rub</td>\n",
       "      <td>mobile</td>\n",
       "      <td>289.45</td>\n",
       "      <td>Мой билет</td>\n",
       "      <td>2</td>\n",
       "      <td>2067.51</td>\n",
       "      <td>NaN</td>\n",
       "      <td>40efeb04-81b7-4135-b41f-708ff00cc64c</td>\n",
       "      <td>событие</td>\n",
       "      <td>выставки</td>\n",
       "      <td>№4850</td>\n",
       "      <td>Каменевский регион</td>\n",
       "      <td>Глиногорск</td>\n",
       "      <td>213.0</td>\n",
       "      <td>2941.0</td>\n",
       "      <td>Музыкальная школа для детей \"Аккаунт\" Лтд</td>\n",
       "      <td>алл. Шмидта, д. 9 стр. 4</td>\n",
       "      <td>100</td>\n",
       "      <td>18.3419</td>\n",
       "      <td>289.45</td>\n",
       "      <td>144.7250</td>\n",
       "      <td>7</td>\n",
       "      <td>лето</td>\n",
       "    </tr>\n",
       "    <tr>\n",
       "      <th>2</th>\n",
       "      <td>7292370</td>\n",
       "      <td>0005ca5e93f2cf4</td>\n",
       "      <td>2024-10-06</td>\n",
       "      <td>2024-10-06 13:56:02</td>\n",
       "      <td>578454</td>\n",
       "      <td>нет</td>\n",
       "      <td>0</td>\n",
       "      <td>rub</td>\n",
       "      <td>mobile</td>\n",
       "      <td>1258.57</td>\n",
       "      <td>За билетом!</td>\n",
       "      <td>4</td>\n",
       "      <td>13984.16</td>\n",
       "      <td>75.0</td>\n",
       "      <td>01f3fb7b-ed07-4f94-b1d3-9a2e1ee5a8ca</td>\n",
       "      <td>цирковое шоу</td>\n",
       "      <td>другое</td>\n",
       "      <td>№1540</td>\n",
       "      <td>Каменевский регион</td>\n",
       "      <td>Глиногорск</td>\n",
       "      <td>213.0</td>\n",
       "      <td>4507.0</td>\n",
       "      <td>Училище искусств \"Нирвана\" Инк</td>\n",
       "      <td>алл. Юбилейная, д. 5/6</td>\n",
       "      <td>100</td>\n",
       "      <td>19.6475</td>\n",
       "      <td>1258.57</td>\n",
       "      <td>314.6425</td>\n",
       "      <td>10</td>\n",
       "      <td>осень</td>\n",
       "    </tr>\n",
       "  </tbody>\n",
       "</table>\n",
       "</div>"
      ],
      "text/plain": [
       "   order_id          user_id created_dt_msk      created_ts_msk  event_id cinema_circuit  age_limit currency_code device_type_canonical  revenue  service_name  tickets_count     total  days_since_prev                            event_name event_type_description event_type_main organizers         region_name   city_name  city_id  venue_id                                 venue_name                        venue_address  nominal     curs  revenue_rub  one_ticket_revenue_rub  month season\n",
       "0   4359165  0002849b70a3ce2     2024-08-20 2024-08-20 16:08:03    169230            нет         16           rub                mobile  1521.94  Край билетов              4  10870.99              NaN  f0f7b271-04eb-4af6-bcb8-8f05cf46d6ad              спектакль           театр      №3322  Каменевский регион  Глиногорск    213.0    3972.0           Сценический центр \"Деталь\" Групп  алл. Машиностроителей, д. 19 стр. 6      100  18.6972      1521.94                380.4850      8   лето\n",
       "1   7965605  0005ca5e93f2cf4     2024-07-23 2024-07-23 18:36:24    237325            нет          0           rub                mobile   289.45     Мой билет              2   2067.51              NaN  40efeb04-81b7-4135-b41f-708ff00cc64c                событие        выставки      №4850  Каменевский регион  Глиногорск    213.0    2941.0  Музыкальная школа для детей \"Аккаунт\" Лтд             алл. Шмидта, д. 9 стр. 4      100  18.3419       289.45                144.7250      7   лето\n",
       "2   7292370  0005ca5e93f2cf4     2024-10-06 2024-10-06 13:56:02    578454            нет          0           rub                mobile  1258.57   За билетом!              4  13984.16             75.0  01f3fb7b-ed07-4f94-b1d3-9a2e1ee5a8ca           цирковое шоу          другое      №1540  Каменевский регион  Глиногорск    213.0    4507.0             Училище искусств \"Нирвана\" Инк               алл. Юбилейная, д. 5/6      100  19.6475      1258.57                314.6425     10  осень"
      ]
     },
     "execution_count": 33,
     "metadata": {},
     "output_type": "execute_result"
    }
   ],
   "source": [
    "# Проверим созданные столбцы\n",
    "total_df.head(3)"
   ]
  },
  {
   "cell_type": "markdown",
   "metadata": {},
   "source": [
    "**Вывод:** \n",
    "\n",
    "В результате предобработки данных были выполнены следующие преобразования:\n",
    "- изучены значения в ключевых столбцах для категориальных и количественных переменных;\n",
    "- удалены выбросы (1% данных) в столбце с выручкой;\n",
    "- данные с датами приведены к корректному формату;\n",
    "- исключены задвоенные заказы;\n",
    "- создан объединённый датасет.\n",
    "\n",
    "Добавлены новые столбцы:\n",
    "- `revenue_rub` – приведение выручки заказов к единой валюте (российский рубль);\n",
    "- `one_ticket_revenue_rub` – расчёт выручки с одного билета;\n",
    "- `month` – выделение месяца оформления заказа;\n",
    "- `season` – определение сезонности с категориями: лето, осень."
   ]
  },
  {
   "cell_type": "markdown",
   "metadata": {},
   "source": [
    "<a id='intro-4'></a>\n",
    "##  Исследовательский анализ данных"
   ]
  },
  {
   "cell_type": "markdown",
   "metadata": {},
   "source": [
    "<a id='intro-5'></a>\n",
    "###  Анализ распределения заказов по сегментам и их сезонные изменения"
   ]
  },
  {
   "cell_type": "markdown",
   "metadata": {},
   "source": [
    "Изучим изменение пользовательской активности или пользовательского интереса в связи с сезонностью. Проанализируем динамику по таким разрезам:\n",
    "- тип мероприятия `event_type_main`;\n",
    "- тип устройства `device_type_canonical`;\n",
    "- категория мероприятий по возрастному рейтингу `age_limit`."
   ]
  },
  {
   "cell_type": "markdown",
   "metadata": {},
   "source": [
    "Для каждого месяца найдем количество заказов."
   ]
  },
  {
   "cell_type": "code",
   "execution_count": 34,
   "metadata": {},
   "outputs": [
    {
     "data": {
      "image/png": "[encoded data removed]",
      "text/plain": [
       "<Figure size 720x432 with 1 Axes>"
      ]
     },
     "metadata": {
      "needs_background": "light"
     },
     "output_type": "display_data"
    }
   ],
   "source": [
    "# Группировка по month и подсчёт количества order_id\n",
    "monthly_orders = total_df.groupby('month')['order_id'].count().reset_index()\n",
    "\n",
    "# Построение линейного графика\n",
    "plt.figure(figsize=(10, 6))\n",
    "plt.plot(monthly_orders['month'], monthly_orders['order_id'], marker='o')\n",
    "\n",
    "# Добавление подписей\n",
    "plt.title('Количество заказов по месяцам')\n",
    "plt.xlabel('Месяц')\n",
    "plt.ylabel('Количество заказов')\n",
    "plt.grid(True)\n",
    "\n",
    "# Отображение графика\n",
    "plt.show()"
   ]
  },
  {
   "cell_type": "markdown",
   "metadata": {},
   "source": [
    "На графике видно увеличение заказов от июня к ноябрю 2024 года."
   ]
  },
  {
   "cell_type": "markdown",
   "metadata": {},
   "source": [
    "Для осеннего и летнего периодов сравним распределение заказов билетов по разным категориям: тип мероприятия, тип устройства, категория мероприятия по возрастному рейтингу."
   ]
  },
  {
   "cell_type": "code",
   "execution_count": 35,
   "metadata": {},
   "outputs": [
    {
     "data": {
      "image/png": "[encoded data removed]",
      "text/plain": [
       "<Figure size 720x432 with 1 Axes>"
      ]
     },
     "metadata": {
      "needs_background": "light"
     },
     "output_type": "display_data"
    }
   ],
   "source": [
    "# График распределения заказов для event_type_main в долях\n",
    "# Группировка данных по столбцам 'season' и 'event_type_main'\n",
    "grouped_data = total_df.groupby(['season', 'event_type_main']).size().unstack()\n",
    "\n",
    "# Переводим абсолютные значения в доли (проценты) по строкам\n",
    "grouped_data_percent = grouped_data.div(grouped_data.sum(axis=1), axis=0) * 100\n",
    "\n",
    "# Построение столбчатой диаграммы\n",
    "ax = grouped_data_percent.plot(kind='barh', stacked=False, figsize=(10, 6))\n",
    "plt.title('Доля заказов в разрезе типа мероприятий')\n",
    "plt.xlabel('Доля заказов, %')\n",
    "plt.ylabel('')\n",
    "\n",
    "# Выносим легенду за пределы графика\n",
    "plt.legend(title='Тип события', bbox_to_anchor=(1.05, 1), loc='upper left')\n",
    "plt.tight_layout()  # Автоматическая подгонка layout'а чтобы легенда не обрезалась\n",
    "plt.show()"
   ]
  },
  {
   "cell_type": "code",
   "execution_count": 36,
   "metadata": {},
   "outputs": [
    {
     "data": {
      "text/html": [
       "<div>\n",
       "<style scoped>\n",
       "    .dataframe tbody tr th:only-of-type {\n",
       "        vertical-align: middle;\n",
       "    }\n",
       "\n",
       "    .dataframe tbody tr th {\n",
       "        vertical-align: top;\n",
       "    }\n",
       "\n",
       "    .dataframe thead th {\n",
       "        text-align: right;\n",
       "    }\n",
       "</style>\n",
       "<table border=\"1\" class=\"dataframe\">\n",
       "  <thead>\n",
       "    <tr style=\"text-align: right;\">\n",
       "      <th>event_type_main</th>\n",
       "      <th>выставки</th>\n",
       "      <th>другое</th>\n",
       "      <th>концерты</th>\n",
       "      <th>спорт</th>\n",
       "      <th>стендап</th>\n",
       "      <th>театр</th>\n",
       "      <th>ёлки</th>\n",
       "    </tr>\n",
       "    <tr>\n",
       "      <th>season</th>\n",
       "      <th></th>\n",
       "      <th></th>\n",
       "      <th></th>\n",
       "      <th></th>\n",
       "      <th></th>\n",
       "      <th></th>\n",
       "      <th></th>\n",
       "    </tr>\n",
       "  </thead>\n",
       "  <tbody>\n",
       "    <tr>\n",
       "      <th>лето</th>\n",
       "      <td>2.034595</td>\n",
       "      <td>27.259023</td>\n",
       "      <td>42.423324</td>\n",
       "      <td>2.531454</td>\n",
       "      <td>5.345864</td>\n",
       "      <td>20.175838</td>\n",
       "      <td>0.229902</td>\n",
       "    </tr>\n",
       "    <tr>\n",
       "      <th>осень</th>\n",
       "      <td>1.442889</td>\n",
       "      <td>19.679792</td>\n",
       "      <td>37.259815</td>\n",
       "      <td>11.183571</td>\n",
       "      <td>4.101215</td>\n",
       "      <td>25.328737</td>\n",
       "      <td>1.003980</td>\n",
       "    </tr>\n",
       "  </tbody>\n",
       "</table>\n",
       "</div>"
      ],
      "text/plain": [
       "event_type_main  выставки     другое   концерты      спорт   стендап      театр      ёлки\n",
       "season                                                                                   \n",
       "лето             2.034595  27.259023  42.423324   2.531454  5.345864  20.175838  0.229902\n",
       "осень            1.442889  19.679792  37.259815  11.183571  4.101215  25.328737  1.003980"
      ]
     },
     "execution_count": 36,
     "metadata": {},
     "output_type": "execute_result"
    }
   ],
   "source": [
    "grouped_data_percent"
   ]
  },
  {
   "cell_type": "markdown",
   "metadata": {},
   "source": [
    "Осенью увеличилось количество заказов билетов на такие мероприятия, как `ёлки`, `театры` и `спорт`, но снизилось на `стендапы`, `концерты`, `выставки` и другое."
   ]
  },
  {
   "cell_type": "code",
   "execution_count": 37,
   "metadata": {},
   "outputs": [
    {
     "data": {
      "image/png": "[encoded data removed]",
      "text/plain": [
       "<Figure size 864x432 with 1 Axes>"
      ]
     },
     "metadata": {
      "needs_background": "light"
     },
     "output_type": "display_data"
    }
   ],
   "source": [
    "# График распределения заказов для device_type_canonical в долях\n",
    "# Группировка данных по столбцам 'season' и 'device_type_canonical'\n",
    "grouped_data = total_df.groupby(['season', 'device_type_canonical']).size().unstack()\n",
    "\n",
    "# Переводим абсолютные значения в доли (проценты) по строкам\n",
    "grouped_data_percent = grouped_data.div(grouped_data.sum(axis=1), axis=0) * 100\n",
    "\n",
    "# Построение столбчатой диаграммы с сохранением объекта Axes\n",
    "ax = grouped_data_percent.plot(kind='barh', \n",
    "                              stacked=False, \n",
    "                              figsize=(12, 6))  \n",
    "\n",
    "# Настройка заголовка и подписей\n",
    "plt.title('Доля заказов в разрезе типа устройств', pad=20)\n",
    "plt.xlabel('Доля заказов, %')\n",
    "plt.ylabel('')\n",
    "\n",
    "# Выносим легенду за пределы графика и настраиваем ее\n",
    "plt.legend(title='Тип устройства',\n",
    "           bbox_to_anchor=(1.05, 1),  # Размещаем справа от графика\n",
    "           loc='upper left',          # Выравниваем по верхнему краю\n",
    "           borderaxespad=0.)          # Убираем отступы вокруг легенды\n",
    "\n",
    "# Автоматическая подгонка layout'а\n",
    "plt.tight_layout(rect=[0, 0, 0.85, 1])  # Оставляем 15% справа для легенды\n",
    "plt.show()"
   ]
  },
  {
   "cell_type": "markdown",
   "metadata": {},
   "source": [
    "Доля заказов с разных устройств не имеет выраженной сезонности."
   ]
  },
  {
   "cell_type": "code",
   "execution_count": 38,
   "metadata": {},
   "outputs": [
    {
     "data": {
      "image/png": "[encoded data removed]",
      "text/plain": [
       "<Figure size 720x432 with 1 Axes>"
      ]
     },
     "metadata": {
      "needs_background": "light"
     },
     "output_type": "display_data"
    }
   ],
   "source": [
    "# График распределения заказов для age_limit в долях\n",
    "# Группировка данных по столбцам 'season' и 'age_limit'\n",
    "grouped_data = total_df.groupby(['season', 'age_limit']).size().unstack()\n",
    "\n",
    "# Переводим абсолютные значения в доли (проценты) по строкам\n",
    "grouped_data_percent = grouped_data.div(grouped_data.sum(axis=1), axis=0) * 100\n",
    "\n",
    "# Построение столбчатой диаграммы\n",
    "ax = grouped_data_percent.plot(kind='barh', stacked=False, figsize=(10, 6))\n",
    "plt.title('Доля заказов по возрастному рейтингу')\n",
    "plt.xlabel('Доля заказов, %')\n",
    "plt.ylabel('')\n",
    "\n",
    "# Выносим легенду за пределы графика и исправляем название\n",
    "plt.legend(title='Возрастной рейтинг', bbox_to_anchor=(1.05, 1), loc='upper left')\n",
    "plt.tight_layout()  # Автоматическая подгонка layout'а, чтобы легенда не обрезалась\n",
    "plt.show()"
   ]
  },
  {
   "cell_type": "code",
   "execution_count": 39,
   "metadata": {},
   "outputs": [
    {
     "data": {
      "text/html": [
       "<div>\n",
       "<style scoped>\n",
       "    .dataframe tbody tr th:only-of-type {\n",
       "        vertical-align: middle;\n",
       "    }\n",
       "\n",
       "    .dataframe tbody tr th {\n",
       "        vertical-align: top;\n",
       "    }\n",
       "\n",
       "    .dataframe thead th {\n",
       "        text-align: right;\n",
       "    }\n",
       "</style>\n",
       "<table border=\"1\" class=\"dataframe\">\n",
       "  <thead>\n",
       "    <tr style=\"text-align: right;\">\n",
       "      <th>age_limit</th>\n",
       "      <th>0</th>\n",
       "      <th>6</th>\n",
       "      <th>12</th>\n",
       "      <th>16</th>\n",
       "      <th>18</th>\n",
       "    </tr>\n",
       "    <tr>\n",
       "      <th>season</th>\n",
       "      <th></th>\n",
       "      <th></th>\n",
       "      <th></th>\n",
       "      <th></th>\n",
       "      <th></th>\n",
       "    </tr>\n",
       "  </thead>\n",
       "  <tbody>\n",
       "    <tr>\n",
       "      <th>лето</th>\n",
       "      <td>17.992300</td>\n",
       "      <td>18.305005</td>\n",
       "      <td>20.213177</td>\n",
       "      <td>28.404028</td>\n",
       "      <td>15.085489</td>\n",
       "    </tr>\n",
       "    <tr>\n",
       "      <th>осень</th>\n",
       "      <td>23.590761</td>\n",
       "      <td>17.696180</td>\n",
       "      <td>22.090613</td>\n",
       "      <td>26.193071</td>\n",
       "      <td>10.429375</td>\n",
       "    </tr>\n",
       "  </tbody>\n",
       "</table>\n",
       "</div>"
      ],
      "text/plain": [
       "age_limit         0          6          12         16         18\n",
       "season                                                          \n",
       "лето       17.992300  18.305005  20.213177  28.404028  15.085489\n",
       "осень      23.590761  17.696180  22.090613  26.193071  10.429375"
      ]
     },
     "execution_count": 39,
     "metadata": {},
     "output_type": "execute_result"
    }
   ],
   "source": [
    "grouped_data_percent"
   ]
  },
  {
   "cell_type": "markdown",
   "metadata": {},
   "source": [
    "Возрастные ограничения мероприятий демонстрируют заметную сезонную динамику.\n",
    "Наиболее ярко это проявляется в категориях 0+ и 18+.\n",
    "Осенью наблюдается:\n",
    "- снижение спроса на мероприятия с ограничениями 18+ и 16+;\n",
    "- рост популярности мероприятий для аудитории 0+ и 12+.\n",
    "\n",
    "При этом спрос на мероприятия категории 6+ остается стабильным. \n",
    "\n",
    "Можно также заметить, что с июня по октябрь отмечается устойчивый рост количества заказов по различным сегментам."
   ]
  },
  {
   "cell_type": "markdown",
   "metadata": {},
   "source": [
    "Изучим изменение выручки с продажи одного билета в зависимости от типа мероприятия летом и осенью. "
   ]
  },
  {
   "cell_type": "code",
   "execution_count": 40,
   "metadata": {},
   "outputs": [
    {
     "data": {
      "image/png": "[encoded data removed]",
      "text/plain": [
       "<Figure size 1008x576 with 2 Axes>"
      ]
     },
     "metadata": {
      "needs_background": "light"
     },
     "output_type": "display_data"
    },
    {
     "data": {
      "text/html": [
       "<div>\n",
       "<style scoped>\n",
       "    .dataframe tbody tr th:only-of-type {\n",
       "        vertical-align: middle;\n",
       "    }\n",
       "\n",
       "    .dataframe tbody tr th {\n",
       "        vertical-align: top;\n",
       "    }\n",
       "\n",
       "    .dataframe thead th {\n",
       "        text-align: right;\n",
       "    }\n",
       "</style>\n",
       "<table border=\"1\" class=\"dataframe\">\n",
       "  <thead>\n",
       "    <tr style=\"text-align: right;\">\n",
       "      <th>season</th>\n",
       "      <th>лето</th>\n",
       "      <th>осень</th>\n",
       "      <th>autumn_vs_summer_pct_change</th>\n",
       "    </tr>\n",
       "    <tr>\n",
       "      <th>event_type_main</th>\n",
       "      <th></th>\n",
       "      <th></th>\n",
       "      <th></th>\n",
       "    </tr>\n",
       "  </thead>\n",
       "  <tbody>\n",
       "    <tr>\n",
       "      <th>стендап</th>\n",
       "      <td>218.585827</td>\n",
       "      <td>231.466954</td>\n",
       "      <td>5.89</td>\n",
       "    </tr>\n",
       "    <tr>\n",
       "      <th>выставки</th>\n",
       "      <td>86.416198</td>\n",
       "      <td>90.603610</td>\n",
       "      <td>4.85</td>\n",
       "    </tr>\n",
       "    <tr>\n",
       "      <th>спорт</th>\n",
       "      <td>50.761831</td>\n",
       "      <td>49.969733</td>\n",
       "      <td>-1.56</td>\n",
       "    </tr>\n",
       "    <tr>\n",
       "      <th>другое</th>\n",
       "      <td>77.433968</td>\n",
       "      <td>76.115334</td>\n",
       "      <td>-1.70</td>\n",
       "    </tr>\n",
       "    <tr>\n",
       "      <th>концерты</th>\n",
       "      <td>300.274761</td>\n",
       "      <td>269.319652</td>\n",
       "      <td>-10.31</td>\n",
       "    </tr>\n",
       "    <tr>\n",
       "      <th>ёлки</th>\n",
       "      <td>271.436176</td>\n",
       "      <td>230.310069</td>\n",
       "      <td>-15.15</td>\n",
       "    </tr>\n",
       "    <tr>\n",
       "      <th>театр</th>\n",
       "      <td>214.398965</td>\n",
       "      <td>176.231359</td>\n",
       "      <td>-17.80</td>\n",
       "    </tr>\n",
       "  </tbody>\n",
       "</table>\n",
       "</div>"
      ],
      "text/plain": [
       "season                 лето       осень  autumn_vs_summer_pct_change\n",
       "event_type_main                                                     \n",
       "стендап          218.585827  231.466954                         5.89\n",
       "выставки          86.416198   90.603610                         4.85\n",
       "спорт             50.761831   49.969733                        -1.56\n",
       "другое            77.433968   76.115334                        -1.70\n",
       "концерты         300.274761  269.319652                       -10.31\n",
       "ёлки             271.436176  230.310069                       -15.15\n",
       "театр            214.398965  176.231359                       -17.80"
      ]
     },
     "metadata": {},
     "output_type": "display_data"
    }
   ],
   "source": [
    "# 1. Группируем данные и считаем средний доход с билета\n",
    "average_revenue = (\n",
    "    total_df.groupby(['season', 'event_type_main'])['one_ticket_revenue_rub']\n",
    "    .mean()\n",
    "    .reset_index()\n",
    "    .rename(columns={'one_ticket_revenue_rub': 'avg_revenue_per_ticket_rub'})\n",
    ")\n",
    "\n",
    "# 2. Создаём сводную таблицу для удобства сравнения\n",
    "pivot_revenue = average_revenue.pivot(\n",
    "    index='event_type_main',\n",
    "    columns='season',\n",
    "    values='avg_revenue_per_ticket_rub'\n",
    ")\n",
    "\n",
    "# 3. Рассчитываем относительное изменение осени к лету (%)\n",
    "pivot_revenue['autumn_vs_summer_pct_change'] = (\n",
    "    (pivot_revenue['осень'] - pivot_revenue['лето']) \n",
    "    / pivot_revenue['лето'] * 100).round(2)\n",
    "\n",
    "# 4. Визуализация\n",
    "plt.figure(figsize=(14, 8))\n",
    "\n",
    "# График среднего дохода по категориям и сезонам\n",
    "plt.subplot(2, 1, 1)\n",
    "sns.barplot(\n",
    "    data=average_revenue,\n",
    "    x='event_type_main',\n",
    "    y='avg_revenue_per_ticket_rub',\n",
    "    hue='season',\n",
    "    palette={'лето': '#bae4b3', 'осень': '#b3cde3'}\n",
    ")\n",
    "plt.title('Средний доход с одного билета по категориям мероприятий')\n",
    "plt.xlabel('Категория мероприятия')\n",
    "plt.ylabel('Средний доход, руб.')\n",
    "plt.xticks(rotation=0)\n",
    "plt.legend(title='Сезон')\n",
    "\n",
    "# График процентного изменения осень/лето\n",
    "plt.subplot(2, 1, 2)\n",
    "\n",
    "# Создаем список цветов - синий для положительных, красный для отрицательных\n",
    "colors = ['#fee0d2' if x < 0 else '#c6dbef' for x in pivot_revenue['autumn_vs_summer_pct_change']]\n",
    "\n",
    "sns.barplot(\n",
    "    x=pivot_revenue.index,\n",
    "    y=pivot_revenue['autumn_vs_summer_pct_change'],\n",
    "    palette=colors\n",
    ")\n",
    "plt.axhline(0, color='black', linestyle='--')\n",
    "plt.title('Изменение средней стоимости билета: осень vs лето (%)')\n",
    "plt.xlabel('Категория мероприятия')\n",
    "plt.ylabel('Изменение, %')\n",
    "plt.xticks(rotation=0)\n",
    "\n",
    "plt.tight_layout()\n",
    "plt.show()\n",
    "\n",
    "# Выводим таблицу с результатами\n",
    "display(pivot_revenue.sort_values('autumn_vs_summer_pct_change', ascending=False))"
   ]
  },
  {
   "cell_type": "markdown",
   "metadata": {},
   "source": [
    "**Вывод:** летом и осенью наблюдается динамика средней стоимости билета в разрезе разных категорий мероприятий.\n",
    "- Развлекательные мероприятия (стендап, выставки) дорожают осенью.\n",
    "- Культурные (театр, ёлки, концерты) и спортивные события, наоборот, дешевеют.\n",
    "- Театр показывает самое значительное снижение цены (–17.8%), что может быть связано с сезонным спросом."
   ]
  },
  {
   "cell_type": "markdown",
   "metadata": {},
   "source": [
    "<a id='intro-6'></a>\n",
    "###  Осенняя активность пользователей"
   ]
  },
  {
   "cell_type": "markdown",
   "metadata": {},
   "source": [
    "Изучим активность пользователей осенью 2024 года.\n",
    "\n",
    "Проанализируем динамику изменений по дням для:\n",
    "- общего числа заказов;\n",
    "- количества активных пользователей DAU;\n",
    "- среднего числа заказов на одного пользователя;\n",
    "- средней стоимости одного билета.\n",
    "Для этого создадим одну сводную таблицу, и в ней по дням рассчитаем число заказов и число уникальных пользователей, а затем найдем величину — количество заказов на одного пользователя. Полученные результаты визуализируем с помощью линейного графика. \n",
    "\n",
    "Изучим недельную цикличность. Выделим день недели и сравним пользовательскую активность в будни и выходные."
   ]
  },
  {
   "cell_type": "code",
   "execution_count": 41,
   "metadata": {},
   "outputs": [
    {
     "data": {
      "image/png": "[encoded data removed]",
      "text/plain": [
       "<Figure size 1080x1080 with 4 Axes>"
      ]
     },
     "metadata": {
      "needs_background": "light"
     },
     "output_type": "display_data"
    }
   ],
   "source": [
    "# Извлекаем день недели\n",
    "total_df['day_of_week'] = total_df['created_dt_msk'].dt.day_name()\n",
    "\n",
    "# Фильтруем данные только на осень 2024\n",
    "autumn_2024_df = total_df[total_df['season'] == 'осень']\n",
    "\n",
    "# Создаем сводную таблицу по дням\n",
    "daily_stats = autumn_2024_df.groupby('created_dt_msk').agg(\n",
    "    total_orders=('order_id', 'count'),\n",
    "    dau=('user_id', 'nunique'),\n",
    "    avg_revenue=('one_ticket_revenue_rub', 'mean')\n",
    ").reset_index()\n",
    "\n",
    "# Рассчитываем среднее число заказов на пользователя\n",
    "daily_stats['orders_per_user'] = daily_stats['total_orders'] / daily_stats['dau']\n",
    "\n",
    "# Визуализация динамики по дням\n",
    "plt.figure(figsize=(15, 15))  # Увеличиваем высоту figure для вертикального расположения\n",
    "\n",
    "# График общего числа заказов\n",
    "plt.subplot(4, 1, 1)  # 4 строки, 1 столбец, позиция 1\n",
    "plt.plot(daily_stats['created_dt_msk'], daily_stats['total_orders'])\n",
    "plt.title('Общее число заказов по дням')\n",
    "plt.grid(True)\n",
    "\n",
    "# График DAU\n",
    "plt.subplot(4, 1, 2)  # 4 строки, 1 столбец, позиция 2\n",
    "plt.plot(daily_stats['created_dt_msk'], daily_stats['dau'])\n",
    "plt.title('DAU по дням')\n",
    "plt.grid(True)\n",
    "\n",
    "# График среднего числа заказов на пользователя\n",
    "plt.subplot(4, 1, 3)  # 4 строки, 1 столбец, позиция 3\n",
    "plt.plot(daily_stats['created_dt_msk'], daily_stats['orders_per_user'])\n",
    "plt.title('Среднее число заказов на пользователя')\n",
    "plt.grid(True)\n",
    "\n",
    "# График средней стоимости билета\n",
    "plt.subplot(4, 1, 4)  # 4 строки, 1 столбец, позиция 4\n",
    "plt.plot(daily_stats['created_dt_msk'], daily_stats['avg_revenue'])\n",
    "plt.title('Средняя стоимость билета')\n",
    "plt.grid(True)\n",
    "\n",
    "plt.tight_layout()\n",
    "plt.show()"
   ]
  },
  {
   "cell_type": "markdown",
   "metadata": {},
   "source": [
    "**Вывод:** \n",
    "Осенью 2024 года наблюдается положительная динамика: общее число заказов и количество активных пользователей постепенно увеличиваются. Среднее число заказов на одного пользователя остаётся стабильным, с пиками в отдельные дни. Средняя стоимость билета колеблется, но не демонстрирует чёткой тенденции.\n"
   ]
  },
  {
   "cell_type": "code",
   "execution_count": 42,
   "metadata": {},
   "outputs": [
    {
     "name": "stdout",
     "output_type": "stream",
     "text": [
      "\n",
      "Статистика по дням недели:\n"
     ]
    },
    {
     "data": {
      "text/html": [
       "<div>\n",
       "<style scoped>\n",
       "    .dataframe tbody tr th:only-of-type {\n",
       "        vertical-align: middle;\n",
       "    }\n",
       "\n",
       "    .dataframe tbody tr th {\n",
       "        vertical-align: top;\n",
       "    }\n",
       "\n",
       "    .dataframe thead th {\n",
       "        text-align: right;\n",
       "    }\n",
       "</style>\n",
       "<table border=\"1\" class=\"dataframe\">\n",
       "  <thead>\n",
       "    <tr style=\"text-align: right;\">\n",
       "      <th></th>\n",
       "      <th>День недели</th>\n",
       "      <th>Всего заказов</th>\n",
       "      <th>DAU</th>\n",
       "      <th>Ср. стоимость билета (руб)</th>\n",
       "      <th>Выходной</th>\n",
       "    </tr>\n",
       "  </thead>\n",
       "  <tbody>\n",
       "    <tr>\n",
       "      <th>1</th>\n",
       "      <td>Monday</td>\n",
       "      <td>21541</td>\n",
       "      <td>4453</td>\n",
       "      <td>184.599724</td>\n",
       "      <td>False</td>\n",
       "    </tr>\n",
       "    <tr>\n",
       "      <th>5</th>\n",
       "      <td>Tuesday</td>\n",
       "      <td>31533</td>\n",
       "      <td>4799</td>\n",
       "      <td>141.391475</td>\n",
       "      <td>False</td>\n",
       "    </tr>\n",
       "    <tr>\n",
       "      <th>6</th>\n",
       "      <td>Wednesday</td>\n",
       "      <td>22924</td>\n",
       "      <td>4819</td>\n",
       "      <td>186.366622</td>\n",
       "      <td>False</td>\n",
       "    </tr>\n",
       "    <tr>\n",
       "      <th>4</th>\n",
       "      <td>Thursday</td>\n",
       "      <td>27200</td>\n",
       "      <td>4974</td>\n",
       "      <td>178.370879</td>\n",
       "      <td>False</td>\n",
       "    </tr>\n",
       "    <tr>\n",
       "      <th>0</th>\n",
       "      <td>Friday</td>\n",
       "      <td>24861</td>\n",
       "      <td>4872</td>\n",
       "      <td>186.124307</td>\n",
       "      <td>False</td>\n",
       "    </tr>\n",
       "    <tr>\n",
       "      <th>2</th>\n",
       "      <td>Saturday</td>\n",
       "      <td>21365</td>\n",
       "      <td>4574</td>\n",
       "      <td>192.674246</td>\n",
       "      <td>True</td>\n",
       "    </tr>\n",
       "    <tr>\n",
       "      <th>3</th>\n",
       "      <td>Sunday</td>\n",
       "      <td>19426</td>\n",
       "      <td>4399</td>\n",
       "      <td>198.776119</td>\n",
       "      <td>True</td>\n",
       "    </tr>\n",
       "  </tbody>\n",
       "</table>\n",
       "</div>"
      ],
      "text/plain": [
       "  День недели  Всего заказов   DAU  Ср. стоимость билета (руб)  Выходной\n",
       "1      Monday          21541  4453                  184.599724     False\n",
       "5     Tuesday          31533  4799                  141.391475     False\n",
       "6   Wednesday          22924  4819                  186.366622     False\n",
       "4    Thursday          27200  4974                  178.370879     False\n",
       "0      Friday          24861  4872                  186.124307     False\n",
       "2    Saturday          21365  4574                  192.674246      True\n",
       "3      Sunday          19426  4399                  198.776119      True"
      ]
     },
     "metadata": {},
     "output_type": "display_data"
    }
   ],
   "source": [
    "# Анализ недельной цикличности\n",
    "weekday_stats = autumn_2024_df.groupby('day_of_week').agg(\n",
    "    total_orders=('order_id', 'count'),\n",
    "    dau=('user_id', 'nunique'),\n",
    "    avg_revenue=('one_ticket_revenue_rub', 'mean')\n",
    ").reset_index()\n",
    "\n",
    "# Добавляем флаг выходного дня и сортируем по дням недели\n",
    "weekday_stats['is_weekend'] = weekday_stats['day_of_week'].isin(['Saturday', 'Sunday'])\n",
    "day_order = ['Monday', 'Tuesday', 'Wednesday', 'Thursday', 'Friday', 'Saturday', 'Sunday']\n",
    "weekday_stats['day_of_week'] = pd.Categorical(weekday_stats['day_of_week'], categories=day_order, ordered=True)\n",
    "weekday_stats = weekday_stats.sort_values('day_of_week')\n",
    "\n",
    "# Выводим таблицу по дням недели\n",
    "print(\"\\nСтатистика по дням недели:\")\n",
    "display(weekday_stats[['day_of_week', 'total_orders', 'dau', 'avg_revenue', 'is_weekend']]\n",
    "        .rename(columns={\n",
    "            'day_of_week': 'День недели',\n",
    "            'total_orders': 'Всего заказов',\n",
    "            'dau': 'DAU',\n",
    "            'avg_revenue': 'Ср. стоимость билета (руб)',\n",
    "            'is_weekend': 'Выходной'\n",
    "        }))\n"
   ]
  },
  {
   "cell_type": "code",
   "execution_count": 43,
   "metadata": {
    "scrolled": true
   },
   "outputs": [
    {
     "name": "stdout",
     "output_type": "stream",
     "text": [
      "\n",
      "Сравнение активности в будни и выходные:\n"
     ]
    },
    {
     "data": {
      "text/html": [
       "<div>\n",
       "<style scoped>\n",
       "    .dataframe tbody tr th:only-of-type {\n",
       "        vertical-align: middle;\n",
       "    }\n",
       "\n",
       "    .dataframe tbody tr th {\n",
       "        vertical-align: top;\n",
       "    }\n",
       "\n",
       "    .dataframe thead th {\n",
       "        text-align: right;\n",
       "    }\n",
       "</style>\n",
       "<table border=\"1\" class=\"dataframe\">\n",
       "  <thead>\n",
       "    <tr style=\"text-align: right;\">\n",
       "      <th></th>\n",
       "      <th>Тип дня</th>\n",
       "      <th>Ср. число заказов</th>\n",
       "      <th>Ср. DAU</th>\n",
       "      <th>Ср. стоимость билета (руб)</th>\n",
       "    </tr>\n",
       "  </thead>\n",
       "  <tbody>\n",
       "    <tr>\n",
       "      <th>0</th>\n",
       "      <td>Будни</td>\n",
       "      <td>25611.8</td>\n",
       "      <td>4783.4</td>\n",
       "      <td>175.370601</td>\n",
       "    </tr>\n",
       "    <tr>\n",
       "      <th>1</th>\n",
       "      <td>Выходные</td>\n",
       "      <td>20395.5</td>\n",
       "      <td>4486.5</td>\n",
       "      <td>195.725182</td>\n",
       "    </tr>\n",
       "  </tbody>\n",
       "</table>\n",
       "</div>"
      ],
      "text/plain": [
       "    Тип дня  Ср. число заказов  Ср. DAU  Ср. стоимость билета (руб)\n",
       "0     Будни            25611.8   4783.4                  175.370601\n",
       "1  Выходные            20395.5   4486.5                  195.725182"
      ]
     },
     "metadata": {},
     "output_type": "display_data"
    }
   ],
   "source": [
    "# Группируем по будням/выходным и выводим сравнение\n",
    "weekend_comparison = weekday_stats.groupby('is_weekend').agg({\n",
    "    'total_orders': 'mean',\n",
    "    'dau': 'mean',\n",
    "    'avg_revenue': 'mean'\n",
    "}).reset_index()\n",
    "\n",
    "print(\"\\nСравнение активности в будни и выходные:\")\n",
    "weekend_comparison_display = weekend_comparison.copy()\n",
    "weekend_comparison_display['is_weekend'] = weekend_comparison_display['is_weekend'].map({True: 'Выходные', False: 'Будни'})\n",
    "display(weekend_comparison_display.rename(columns={\n",
    "    'is_weekend': 'Тип дня',\n",
    "    'total_orders': 'Ср. число заказов',\n",
    "    'dau': 'Ср. DAU',\n",
    "    'avg_revenue': 'Ср. стоимость билета (руб)'\n",
    "}))"
   ]
  },
  {
   "cell_type": "markdown",
   "metadata": {},
   "source": [
    "\n",
    "**Вывод:** Среднее число заказов и активность пользователей в будни выше, чем в выходные. Средняя стоимость билета напротив в будни ниже, чем в выходные."
   ]
  },
  {
   "cell_type": "markdown",
   "metadata": {},
   "source": [
    "<a id='intro-7'></a>\n",
    "###  Популярные события и партнёры"
   ]
  },
  {
   "cell_type": "markdown",
   "metadata": {},
   "source": [
    "Посмотрим, как события распределены по регионам и партнёрам. Это позволит выделить ключевые регионы и партнёров, которые вносят наибольший вклад в выручку.\n",
    "\n",
    "Для каждого региона посчитаем уникальное количество мероприятий и общее число заказов. \n",
    "\n",
    "Для каждого билетного партнёра посчитаем общее число уникальных мероприятий, обработанных заказов и суммарную выручку с заказов билетов. \n"
   ]
  },
  {
   "cell_type": "code",
   "execution_count": 44,
   "metadata": {},
   "outputs": [
    {
     "name": "stdout",
     "output_type": "stream",
     "text": [
      "Топ-10 регионов по количеству мероприятий:\n"
     ]
    },
    {
     "data": {
      "text/html": [
       "<div>\n",
       "<style scoped>\n",
       "    .dataframe tbody tr th:only-of-type {\n",
       "        vertical-align: middle;\n",
       "    }\n",
       "\n",
       "    .dataframe tbody tr th {\n",
       "        vertical-align: top;\n",
       "    }\n",
       "\n",
       "    .dataframe thead th {\n",
       "        text-align: right;\n",
       "    }\n",
       "</style>\n",
       "<table border=\"1\" class=\"dataframe\">\n",
       "  <thead>\n",
       "    <tr style=\"text-align: right;\">\n",
       "      <th></th>\n",
       "      <th>region_name</th>\n",
       "      <th>event_id</th>\n",
       "      <th>order_id</th>\n",
       "      <th>event_share</th>\n",
       "      <th>order_share</th>\n",
       "    </tr>\n",
       "  </thead>\n",
       "  <tbody>\n",
       "    <tr>\n",
       "      <th>23</th>\n",
       "      <td>Каменевский регион</td>\n",
       "      <td>5940</td>\n",
       "      <td>89749</td>\n",
       "      <td>0.265605</td>\n",
       "      <td>0.312090</td>\n",
       "    </tr>\n",
       "    <tr>\n",
       "      <th>60</th>\n",
       "      <td>Североярская область</td>\n",
       "      <td>3800</td>\n",
       "      <td>43752</td>\n",
       "      <td>0.169916</td>\n",
       "      <td>0.152142</td>\n",
       "    </tr>\n",
       "    <tr>\n",
       "      <th>77</th>\n",
       "      <td>Широковская область</td>\n",
       "      <td>1232</td>\n",
       "      <td>16172</td>\n",
       "      <td>0.055089</td>\n",
       "      <td>0.056236</td>\n",
       "    </tr>\n",
       "    <tr>\n",
       "      <th>57</th>\n",
       "      <td>Светополянский округ</td>\n",
       "      <td>1075</td>\n",
       "      <td>7502</td>\n",
       "      <td>0.048068</td>\n",
       "      <td>0.026087</td>\n",
       "    </tr>\n",
       "    <tr>\n",
       "      <th>52</th>\n",
       "      <td>Речиновская область</td>\n",
       "      <td>702</td>\n",
       "      <td>6268</td>\n",
       "      <td>0.031390</td>\n",
       "      <td>0.021796</td>\n",
       "    </tr>\n",
       "    <tr>\n",
       "      <th>74</th>\n",
       "      <td>Травяная область</td>\n",
       "      <td>683</td>\n",
       "      <td>5036</td>\n",
       "      <td>0.030540</td>\n",
       "      <td>0.017512</td>\n",
       "    </tr>\n",
       "    <tr>\n",
       "      <th>11</th>\n",
       "      <td>Горицветская область</td>\n",
       "      <td>551</td>\n",
       "      <td>5154</td>\n",
       "      <td>0.024638</td>\n",
       "      <td>0.017922</td>\n",
       "    </tr>\n",
       "    <tr>\n",
       "      <th>61</th>\n",
       "      <td>Серебринская область</td>\n",
       "      <td>541</td>\n",
       "      <td>5591</td>\n",
       "      <td>0.024191</td>\n",
       "      <td>0.019442</td>\n",
       "    </tr>\n",
       "    <tr>\n",
       "      <th>78</th>\n",
       "      <td>Яблоневская область</td>\n",
       "      <td>535</td>\n",
       "      <td>6123</td>\n",
       "      <td>0.023922</td>\n",
       "      <td>0.021292</td>\n",
       "    </tr>\n",
       "    <tr>\n",
       "      <th>69</th>\n",
       "      <td>Тепляковская область</td>\n",
       "      <td>528</td>\n",
       "      <td>4385</td>\n",
       "      <td>0.023609</td>\n",
       "      <td>0.015248</td>\n",
       "    </tr>\n",
       "  </tbody>\n",
       "</table>\n",
       "</div>"
      ],
      "text/plain": [
       "             region_name  event_id  order_id  event_share  order_share\n",
       "23    Каменевский регион      5940     89749     0.265605     0.312090\n",
       "60  Североярская область      3800     43752     0.169916     0.152142\n",
       "77   Широковская область      1232     16172     0.055089     0.056236\n",
       "57  Светополянский округ      1075      7502     0.048068     0.026087\n",
       "52   Речиновская область       702      6268     0.031390     0.021796\n",
       "74      Травяная область       683      5036     0.030540     0.017512\n",
       "11  Горицветская область       551      5154     0.024638     0.017922\n",
       "61  Серебринская область       541      5591     0.024191     0.019442\n",
       "78   Яблоневская область       535      6123     0.023922     0.021292\n",
       "69  Тепляковская область       528      4385     0.023609     0.015248"
      ]
     },
     "metadata": {},
     "output_type": "display_data"
    },
    {
     "data": {
      "text/plain": [
       "<Figure size 864x432 with 0 Axes>"
      ]
     },
     "metadata": {},
     "output_type": "display_data"
    },
    {
     "data": {
      "image/png": "[encoded data removed]",
      "text/plain": [
       "<Figure size 432x288 with 1 Axes>"
      ]
     },
     "metadata": {
      "needs_background": "light"
     },
     "output_type": "display_data"
    },
    {
     "name": "stdout",
     "output_type": "stream",
     "text": [
      "\n",
      "Топ-10 билетных партнеров по количеству мероприятий:\n"
     ]
    },
    {
     "data": {
      "text/html": [
       "<div>\n",
       "<style scoped>\n",
       "    .dataframe tbody tr th:only-of-type {\n",
       "        vertical-align: middle;\n",
       "    }\n",
       "\n",
       "    .dataframe tbody tr th {\n",
       "        vertical-align: top;\n",
       "    }\n",
       "\n",
       "    .dataframe thead th {\n",
       "        text-align: right;\n",
       "    }\n",
       "</style>\n",
       "<table border=\"1\" class=\"dataframe\">\n",
       "  <thead>\n",
       "    <tr style=\"text-align: right;\">\n",
       "      <th></th>\n",
       "      <th>service_name</th>\n",
       "      <th>event_id</th>\n",
       "      <th>order_id</th>\n",
       "      <th>revenue_rub</th>\n",
       "      <th>event_share</th>\n",
       "      <th>order_share</th>\n",
       "    </tr>\n",
       "  </thead>\n",
       "  <tbody>\n",
       "    <tr>\n",
       "      <th>21</th>\n",
       "      <td>Лови билет!</td>\n",
       "      <td>4872</td>\n",
       "      <td>40825</td>\n",
       "      <td>1.673015e+07</td>\n",
       "      <td>0.217850</td>\n",
       "      <td>0.141963</td>\n",
       "    </tr>\n",
       "    <tr>\n",
       "      <th>3</th>\n",
       "      <td>Билеты без проблем</td>\n",
       "      <td>4256</td>\n",
       "      <td>63254</td>\n",
       "      <td>2.485658e+07</td>\n",
       "      <td>0.190306</td>\n",
       "      <td>0.219957</td>\n",
       "    </tr>\n",
       "    <tr>\n",
       "      <th>5</th>\n",
       "      <td>Билеты в руки</td>\n",
       "      <td>3536</td>\n",
       "      <td>40305</td>\n",
       "      <td>1.320475e+07</td>\n",
       "      <td>0.158111</td>\n",
       "      <td>0.140155</td>\n",
       "    </tr>\n",
       "    <tr>\n",
       "      <th>25</th>\n",
       "      <td>Облачко</td>\n",
       "      <td>2335</td>\n",
       "      <td>26410</td>\n",
       "      <td>1.860930e+07</td>\n",
       "      <td>0.104409</td>\n",
       "      <td>0.091837</td>\n",
       "    </tr>\n",
       "    <tr>\n",
       "      <th>22</th>\n",
       "      <td>Лучшие билеты</td>\n",
       "      <td>1763</td>\n",
       "      <td>17762</td>\n",
       "      <td>2.724061e+06</td>\n",
       "      <td>0.078832</td>\n",
       "      <td>0.061765</td>\n",
       "    </tr>\n",
       "    <tr>\n",
       "      <th>24</th>\n",
       "      <td>Мой билет</td>\n",
       "      <td>1302</td>\n",
       "      <td>33961</td>\n",
       "      <td>2.058398e+07</td>\n",
       "      <td>0.058219</td>\n",
       "      <td>0.118095</td>\n",
       "    </tr>\n",
       "    <tr>\n",
       "      <th>30</th>\n",
       "      <td>Тебе билет!</td>\n",
       "      <td>1062</td>\n",
       "      <td>5200</td>\n",
       "      <td>2.988325e+06</td>\n",
       "      <td>0.047487</td>\n",
       "      <td>0.018082</td>\n",
       "    </tr>\n",
       "    <tr>\n",
       "      <th>26</th>\n",
       "      <td>Прачечная</td>\n",
       "      <td>1026</td>\n",
       "      <td>10222</td>\n",
       "      <td>4.746811e+06</td>\n",
       "      <td>0.045877</td>\n",
       "      <td>0.035546</td>\n",
       "    </tr>\n",
       "    <tr>\n",
       "      <th>8</th>\n",
       "      <td>Весь в билетах</td>\n",
       "      <td>856</td>\n",
       "      <td>16438</td>\n",
       "      <td>1.656688e+07</td>\n",
       "      <td>0.038276</td>\n",
       "      <td>0.057161</td>\n",
       "    </tr>\n",
       "    <tr>\n",
       "      <th>35</th>\n",
       "      <td>Яблоко</td>\n",
       "      <td>714</td>\n",
       "      <td>5005</td>\n",
       "      <td>3.870923e+06</td>\n",
       "      <td>0.031926</td>\n",
       "      <td>0.017404</td>\n",
       "    </tr>\n",
       "  </tbody>\n",
       "</table>\n",
       "</div>"
      ],
      "text/plain": [
       "          service_name  event_id  order_id   revenue_rub  event_share  order_share\n",
       "21         Лови билет!      4872     40825  1.673015e+07     0.217850     0.141963\n",
       "3   Билеты без проблем      4256     63254  2.485658e+07     0.190306     0.219957\n",
       "5        Билеты в руки      3536     40305  1.320475e+07     0.158111     0.140155\n",
       "25             Облачко      2335     26410  1.860930e+07     0.104409     0.091837\n",
       "22       Лучшие билеты      1763     17762  2.724061e+06     0.078832     0.061765\n",
       "24           Мой билет      1302     33961  2.058398e+07     0.058219     0.118095\n",
       "30         Тебе билет!      1062      5200  2.988325e+06     0.047487     0.018082\n",
       "26           Прачечная      1026     10222  4.746811e+06     0.045877     0.035546\n",
       "8       Весь в билетах       856     16438  1.656688e+07     0.038276     0.057161\n",
       "35              Яблоко       714      5005  3.870923e+06     0.031926     0.017404"
      ]
     },
     "metadata": {},
     "output_type": "display_data"
    },
    {
     "data": {
      "text/plain": [
       "<Figure size 864x432 with 0 Axes>"
      ]
     },
     "metadata": {},
     "output_type": "display_data"
    },
    {
     "data": {
      "image/png": "[encoded data removed]",
      "text/plain": [
       "<Figure size 432x288 with 1 Axes>"
      ]
     },
     "metadata": {
      "needs_background": "light"
     },
     "output_type": "display_data"
    }
   ],
   "source": [
    "# Анализ по регионам\n",
    "region_stats = total_df.groupby('region_name').agg(\n",
    "    event_id=('event_id', 'nunique'),\n",
    "    order_id=('order_id', 'count')\n",
    ").reset_index()\n",
    "\n",
    "# Считаем доли\n",
    "total_events = region_stats['event_id'].sum()\n",
    "total_orders = region_stats['order_id'].sum()\n",
    "\n",
    "region_stats['event_share'] = region_stats['event_id'] / total_events\n",
    "region_stats['order_share'] = region_stats['order_id'] / total_orders\n",
    "\n",
    "# Сортируем и выводим топ-10 по event_id\n",
    "region_stats_sorted = region_stats.sort_values('event_id', ascending=False).head(10)\n",
    "print(\"Топ-10 регионов по количеству мероприятий:\")\n",
    "display(region_stats_sorted)\n",
    "\n",
    "# Диаграмма распределения доли мероприятий по регионам\n",
    "plt.figure(figsize=(12, 6))\n",
    "region_stats_sorted.plot.barh(x='region_name', y='event_share', legend=False)\n",
    "plt.title('Распределение доли мероприятий по регионам')\n",
    "plt.ylabel('')\n",
    "plt.xlabel('Доля мероприятий')\n",
    "plt.xticks(rotation=0)\n",
    "plt.tight_layout()\n",
    "plt.show()\n",
    "\n",
    "# Анализ по билетным партнерам\n",
    "partner_stats = total_df.groupby('service_name').agg(\n",
    "    event_id=('event_id', 'nunique'),\n",
    "    order_id=('order_id', 'count'),\n",
    "    revenue_rub=('revenue_rub', 'sum')\n",
    ").reset_index()\n",
    "\n",
    "# Считаем доли\n",
    "partner_stats['event_share'] = partner_stats['event_id'] / total_events\n",
    "partner_stats['order_share'] = partner_stats['order_id'] / total_orders\n",
    "\n",
    "# Сортируем и выводим топ-10 по event_id\n",
    "partner_stats_sorted = partner_stats.sort_values('event_id', ascending=False).head(10)\n",
    "print(\"\\nТоп-10 билетных партнеров по количеству мероприятий:\")\n",
    "display(partner_stats_sorted)\n",
    "\n",
    "# Диаграмма распределения доли мероприятий по партнерам\n",
    "plt.figure(figsize=(12, 6))\n",
    "partner_stats_sorted.plot.barh(x='service_name', y='event_share', legend=False)\n",
    "plt.title('Распределение доли мероприятий по билетным партнерам')\n",
    "plt.ylabel('')\n",
    "plt.xlabel('Доля мероприятий')\n",
    "plt.xticks(rotation=0)\n",
    "plt.tight_layout()\n",
    "plt.show()"
   ]
  },
  {
   "cell_type": "markdown",
   "metadata": {},
   "source": [
    "**Вывод:**\n",
    "\n",
    "Явные лидеры по количеству заказов два региона (из 81):\n",
    "- Каменевский регион (31,2%);\n",
    "- Североярская область (15,2%).\n",
    "\n",
    "Самые активные партнеры (из 36) по количеству мероприятий:\n",
    "- Лови билет! (21,8%);\n",
    "- Билеты без проблем (19%);\n",
    "- Билеты в руки (15,8%);\n",
    "- Облачко (10,5%).\n"
   ]
  },
  {
   "cell_type": "markdown",
   "metadata": {},
   "source": [
    "<a id='intro-8'></a>\n",
    "##  Статистический анализ данных"
   ]
  },
  {
   "cell_type": "markdown",
   "metadata": {},
   "source": [
    "Проверим две гипотезы, которые предполагают большую активность пользователей мобильных устройств:\n",
    "- Среднее количество заказов на одного пользователя мобильного приложения выше по сравнению с пользователями стационарных устройств.\n",
    "- Среднее время между заказами пользователей мобильных приложений выше по сравнению с пользователями стационарных устройств.\n",
    "\n",
    "Используем данные только за осенний период."
   ]
  },
  {
   "cell_type": "markdown",
   "metadata": {},
   "source": [
    "Посмотрим на исследуемые показатели."
   ]
  },
  {
   "cell_type": "code",
   "execution_count": 45,
   "metadata": {},
   "outputs": [
    {
     "data": {
      "text/html": [
       "<div>\n",
       "<style scoped>\n",
       "    .dataframe tbody tr th:only-of-type {\n",
       "        vertical-align: middle;\n",
       "    }\n",
       "\n",
       "    .dataframe tbody tr th {\n",
       "        vertical-align: top;\n",
       "    }\n",
       "\n",
       "    .dataframe thead th {\n",
       "        text-align: right;\n",
       "    }\n",
       "</style>\n",
       "<table border=\"1\" class=\"dataframe\">\n",
       "  <thead>\n",
       "    <tr style=\"text-align: right;\">\n",
       "      <th></th>\n",
       "      <th>device_type_canonical</th>\n",
       "      <th>avg_orders_per_user</th>\n",
       "      <th>avg_days_between_orders</th>\n",
       "    </tr>\n",
       "  </thead>\n",
       "  <tbody>\n",
       "    <tr>\n",
       "      <th>0</th>\n",
       "      <td>desktop</td>\n",
       "      <td>7.049651</td>\n",
       "      <td>3.024850</td>\n",
       "    </tr>\n",
       "    <tr>\n",
       "      <th>1</th>\n",
       "      <td>mobile</td>\n",
       "      <td>9.471127</td>\n",
       "      <td>3.779819</td>\n",
       "    </tr>\n",
       "  </tbody>\n",
       "</table>\n",
       "</div>"
      ],
      "text/plain": [
       "  device_type_canonical  avg_orders_per_user  avg_days_between_orders\n",
       "0               desktop             7.049651                 3.024850\n",
       "1                mobile             9.471127                 3.779819"
      ]
     },
     "execution_count": 45,
     "metadata": {},
     "output_type": "execute_result"
    }
   ],
   "source": [
    "# Группируем и считаем метрики с фильтром по сезону\n",
    "result = (\n",
    "    total_df[total_df['season'] == 'осень']  # Фильтруем только осенние данные\n",
    "    .groupby('device_type_canonical')\n",
    "    .agg(\n",
    "        avg_orders_per_user=('user_id', lambda x: total_df.loc[x.index, 'order_id'].nunique() / x.nunique()),\n",
    "        avg_days_between_orders=('days_since_prev', 'mean')\n",
    "    )\n",
    "    .reset_index()\n",
    ")\n",
    "\n",
    "result"
   ]
  },
  {
   "cell_type": "markdown",
   "metadata": {},
   "source": [
    "Проверим гипотизу:\n",
    "- Среднее количество заказов на одного пользователя мобильного приложения выше по сравнению с пользователями стационарных устройств.\n",
    "\n",
    "Сформулируем нулевую и альтернативную гипотез:\n",
    "- Н0: Среднее количество заказов на одного пользователя мобильного приложения и пользователя стационарных устройств равны;\n",
    "- Н1: Среднее количество заказов на одного пользователя мобильного приложения выше по сравнению с пользователями стационарных устройств."
   ]
  },
  {
   "cell_type": "markdown",
   "metadata": {},
   "source": [
    "Посмотрим нормальность распределения выборок."
   ]
  },
  {
   "cell_type": "code",
   "execution_count": 46,
   "metadata": {},
   "outputs": [
    {
     "data": {
      "image/png": "[encoded data removed]",
      "text/plain": [
       "<Figure size 864x432 with 2 Axes>"
      ]
     },
     "metadata": {},
     "output_type": "display_data"
    }
   ],
   "source": [
    "# Фильтрация данных за осень\n",
    "autumn_df = total_df[total_df['season'] == 'осень']\n",
    "\n",
    "# Группируем по user_id и device_type, считаем заказы\n",
    "orders_per_user = (\n",
    "    autumn_df.groupby(['user_id', 'device_type_canonical'])\n",
    "    ['order_id'].count()\n",
    "    .reset_index(name='orders')\n",
    ")\n",
    "\n",
    "# Разделяем на мобильных и десктопных пользователей\n",
    "mobile_orders = orders_per_user[orders_per_user['device_type_canonical'] == 'mobile']['orders']\n",
    "desktop_orders = orders_per_user[orders_per_user['device_type_canonical'] == 'desktop']['orders']\n",
    "\n",
    "# Настройка стиля графиков\n",
    "sns.set(style=\"whitegrid\")\n",
    "plt.figure(figsize=(12, 6))\n",
    "\n",
    "# Гистограмма для мобильных пользователей\n",
    "plt.subplot(1, 2, 1)\n",
    "sns.histplot(mobile_orders, bins=30, color='skyblue', kde=True)\n",
    "plt.title('Распределение заказов (мобильные)', fontsize=12)\n",
    "plt.xlabel('Количество заказов', fontsize=10)\n",
    "plt.ylabel('Число пользователей', fontsize=10)\n",
    "\n",
    "# Гистограмма для десктопных пользователей\n",
    "plt.subplot(1, 2, 2)\n",
    "sns.histplot(desktop_orders, bins=30, color='salmon', kde=True)\n",
    "plt.title('Распределение заказов (десктоп)', fontsize=12)\n",
    "plt.xlabel('Количество заказов', fontsize=10)\n",
    "plt.ylabel('Число пользователей', fontsize=10)\n",
    "\n",
    "plt.tight_layout()\n",
    "plt.show()"
   ]
  },
  {
   "cell_type": "markdown",
   "metadata": {},
   "source": [
    "Выборки для проверки данной гипотезы будут состоять из количества заказов для уникальных `user_id`, т.е. мы имеем дискретные данные. Распределение заказов на пользователя, не нормальное (есть много пользователей с 1-2 заказами и мало с большим числом).Альтернативная гипотеза правосторонняя. Для проверки подойдет тест Манна — Уитни."
   ]
  },
  {
   "cell_type": "code",
   "execution_count": 47,
   "metadata": {},
   "outputs": [
    {
     "name": "stdout",
     "output_type": "stream",
     "text": [
      "pvalue=3.1996186837090383e-07 < 0.05\n",
      "Нулевая гипотеза не находит подтверждения!\n"
     ]
    }
   ],
   "source": [
    "# Проведем тест Манна — Уитни\n",
    "alpha = 0.05\n",
    "mw_test = mannwhitneyu(\n",
    "    mobile_orders, \n",
    "    desktop_orders, \n",
    "    alternative='greater' \n",
    ")\n",
    "if mw_test.pvalue > alpha:\n",
    "    print(f'pvalue={mw_test.pvalue} > {alpha}')\n",
    "    print('Нулевая гипотеза находит подтверждение!')\n",
    "else:\n",
    "    print(f'pvalue={mw_test.pvalue} < {alpha}')\n",
    "    print('Нулевая гипотеза не находит подтверждения!')"
   ]
  },
  {
   "cell_type": "markdown",
   "metadata": {},
   "source": [
    "Проверим гипотизу:\n",
    "- Среднее время между заказами пользователей мобильных приложений выше по сравнению с пользователями стационарных устройств.\n",
    "\n",
    "Сформулируем нулевую и альтернативную гипотез:\n",
    "- Н0: Среднее время между заказами пользователей мобильных приложений и пользователями стационарных устройств равны;\n",
    "- Н1: Среднее время между заказами пользователей мобильных приложений выше по сравнению с пользователями стационарных устройств."
   ]
  },
  {
   "cell_type": "markdown",
   "metadata": {},
   "source": [
    "Нам необходимо сравнить средние значения двух независимых групп, альтернативная гипотиза правосторонняя для проверки гипотез выберим ttest_ind."
   ]
  },
  {
   "cell_type": "code",
   "execution_count": 48,
   "metadata": {},
   "outputs": [
    {
     "name": "stdout",
     "output_type": "stream",
     "text": [
      "p-значение: 6.545927426941386e-21\n",
      "Отвергаем нулевую гипотезу\n"
     ]
    }
   ],
   "source": [
    "# Выбор данных по устройствам + удаление NaN в days_since_prev\n",
    "mobile_time = autumn_df[autumn_df['device_type_canonical'] == 'mobile']['days_since_prev'].dropna()\n",
    "desktop_time = autumn_df[autumn_df['device_type_canonical'] == 'desktop']['days_since_prev'].dropna()\n",
    "\n",
    "# Проводим t-тест\n",
    "alpha = 0.05 \n",
    "\n",
    "results = st.ttest_ind(\n",
    "    mobile_time, \n",
    "    desktop_time,\n",
    "    alternative='greater' \n",
    ")\n",
    "\n",
    "print('p-значение:', results.pvalue)\n",
    "\n",
    "if results.pvalue < alpha:\n",
    "    print('Отвергаем нулевую гипотезу')\n",
    "else:\n",
    "    print('Не получилось отвергнуть нулевую гипотезу')\n"
   ]
  },
  {
   "cell_type": "markdown",
   "metadata": {},
   "source": [
    "**Вывод:**\n",
    "- **Не подтверждаем гипотезу:** среднее количество заказов на одного пользователя мобильного приложения выше по сравнению с пользователями стационарных устройств.\n",
    "- **Подтверждаем гипотезу:** среднее время между заказами пользователей мобильных приложений выше по сравнению с пользователями стационарных устройств."
   ]
  },
  {
   "cell_type": "markdown",
   "metadata": {},
   "source": [
    "Для полноты можно было бы ещё добавить формальный тест на нормальность (например, Шапиро), но и без него выводы выглядят уверенно."
   ]
  },
  {
   "cell_type": "markdown",
   "metadata": {},
   "source": [
    "<a id='intro-9'></a>\n",
    "##  Общий вывод и рекомендации"
   ]
  },
  {
   "cell_type": "markdown",
   "metadata": {},
   "source": [
    "Проведённый анализ данных онлайн-сервиса продажи позволил выявить ключевые тенденции в пользовательском поведении и динамике спроса на мероприятия осенью 2024 года. Основные выводы:\n",
    "\n",
    "**Сезонные изменения спроса**\n",
    "\n",
    "Осенью наблюдается рост заказов на мероприятия для детей (0+, 12+) и снижение спроса на события для взрослых (16+, 18+).\n",
    "\n",
    "Культурные (театры, ёлки) и спортивные мероприятия дешевеют, тогда как развлекательные (стендапы, выставки) дорожают.\n",
    "\n",
    "*Рекомендация: Увеличить продвижение семейных и детских мероприятий осенью, а также предлагать скидки на культурные события для стимулирования спроса.*\n",
    "\n",
    "**Активность пользователей**\n",
    "\n",
    "Пик активности приходится на начало месяца, а в будни пользователи совершают больше заказов, но по более низким ценам.\n",
    "\n",
    "*Рекомендация: Запускать рекламные кампании в начале месяца и предлагать премиальные билеты на выходные.*\n",
    "\n",
    "**География и партнёры**\n",
    "\n",
    "Основной спрос сконцентрирован в двух регионах (Каменевский регион и Североярская область).\n",
    "\n",
    "Наиболее активные партнёры – \"Лови билет!\", \"Билеты без проблем\", \"Билеты в руки\".\n",
    "\n",
    "*Рекомендация: Усилить сотрудничество с топовыми партнёрами и изучить потенциал менее активных регионов.*\n",
    "\n",
    "**Поведение пользователей с разных устройств**\n",
    "\n",
    "Гипотеза о большем количестве заказов с мобильных устройств не подтвердилась.\n",
    "\n",
    "Пользователи мобильного приложения делают заказы с большими перерывами, нежели со стационарных устройств.\n",
    "\n",
    "*Рекомендация: Оптимизировать мобильное приложение для увеличения частоты заказов (например, push-уведомления о новых событиях).*"
   ]
  },
  {
   "cell_type": "markdown",
   "metadata": {},
   "source": [
    "[Содержание проекта](#intro-10)"
   ]
  }
 ],
 "metadata": {
  "ExecuteTimeLog": [
   {
    "duration": 1246,
    "start_time": "2025-06-12T08:28:21.792Z"
   },
   {
    "duration": 1828,
    "start_time": "2025-06-12T08:28:23.814Z"
   },
   {
    "duration": 116,
    "start_time": "2025-06-12T08:35:31.509Z"
   },
   {
    "duration": 25,
    "start_time": "2025-06-12T08:35:35.712Z"
   },
   {
    "duration": 15,
    "start_time": "2025-06-12T08:35:38.489Z"
   },
   {
    "duration": 1305,
    "start_time": "2025-06-12T10:47:00.957Z"
   },
   {
    "duration": 1587,
    "start_time": "2025-06-12T10:47:02.264Z"
   },
   {
    "duration": 116,
    "start_time": "2025-06-12T10:47:03.853Z"
   },
   {
    "duration": 36,
    "start_time": "2025-06-12T10:47:03.971Z"
   },
   {
    "duration": 67,
    "start_time": "2025-06-12T10:47:04.008Z"
   },
   {
    "duration": 38,
    "start_time": "2025-06-12T10:57:02.243Z"
   },
   {
    "duration": 27,
    "start_time": "2025-06-12T11:02:06.673Z"
   },
   {
    "duration": 72,
    "start_time": "2025-06-12T11:04:24.045Z"
   },
   {
    "duration": 8,
    "start_time": "2025-06-12T11:04:39.438Z"
   },
   {
    "duration": 76,
    "start_time": "2025-06-12T11:06:55.815Z"
   },
   {
    "duration": 5,
    "start_time": "2025-06-12T11:07:13.238Z"
   },
   {
    "duration": 22,
    "start_time": "2025-06-12T11:13:42.195Z"
   },
   {
    "duration": 58,
    "start_time": "2025-06-12T11:18:29.490Z"
   },
   {
    "duration": 61,
    "start_time": "2025-06-12T11:19:03.814Z"
   },
   {
    "duration": 60,
    "start_time": "2025-06-12T11:19:16.739Z"
   },
   {
    "duration": 59,
    "start_time": "2025-06-12T11:19:32.882Z"
   },
   {
    "duration": 55,
    "start_time": "2025-06-12T11:21:12.889Z"
   },
   {
    "duration": 463,
    "start_time": "2025-06-12T11:23:22.129Z"
   },
   {
    "duration": 54,
    "start_time": "2025-06-12T11:25:38.408Z"
   },
   {
    "duration": 498,
    "start_time": "2025-06-12T11:26:05.930Z"
   },
   {
    "duration": 426,
    "start_time": "2025-06-12T11:29:08.525Z"
   },
   {
    "duration": 420,
    "start_time": "2025-06-12T11:29:20.831Z"
   },
   {
    "duration": 451,
    "start_time": "2025-06-12T11:30:07.688Z"
   },
   {
    "duration": 436,
    "start_time": "2025-06-12T11:30:16.218Z"
   },
   {
    "duration": 418,
    "start_time": "2025-06-12T11:30:24.137Z"
   },
   {
    "duration": 477,
    "start_time": "2025-06-12T11:31:04.068Z"
   },
   {
    "duration": 520,
    "start_time": "2025-06-12T11:31:34.347Z"
   },
   {
    "duration": 414,
    "start_time": "2025-06-12T11:33:54.840Z"
   },
   {
    "duration": 455,
    "start_time": "2025-06-12T11:34:24.166Z"
   },
   {
    "duration": 418,
    "start_time": "2025-06-12T11:36:28.922Z"
   },
   {
    "duration": 480,
    "start_time": "2025-06-12T11:37:10.266Z"
   },
   {
    "duration": 437,
    "start_time": "2025-06-12T11:39:48.318Z"
   },
   {
    "duration": 511,
    "start_time": "2025-06-12T11:42:45.355Z"
   },
   {
    "duration": 312,
    "start_time": "2025-06-12T11:43:08.278Z"
   },
   {
    "duration": 7,
    "start_time": "2025-06-12T11:46:22.620Z"
   },
   {
    "duration": 1709,
    "start_time": "2025-06-12T11:47:39.381Z"
   },
   {
    "duration": 1935,
    "start_time": "2025-06-12T11:49:10.611Z"
   },
   {
    "duration": 1865,
    "start_time": "2025-06-12T11:50:58.963Z"
   },
   {
    "duration": 409,
    "start_time": "2025-06-12T11:55:25.826Z"
   },
   {
    "duration": 553,
    "start_time": "2025-06-12T11:56:02.902Z"
   },
   {
    "duration": 690,
    "start_time": "2025-06-12T12:02:54.662Z"
   },
   {
    "duration": 592,
    "start_time": "2025-06-12T12:03:16.867Z"
   },
   {
    "duration": 541,
    "start_time": "2025-06-12T12:03:38.302Z"
   },
   {
    "duration": 514,
    "start_time": "2025-06-12T12:03:50.810Z"
   },
   {
    "duration": 721,
    "start_time": "2025-06-12T12:04:00.475Z"
   },
   {
    "duration": 513,
    "start_time": "2025-06-12T12:04:09.623Z"
   },
   {
    "duration": 571,
    "start_time": "2025-06-12T12:04:25.668Z"
   },
   {
    "duration": 506,
    "start_time": "2025-06-12T12:05:48.525Z"
   },
   {
    "duration": 471,
    "start_time": "2025-06-12T12:06:16.649Z"
   },
   {
    "duration": 367,
    "start_time": "2025-06-12T12:06:30.193Z"
   },
   {
    "duration": 624,
    "start_time": "2025-06-12T12:07:19.688Z"
   },
   {
    "duration": 552,
    "start_time": "2025-06-12T12:08:46.569Z"
   },
   {
    "duration": 47,
    "start_time": "2025-06-12T12:20:26.737Z"
   },
   {
    "duration": 68,
    "start_time": "2025-06-12T12:22:06.657Z"
   },
   {
    "duration": 1365,
    "start_time": "2025-06-12T12:22:16.805Z"
   },
   {
    "duration": 27,
    "start_time": "2025-06-12T12:23:48.326Z"
   },
   {
    "duration": 56,
    "start_time": "2025-06-12T12:26:13.883Z"
   },
   {
    "duration": 25,
    "start_time": "2025-06-12T12:39:35.401Z"
   },
   {
    "duration": 50,
    "start_time": "2025-06-12T12:51:55.113Z"
   },
   {
    "duration": 65,
    "start_time": "2025-06-12T12:54:52.925Z"
   },
   {
    "duration": 58,
    "start_time": "2025-06-12T12:56:20.269Z"
   },
   {
    "duration": 26,
    "start_time": "2025-06-12T12:58:26.029Z"
   },
   {
    "duration": 46,
    "start_time": "2025-06-12T13:00:01.601Z"
   },
   {
    "duration": 13946,
    "start_time": "2025-06-12T13:28:04.966Z"
   },
   {
    "duration": 653,
    "start_time": "2025-06-12T13:30:36.384Z"
   },
   {
    "duration": 963,
    "start_time": "2025-06-12T13:30:45.279Z"
   },
   {
    "duration": 84,
    "start_time": "2025-06-12T13:34:01.288Z"
   },
   {
    "duration": 618,
    "start_time": "2025-06-12T13:34:11.424Z"
   },
   {
    "duration": 723,
    "start_time": "2025-06-12T13:34:24.877Z"
   },
   {
    "duration": 672,
    "start_time": "2025-06-12T13:34:37.333Z"
   },
   {
    "duration": 289,
    "start_time": "2025-06-12T13:45:25.931Z"
   },
   {
    "duration": 597,
    "start_time": "2025-06-12T13:47:39.309Z"
   },
   {
    "duration": 619,
    "start_time": "2025-06-12T13:48:00.613Z"
   },
   {
    "duration": 603,
    "start_time": "2025-06-12T13:48:21.285Z"
   },
   {
    "duration": 1198,
    "start_time": "2025-06-12T13:51:02.889Z"
   },
   {
    "duration": 67,
    "start_time": "2025-06-12T13:55:24.393Z"
   },
   {
    "duration": 45,
    "start_time": "2025-06-12T13:57:39.249Z"
   },
   {
    "duration": 77,
    "start_time": "2025-06-12T13:58:43.570Z"
   },
   {
    "duration": 159,
    "start_time": "2025-06-12T15:27:39.910Z"
   },
   {
    "duration": 97,
    "start_time": "2025-06-12T15:28:06.287Z"
   },
   {
    "duration": 23,
    "start_time": "2025-06-12T15:28:24.648Z"
   },
   {
    "duration": 16,
    "start_time": "2025-06-12T15:29:07.390Z"
   },
   {
    "duration": 21,
    "start_time": "2025-06-12T15:29:14.004Z"
   },
   {
    "duration": 347,
    "start_time": "2025-06-12T15:30:48.001Z"
   },
   {
    "duration": 372,
    "start_time": "2025-06-12T15:30:49.800Z"
   },
   {
    "duration": 46,
    "start_time": "2025-06-12T15:34:36.992Z"
   },
   {
    "duration": 253,
    "start_time": "2025-06-12T15:36:10.983Z"
   },
   {
    "duration": 211,
    "start_time": "2025-06-12T15:36:44.124Z"
   },
   {
    "duration": 1424,
    "start_time": "2025-06-12T15:40:41.637Z"
   },
   {
    "duration": 1260,
    "start_time": "2025-06-12T15:41:16.306Z"
   },
   {
    "duration": 2097,
    "start_time": "2025-06-12T15:41:17.568Z"
   },
   {
    "duration": 141,
    "start_time": "2025-06-12T15:41:19.666Z"
   },
   {
    "duration": 1401,
    "start_time": "2025-06-12T15:41:19.810Z"
   },
   {
    "duration": 0,
    "start_time": "2025-06-12T15:41:21.214Z"
   },
   {
    "duration": 0,
    "start_time": "2025-06-12T15:41:21.214Z"
   },
   {
    "duration": 0,
    "start_time": "2025-06-12T15:41:21.216Z"
   },
   {
    "duration": 0,
    "start_time": "2025-06-12T15:41:21.217Z"
   },
   {
    "duration": 0,
    "start_time": "2025-06-12T15:41:21.218Z"
   },
   {
    "duration": 0,
    "start_time": "2025-06-12T15:41:21.220Z"
   },
   {
    "duration": 0,
    "start_time": "2025-06-12T15:41:21.221Z"
   },
   {
    "duration": 0,
    "start_time": "2025-06-12T15:41:21.223Z"
   },
   {
    "duration": 0,
    "start_time": "2025-06-12T15:41:21.223Z"
   },
   {
    "duration": 0,
    "start_time": "2025-06-12T15:41:21.225Z"
   },
   {
    "duration": 0,
    "start_time": "2025-06-12T15:41:21.226Z"
   },
   {
    "duration": 0,
    "start_time": "2025-06-12T15:41:21.227Z"
   },
   {
    "duration": 1,
    "start_time": "2025-06-12T15:41:21.228Z"
   },
   {
    "duration": 0,
    "start_time": "2025-06-12T15:41:21.229Z"
   },
   {
    "duration": 0,
    "start_time": "2025-06-12T15:41:21.230Z"
   },
   {
    "duration": 0,
    "start_time": "2025-06-12T15:41:21.231Z"
   },
   {
    "duration": 0,
    "start_time": "2025-06-12T15:41:21.232Z"
   },
   {
    "duration": 0,
    "start_time": "2025-06-12T15:41:21.233Z"
   },
   {
    "duration": 0,
    "start_time": "2025-06-12T15:41:21.234Z"
   },
   {
    "duration": 12,
    "start_time": "2025-06-12T15:41:31.835Z"
   },
   {
    "duration": 41,
    "start_time": "2025-06-12T15:41:52.306Z"
   },
   {
    "duration": 21,
    "start_time": "2025-06-12T15:41:56.216Z"
   },
   {
    "duration": 18,
    "start_time": "2025-06-12T15:43:51.409Z"
   },
   {
    "duration": 1331,
    "start_time": "2025-06-12T15:44:02.324Z"
   },
   {
    "duration": 2270,
    "start_time": "2025-06-12T15:44:03.657Z"
   },
   {
    "duration": 201,
    "start_time": "2025-06-12T15:44:05.933Z"
   },
   {
    "duration": 26,
    "start_time": "2025-06-12T15:44:06.136Z"
   },
   {
    "duration": 63,
    "start_time": "2025-06-12T15:44:06.163Z"
   },
   {
    "duration": 61,
    "start_time": "2025-06-12T15:44:06.230Z"
   },
   {
    "duration": 16,
    "start_time": "2025-06-12T15:44:06.293Z"
   },
   {
    "duration": 140,
    "start_time": "2025-06-12T15:44:06.313Z"
   },
   {
    "duration": 495,
    "start_time": "2025-06-12T15:44:06.454Z"
   },
   {
    "duration": 842,
    "start_time": "2025-06-12T15:44:06.951Z"
   },
   {
    "duration": 88,
    "start_time": "2025-06-12T15:44:07.798Z"
   },
   {
    "duration": 429,
    "start_time": "2025-06-12T15:44:07.888Z"
   },
   {
    "duration": 739,
    "start_time": "2025-06-12T15:44:08.323Z"
   },
   {
    "duration": 220,
    "start_time": "2025-06-12T15:44:09.064Z"
   },
   {
    "duration": 351,
    "start_time": "2025-06-12T15:44:09.286Z"
   },
   {
    "duration": 27,
    "start_time": "2025-06-12T15:44:09.638Z"
   },
   {
    "duration": 264,
    "start_time": "2025-06-12T15:44:09.667Z"
   },
   {
    "duration": 252,
    "start_time": "2025-06-12T15:44:09.936Z"
   },
   {
    "duration": 68,
    "start_time": "2025-06-12T15:44:10.189Z"
   },
   {
    "duration": 0,
    "start_time": "2025-06-12T15:44:10.259Z"
   },
   {
    "duration": 0,
    "start_time": "2025-06-12T15:44:10.260Z"
   },
   {
    "duration": 0,
    "start_time": "2025-06-12T15:44:10.261Z"
   },
   {
    "duration": 620,
    "start_time": "2025-06-12T15:52:56.186Z"
   },
   {
    "duration": 39,
    "start_time": "2025-06-12T15:53:50.694Z"
   },
   {
    "duration": 507,
    "start_time": "2025-06-12T15:57:49.887Z"
   },
   {
    "duration": 135,
    "start_time": "2025-06-12T16:00:49.763Z"
   },
   {
    "duration": 726,
    "start_time": "2025-06-12T16:02:12.173Z"
   },
   {
    "duration": 1101,
    "start_time": "2025-06-12T16:10:07.120Z"
   },
   {
    "duration": 270,
    "start_time": "2025-06-12T16:11:00.386Z"
   },
   {
    "duration": 1265,
    "start_time": "2025-06-12T16:11:53.221Z"
   },
   {
    "duration": 2116,
    "start_time": "2025-06-12T16:11:54.487Z"
   },
   {
    "duration": 202,
    "start_time": "2025-06-12T16:11:56.607Z"
   },
   {
    "duration": 45,
    "start_time": "2025-06-12T16:11:56.811Z"
   },
   {
    "duration": 29,
    "start_time": "2025-06-12T16:11:56.857Z"
   },
   {
    "duration": 76,
    "start_time": "2025-06-12T16:11:56.891Z"
   },
   {
    "duration": 5,
    "start_time": "2025-06-12T16:11:56.970Z"
   },
   {
    "duration": 130,
    "start_time": "2025-06-12T16:11:56.981Z"
   },
   {
    "duration": 454,
    "start_time": "2025-06-12T16:11:57.113Z"
   },
   {
    "duration": 821,
    "start_time": "2025-06-12T16:11:57.569Z"
   },
   {
    "duration": 75,
    "start_time": "2025-06-12T16:11:58.397Z"
   },
   {
    "duration": 397,
    "start_time": "2025-06-12T16:11:58.474Z"
   },
   {
    "duration": 773,
    "start_time": "2025-06-12T16:11:58.873Z"
   },
   {
    "duration": 164,
    "start_time": "2025-06-12T16:11:59.647Z"
   },
   {
    "duration": 351,
    "start_time": "2025-06-12T16:11:59.813Z"
   },
   {
    "duration": 29,
    "start_time": "2025-06-12T16:12:00.166Z"
   },
   {
    "duration": 266,
    "start_time": "2025-06-12T16:12:00.196Z"
   },
   {
    "duration": 555,
    "start_time": "2025-06-12T16:12:00.464Z"
   },
   {
    "duration": 509,
    "start_time": "2025-06-12T16:12:01.023Z"
   },
   {
    "duration": 706,
    "start_time": "2025-06-12T16:12:01.537Z"
   },
   {
    "duration": 1092,
    "start_time": "2025-06-12T16:12:02.247Z"
   },
   {
    "duration": 245,
    "start_time": "2025-06-12T16:12:03.344Z"
   },
   {
    "duration": 1118,
    "start_time": "2025-06-12T16:13:52.933Z"
   },
   {
    "duration": 256,
    "start_time": "2025-06-12T16:13:54.154Z"
   },
   {
    "duration": 312,
    "start_time": "2025-06-12T16:16:49.975Z"
   },
   {
    "duration": 170,
    "start_time": "2025-06-12T16:27:27.204Z"
   },
   {
    "duration": 23,
    "start_time": "2025-06-12T16:31:29.922Z"
   },
   {
    "duration": 74,
    "start_time": "2025-06-12T16:41:43.655Z"
   },
   {
    "duration": 6600,
    "start_time": "2025-06-12T16:42:42.058Z"
   },
   {
    "duration": 35,
    "start_time": "2025-06-12T16:42:48.660Z"
   },
   {
    "duration": 6038,
    "start_time": "2025-06-12T16:43:37.825Z"
   },
   {
    "duration": 37,
    "start_time": "2025-06-12T16:43:45.088Z"
   },
   {
    "duration": 1304,
    "start_time": "2025-06-12T16:45:39.250Z"
   },
   {
    "duration": 2242,
    "start_time": "2025-06-12T16:45:40.556Z"
   },
   {
    "duration": 151,
    "start_time": "2025-06-12T16:45:42.802Z"
   },
   {
    "duration": 44,
    "start_time": "2025-06-12T16:45:42.955Z"
   },
   {
    "duration": 24,
    "start_time": "2025-06-12T16:45:43.008Z"
   },
   {
    "duration": 35,
    "start_time": "2025-06-12T16:45:43.034Z"
   },
   {
    "duration": 37,
    "start_time": "2025-06-12T16:45:43.070Z"
   },
   {
    "duration": 109,
    "start_time": "2025-06-12T16:45:43.109Z"
   },
   {
    "duration": 436,
    "start_time": "2025-06-12T16:45:43.219Z"
   },
   {
    "duration": 840,
    "start_time": "2025-06-12T16:45:43.658Z"
   },
   {
    "duration": 87,
    "start_time": "2025-06-12T16:45:44.501Z"
   },
   {
    "duration": 407,
    "start_time": "2025-06-12T16:45:44.592Z"
   },
   {
    "duration": 792,
    "start_time": "2025-06-12T16:45:45.001Z"
   },
   {
    "duration": 204,
    "start_time": "2025-06-12T16:45:45.799Z"
   },
   {
    "duration": 364,
    "start_time": "2025-06-12T16:45:46.010Z"
   },
   {
    "duration": 53,
    "start_time": "2025-06-12T16:45:46.376Z"
   },
   {
    "duration": 392,
    "start_time": "2025-06-12T16:45:46.431Z"
   },
   {
    "duration": 575,
    "start_time": "2025-06-12T16:45:46.830Z"
   },
   {
    "duration": 484,
    "start_time": "2025-06-12T16:45:47.413Z"
   },
   {
    "duration": 630,
    "start_time": "2025-06-12T16:45:47.898Z"
   },
   {
    "duration": 1054,
    "start_time": "2025-06-12T16:45:48.529Z"
   },
   {
    "duration": 228,
    "start_time": "2025-06-12T16:45:49.584Z"
   },
   {
    "duration": 229,
    "start_time": "2025-06-12T16:45:49.814Z"
   },
   {
    "duration": 52,
    "start_time": "2025-06-12T16:45:50.045Z"
   },
   {
    "duration": 6489,
    "start_time": "2025-06-12T16:45:50.101Z"
   },
   {
    "duration": 34,
    "start_time": "2025-06-12T16:45:56.592Z"
   },
   {
    "duration": 38,
    "start_time": "2025-06-12T16:46:18.609Z"
   },
   {
    "duration": 47,
    "start_time": "2025-06-12T16:48:09.381Z"
   },
   {
    "duration": 55,
    "start_time": "2025-06-12T16:49:29.853Z"
   },
   {
    "duration": 47,
    "start_time": "2025-06-12T16:49:50.805Z"
   },
   {
    "duration": 129,
    "start_time": "2025-06-12T16:50:36.133Z"
   },
   {
    "duration": 52,
    "start_time": "2025-06-12T16:50:44.381Z"
   },
   {
    "duration": 192,
    "start_time": "2025-06-12T16:51:05.365Z"
   },
   {
    "duration": 173,
    "start_time": "2025-06-12T16:51:51.161Z"
   },
   {
    "duration": 237,
    "start_time": "2025-06-12T16:52:19.888Z"
   },
   {
    "duration": 1292,
    "start_time": "2025-06-12T16:54:40.512Z"
   },
   {
    "duration": 2041,
    "start_time": "2025-06-12T16:54:41.812Z"
   },
   {
    "duration": 154,
    "start_time": "2025-06-12T16:54:43.855Z"
   },
   {
    "duration": 26,
    "start_time": "2025-06-12T16:54:44.023Z"
   },
   {
    "duration": 66,
    "start_time": "2025-06-12T16:54:44.050Z"
   },
   {
    "duration": 49,
    "start_time": "2025-06-12T16:54:44.121Z"
   },
   {
    "duration": 12,
    "start_time": "2025-06-12T16:54:44.171Z"
   },
   {
    "duration": 85,
    "start_time": "2025-06-12T16:54:44.196Z"
   },
   {
    "duration": 438,
    "start_time": "2025-06-12T16:54:44.285Z"
   },
   {
    "duration": 805,
    "start_time": "2025-06-12T16:54:44.725Z"
   },
   {
    "duration": 95,
    "start_time": "2025-06-12T16:54:45.532Z"
   },
   {
    "duration": 407,
    "start_time": "2025-06-12T16:54:45.629Z"
   },
   {
    "duration": 733,
    "start_time": "2025-06-12T16:54:46.037Z"
   },
   {
    "duration": 198,
    "start_time": "2025-06-12T16:54:46.777Z"
   },
   {
    "duration": 342,
    "start_time": "2025-06-12T16:54:46.986Z"
   },
   {
    "duration": 23,
    "start_time": "2025-06-12T16:54:47.330Z"
   },
   {
    "duration": 349,
    "start_time": "2025-06-12T16:54:47.354Z"
   },
   {
    "duration": 541,
    "start_time": "2025-06-12T16:54:47.711Z"
   },
   {
    "duration": 502,
    "start_time": "2025-06-12T16:54:48.254Z"
   },
   {
    "duration": 657,
    "start_time": "2025-06-12T16:54:48.758Z"
   },
   {
    "duration": 988,
    "start_time": "2025-06-12T16:54:49.417Z"
   },
   {
    "duration": 226,
    "start_time": "2025-06-12T16:54:50.412Z"
   },
   {
    "duration": 226,
    "start_time": "2025-06-12T16:54:50.640Z"
   },
   {
    "duration": 262,
    "start_time": "2025-06-12T16:54:50.884Z"
   },
   {
    "duration": 6488,
    "start_time": "2025-06-12T16:54:51.148Z"
   },
   {
    "duration": 224,
    "start_time": "2025-06-12T16:54:57.637Z"
   },
   {
    "duration": 174,
    "start_time": "2025-06-12T17:00:46.275Z"
   },
   {
    "duration": 177,
    "start_time": "2025-06-12T17:01:08.658Z"
   },
   {
    "duration": 5,
    "start_time": "2025-06-12T17:09:06.237Z"
   },
   {
    "duration": 185,
    "start_time": "2025-06-12T17:09:19.036Z"
   },
   {
    "duration": 24,
    "start_time": "2025-06-12T17:10:43.130Z"
   },
   {
    "duration": 1369,
    "start_time": "2025-06-12T17:13:31.783Z"
   },
   {
    "duration": 72,
    "start_time": "2025-06-12T17:13:33.154Z"
   },
   {
    "duration": 0,
    "start_time": "2025-06-12T17:13:33.229Z"
   },
   {
    "duration": 0,
    "start_time": "2025-06-12T17:13:33.229Z"
   },
   {
    "duration": 0,
    "start_time": "2025-06-12T17:13:33.230Z"
   },
   {
    "duration": 0,
    "start_time": "2025-06-12T17:13:33.232Z"
   },
   {
    "duration": 0,
    "start_time": "2025-06-12T17:13:33.233Z"
   },
   {
    "duration": 0,
    "start_time": "2025-06-12T17:13:33.234Z"
   },
   {
    "duration": 0,
    "start_time": "2025-06-12T17:13:33.235Z"
   },
   {
    "duration": 0,
    "start_time": "2025-06-12T17:13:33.236Z"
   },
   {
    "duration": 0,
    "start_time": "2025-06-12T17:13:33.237Z"
   },
   {
    "duration": 0,
    "start_time": "2025-06-12T17:13:33.238Z"
   },
   {
    "duration": 0,
    "start_time": "2025-06-12T17:13:33.239Z"
   },
   {
    "duration": 0,
    "start_time": "2025-06-12T17:13:33.241Z"
   },
   {
    "duration": 0,
    "start_time": "2025-06-12T17:13:33.242Z"
   },
   {
    "duration": 0,
    "start_time": "2025-06-12T17:13:33.243Z"
   },
   {
    "duration": 0,
    "start_time": "2025-06-12T17:13:33.244Z"
   },
   {
    "duration": 0,
    "start_time": "2025-06-12T17:13:33.245Z"
   },
   {
    "duration": 0,
    "start_time": "2025-06-12T17:13:33.246Z"
   },
   {
    "duration": 0,
    "start_time": "2025-06-12T17:13:33.247Z"
   },
   {
    "duration": 0,
    "start_time": "2025-06-12T17:13:33.248Z"
   },
   {
    "duration": 0,
    "start_time": "2025-06-12T17:13:33.249Z"
   },
   {
    "duration": 0,
    "start_time": "2025-06-12T17:13:33.250Z"
   },
   {
    "duration": 0,
    "start_time": "2025-06-12T17:13:33.251Z"
   },
   {
    "duration": 0,
    "start_time": "2025-06-12T17:13:33.252Z"
   },
   {
    "duration": 0,
    "start_time": "2025-06-12T17:13:33.253Z"
   },
   {
    "duration": 0,
    "start_time": "2025-06-12T17:13:33.254Z"
   },
   {
    "duration": 1326,
    "start_time": "2025-06-12T17:14:19.712Z"
   },
   {
    "duration": 3,
    "start_time": "2025-06-12T17:14:21.040Z"
   },
   {
    "duration": 2330,
    "start_time": "2025-06-12T17:14:21.044Z"
   },
   {
    "duration": 164,
    "start_time": "2025-06-12T17:14:23.377Z"
   },
   {
    "duration": 44,
    "start_time": "2025-06-12T17:14:23.544Z"
   },
   {
    "duration": 22,
    "start_time": "2025-06-12T17:14:23.597Z"
   },
   {
    "duration": 122,
    "start_time": "2025-06-12T17:14:23.620Z"
   },
   {
    "duration": 5,
    "start_time": "2025-06-12T17:14:23.744Z"
   },
   {
    "duration": 98,
    "start_time": "2025-06-12T17:14:23.751Z"
   },
   {
    "duration": 438,
    "start_time": "2025-06-12T17:14:23.851Z"
   },
   {
    "duration": 835,
    "start_time": "2025-06-12T17:14:24.290Z"
   },
   {
    "duration": 79,
    "start_time": "2025-06-12T17:14:25.127Z"
   },
   {
    "duration": 374,
    "start_time": "2025-06-12T17:14:25.212Z"
   },
   {
    "duration": 772,
    "start_time": "2025-06-12T17:14:25.589Z"
   },
   {
    "duration": 199,
    "start_time": "2025-06-12T17:14:26.363Z"
   },
   {
    "duration": 381,
    "start_time": "2025-06-12T17:14:26.564Z"
   },
   {
    "duration": 23,
    "start_time": "2025-06-12T17:14:26.946Z"
   },
   {
    "duration": 278,
    "start_time": "2025-06-12T17:14:26.981Z"
   },
   {
    "duration": 533,
    "start_time": "2025-06-12T17:14:27.260Z"
   },
   {
    "duration": 471,
    "start_time": "2025-06-12T17:14:27.804Z"
   },
   {
    "duration": 626,
    "start_time": "2025-06-12T17:14:28.280Z"
   },
   {
    "duration": 1014,
    "start_time": "2025-06-12T17:14:28.915Z"
   },
   {
    "duration": 227,
    "start_time": "2025-06-12T17:14:29.930Z"
   },
   {
    "duration": 248,
    "start_time": "2025-06-12T17:14:30.158Z"
   },
   {
    "duration": 6729,
    "start_time": "2025-06-12T17:14:30.410Z"
   },
   {
    "duration": 5,
    "start_time": "2025-06-12T17:14:37.142Z"
   },
   {
    "duration": 54,
    "start_time": "2025-06-12T17:14:37.148Z"
   },
   {
    "duration": 32,
    "start_time": "2025-06-12T17:15:57.992Z"
   },
   {
    "duration": 44,
    "start_time": "2025-06-12T17:33:05.172Z"
   },
   {
    "duration": 28,
    "start_time": "2025-06-12T17:33:08.121Z"
   },
   {
    "duration": 6,
    "start_time": "2025-06-12T17:34:43.433Z"
   },
   {
    "duration": 133,
    "start_time": "2025-06-12T17:41:46.868Z"
   },
   {
    "duration": 58,
    "start_time": "2025-06-12T17:45:40.083Z"
   },
   {
    "duration": 29,
    "start_time": "2025-06-12T17:45:47.391Z"
   },
   {
    "duration": 192,
    "start_time": "2025-06-12T17:54:29.623Z"
   },
   {
    "duration": 4,
    "start_time": "2025-06-12T17:54:30.158Z"
   },
   {
    "duration": 14,
    "start_time": "2025-06-12T17:55:04.733Z"
   },
   {
    "duration": 19,
    "start_time": "2025-06-12T17:55:52.722Z"
   },
   {
    "duration": 79,
    "start_time": "2025-06-12T17:56:47.630Z"
   },
   {
    "duration": 4,
    "start_time": "2025-06-12T17:56:48.138Z"
   },
   {
    "duration": 22,
    "start_time": "2025-06-12T18:13:03.837Z"
   },
   {
    "duration": 22,
    "start_time": "2025-06-12T18:22:53.540Z"
   },
   {
    "duration": 25,
    "start_time": "2025-06-12T18:23:08.175Z"
   },
   {
    "duration": 188,
    "start_time": "2025-06-12T18:24:12.653Z"
   },
   {
    "duration": 261,
    "start_time": "2025-06-12T18:50:56.071Z"
   },
   {
    "duration": 285,
    "start_time": "2025-06-12T18:53:35.550Z"
   },
   {
    "duration": 259,
    "start_time": "2025-06-12T18:54:05.094Z"
   },
   {
    "duration": 409,
    "start_time": "2025-06-12T18:56:07.887Z"
   },
   {
    "duration": 254,
    "start_time": "2025-06-12T18:56:33.807Z"
   },
   {
    "duration": 246,
    "start_time": "2025-06-12T18:57:27.480Z"
   },
   {
    "duration": 241,
    "start_time": "2025-06-12T18:57:55.500Z"
   },
   {
    "duration": 251,
    "start_time": "2025-06-12T18:58:55.271Z"
   },
   {
    "duration": 253,
    "start_time": "2025-06-12T18:59:24.657Z"
   },
   {
    "duration": 270,
    "start_time": "2025-06-12T19:06:34.676Z"
   },
   {
    "duration": 326,
    "start_time": "2025-06-12T19:08:35.617Z"
   },
   {
    "duration": 269,
    "start_time": "2025-06-12T19:10:11.716Z"
   },
   {
    "duration": 420,
    "start_time": "2025-06-12T19:12:06.794Z"
   },
   {
    "duration": 14,
    "start_time": "2025-06-12T19:12:39.490Z"
   },
   {
    "duration": 196,
    "start_time": "2025-06-12T19:22:35.040Z"
   },
   {
    "duration": 272,
    "start_time": "2025-06-12T19:23:50.407Z"
   },
   {
    "duration": 216,
    "start_time": "2025-06-12T19:25:04.139Z"
   },
   {
    "duration": 8,
    "start_time": "2025-06-12T19:25:57.557Z"
   },
   {
    "duration": 79,
    "start_time": "2025-06-12T19:30:15.008Z"
   },
   {
    "duration": 242,
    "start_time": "2025-06-12T19:32:24.869Z"
   },
   {
    "duration": 221,
    "start_time": "2025-06-12T19:33:11.830Z"
   },
   {
    "duration": 9,
    "start_time": "2025-06-12T19:34:19.234Z"
   },
   {
    "duration": 10,
    "start_time": "2025-06-12T19:54:08.142Z"
   },
   {
    "duration": 1243,
    "start_time": "2025-06-12T19:54:15.794Z"
   },
   {
    "duration": 3,
    "start_time": "2025-06-12T19:54:17.041Z"
   },
   {
    "duration": 2190,
    "start_time": "2025-06-12T19:54:17.045Z"
   },
   {
    "duration": 119,
    "start_time": "2025-06-12T19:54:19.237Z"
   },
   {
    "duration": 36,
    "start_time": "2025-06-12T19:54:19.357Z"
   },
   {
    "duration": 16,
    "start_time": "2025-06-12T19:54:19.396Z"
   },
   {
    "duration": 35,
    "start_time": "2025-06-12T19:54:19.414Z"
   },
   {
    "duration": 28,
    "start_time": "2025-06-12T19:54:19.451Z"
   },
   {
    "duration": 130,
    "start_time": "2025-06-12T19:54:19.481Z"
   },
   {
    "duration": 376,
    "start_time": "2025-06-12T19:54:19.613Z"
   },
   {
    "duration": 780,
    "start_time": "2025-06-12T19:54:19.991Z"
   },
   {
    "duration": 73,
    "start_time": "2025-06-12T19:54:20.776Z"
   },
   {
    "duration": 392,
    "start_time": "2025-06-12T19:54:20.851Z"
   },
   {
    "duration": 719,
    "start_time": "2025-06-12T19:54:21.245Z"
   },
   {
    "duration": 215,
    "start_time": "2025-06-12T19:54:21.966Z"
   },
   {
    "duration": 338,
    "start_time": "2025-06-12T19:54:22.189Z"
   },
   {
    "duration": 29,
    "start_time": "2025-06-12T19:54:22.529Z"
   },
   {
    "duration": 274,
    "start_time": "2025-06-12T19:54:22.559Z"
   },
   {
    "duration": 479,
    "start_time": "2025-06-12T19:54:22.835Z"
   },
   {
    "duration": 428,
    "start_time": "2025-06-12T19:54:23.316Z"
   },
   {
    "duration": 519,
    "start_time": "2025-06-12T19:54:23.746Z"
   },
   {
    "duration": 878,
    "start_time": "2025-06-12T19:54:24.276Z"
   },
   {
    "duration": 188,
    "start_time": "2025-06-12T19:54:25.156Z"
   },
   {
    "duration": 215,
    "start_time": "2025-06-12T19:54:25.346Z"
   },
   {
    "duration": 5840,
    "start_time": "2025-06-12T19:54:25.563Z"
   },
   {
    "duration": 5,
    "start_time": "2025-06-12T19:54:31.406Z"
   },
   {
    "duration": 77,
    "start_time": "2025-06-12T19:54:31.413Z"
   },
   {
    "duration": 71,
    "start_time": "2025-06-12T19:54:31.500Z"
   },
   {
    "duration": 192,
    "start_time": "2025-06-12T19:54:31.573Z"
   },
   {
    "duration": 4,
    "start_time": "2025-06-12T19:54:31.767Z"
   },
   {
    "duration": 38,
    "start_time": "2025-06-12T19:54:31.780Z"
   },
   {
    "duration": 208,
    "start_time": "2025-06-12T19:54:31.820Z"
   },
   {
    "duration": 312,
    "start_time": "2025-06-12T19:54:32.030Z"
   },
   {
    "duration": 16,
    "start_time": "2025-06-12T19:54:32.345Z"
   },
   {
    "duration": 247,
    "start_time": "2025-06-12T19:54:32.363Z"
   },
   {
    "duration": 229,
    "start_time": "2025-06-12T19:54:32.611Z"
   },
   {
    "duration": 11,
    "start_time": "2025-06-12T19:54:32.841Z"
   },
   {
    "duration": 61,
    "start_time": "2025-06-12T19:54:32.854Z"
   },
   {
    "duration": 1371,
    "start_time": "2025-06-13T08:34:50.405Z"
   },
   {
    "duration": 3,
    "start_time": "2025-06-13T08:34:51.778Z"
   },
   {
    "duration": 1763,
    "start_time": "2025-06-13T08:34:51.783Z"
   },
   {
    "duration": 115,
    "start_time": "2025-06-13T08:34:53.548Z"
   },
   {
    "duration": 25,
    "start_time": "2025-06-13T08:34:53.665Z"
   },
   {
    "duration": 50,
    "start_time": "2025-06-13T08:34:53.691Z"
   },
   {
    "duration": 53,
    "start_time": "2025-06-13T08:34:53.742Z"
   },
   {
    "duration": 6,
    "start_time": "2025-06-13T08:34:53.796Z"
   },
   {
    "duration": 83,
    "start_time": "2025-06-13T08:34:53.803Z"
   },
   {
    "duration": 401,
    "start_time": "2025-06-13T08:34:53.889Z"
   },
   {
    "duration": 768,
    "start_time": "2025-06-13T08:34:54.292Z"
   },
   {
    "duration": 84,
    "start_time": "2025-06-13T08:34:55.062Z"
   },
   {
    "duration": 346,
    "start_time": "2025-06-13T08:34:55.148Z"
   },
   {
    "duration": 691,
    "start_time": "2025-06-13T08:34:55.496Z"
   },
   {
    "duration": 156,
    "start_time": "2025-06-13T08:34:56.189Z"
   },
   {
    "duration": 356,
    "start_time": "2025-06-13T08:34:56.347Z"
   },
   {
    "duration": 32,
    "start_time": "2025-06-13T08:34:56.705Z"
   },
   {
    "duration": 287,
    "start_time": "2025-06-13T08:34:56.739Z"
   },
   {
    "duration": 440,
    "start_time": "2025-06-13T08:34:57.028Z"
   },
   {
    "duration": 402,
    "start_time": "2025-06-13T08:34:57.470Z"
   },
   {
    "duration": 532,
    "start_time": "2025-06-13T08:34:57.874Z"
   },
   {
    "duration": 876,
    "start_time": "2025-06-13T08:34:58.408Z"
   },
   {
    "duration": 187,
    "start_time": "2025-06-13T08:34:59.285Z"
   },
   {
    "duration": 178,
    "start_time": "2025-06-13T08:34:59.473Z"
   },
   {
    "duration": 5430,
    "start_time": "2025-06-13T08:34:59.652Z"
   },
   {
    "duration": 5,
    "start_time": "2025-06-13T08:35:05.084Z"
   },
   {
    "duration": 36,
    "start_time": "2025-06-13T08:35:05.091Z"
   },
   {
    "duration": 57,
    "start_time": "2025-06-13T08:35:05.140Z"
   },
   {
    "duration": 220,
    "start_time": "2025-06-13T08:35:05.199Z"
   },
   {
    "duration": 5,
    "start_time": "2025-06-13T08:35:05.421Z"
   },
   {
    "duration": 37,
    "start_time": "2025-06-13T08:35:05.436Z"
   },
   {
    "duration": 218,
    "start_time": "2025-06-13T08:35:05.474Z"
   },
   {
    "duration": 276,
    "start_time": "2025-06-13T08:35:05.694Z"
   },
   {
    "duration": 10,
    "start_time": "2025-06-13T08:35:05.972Z"
   },
   {
    "duration": 213,
    "start_time": "2025-06-13T08:35:05.984Z"
   },
   {
    "duration": 218,
    "start_time": "2025-06-13T08:35:06.199Z"
   },
   {
    "duration": 19,
    "start_time": "2025-06-13T08:35:06.419Z"
   },
   {
    "duration": 14,
    "start_time": "2025-06-13T08:35:06.440Z"
   },
   {
    "duration": 9,
    "start_time": "2025-06-13T08:35:06.456Z"
   },
   {
    "duration": 30,
    "start_time": "2025-06-13T08:35:06.467Z"
   },
   {
    "duration": 197,
    "start_time": "2025-06-13T08:35:52.613Z"
   },
   {
    "duration": 47,
    "start_time": "2025-06-13T08:55:09.779Z"
   },
   {
    "duration": 49,
    "start_time": "2025-06-13T08:56:35.995Z"
   },
   {
    "duration": 1447,
    "start_time": "2025-06-13T09:06:39.308Z"
   },
   {
    "duration": 1314,
    "start_time": "2025-06-13T09:12:10.701Z"
   },
   {
    "duration": 56,
    "start_time": "2025-06-13T09:12:45.394Z"
   },
   {
    "duration": 56,
    "start_time": "2025-06-13T09:14:49.487Z"
   },
   {
    "duration": 52,
    "start_time": "2025-06-13T09:15:19.355Z"
   },
   {
    "duration": 736,
    "start_time": "2025-06-13T09:19:14.669Z"
   },
   {
    "duration": 617,
    "start_time": "2025-06-13T09:23:05.273Z"
   },
   {
    "duration": 605,
    "start_time": "2025-06-13T09:23:23.075Z"
   },
   {
    "duration": 658,
    "start_time": "2025-06-13T09:23:38.992Z"
   },
   {
    "duration": 14,
    "start_time": "2025-06-13T09:34:24.874Z"
   },
   {
    "duration": 6,
    "start_time": "2025-06-13T09:34:53.188Z"
   },
   {
    "duration": 76,
    "start_time": "2025-06-13T09:37:02.639Z"
   },
   {
    "duration": 74,
    "start_time": "2025-06-13T09:37:39.149Z"
   },
   {
    "duration": 251,
    "start_time": "2025-06-13T09:38:06.544Z"
   },
   {
    "duration": 66,
    "start_time": "2025-06-13T09:38:52.529Z"
   },
   {
    "duration": 71,
    "start_time": "2025-06-13T09:39:12.627Z"
   },
   {
    "duration": 67,
    "start_time": "2025-06-13T09:39:37.066Z"
   },
   {
    "duration": 280,
    "start_time": "2025-06-13T09:44:30.277Z"
   },
   {
    "duration": 280,
    "start_time": "2025-06-13T09:45:02.474Z"
   },
   {
    "duration": 635,
    "start_time": "2025-06-13T09:45:57.728Z"
   },
   {
    "duration": 725,
    "start_time": "2025-06-13T09:49:58.537Z"
   },
   {
    "duration": 660,
    "start_time": "2025-06-13T09:50:37.193Z"
   },
   {
    "duration": 717,
    "start_time": "2025-06-13T09:51:20.638Z"
   },
   {
    "duration": 285,
    "start_time": "2025-06-13T09:54:00.451Z"
   },
   {
    "duration": 2004,
    "start_time": "2025-06-13T10:17:33.336Z"
   },
   {
    "duration": 1085,
    "start_time": "2025-06-13T10:22:54.491Z"
   },
   {
    "duration": 1098,
    "start_time": "2025-06-13T10:29:03.193Z"
   },
   {
    "duration": 975,
    "start_time": "2025-06-13T10:32:30.315Z"
   },
   {
    "duration": 15,
    "start_time": "2025-06-13T10:33:09.620Z"
   },
   {
    "duration": 15,
    "start_time": "2025-06-13T10:33:24.866Z"
   },
   {
    "duration": 21,
    "start_time": "2025-06-13T10:33:49.578Z"
   },
   {
    "duration": 62,
    "start_time": "2025-06-13T10:34:18.901Z"
   },
   {
    "duration": 20,
    "start_time": "2025-06-13T10:34:33.392Z"
   },
   {
    "duration": 1168,
    "start_time": "2025-06-13T10:40:51.948Z"
   },
   {
    "duration": 1195,
    "start_time": "2025-06-13T11:40:36.078Z"
   },
   {
    "duration": 3,
    "start_time": "2025-06-13T11:40:37.275Z"
   },
   {
    "duration": 1871,
    "start_time": "2025-06-13T11:40:37.279Z"
   },
   {
    "duration": 127,
    "start_time": "2025-06-13T11:40:39.151Z"
   },
   {
    "duration": 29,
    "start_time": "2025-06-13T11:40:39.280Z"
   },
   {
    "duration": 37,
    "start_time": "2025-06-13T11:40:39.310Z"
   },
   {
    "duration": 35,
    "start_time": "2025-06-13T11:40:39.348Z"
   },
   {
    "duration": 5,
    "start_time": "2025-06-13T11:40:39.385Z"
   },
   {
    "duration": 100,
    "start_time": "2025-06-13T11:40:39.391Z"
   },
   {
    "duration": 387,
    "start_time": "2025-06-13T11:40:39.492Z"
   },
   {
    "duration": 726,
    "start_time": "2025-06-13T11:40:39.881Z"
   },
   {
    "duration": 76,
    "start_time": "2025-06-13T11:40:40.609Z"
   },
   {
    "duration": 349,
    "start_time": "2025-06-13T11:40:40.686Z"
   },
   {
    "duration": 657,
    "start_time": "2025-06-13T11:40:41.039Z"
   },
   {
    "duration": 164,
    "start_time": "2025-06-13T11:40:41.699Z"
   },
   {
    "duration": 365,
    "start_time": "2025-06-13T11:40:41.866Z"
   },
   {
    "duration": 26,
    "start_time": "2025-06-13T11:40:42.232Z"
   },
   {
    "duration": 282,
    "start_time": "2025-06-13T11:40:42.259Z"
   },
   {
    "duration": 462,
    "start_time": "2025-06-13T11:40:42.543Z"
   },
   {
    "duration": 412,
    "start_time": "2025-06-13T11:40:43.007Z"
   },
   {
    "duration": 550,
    "start_time": "2025-06-13T11:40:43.420Z"
   },
   {
    "duration": 914,
    "start_time": "2025-06-13T11:40:43.972Z"
   },
   {
    "duration": 180,
    "start_time": "2025-06-13T11:40:44.888Z"
   },
   {
    "duration": 199,
    "start_time": "2025-06-13T11:40:45.070Z"
   },
   {
    "duration": 5543,
    "start_time": "2025-06-13T11:40:45.271Z"
   },
   {
    "duration": 6,
    "start_time": "2025-06-13T11:40:50.816Z"
   },
   {
    "duration": 38,
    "start_time": "2025-06-13T11:40:50.824Z"
   },
   {
    "duration": 52,
    "start_time": "2025-06-13T11:40:50.864Z"
   },
   {
    "duration": 200,
    "start_time": "2025-06-13T11:40:50.917Z"
   },
   {
    "duration": 4,
    "start_time": "2025-06-13T11:40:51.119Z"
   },
   {
    "duration": 30,
    "start_time": "2025-06-13T11:40:51.137Z"
   },
   {
    "duration": 173,
    "start_time": "2025-06-13T11:40:51.169Z"
   },
   {
    "duration": 273,
    "start_time": "2025-06-13T11:40:51.345Z"
   },
   {
    "duration": 19,
    "start_time": "2025-06-13T11:40:51.620Z"
   },
   {
    "duration": 238,
    "start_time": "2025-06-13T11:40:51.640Z"
   },
   {
    "duration": 222,
    "start_time": "2025-06-13T11:40:51.879Z"
   },
   {
    "duration": 10,
    "start_time": "2025-06-13T11:40:52.103Z"
   },
   {
    "duration": 653,
    "start_time": "2025-06-13T11:40:52.115Z"
   },
   {
    "duration": 193,
    "start_time": "2025-06-13T11:40:52.769Z"
   },
   {
    "duration": 23,
    "start_time": "2025-06-13T11:40:52.965Z"
   },
   {
    "duration": 1210,
    "start_time": "2025-06-13T11:40:52.992Z"
   },
   {
    "duration": 36,
    "start_time": "2025-06-13T11:40:54.204Z"
   },
   {
    "duration": 59,
    "start_time": "2025-06-13T11:40:54.242Z"
   },
   {
    "duration": 42,
    "start_time": "2025-06-13T11:40:54.303Z"
   },
   {
    "duration": 61,
    "start_time": "2025-06-13T12:11:38.539Z"
   },
   {
    "duration": 18,
    "start_time": "2025-06-13T12:35:34.044Z"
   },
   {
    "duration": 214,
    "start_time": "2025-06-13T13:15:39.723Z"
   },
   {
    "duration": 109,
    "start_time": "2025-06-13T13:32:28.289Z"
   },
   {
    "duration": 104,
    "start_time": "2025-06-13T13:32:44.062Z"
   },
   {
    "duration": 154,
    "start_time": "2025-06-13T13:32:54.844Z"
   },
   {
    "duration": 169,
    "start_time": "2025-06-13T13:35:12.269Z"
   },
   {
    "duration": 180,
    "start_time": "2025-06-13T13:35:28.127Z"
   },
   {
    "duration": 11,
    "start_time": "2025-06-13T13:47:57.391Z"
   },
   {
    "duration": 40,
    "start_time": "2025-06-13T13:48:13.690Z"
   },
   {
    "duration": 37,
    "start_time": "2025-06-13T13:48:20.258Z"
   },
   {
    "duration": 42,
    "start_time": "2025-06-13T13:48:20.834Z"
   },
   {
    "duration": 39,
    "start_time": "2025-06-13T13:48:38.363Z"
   },
   {
    "duration": 41,
    "start_time": "2025-06-13T13:48:38.988Z"
   },
   {
    "duration": 200,
    "start_time": "2025-06-13T13:50:27.280Z"
   },
   {
    "duration": 40,
    "start_time": "2025-06-13T13:57:36.020Z"
   },
   {
    "duration": 129,
    "start_time": "2025-06-13T14:03:47.818Z"
   },
   {
    "duration": 108,
    "start_time": "2025-06-13T14:04:14.806Z"
   },
   {
    "duration": 180,
    "start_time": "2025-06-13T14:12:14.676Z"
   },
   {
    "duration": 134,
    "start_time": "2025-06-13T14:57:43.462Z"
   },
   {
    "duration": 130,
    "start_time": "2025-06-13T15:04:03.702Z"
   },
   {
    "duration": 364,
    "start_time": "2025-06-13T15:21:33.839Z"
   },
   {
    "duration": 24,
    "start_time": "2025-06-13T15:32:29.430Z"
   },
   {
    "duration": 147,
    "start_time": "2025-06-13T15:33:51.703Z"
   },
   {
    "duration": 136,
    "start_time": "2025-06-13T15:33:53.032Z"
   },
   {
    "duration": 73,
    "start_time": "2025-06-13T15:34:39.023Z"
   },
   {
    "duration": 72,
    "start_time": "2025-06-13T15:34:56.099Z"
   },
   {
    "duration": 78,
    "start_time": "2025-06-13T15:35:29.331Z"
   },
   {
    "duration": 114,
    "start_time": "2025-06-13T15:36:03.117Z"
   },
   {
    "duration": 60,
    "start_time": "2025-06-13T15:37:35.584Z"
   },
   {
    "duration": 517,
    "start_time": "2025-06-13T15:38:24.380Z"
   },
   {
    "duration": 1486,
    "start_time": "2025-06-14T07:17:47.461Z"
   },
   {
    "duration": 4,
    "start_time": "2025-06-14T07:17:48.949Z"
   },
   {
    "duration": 2223,
    "start_time": "2025-06-14T07:17:48.957Z"
   },
   {
    "duration": 125,
    "start_time": "2025-06-14T07:17:51.181Z"
   },
   {
    "duration": 29,
    "start_time": "2025-06-14T07:17:51.308Z"
   },
   {
    "duration": 39,
    "start_time": "2025-06-14T07:17:51.339Z"
   },
   {
    "duration": 42,
    "start_time": "2025-06-14T07:17:51.380Z"
   },
   {
    "duration": 6,
    "start_time": "2025-06-14T07:17:51.424Z"
   },
   {
    "duration": 109,
    "start_time": "2025-06-14T07:17:51.434Z"
   },
   {
    "duration": 396,
    "start_time": "2025-06-14T07:17:51.546Z"
   },
   {
    "duration": 858,
    "start_time": "2025-06-14T07:17:51.944Z"
   },
   {
    "duration": 83,
    "start_time": "2025-06-14T07:17:52.804Z"
   },
   {
    "duration": 354,
    "start_time": "2025-06-14T07:17:52.888Z"
   },
   {
    "duration": 691,
    "start_time": "2025-06-14T07:17:53.244Z"
   },
   {
    "duration": 165,
    "start_time": "2025-06-14T07:17:53.937Z"
   },
   {
    "duration": 350,
    "start_time": "2025-06-14T07:17:54.104Z"
   },
   {
    "duration": 32,
    "start_time": "2025-06-14T07:17:54.455Z"
   },
   {
    "duration": 277,
    "start_time": "2025-06-14T07:17:54.489Z"
   },
   {
    "duration": 474,
    "start_time": "2025-06-14T07:17:54.771Z"
   },
   {
    "duration": 428,
    "start_time": "2025-06-14T07:17:55.247Z"
   },
   {
    "duration": 583,
    "start_time": "2025-06-14T07:17:55.677Z"
   },
   {
    "duration": 923,
    "start_time": "2025-06-14T07:17:56.262Z"
   },
   {
    "duration": 191,
    "start_time": "2025-06-14T07:17:57.187Z"
   },
   {
    "duration": 191,
    "start_time": "2025-06-14T07:17:57.380Z"
   },
   {
    "duration": 5694,
    "start_time": "2025-06-14T07:17:57.573Z"
   },
   {
    "duration": 6,
    "start_time": "2025-06-14T07:18:03.270Z"
   },
   {
    "duration": 29,
    "start_time": "2025-06-14T07:18:03.280Z"
   },
   {
    "duration": 71,
    "start_time": "2025-06-14T07:18:03.311Z"
   },
   {
    "duration": 210,
    "start_time": "2025-06-14T07:18:03.384Z"
   },
   {
    "duration": 4,
    "start_time": "2025-06-14T07:18:03.596Z"
   },
   {
    "duration": 28,
    "start_time": "2025-06-14T07:18:03.602Z"
   },
   {
    "duration": 206,
    "start_time": "2025-06-14T07:18:03.632Z"
   },
   {
    "duration": 288,
    "start_time": "2025-06-14T07:18:03.841Z"
   },
   {
    "duration": 12,
    "start_time": "2025-06-14T07:18:04.131Z"
   },
   {
    "duration": 349,
    "start_time": "2025-06-14T07:18:04.145Z"
   },
   {
    "duration": 230,
    "start_time": "2025-06-14T07:18:04.496Z"
   },
   {
    "duration": 11,
    "start_time": "2025-06-14T07:18:04.729Z"
   },
   {
    "duration": 716,
    "start_time": "2025-06-14T07:18:04.742Z"
   },
   {
    "duration": 1231,
    "start_time": "2025-06-14T07:18:05.460Z"
   },
   {
    "duration": 78,
    "start_time": "2025-06-14T07:18:06.693Z"
   },
   {
    "duration": 353,
    "start_time": "2025-06-14T07:18:06.773Z"
   },
   {
    "duration": 0,
    "start_time": "2025-06-14T07:18:07.128Z"
   },
   {
    "duration": 0,
    "start_time": "2025-06-14T07:18:07.130Z"
   },
   {
    "duration": 0,
    "start_time": "2025-06-14T07:18:07.131Z"
   },
   {
    "duration": 0,
    "start_time": "2025-06-14T07:18:07.132Z"
   },
   {
    "duration": 0,
    "start_time": "2025-06-14T07:18:07.133Z"
   },
   {
    "duration": 0,
    "start_time": "2025-06-14T07:18:07.134Z"
   },
   {
    "duration": 0,
    "start_time": "2025-06-14T07:18:07.135Z"
   },
   {
    "duration": 1292,
    "start_time": "2025-06-14T07:42:23.452Z"
   },
   {
    "duration": 4,
    "start_time": "2025-06-14T07:42:24.746Z"
   },
   {
    "duration": 1867,
    "start_time": "2025-06-14T07:42:24.752Z"
   },
   {
    "duration": 121,
    "start_time": "2025-06-14T07:42:26.621Z"
   },
   {
    "duration": 35,
    "start_time": "2025-06-14T07:42:26.745Z"
   },
   {
    "duration": 18,
    "start_time": "2025-06-14T07:42:26.782Z"
   },
   {
    "duration": 43,
    "start_time": "2025-06-14T07:42:26.801Z"
   },
   {
    "duration": 28,
    "start_time": "2025-06-14T07:42:26.846Z"
   },
   {
    "duration": 81,
    "start_time": "2025-06-14T07:42:26.875Z"
   },
   {
    "duration": 401,
    "start_time": "2025-06-14T07:42:26.972Z"
   },
   {
    "duration": 763,
    "start_time": "2025-06-14T07:42:27.375Z"
   },
   {
    "duration": 94,
    "start_time": "2025-06-14T07:42:28.140Z"
   },
   {
    "duration": 355,
    "start_time": "2025-06-14T07:42:28.236Z"
   },
   {
    "duration": 719,
    "start_time": "2025-06-14T07:42:28.596Z"
   },
   {
    "duration": 161,
    "start_time": "2025-06-14T07:42:29.316Z"
   },
   {
    "duration": 399,
    "start_time": "2025-06-14T07:42:29.479Z"
   },
   {
    "duration": 26,
    "start_time": "2025-06-14T07:42:29.880Z"
   },
   {
    "duration": 292,
    "start_time": "2025-06-14T07:42:29.907Z"
   },
   {
    "duration": 493,
    "start_time": "2025-06-14T07:42:30.201Z"
   },
   {
    "duration": 460,
    "start_time": "2025-06-14T07:42:30.696Z"
   },
   {
    "duration": 578,
    "start_time": "2025-06-14T07:42:31.158Z"
   },
   {
    "duration": 937,
    "start_time": "2025-06-14T07:42:31.738Z"
   },
   {
    "duration": 180,
    "start_time": "2025-06-14T07:42:32.677Z"
   },
   {
    "duration": 188,
    "start_time": "2025-06-14T07:42:32.859Z"
   },
   {
    "duration": 5563,
    "start_time": "2025-06-14T07:42:33.049Z"
   },
   {
    "duration": 6,
    "start_time": "2025-06-14T07:42:38.613Z"
   },
   {
    "duration": 50,
    "start_time": "2025-06-14T07:42:38.621Z"
   },
   {
    "duration": 50,
    "start_time": "2025-06-14T07:42:38.673Z"
   },
   {
    "duration": 210,
    "start_time": "2025-06-14T07:42:38.724Z"
   },
   {
    "duration": 4,
    "start_time": "2025-06-14T07:42:38.936Z"
   },
   {
    "duration": 33,
    "start_time": "2025-06-14T07:42:38.941Z"
   },
   {
    "duration": 178,
    "start_time": "2025-06-14T07:42:38.976Z"
   },
   {
    "duration": 280,
    "start_time": "2025-06-14T07:42:39.156Z"
   },
   {
    "duration": 11,
    "start_time": "2025-06-14T07:42:39.438Z"
   },
   {
    "duration": 217,
    "start_time": "2025-06-14T07:42:39.450Z"
   },
   {
    "duration": 217,
    "start_time": "2025-06-14T07:42:39.671Z"
   },
   {
    "duration": 10,
    "start_time": "2025-06-14T07:42:39.889Z"
   },
   {
    "duration": 649,
    "start_time": "2025-06-14T07:42:39.901Z"
   },
   {
    "duration": 1203,
    "start_time": "2025-06-14T07:42:40.552Z"
   },
   {
    "duration": 72,
    "start_time": "2025-06-14T07:42:41.757Z"
   },
   {
    "duration": 95,
    "start_time": "2025-06-14T07:42:41.834Z"
   },
   {
    "duration": 0,
    "start_time": "2025-06-14T07:42:41.930Z"
   },
   {
    "duration": 0,
    "start_time": "2025-06-14T07:42:41.931Z"
   },
   {
    "duration": 0,
    "start_time": "2025-06-14T07:42:41.933Z"
   },
   {
    "duration": 0,
    "start_time": "2025-06-14T07:42:41.934Z"
   },
   {
    "duration": 0,
    "start_time": "2025-06-14T07:42:41.936Z"
   },
   {
    "duration": 0,
    "start_time": "2025-06-14T07:42:41.937Z"
   },
   {
    "duration": 204,
    "start_time": "2025-06-14T07:44:28.668Z"
   },
   {
    "duration": 161,
    "start_time": "2025-06-14T07:44:36.466Z"
   },
   {
    "duration": 84,
    "start_time": "2025-06-14T07:44:39.771Z"
   },
   {
    "duration": 128,
    "start_time": "2025-06-14T07:44:51.562Z"
   },
   {
    "duration": 21,
    "start_time": "2025-06-14T09:52:41.049Z"
   },
   {
    "duration": 287,
    "start_time": "2025-06-14T10:45:26.239Z"
   },
   {
    "duration": 210,
    "start_time": "2025-06-14T10:46:07.185Z"
   },
   {
    "duration": 653,
    "start_time": "2025-06-14T10:46:52.354Z"
   },
   {
    "duration": 222,
    "start_time": "2025-06-14T11:01:58.459Z"
   },
   {
    "duration": 146,
    "start_time": "2025-06-14T11:16:06.307Z"
   },
   {
    "duration": 1358,
    "start_time": "2025-06-14T11:16:51.889Z"
   },
   {
    "duration": 3,
    "start_time": "2025-06-14T11:16:53.249Z"
   },
   {
    "duration": 1987,
    "start_time": "2025-06-14T11:16:53.254Z"
   },
   {
    "duration": 120,
    "start_time": "2025-06-14T11:16:55.243Z"
   },
   {
    "duration": 30,
    "start_time": "2025-06-14T11:16:55.365Z"
   },
   {
    "duration": 18,
    "start_time": "2025-06-14T11:16:55.396Z"
   },
   {
    "duration": 64,
    "start_time": "2025-06-14T11:16:55.416Z"
   },
   {
    "duration": 6,
    "start_time": "2025-06-14T11:16:55.482Z"
   },
   {
    "duration": 92,
    "start_time": "2025-06-14T11:16:55.489Z"
   },
   {
    "duration": 392,
    "start_time": "2025-06-14T11:16:55.584Z"
   },
   {
    "duration": 765,
    "start_time": "2025-06-14T11:16:55.978Z"
   },
   {
    "duration": 81,
    "start_time": "2025-06-14T11:16:56.745Z"
   },
   {
    "duration": 349,
    "start_time": "2025-06-14T11:16:56.828Z"
   },
   {
    "duration": 661,
    "start_time": "2025-06-14T11:16:57.178Z"
   },
   {
    "duration": 170,
    "start_time": "2025-06-14T11:16:57.841Z"
   },
   {
    "duration": 351,
    "start_time": "2025-06-14T11:16:58.013Z"
   },
   {
    "duration": 26,
    "start_time": "2025-06-14T11:16:58.365Z"
   },
   {
    "duration": 281,
    "start_time": "2025-06-14T11:16:58.393Z"
   },
   {
    "duration": 471,
    "start_time": "2025-06-14T11:16:58.676Z"
   },
   {
    "duration": 428,
    "start_time": "2025-06-14T11:16:59.148Z"
   },
   {
    "duration": 586,
    "start_time": "2025-06-14T11:16:59.578Z"
   },
   {
    "duration": 921,
    "start_time": "2025-06-14T11:17:00.166Z"
   },
   {
    "duration": 199,
    "start_time": "2025-06-14T11:17:01.089Z"
   },
   {
    "duration": 192,
    "start_time": "2025-06-14T11:17:01.289Z"
   },
   {
    "duration": 5597,
    "start_time": "2025-06-14T11:17:01.483Z"
   },
   {
    "duration": 5,
    "start_time": "2025-06-14T11:17:07.081Z"
   },
   {
    "duration": 48,
    "start_time": "2025-06-14T11:17:07.088Z"
   },
   {
    "duration": 106,
    "start_time": "2025-06-14T11:17:07.140Z"
   },
   {
    "duration": 202,
    "start_time": "2025-06-14T11:17:07.248Z"
   },
   {
    "duration": 4,
    "start_time": "2025-06-14T11:17:07.452Z"
   },
   {
    "duration": 46,
    "start_time": "2025-06-14T11:17:07.458Z"
   },
   {
    "duration": 199,
    "start_time": "2025-06-14T11:17:07.506Z"
   },
   {
    "duration": 279,
    "start_time": "2025-06-14T11:17:07.707Z"
   },
   {
    "duration": 11,
    "start_time": "2025-06-14T11:17:07.988Z"
   },
   {
    "duration": 223,
    "start_time": "2025-06-14T11:17:08.001Z"
   },
   {
    "duration": 225,
    "start_time": "2025-06-14T11:17:08.226Z"
   },
   {
    "duration": 19,
    "start_time": "2025-06-14T11:17:08.453Z"
   },
   {
    "duration": 647,
    "start_time": "2025-06-14T11:17:08.474Z"
   },
   {
    "duration": 1250,
    "start_time": "2025-06-14T11:17:09.123Z"
   },
   {
    "duration": 64,
    "start_time": "2025-06-14T11:17:10.375Z"
   },
   {
    "duration": 40,
    "start_time": "2025-06-14T11:17:10.441Z"
   },
   {
    "duration": 216,
    "start_time": "2025-06-14T11:17:10.483Z"
   },
   {
    "duration": 171,
    "start_time": "2025-06-14T11:17:10.701Z"
   },
   {
    "duration": 335,
    "start_time": "2025-06-14T11:17:10.874Z"
   },
   {
    "duration": 0,
    "start_time": "2025-06-14T11:17:11.210Z"
   },
   {
    "duration": 0,
    "start_time": "2025-06-14T11:17:11.212Z"
   },
   {
    "duration": 0,
    "start_time": "2025-06-14T11:17:11.213Z"
   },
   {
    "duration": 69,
    "start_time": "2025-06-14T11:25:51.861Z"
   },
   {
    "duration": 170,
    "start_time": "2025-06-14T11:26:09.261Z"
   },
   {
    "duration": 11,
    "start_time": "2025-06-14T11:27:00.293Z"
   },
   {
    "duration": 110,
    "start_time": "2025-06-14T11:28:39.497Z"
   },
   {
    "duration": 1298,
    "start_time": "2025-06-14T11:29:06.946Z"
   },
   {
    "duration": 3,
    "start_time": "2025-06-14T11:29:08.246Z"
   },
   {
    "duration": 2228,
    "start_time": "2025-06-14T11:29:08.251Z"
   },
   {
    "duration": 128,
    "start_time": "2025-06-14T11:29:10.482Z"
   },
   {
    "duration": 29,
    "start_time": "2025-06-14T11:29:10.612Z"
   },
   {
    "duration": 34,
    "start_time": "2025-06-14T11:29:10.643Z"
   },
   {
    "duration": 39,
    "start_time": "2025-06-14T11:29:10.679Z"
   },
   {
    "duration": 6,
    "start_time": "2025-06-14T11:29:10.719Z"
   },
   {
    "duration": 110,
    "start_time": "2025-06-14T11:29:10.727Z"
   },
   {
    "duration": 421,
    "start_time": "2025-06-14T11:29:10.840Z"
   },
   {
    "duration": 768,
    "start_time": "2025-06-14T11:29:11.270Z"
   },
   {
    "duration": 84,
    "start_time": "2025-06-14T11:29:12.040Z"
   },
   {
    "duration": 390,
    "start_time": "2025-06-14T11:29:12.126Z"
   },
   {
    "duration": 713,
    "start_time": "2025-06-14T11:29:12.518Z"
   },
   {
    "duration": 167,
    "start_time": "2025-06-14T11:29:13.232Z"
   },
   {
    "duration": 356,
    "start_time": "2025-06-14T11:29:13.400Z"
   },
   {
    "duration": 34,
    "start_time": "2025-06-14T11:29:13.758Z"
   },
   {
    "duration": 282,
    "start_time": "2025-06-14T11:29:13.795Z"
   },
   {
    "duration": 473,
    "start_time": "2025-06-14T11:29:14.079Z"
   },
   {
    "duration": 432,
    "start_time": "2025-06-14T11:29:14.555Z"
   },
   {
    "duration": 571,
    "start_time": "2025-06-14T11:29:14.989Z"
   },
   {
    "duration": 915,
    "start_time": "2025-06-14T11:29:15.563Z"
   },
   {
    "duration": 196,
    "start_time": "2025-06-14T11:29:16.480Z"
   },
   {
    "duration": 178,
    "start_time": "2025-06-14T11:29:16.679Z"
   },
   {
    "duration": 5527,
    "start_time": "2025-06-14T11:29:16.870Z"
   },
   {
    "duration": 5,
    "start_time": "2025-06-14T11:29:22.399Z"
   },
   {
    "duration": 44,
    "start_time": "2025-06-14T11:29:22.406Z"
   },
   {
    "duration": 53,
    "start_time": "2025-06-14T11:29:22.454Z"
   },
   {
    "duration": 201,
    "start_time": "2025-06-14T11:29:22.509Z"
   },
   {
    "duration": 4,
    "start_time": "2025-06-14T11:29:22.712Z"
   },
   {
    "duration": 24,
    "start_time": "2025-06-14T11:29:22.718Z"
   },
   {
    "duration": 217,
    "start_time": "2025-06-14T11:29:22.744Z"
   },
   {
    "duration": 276,
    "start_time": "2025-06-14T11:29:22.963Z"
   },
   {
    "duration": 11,
    "start_time": "2025-06-14T11:29:23.241Z"
   },
   {
    "duration": 223,
    "start_time": "2025-06-14T11:29:23.254Z"
   },
   {
    "duration": 232,
    "start_time": "2025-06-14T11:29:23.479Z"
   },
   {
    "duration": 9,
    "start_time": "2025-06-14T11:29:23.713Z"
   },
   {
    "duration": 690,
    "start_time": "2025-06-14T11:29:23.724Z"
   },
   {
    "duration": 1364,
    "start_time": "2025-06-14T11:29:24.415Z"
   },
   {
    "duration": 61,
    "start_time": "2025-06-14T11:29:25.781Z"
   },
   {
    "duration": 39,
    "start_time": "2025-06-14T11:29:25.844Z"
   },
   {
    "duration": 209,
    "start_time": "2025-06-14T11:29:25.884Z"
   },
   {
    "duration": 184,
    "start_time": "2025-06-14T11:29:26.095Z"
   },
   {
    "duration": 110,
    "start_time": "2025-06-14T11:29:26.280Z"
   },
   {
    "duration": 0,
    "start_time": "2025-06-14T11:29:26.392Z"
   },
   {
    "duration": 0,
    "start_time": "2025-06-14T11:29:26.393Z"
   },
   {
    "duration": 0,
    "start_time": "2025-06-14T11:29:26.394Z"
   },
   {
    "duration": 0,
    "start_time": "2025-06-14T11:29:26.395Z"
   },
   {
    "duration": 109,
    "start_time": "2025-06-14T11:30:25.302Z"
   },
   {
    "duration": 84,
    "start_time": "2025-06-14T11:30:30.110Z"
   },
   {
    "duration": 910,
    "start_time": "2025-06-14T11:38:17.384Z"
   },
   {
    "duration": 981,
    "start_time": "2025-06-14T11:40:41.360Z"
   },
   {
    "duration": 1023,
    "start_time": "2025-06-14T11:41:05.069Z"
   },
   {
    "duration": 940,
    "start_time": "2025-06-14T11:41:19.412Z"
   },
   {
    "duration": 922,
    "start_time": "2025-06-14T11:41:40.701Z"
   },
   {
    "duration": 16,
    "start_time": "2025-06-14T11:41:55.065Z"
   },
   {
    "duration": 70,
    "start_time": "2025-06-14T11:41:58.462Z"
   },
   {
    "duration": 1155,
    "start_time": "2025-06-14T19:53:46.466Z"
   },
   {
    "duration": 2,
    "start_time": "2025-06-14T19:53:47.623Z"
   },
   {
    "duration": 2751,
    "start_time": "2025-06-14T19:53:47.627Z"
   },
   {
    "duration": 117,
    "start_time": "2025-06-14T19:53:50.379Z"
   },
   {
    "duration": 31,
    "start_time": "2025-06-14T19:53:50.499Z"
   },
   {
    "duration": 38,
    "start_time": "2025-06-14T19:53:50.531Z"
   },
   {
    "duration": 45,
    "start_time": "2025-06-14T19:53:50.570Z"
   },
   {
    "duration": 6,
    "start_time": "2025-06-14T19:53:50.617Z"
   },
   {
    "duration": 93,
    "start_time": "2025-06-14T19:53:50.625Z"
   },
   {
    "duration": 375,
    "start_time": "2025-06-14T19:53:50.719Z"
   },
   {
    "duration": 694,
    "start_time": "2025-06-14T19:53:51.096Z"
   },
   {
    "duration": 73,
    "start_time": "2025-06-14T19:53:51.791Z"
   },
   {
    "duration": 331,
    "start_time": "2025-06-14T19:53:51.865Z"
   },
   {
    "duration": 653,
    "start_time": "2025-06-14T19:53:52.204Z"
   },
   {
    "duration": 153,
    "start_time": "2025-06-14T19:53:52.859Z"
   },
   {
    "duration": 299,
    "start_time": "2025-06-14T19:53:53.014Z"
   },
   {
    "duration": 23,
    "start_time": "2025-06-14T19:53:53.314Z"
   },
   {
    "duration": 267,
    "start_time": "2025-06-14T19:53:53.338Z"
   },
   {
    "duration": 476,
    "start_time": "2025-06-14T19:53:53.611Z"
   },
   {
    "duration": 395,
    "start_time": "2025-06-14T19:53:54.089Z"
   },
   {
    "duration": 538,
    "start_time": "2025-06-14T19:53:54.486Z"
   },
   {
    "duration": 876,
    "start_time": "2025-06-14T19:53:55.026Z"
   },
   {
    "duration": 234,
    "start_time": "2025-06-14T19:53:55.904Z"
   },
   {
    "duration": 208,
    "start_time": "2025-06-14T19:53:56.139Z"
   },
   {
    "duration": 5343,
    "start_time": "2025-06-14T19:53:56.348Z"
   },
   {
    "duration": 5,
    "start_time": "2025-06-14T19:54:01.694Z"
   },
   {
    "duration": 48,
    "start_time": "2025-06-14T19:54:01.701Z"
   },
   {
    "duration": 64,
    "start_time": "2025-06-14T19:54:01.751Z"
   },
   {
    "duration": 181,
    "start_time": "2025-06-14T19:54:01.817Z"
   },
   {
    "duration": 6,
    "start_time": "2025-06-14T19:54:02.000Z"
   },
   {
    "duration": 69,
    "start_time": "2025-06-14T19:54:02.007Z"
   },
   {
    "duration": 168,
    "start_time": "2025-06-14T19:54:02.078Z"
   },
   {
    "duration": 272,
    "start_time": "2025-06-14T19:54:02.248Z"
   },
   {
    "duration": 10,
    "start_time": "2025-06-14T19:54:02.521Z"
   },
   {
    "duration": 232,
    "start_time": "2025-06-14T19:54:02.533Z"
   },
   {
    "duration": 215,
    "start_time": "2025-06-14T19:54:02.766Z"
   },
   {
    "duration": 9,
    "start_time": "2025-06-14T19:54:02.983Z"
   },
   {
    "duration": 628,
    "start_time": "2025-06-14T19:54:03.006Z"
   },
   {
    "duration": 1156,
    "start_time": "2025-06-14T19:54:03.636Z"
   },
   {
    "duration": 65,
    "start_time": "2025-06-14T19:54:04.793Z"
   },
   {
    "duration": 15,
    "start_time": "2025-06-14T19:54:04.862Z"
   },
   {
    "duration": 227,
    "start_time": "2025-06-14T19:54:04.879Z"
   },
   {
    "duration": 146,
    "start_time": "2025-06-14T19:54:05.108Z"
   },
   {
    "duration": 972,
    "start_time": "2025-06-14T19:54:05.255Z"
   },
   {
    "duration": 15,
    "start_time": "2025-06-14T19:54:06.229Z"
   },
   {
    "duration": 89,
    "start_time": "2025-06-14T19:54:06.246Z"
   },
   {
    "duration": 1298,
    "start_time": "2025-06-15T05:51:03.057Z"
   },
   {
    "duration": 3,
    "start_time": "2025-06-15T05:51:04.357Z"
   },
   {
    "duration": 1630,
    "start_time": "2025-06-15T05:51:04.361Z"
   },
   {
    "duration": 104,
    "start_time": "2025-06-15T05:51:05.993Z"
   },
   {
    "duration": 25,
    "start_time": "2025-06-15T05:51:06.098Z"
   },
   {
    "duration": 14,
    "start_time": "2025-06-15T05:51:06.136Z"
   },
   {
    "duration": 35,
    "start_time": "2025-06-15T05:51:06.151Z"
   },
   {
    "duration": 4,
    "start_time": "2025-06-15T05:51:06.188Z"
   },
   {
    "duration": 83,
    "start_time": "2025-06-15T05:51:06.194Z"
   },
   {
    "duration": 360,
    "start_time": "2025-06-15T05:51:06.279Z"
   },
   {
    "duration": 694,
    "start_time": "2025-06-15T05:51:06.641Z"
   },
   {
    "duration": 56,
    "start_time": "2025-06-15T05:51:07.337Z"
   },
   {
    "duration": 304,
    "start_time": "2025-06-15T05:51:07.394Z"
   },
   {
    "duration": 613,
    "start_time": "2025-06-15T05:51:07.699Z"
   },
   {
    "duration": 135,
    "start_time": "2025-06-15T05:51:08.314Z"
   },
   {
    "duration": 280,
    "start_time": "2025-06-15T05:51:08.451Z"
   },
   {
    "duration": 20,
    "start_time": "2025-06-15T05:51:08.736Z"
   },
   {
    "duration": 238,
    "start_time": "2025-06-15T05:51:08.757Z"
   },
   {
    "duration": 389,
    "start_time": "2025-06-15T05:51:08.997Z"
   },
   {
    "duration": 348,
    "start_time": "2025-06-15T05:51:09.388Z"
   },
   {
    "duration": 478,
    "start_time": "2025-06-15T05:51:09.738Z"
   },
   {
    "duration": 735,
    "start_time": "2025-06-15T05:51:10.218Z"
   },
   {
    "duration": 160,
    "start_time": "2025-06-15T05:51:10.955Z"
   },
   {
    "duration": 168,
    "start_time": "2025-06-15T05:51:11.117Z"
   },
   {
    "duration": 4859,
    "start_time": "2025-06-15T05:51:11.287Z"
   },
   {
    "duration": 5,
    "start_time": "2025-06-15T05:51:16.148Z"
   },
   {
    "duration": 26,
    "start_time": "2025-06-15T05:51:16.154Z"
   },
   {
    "duration": 58,
    "start_time": "2025-06-15T05:51:16.184Z"
   },
   {
    "duration": 194,
    "start_time": "2025-06-15T05:51:16.244Z"
   },
   {
    "duration": 3,
    "start_time": "2025-06-15T05:51:16.440Z"
   },
   {
    "duration": 32,
    "start_time": "2025-06-15T05:51:16.444Z"
   },
   {
    "duration": 178,
    "start_time": "2025-06-15T05:51:16.477Z"
   },
   {
    "duration": 238,
    "start_time": "2025-06-15T05:51:16.657Z"
   },
   {
    "duration": 10,
    "start_time": "2025-06-15T05:51:16.896Z"
   },
   {
    "duration": 223,
    "start_time": "2025-06-15T05:51:16.908Z"
   },
   {
    "duration": 183,
    "start_time": "2025-06-15T05:51:17.133Z"
   },
   {
    "duration": 18,
    "start_time": "2025-06-15T05:51:17.317Z"
   },
   {
    "duration": 586,
    "start_time": "2025-06-15T05:51:17.337Z"
   },
   {
    "duration": 1027,
    "start_time": "2025-06-15T05:51:17.925Z"
   },
   {
    "duration": 53,
    "start_time": "2025-06-15T05:51:18.954Z"
   },
   {
    "duration": 38,
    "start_time": "2025-06-15T05:51:19.009Z"
   },
   {
    "duration": 168,
    "start_time": "2025-06-15T05:51:19.048Z"
   },
   {
    "duration": 138,
    "start_time": "2025-06-15T05:51:19.218Z"
   },
   {
    "duration": 813,
    "start_time": "2025-06-15T05:51:19.358Z"
   },
   {
    "duration": 15,
    "start_time": "2025-06-15T05:51:20.173Z"
   },
   {
    "duration": 79,
    "start_time": "2025-06-15T05:51:20.190Z"
   },
   {
    "duration": 74,
    "start_time": "2025-06-15T05:55:41.038Z"
   },
   {
    "duration": 96,
    "start_time": "2025-06-15T05:56:07.942Z"
   },
   {
    "duration": 12,
    "start_time": "2025-06-15T06:00:54.089Z"
   },
   {
    "duration": 161,
    "start_time": "2025-06-15T06:01:49.658Z"
   },
   {
    "duration": 164,
    "start_time": "2025-06-15T06:07:18.167Z"
   },
   {
    "duration": 11,
    "start_time": "2025-06-15T06:12:49.819Z"
   },
   {
    "duration": 170,
    "start_time": "2025-06-15T06:15:49.180Z"
   },
   {
    "duration": 1472,
    "start_time": "2025-06-15T06:18:12.909Z"
   },
   {
    "duration": 11,
    "start_time": "2025-06-15T06:22:19.282Z"
   },
   {
    "duration": 113,
    "start_time": "2025-06-15T06:37:29.023Z"
   },
   {
    "duration": 160,
    "start_time": "2025-06-15T06:38:10.290Z"
   },
   {
    "duration": 89,
    "start_time": "2025-06-15T06:40:15.304Z"
   },
   {
    "duration": 91,
    "start_time": "2025-06-15T06:48:24.233Z"
   },
   {
    "duration": 87,
    "start_time": "2025-06-15T06:49:58.421Z"
   },
   {
    "duration": 429,
    "start_time": "2025-06-15T06:52:31.400Z"
   },
   {
    "duration": 316,
    "start_time": "2025-06-15T06:55:17.719Z"
   },
   {
    "duration": 383,
    "start_time": "2025-06-15T06:57:53.900Z"
   },
   {
    "duration": 373,
    "start_time": "2025-06-15T06:59:59.730Z"
   },
   {
    "duration": 819,
    "start_time": "2025-06-15T07:07:22.890Z"
   },
   {
    "duration": 864,
    "start_time": "2025-06-15T07:08:51.649Z"
   },
   {
    "duration": 768,
    "start_time": "2025-06-15T07:11:44.658Z"
   },
   {
    "duration": 779,
    "start_time": "2025-06-15T07:12:29.820Z"
   },
   {
    "duration": 769,
    "start_time": "2025-06-15T07:13:16.533Z"
   },
   {
    "duration": 767,
    "start_time": "2025-06-15T07:13:55.131Z"
   },
   {
    "duration": 723,
    "start_time": "2025-06-15T07:14:22.275Z"
   },
   {
    "duration": 768,
    "start_time": "2025-06-15T07:14:41.430Z"
   },
   {
    "duration": 2652,
    "start_time": "2025-06-15T07:15:47.845Z"
   },
   {
    "duration": 772,
    "start_time": "2025-06-15T07:16:59.819Z"
   },
   {
    "duration": 769,
    "start_time": "2025-06-15T07:18:06.729Z"
   },
   {
    "duration": 1135,
    "start_time": "2025-06-15T07:18:49.831Z"
   },
   {
    "duration": 3,
    "start_time": "2025-06-15T07:18:50.968Z"
   },
   {
    "duration": 1518,
    "start_time": "2025-06-15T07:18:50.972Z"
   },
   {
    "duration": 108,
    "start_time": "2025-06-15T07:18:52.492Z"
   },
   {
    "duration": 26,
    "start_time": "2025-06-15T07:18:52.602Z"
   },
   {
    "duration": 15,
    "start_time": "2025-06-15T07:18:52.635Z"
   },
   {
    "duration": 184,
    "start_time": "2025-06-15T07:18:52.652Z"
   },
   {
    "duration": 10,
    "start_time": "2025-06-15T07:18:52.838Z"
   },
   {
    "duration": 66,
    "start_time": "2025-06-15T07:18:52.850Z"
   },
   {
    "duration": 348,
    "start_time": "2025-06-15T07:18:52.937Z"
   },
   {
    "duration": 679,
    "start_time": "2025-06-15T07:18:53.287Z"
   },
   {
    "duration": 68,
    "start_time": "2025-06-15T07:18:53.968Z"
   },
   {
    "duration": 328,
    "start_time": "2025-06-15T07:18:54.038Z"
   },
   {
    "duration": 598,
    "start_time": "2025-06-15T07:18:54.367Z"
   },
   {
    "duration": 142,
    "start_time": "2025-06-15T07:18:54.966Z"
   },
   {
    "duration": 95,
    "start_time": "2025-06-15T07:18:55.110Z"
   },
   {
    "duration": 303,
    "start_time": "2025-06-15T07:18:55.207Z"
   },
   {
    "duration": 185,
    "start_time": "2025-06-15T07:18:55.512Z"
   },
   {
    "duration": 20,
    "start_time": "2025-06-15T07:18:55.698Z"
   },
   {
    "duration": 246,
    "start_time": "2025-06-15T07:18:55.720Z"
   },
   {
    "duration": 387,
    "start_time": "2025-06-15T07:18:55.968Z"
   },
   {
    "duration": 391,
    "start_time": "2025-06-15T07:18:56.356Z"
   },
   {
    "duration": 464,
    "start_time": "2025-06-15T07:18:56.748Z"
   },
   {
    "duration": 767,
    "start_time": "2025-06-15T07:18:57.214Z"
   },
   {
    "duration": 168,
    "start_time": "2025-06-15T07:18:57.983Z"
   },
   {
    "duration": 196,
    "start_time": "2025-06-15T07:18:58.153Z"
   },
   {
    "duration": 4859,
    "start_time": "2025-06-15T07:18:58.351Z"
   },
   {
    "duration": 5,
    "start_time": "2025-06-15T07:19:03.213Z"
   },
   {
    "duration": 92,
    "start_time": "2025-06-15T07:19:03.220Z"
   },
   {
    "duration": 47,
    "start_time": "2025-06-15T07:19:03.313Z"
   },
   {
    "duration": 179,
    "start_time": "2025-06-15T07:19:03.362Z"
   },
   {
    "duration": 3,
    "start_time": "2025-06-15T07:19:03.543Z"
   },
   {
    "duration": 28,
    "start_time": "2025-06-15T07:19:03.548Z"
   },
   {
    "duration": 171,
    "start_time": "2025-06-15T07:19:03.577Z"
   },
   {
    "duration": 391,
    "start_time": "2025-06-15T07:19:03.750Z"
   },
   {
    "duration": 14,
    "start_time": "2025-06-15T07:19:04.142Z"
   },
   {
    "duration": 352,
    "start_time": "2025-06-15T07:19:04.158Z"
   },
   {
    "duration": 303,
    "start_time": "2025-06-15T07:19:04.512Z"
   },
   {
    "duration": 22,
    "start_time": "2025-06-15T07:19:04.817Z"
   },
   {
    "duration": 599,
    "start_time": "2025-06-15T07:19:04.840Z"
   },
   {
    "duration": 1081,
    "start_time": "2025-06-15T07:19:05.441Z"
   },
   {
    "duration": 73,
    "start_time": "2025-06-15T07:19:06.525Z"
   },
   {
    "duration": 35,
    "start_time": "2025-06-15T07:19:06.600Z"
   },
   {
    "duration": 736,
    "start_time": "2025-06-15T07:19:06.637Z"
   },
   {
    "duration": 139,
    "start_time": "2025-06-15T07:19:07.375Z"
   },
   {
    "duration": 857,
    "start_time": "2025-06-15T07:19:07.516Z"
   },
   {
    "duration": 14,
    "start_time": "2025-06-15T07:19:08.374Z"
   },
   {
    "duration": 83,
    "start_time": "2025-06-15T07:19:08.389Z"
   },
   {
    "duration": 1264,
    "start_time": "2025-06-15T08:36:59.972Z"
   },
   {
    "duration": 4,
    "start_time": "2025-06-15T08:37:01.238Z"
   },
   {
    "duration": 1871,
    "start_time": "2025-06-15T08:37:01.244Z"
   },
   {
    "duration": 121,
    "start_time": "2025-06-15T08:37:03.117Z"
   },
   {
    "duration": 37,
    "start_time": "2025-06-15T08:37:03.241Z"
   },
   {
    "duration": 17,
    "start_time": "2025-06-15T08:37:03.280Z"
   },
   {
    "duration": 218,
    "start_time": "2025-06-15T08:37:03.299Z"
   },
   {
    "duration": 15,
    "start_time": "2025-06-15T08:37:03.519Z"
   },
   {
    "duration": 96,
    "start_time": "2025-06-15T08:37:03.535Z"
   },
   {
    "duration": 400,
    "start_time": "2025-06-15T08:37:03.633Z"
   },
   {
    "duration": 744,
    "start_time": "2025-06-15T08:37:04.034Z"
   },
   {
    "duration": 70,
    "start_time": "2025-06-15T08:37:04.780Z"
   },
   {
    "duration": 351,
    "start_time": "2025-06-15T08:37:04.852Z"
   },
   {
    "duration": 724,
    "start_time": "2025-06-15T08:37:05.206Z"
   },
   {
    "duration": 156,
    "start_time": "2025-06-15T08:37:05.931Z"
   },
   {
    "duration": 114,
    "start_time": "2025-06-15T08:37:06.089Z"
   },
   {
    "duration": 345,
    "start_time": "2025-06-15T08:37:06.205Z"
   },
   {
    "duration": 201,
    "start_time": "2025-06-15T08:37:06.552Z"
   },
   {
    "duration": 33,
    "start_time": "2025-06-15T08:37:06.754Z"
   },
   {
    "duration": 319,
    "start_time": "2025-06-15T08:37:06.789Z"
   },
   {
    "duration": 461,
    "start_time": "2025-06-15T08:37:07.110Z"
   },
   {
    "duration": 406,
    "start_time": "2025-06-15T08:37:07.573Z"
   },
   {
    "duration": 538,
    "start_time": "2025-06-15T08:37:07.981Z"
   },
   {
    "duration": 936,
    "start_time": "2025-06-15T08:37:08.521Z"
   },
   {
    "duration": 187,
    "start_time": "2025-06-15T08:37:09.459Z"
   },
   {
    "duration": 193,
    "start_time": "2025-06-15T08:37:09.647Z"
   },
   {
    "duration": 5659,
    "start_time": "2025-06-15T08:37:09.841Z"
   },
   {
    "duration": 4,
    "start_time": "2025-06-15T08:37:15.502Z"
   },
   {
    "duration": 33,
    "start_time": "2025-06-15T08:37:15.508Z"
   },
   {
    "duration": 68,
    "start_time": "2025-06-15T08:37:15.543Z"
   },
   {
    "duration": 192,
    "start_time": "2025-06-15T08:37:15.613Z"
   },
   {
    "duration": 4,
    "start_time": "2025-06-15T08:37:15.807Z"
   },
   {
    "duration": 50,
    "start_time": "2025-06-15T08:37:15.813Z"
   },
   {
    "duration": 207,
    "start_time": "2025-06-15T08:37:15.865Z"
   },
   {
    "duration": 404,
    "start_time": "2025-06-15T08:37:16.074Z"
   },
   {
    "duration": 12,
    "start_time": "2025-06-15T08:37:16.480Z"
   },
   {
    "duration": 344,
    "start_time": "2025-06-15T08:37:16.494Z"
   },
   {
    "duration": 338,
    "start_time": "2025-06-15T08:37:16.840Z"
   },
   {
    "duration": 10,
    "start_time": "2025-06-15T08:37:17.179Z"
   },
   {
    "duration": 1505,
    "start_time": "2025-06-17T09:34:00.545Z"
   },
   {
    "duration": 8,
    "start_time": "2025-06-17T09:34:02.052Z"
   },
   {
    "duration": 1856,
    "start_time": "2025-06-17T09:34:02.443Z"
   },
   {
    "duration": 1473,
    "start_time": "2025-06-17T09:40:41.587Z"
   },
   {
    "duration": 2193,
    "start_time": "2025-06-17T09:41:13.762Z"
   },
   {
    "duration": 4,
    "start_time": "2025-06-17T09:41:15.957Z"
   },
   {
    "duration": 4,
    "start_time": "2025-06-17T09:41:16.284Z"
   },
   {
    "duration": 1327,
    "start_time": "2025-06-17T09:41:26.083Z"
   },
   {
    "duration": 3,
    "start_time": "2025-06-17T09:41:27.412Z"
   },
   {
    "duration": 1992,
    "start_time": "2025-06-17T09:41:27.417Z"
   },
   {
    "duration": 126,
    "start_time": "2025-06-17T09:41:29.411Z"
   },
   {
    "duration": 35,
    "start_time": "2025-06-17T09:41:29.538Z"
   },
   {
    "duration": 66,
    "start_time": "2025-06-17T09:41:29.575Z"
   },
   {
    "duration": 217,
    "start_time": "2025-06-17T09:41:29.643Z"
   },
   {
    "duration": 12,
    "start_time": "2025-06-17T09:41:29.862Z"
   },
   {
    "duration": 97,
    "start_time": "2025-06-17T09:41:29.876Z"
   },
   {
    "duration": 415,
    "start_time": "2025-06-17T09:41:29.976Z"
   },
   {
    "duration": 775,
    "start_time": "2025-06-17T09:41:30.394Z"
   },
   {
    "duration": 68,
    "start_time": "2025-06-17T09:41:31.171Z"
   },
   {
    "duration": 386,
    "start_time": "2025-06-17T09:41:31.241Z"
   },
   {
    "duration": 732,
    "start_time": "2025-06-17T09:41:31.629Z"
   },
   {
    "duration": 163,
    "start_time": "2025-06-17T09:41:32.363Z"
   },
   {
    "duration": 112,
    "start_time": "2025-06-17T09:41:32.528Z"
   },
   {
    "duration": 347,
    "start_time": "2025-06-17T09:41:32.641Z"
   },
   {
    "duration": 212,
    "start_time": "2025-06-17T09:41:32.990Z"
   },
   {
    "duration": 26,
    "start_time": "2025-06-17T09:41:33.204Z"
   },
   {
    "duration": 275,
    "start_time": "2025-06-17T09:41:33.231Z"
   },
   {
    "duration": 459,
    "start_time": "2025-06-17T09:41:33.508Z"
   },
   {
    "duration": 439,
    "start_time": "2025-06-17T09:41:33.969Z"
   },
   {
    "duration": 531,
    "start_time": "2025-06-17T09:41:34.410Z"
   },
   {
    "duration": 923,
    "start_time": "2025-06-17T09:41:34.942Z"
   },
   {
    "duration": 196,
    "start_time": "2025-06-17T09:41:35.867Z"
   },
   {
    "duration": 183,
    "start_time": "2025-06-17T09:41:36.065Z"
   },
   {
    "duration": 5706,
    "start_time": "2025-06-17T09:41:36.261Z"
   },
   {
    "duration": 6,
    "start_time": "2025-06-17T09:41:41.970Z"
   },
   {
    "duration": 36,
    "start_time": "2025-06-17T09:41:41.977Z"
   },
   {
    "duration": 68,
    "start_time": "2025-06-17T09:41:42.015Z"
   },
   {
    "duration": 196,
    "start_time": "2025-06-17T09:41:42.085Z"
   },
   {
    "duration": 4,
    "start_time": "2025-06-17T09:41:42.282Z"
   },
   {
    "duration": 26,
    "start_time": "2025-06-17T09:41:42.288Z"
   },
   {
    "duration": 206,
    "start_time": "2025-06-17T09:41:42.315Z"
   },
   {
    "duration": 441,
    "start_time": "2025-06-17T09:41:42.522Z"
   },
   {
    "duration": 11,
    "start_time": "2025-06-17T09:41:42.965Z"
   },
   {
    "duration": 358,
    "start_time": "2025-06-17T09:41:42.978Z"
   },
   {
    "duration": 341,
    "start_time": "2025-06-17T09:41:43.338Z"
   },
   {
    "duration": 11,
    "start_time": "2025-06-17T09:41:43.680Z"
   },
   {
    "duration": 694,
    "start_time": "2025-06-17T09:41:43.693Z"
   },
   {
    "duration": 1282,
    "start_time": "2025-06-17T09:41:44.389Z"
   },
   {
    "duration": 69,
    "start_time": "2025-06-17T09:41:45.673Z"
   },
   {
    "duration": 25,
    "start_time": "2025-06-17T09:41:45.760Z"
   },
   {
    "duration": 924,
    "start_time": "2025-06-17T09:41:45.788Z"
   },
   {
    "duration": 169,
    "start_time": "2025-06-17T09:41:46.714Z"
   },
   {
    "duration": 953,
    "start_time": "2025-06-17T09:41:46.886Z"
   },
   {
    "duration": 30,
    "start_time": "2025-06-17T09:41:47.842Z"
   },
   {
    "duration": 89,
    "start_time": "2025-06-17T09:41:47.874Z"
   }
  ],
  "colab": {
   "provenance": []
  },
  "kernelspec": {
   "display_name": "Python 3 (ipykernel)",
   "language": "python",
   "name": "python3"
  },
  "language_info": {
   "codemirror_mode": {
    "name": "ipython",
    "version": 3
   },
   "file_extension": ".py",
   "mimetype": "text/x-python",
   "name": "python",
   "nbconvert_exporter": "python",
   "pygments_lexer": "ipython3",
   "version": "3.9.5"
  },
  "toc": {
   "base_numbering": 1,
   "nav_menu": {},
   "number_sections": true,
   "sideBar": true,
   "skip_h1_title": true,
   "title_cell": "Table of Contents",
   "title_sidebar": "Contents",
   "toc_cell": false,
   "toc_position": {
    "height": "calc(100% - 180px)",
    "left": "10px",
    "top": "150px",
    "width": "165px"
   },
   "toc_section_display": true,
   "toc_window_display": true
  }
 },
 "nbformat": 4,
 "nbformat_minor": 1
}
