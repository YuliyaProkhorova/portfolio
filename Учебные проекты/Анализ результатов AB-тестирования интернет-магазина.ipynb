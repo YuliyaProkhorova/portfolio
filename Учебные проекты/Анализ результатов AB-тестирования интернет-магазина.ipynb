{
 "cells": [
  {
   "cell_type": "markdown",
   "id": "aeac20f1",
   "metadata": {},
   "source": [
    "# Анализ результатов A/B-тестирования интернет-магазина\n",
    "\n",
    "- Автор: Юлия прохорова\n",
    "- Дата: 29.05.2025"
   ]
  },
  {
   "cell_type": "markdown",
   "id": "f5823a8e",
   "metadata": {},
   "source": [
    "**Цель:**\n",
    "- провести оценку результатов A/B-теста.\n",
    "\n",
    "**Задачи:**\n",
    "- загрузить данные теста;\n",
    "- проверить корректность его проведения;\n",
    "- проанализировать полученные результаты.\n",
    "\n",
    "**ТЗ:**\n",
    "- название теста: interface_eu_test;\n",
    "- группы: А (контрольная), B (новый интерфейс);\n",
    "- гипотеза: упрощение интерфейса приведёт к тому, что в течение семи дней после регистрации в системе конверсия зарегистрированных пользователей в покупателей увеличится как минимум на три процентных пункта."
   ]
  },
  {
   "cell_type": "markdown",
   "id": "_CZryx2OsH-s",
   "metadata": {
    "id": "_CZryx2OsH-s"
   },
   "source": [
    "## Описание данных\n"
   ]
  },
  {
   "cell_type": "markdown",
   "id": "ccc014a0",
   "metadata": {},
   "source": [
    "`participants` - таблица участников тестов, содержит колонки:\n",
    "- `user_id` — идентификатор пользователя;\n",
    "- `group` — группа пользователя;\n",
    "- `ab_test` — название теста;\n",
    "- `device` — устройство, с которого происходила регистрация.\n",
    "\n",
    "`events` - таблица о событиях, содержит колонки:\n",
    "- `user_id` — идентификатор пользователя;\n",
    "- `event_dt` — дата и время события;\n",
    "- `event_name` — тип события;\n",
    "- `details` — дополнительные данные о событии.\n",
    "\n",
    "Дополнительная информация по столбцу `details`:\n",
    "- `registration` (регистрация) — стоимость привлечения клиента;\n",
    "- `purchase` (покупка) — стоимость покупки."
   ]
  },
  {
   "cell_type": "markdown",
   "id": "baf14525",
   "metadata": {},
   "source": [
    "Импортируем библиотеки:"
   ]
  },
  {
   "cell_type": "code",
   "execution_count": 5,
   "id": "87810cad",
   "metadata": {},
   "outputs": [],
   "source": [
    "import pandas as pd\n",
    "import matplotlib.pyplot as plt\n",
    "import seaborn as sns\n",
    "from scipy import stats as st\n",
    "from scipy.stats import ttest_ind\n",
    "from statsmodels.stats.proportion import proportions_ztest\n",
    "import numpy as np\n",
    "import statsmodels.stats.power as smp\n",
    "import statsmodels.stats.proportion as smprop"
   ]
  },
  {
   "cell_type": "markdown",
   "id": "a524022c",
   "metadata": {},
   "source": [
    "Изучим данные:"
   ]
  },
  {
   "cell_type": "code",
   "execution_count": 7,
   "id": "1f905802",
   "metadata": {},
   "outputs": [
    {
     "data": {
      "text/html": [
       "<div>\n",
       "<style scoped>\n",
       "    .dataframe tbody tr th:only-of-type {\n",
       "        vertical-align: middle;\n",
       "    }\n",
       "\n",
       "    .dataframe tbody tr th {\n",
       "        vertical-align: top;\n",
       "    }\n",
       "\n",
       "    .dataframe thead th {\n",
       "        text-align: right;\n",
       "    }\n",
       "</style>\n",
       "<table border=\"1\" class=\"dataframe\">\n",
       "  <thead>\n",
       "    <tr style=\"text-align: right;\">\n",
       "      <th></th>\n",
       "      <th>user_id</th>\n",
       "      <th>group</th>\n",
       "      <th>ab_test</th>\n",
       "      <th>device</th>\n",
       "    </tr>\n",
       "  </thead>\n",
       "  <tbody>\n",
       "    <tr>\n",
       "      <th>0</th>\n",
       "      <td>0002CE61FF2C4011</td>\n",
       "      <td>B</td>\n",
       "      <td>interface_eu_test</td>\n",
       "      <td>Mac</td>\n",
       "    </tr>\n",
       "    <tr>\n",
       "      <th>1</th>\n",
       "      <td>001064FEAAB631A1</td>\n",
       "      <td>B</td>\n",
       "      <td>recommender_system_test</td>\n",
       "      <td>Android</td>\n",
       "    </tr>\n",
       "    <tr>\n",
       "      <th>2</th>\n",
       "      <td>001064FEAAB631A1</td>\n",
       "      <td>A</td>\n",
       "      <td>interface_eu_test</td>\n",
       "      <td>Android</td>\n",
       "    </tr>\n",
       "    <tr>\n",
       "      <th>3</th>\n",
       "      <td>0010A1C096941592</td>\n",
       "      <td>A</td>\n",
       "      <td>recommender_system_test</td>\n",
       "      <td>Android</td>\n",
       "    </tr>\n",
       "    <tr>\n",
       "      <th>4</th>\n",
       "      <td>001E72F50D1C48FA</td>\n",
       "      <td>A</td>\n",
       "      <td>interface_eu_test</td>\n",
       "      <td>Mac</td>\n",
       "    </tr>\n",
       "  </tbody>\n",
       "</table>\n",
       "</div>"
      ],
      "text/plain": [
       "            user_id group                  ab_test   device\n",
       "0  0002CE61FF2C4011     B        interface_eu_test      Mac\n",
       "1  001064FEAAB631A1     B  recommender_system_test  Android\n",
       "2  001064FEAAB631A1     A        interface_eu_test  Android\n",
       "3  0010A1C096941592     A  recommender_system_test  Android\n",
       "4  001E72F50D1C48FA     A        interface_eu_test      Mac"
      ]
     },
     "metadata": {},
     "output_type": "display_data"
    },
    {
     "name": "stdout",
     "output_type": "stream",
     "text": [
      "<class 'pandas.core.frame.DataFrame'>\n",
      "RangeIndex: 14525 entries, 0 to 14524\n",
      "Data columns (total 4 columns):\n",
      " #   Column   Non-Null Count  Dtype \n",
      "---  ------   --------------  ----- \n",
      " 0   user_id  14525 non-null  object\n",
      " 1   group    14525 non-null  object\n",
      " 2   ab_test  14525 non-null  object\n",
      " 3   device   14525 non-null  object\n",
      "dtypes: object(4)\n",
      "memory usage: 454.0+ KB\n"
     ]
    }
   ],
   "source": [
    "display(participants.head())\n",
    "participants.info()"
   ]
  },
  {
   "cell_type": "code",
   "execution_count": 8,
   "id": "54eed1f9",
   "metadata": {},
   "outputs": [
    {
     "data": {
      "text/html": [
       "<div>\n",
       "<style scoped>\n",
       "    .dataframe tbody tr th:only-of-type {\n",
       "        vertical-align: middle;\n",
       "    }\n",
       "\n",
       "    .dataframe tbody tr th {\n",
       "        vertical-align: top;\n",
       "    }\n",
       "\n",
       "    .dataframe thead th {\n",
       "        text-align: right;\n",
       "    }\n",
       "</style>\n",
       "<table border=\"1\" class=\"dataframe\">\n",
       "  <thead>\n",
       "    <tr style=\"text-align: right;\">\n",
       "      <th></th>\n",
       "      <th>user_id</th>\n",
       "      <th>event_dt</th>\n",
       "      <th>event_name</th>\n",
       "      <th>details</th>\n",
       "    </tr>\n",
       "  </thead>\n",
       "  <tbody>\n",
       "    <tr>\n",
       "      <th>0</th>\n",
       "      <td>GLOBAL</td>\n",
       "      <td>2020-12-01 00:00:00</td>\n",
       "      <td>End of Black Friday Ads Campaign</td>\n",
       "      <td>ZONE_CODE15</td>\n",
       "    </tr>\n",
       "    <tr>\n",
       "      <th>1</th>\n",
       "      <td>CCBE9E7E99F94A08</td>\n",
       "      <td>2020-12-01 00:00:11</td>\n",
       "      <td>registration</td>\n",
       "      <td>0.0</td>\n",
       "    </tr>\n",
       "    <tr>\n",
       "      <th>2</th>\n",
       "      <td>GLOBAL</td>\n",
       "      <td>2020-12-01 00:00:25</td>\n",
       "      <td>product_page</td>\n",
       "      <td>NaN</td>\n",
       "    </tr>\n",
       "    <tr>\n",
       "      <th>3</th>\n",
       "      <td>CCBE9E7E99F94A08</td>\n",
       "      <td>2020-12-01 00:00:33</td>\n",
       "      <td>login</td>\n",
       "      <td>NaN</td>\n",
       "    </tr>\n",
       "    <tr>\n",
       "      <th>4</th>\n",
       "      <td>CCBE9E7E99F94A08</td>\n",
       "      <td>2020-12-01 00:00:52</td>\n",
       "      <td>product_page</td>\n",
       "      <td>NaN</td>\n",
       "    </tr>\n",
       "  </tbody>\n",
       "</table>\n",
       "</div>"
      ],
      "text/plain": [
       "            user_id            event_dt                        event_name  \\\n",
       "0            GLOBAL 2020-12-01 00:00:00  End of Black Friday Ads Campaign   \n",
       "1  CCBE9E7E99F94A08 2020-12-01 00:00:11                      registration   \n",
       "2            GLOBAL 2020-12-01 00:00:25                      product_page   \n",
       "3  CCBE9E7E99F94A08 2020-12-01 00:00:33                             login   \n",
       "4  CCBE9E7E99F94A08 2020-12-01 00:00:52                      product_page   \n",
       "\n",
       "       details  \n",
       "0  ZONE_CODE15  \n",
       "1          0.0  \n",
       "2          NaN  \n",
       "3          NaN  \n",
       "4          NaN  "
      ]
     },
     "metadata": {},
     "output_type": "display_data"
    },
    {
     "name": "stdout",
     "output_type": "stream",
     "text": [
      "<class 'pandas.core.frame.DataFrame'>\n",
      "RangeIndex: 787286 entries, 0 to 787285\n",
      "Data columns (total 4 columns):\n",
      " #   Column      Non-Null Count   Dtype         \n",
      "---  ------      --------------   -----         \n",
      " 0   user_id     787286 non-null  object        \n",
      " 1   event_dt    787286 non-null  datetime64[ns]\n",
      " 2   event_name  787286 non-null  object        \n",
      " 3   details     249022 non-null  object        \n",
      "dtypes: datetime64[ns](1), object(3)\n",
      "memory usage: 24.0+ MB\n"
     ]
    }
   ],
   "source": [
    "display(events.head())\n",
    "events.info()"
   ]
  },
  {
   "cell_type": "markdown",
   "id": "d23ec953",
   "metadata": {},
   "source": [
    "**Выводы:**\n",
    "- данные соответствуют описанию;\n",
    "- пропуски в столбце `details`. Оставим без изменений.\n"
   ]
  },
  {
   "cell_type": "markdown",
   "id": "CnzA-efasUrk",
   "metadata": {
    "id": "CnzA-efasUrk"
   },
   "source": [
    "## По таблице `ab_test_participants` оценим корректность проведения теста"
   ]
  },
  {
   "cell_type": "markdown",
   "id": "22e1d307",
   "metadata": {},
   "source": [
    "Выделим пользователей, участвующих в тесте, и проверим:\n",
    "   - соответствие требованиям технического задания;\n",
    "   - равномерность распределения пользователей по группам теста;\n",
    "   - отсутствие пересечений с конкурирующим тестом (нет пользователей, участвующих одновременно в двух тестовых группах)."
   ]
  },
  {
   "cell_type": "code",
   "execution_count": 9,
   "id": "aNa3zHrKslEN",
   "metadata": {
    "id": "aNa3zHrKslEN"
   },
   "outputs": [
    {
     "data": {
      "text/html": [
       "<div>\n",
       "<style scoped>\n",
       "    .dataframe tbody tr th:only-of-type {\n",
       "        vertical-align: middle;\n",
       "    }\n",
       "\n",
       "    .dataframe tbody tr th {\n",
       "        vertical-align: top;\n",
       "    }\n",
       "\n",
       "    .dataframe thead th {\n",
       "        text-align: right;\n",
       "    }\n",
       "</style>\n",
       "<table border=\"1\" class=\"dataframe\">\n",
       "  <thead>\n",
       "    <tr style=\"text-align: right;\">\n",
       "      <th></th>\n",
       "      <th>ab_test</th>\n",
       "      <th>group</th>\n",
       "      <th>user_id</th>\n",
       "    </tr>\n",
       "  </thead>\n",
       "  <tbody>\n",
       "    <tr>\n",
       "      <th>0</th>\n",
       "      <td>interface_eu_test</td>\n",
       "      <td>A</td>\n",
       "      <td>5383</td>\n",
       "    </tr>\n",
       "    <tr>\n",
       "      <th>1</th>\n",
       "      <td>interface_eu_test</td>\n",
       "      <td>B</td>\n",
       "      <td>5467</td>\n",
       "    </tr>\n",
       "    <tr>\n",
       "      <th>2</th>\n",
       "      <td>recommender_system_test</td>\n",
       "      <td>A</td>\n",
       "      <td>2747</td>\n",
       "    </tr>\n",
       "    <tr>\n",
       "      <th>3</th>\n",
       "      <td>recommender_system_test</td>\n",
       "      <td>B</td>\n",
       "      <td>928</td>\n",
       "    </tr>\n",
       "  </tbody>\n",
       "</table>\n",
       "</div>"
      ],
      "text/plain": [
       "                   ab_test group  user_id\n",
       "0        interface_eu_test     A     5383\n",
       "1        interface_eu_test     B     5467\n",
       "2  recommender_system_test     A     2747\n",
       "3  recommender_system_test     B      928"
      ]
     },
     "execution_count": 9,
     "metadata": {},
     "output_type": "execute_result"
    }
   ],
   "source": [
    "# Проверяем распределение пользователей по группам\n",
    "grouped_users=participants.groupby(['ab_test', 'group']).agg({'user_id': 'nunique'}).reset_index()\n",
    "grouped_users"
   ]
  },
  {
   "cell_type": "code",
   "execution_count": 10,
   "id": "afb789f7",
   "metadata": {},
   "outputs": [
    {
     "name": "stdout",
     "output_type": "stream",
     "text": [
      "Процентная разница между группами A и B: -1.56%\n"
     ]
    }
   ],
   "source": [
    "# Рассчитываем процентную разницу между группами A и B\n",
    "value_A = grouped_users[grouped_users['group'] == 'A']['user_id'].values[0]\n",
    "value_B = grouped_users[grouped_users['group'] == 'B']['user_id'].values[0]\n",
    "percentage_diff = 100 * (value_A - value_B) / value_A\n",
    "print(f\"Процентная разница между группами A и B: {percentage_diff:.2f}%\")"
   ]
  },
  {
   "cell_type": "markdown",
   "id": "10040ade",
   "metadata": {},
   "source": [
    "Кроме исследуемого теста, был еще параллельный тест arecommender_system_test. Посмотрим, насколько пересеклись их аудитории:"
   ]
  },
  {
   "cell_type": "code",
   "execution_count": 11,
   "id": "81599bc7",
   "metadata": {},
   "outputs": [
    {
     "name": "stdout",
     "output_type": "stream",
     "text": [
      "Всего уникальных пользователей в interface_eu_test: 10850\n",
      "Количество пользователей, участвующих в обоих тестах: 887\n",
      "Процент пересечения относительно interface_eu_test: 8.18%\n"
     ]
    }
   ],
   "source": [
    "#  Получаем списки user_id для каждого теста\n",
    "interface_users = set(participants[participants['ab_test'] == 'interface_eu_test']['user_id'])\n",
    "recommender_users = set(participants[participants['ab_test'] == 'recommender_system_test']['user_id'])\n",
    "\n",
    "# Находим пересечение пользователей\n",
    "common_users = interface_users & recommender_users\n",
    "\n",
    "# Выводим результаты\n",
    "print(f\"Всего уникальных пользователей в interface_eu_test: {len(interface_users)}\")\n",
    "print(f\"Количество пользователей, участвующих в обоих тестах: {len(common_users)}\")\n",
    "print(f\"Процент пересечения относительно interface_eu_test: {len(common_users)/len(interface_users)*100:.2f}%\")"
   ]
  },
  {
   "cell_type": "markdown",
   "id": "6a726a08",
   "metadata": {},
   "source": [
    "Удалим пользователей участвующих в 2х тестах."
   ]
  },
  {
   "cell_type": "code",
   "execution_count": 12,
   "id": "d1a78575",
   "metadata": {},
   "outputs": [],
   "source": [
    "participants = participants[~participants['user_id'].isin(common_users)]"
   ]
  },
  {
   "cell_type": "markdown",
   "id": "2b71cba2",
   "metadata": {},
   "source": [
    "**Выводы:**\n",
    "- соответствует ТЗ;\n",
    "- распределение пользователей по группам равномерное (разница несущественная - 1,56%);\n",
    "- есть пересечений с конкурирующим тестом (8,18% пользователей, участвуют одновременно в двух тестах). Данные пользователи для дальнейших исследований были удалены."
   ]
  },
  {
   "cell_type": "markdown",
   "id": "GjulgSrlsqUU",
   "metadata": {
    "id": "GjulgSrlsqUU"
   },
   "source": [
    "Проанализируем данные о пользовательской активности по таблице `ab_test_events`:\n",
    "- оставим события, связанные с участвующими в изучаемом тесте пользователями."
   ]
  },
  {
   "cell_type": "code",
   "execution_count": 15,
   "id": "QMt0Ybo_swDK",
   "metadata": {
    "id": "QMt0Ybo_swDK"
   },
   "outputs": [
    {
     "data": {
      "text/html": [
       "<div>\n",
       "<style scoped>\n",
       "    .dataframe tbody tr th:only-of-type {\n",
       "        vertical-align: middle;\n",
       "    }\n",
       "\n",
       "    .dataframe tbody tr th {\n",
       "        vertical-align: top;\n",
       "    }\n",
       "\n",
       "    .dataframe thead th {\n",
       "        text-align: right;\n",
       "    }\n",
       "</style>\n",
       "<table border=\"1\" class=\"dataframe\">\n",
       "  <thead>\n",
       "    <tr style=\"text-align: right;\">\n",
       "      <th></th>\n",
       "      <th>user_id</th>\n",
       "      <th>group</th>\n",
       "      <th>ab_test</th>\n",
       "      <th>device</th>\n",
       "      <th>event_dt</th>\n",
       "      <th>event_name</th>\n",
       "      <th>details</th>\n",
       "    </tr>\n",
       "  </thead>\n",
       "  <tbody>\n",
       "    <tr>\n",
       "      <th>0</th>\n",
       "      <td>0002CE61FF2C4011</td>\n",
       "      <td>B</td>\n",
       "      <td>interface_eu_test</td>\n",
       "      <td>Mac</td>\n",
       "      <td>2020-12-07 04:37:31</td>\n",
       "      <td>registration</td>\n",
       "      <td>-2.38</td>\n",
       "    </tr>\n",
       "    <tr>\n",
       "      <th>1</th>\n",
       "      <td>0002CE61FF2C4011</td>\n",
       "      <td>B</td>\n",
       "      <td>interface_eu_test</td>\n",
       "      <td>Mac</td>\n",
       "      <td>2020-12-07 04:37:49</td>\n",
       "      <td>login</td>\n",
       "      <td>NaN</td>\n",
       "    </tr>\n",
       "    <tr>\n",
       "      <th>2</th>\n",
       "      <td>0002CE61FF2C4011</td>\n",
       "      <td>B</td>\n",
       "      <td>interface_eu_test</td>\n",
       "      <td>Mac</td>\n",
       "      <td>2020-12-07 04:37:57</td>\n",
       "      <td>login</td>\n",
       "      <td>NaN</td>\n",
       "    </tr>\n",
       "    <tr>\n",
       "      <th>3</th>\n",
       "      <td>0002CE61FF2C4011</td>\n",
       "      <td>B</td>\n",
       "      <td>interface_eu_test</td>\n",
       "      <td>Mac</td>\n",
       "      <td>2020-12-07 04:38:54</td>\n",
       "      <td>login</td>\n",
       "      <td>NaN</td>\n",
       "    </tr>\n",
       "    <tr>\n",
       "      <th>4</th>\n",
       "      <td>0002CE61FF2C4011</td>\n",
       "      <td>B</td>\n",
       "      <td>interface_eu_test</td>\n",
       "      <td>Mac</td>\n",
       "      <td>2020-12-08 22:15:35</td>\n",
       "      <td>login</td>\n",
       "      <td>NaN</td>\n",
       "    </tr>\n",
       "  </tbody>\n",
       "</table>\n",
       "</div>"
      ],
      "text/plain": [
       "            user_id group            ab_test device            event_dt  \\\n",
       "0  0002CE61FF2C4011     B  interface_eu_test    Mac 2020-12-07 04:37:31   \n",
       "1  0002CE61FF2C4011     B  interface_eu_test    Mac 2020-12-07 04:37:49   \n",
       "2  0002CE61FF2C4011     B  interface_eu_test    Mac 2020-12-07 04:37:57   \n",
       "3  0002CE61FF2C4011     B  interface_eu_test    Mac 2020-12-07 04:38:54   \n",
       "4  0002CE61FF2C4011     B  interface_eu_test    Mac 2020-12-08 22:15:35   \n",
       "\n",
       "     event_name details  \n",
       "0  registration   -2.38  \n",
       "1         login     NaN  \n",
       "2         login     NaN  \n",
       "3         login     NaN  \n",
       "4         login     NaN  "
      ]
     },
     "execution_count": 15,
     "metadata": {},
     "output_type": "execute_result"
    }
   ],
   "source": [
    "# Объединим таблицы\n",
    "merged_df = pd.merge(\n",
    "    left=participants,\n",
    "    right=events,\n",
    "    how='left',\n",
    "    on='user_id'\n",
    ")\n",
    "merged_df.head()"
   ]
  },
  {
   "cell_type": "code",
   "execution_count": 16,
   "id": "1415ca3d",
   "metadata": {},
   "outputs": [
    {
     "name": "stdout",
     "output_type": "stream",
     "text": [
      "<class 'pandas.core.frame.DataFrame'>\n",
      "Int64Index: 92758 entries, 0 to 92757\n",
      "Data columns (total 7 columns):\n",
      " #   Column      Non-Null Count  Dtype         \n",
      "---  ------      --------------  -----         \n",
      " 0   user_id     92758 non-null  object        \n",
      " 1   group       92758 non-null  object        \n",
      " 2   ab_test     92758 non-null  object        \n",
      " 3   device      92758 non-null  object        \n",
      " 4   event_dt    92758 non-null  datetime64[ns]\n",
      " 5   event_name  92758 non-null  object        \n",
      " 6   details     24628 non-null  object        \n",
      "dtypes: datetime64[ns](1), object(6)\n",
      "memory usage: 5.7+ MB\n"
     ]
    }
   ],
   "source": [
    "merged_df.info()"
   ]
  },
  {
   "cell_type": "markdown",
   "id": "fBZ4DC2xswZJ",
   "metadata": {
    "id": "fBZ4DC2xswZJ"
   },
   "source": [
    "Определим горизонт анализа: рассчитаем время (лайфтайм) совершения события пользователем после регистрации и оставим только те события, которые были выполнены в течение первых семи дней с момента регистрации."
   ]
  },
  {
   "cell_type": "code",
   "execution_count": 17,
   "id": "d76092c2",
   "metadata": {},
   "outputs": [
    {
     "data": {
      "text/html": [
       "<div>\n",
       "<style scoped>\n",
       "    .dataframe tbody tr th:only-of-type {\n",
       "        vertical-align: middle;\n",
       "    }\n",
       "\n",
       "    .dataframe tbody tr th {\n",
       "        vertical-align: top;\n",
       "    }\n",
       "\n",
       "    .dataframe thead th {\n",
       "        text-align: right;\n",
       "    }\n",
       "</style>\n",
       "<table border=\"1\" class=\"dataframe\">\n",
       "  <thead>\n",
       "    <tr style=\"text-align: right;\">\n",
       "      <th></th>\n",
       "      <th>user_id</th>\n",
       "      <th>group</th>\n",
       "      <th>ab_test</th>\n",
       "      <th>device</th>\n",
       "      <th>event_dt</th>\n",
       "      <th>event_name</th>\n",
       "      <th>details</th>\n",
       "      <th>registration_dt</th>\n",
       "      <th>lifetime</th>\n",
       "    </tr>\n",
       "  </thead>\n",
       "  <tbody>\n",
       "    <tr>\n",
       "      <th>64172</th>\n",
       "      <td>AFD2C642DE1D5D2A</td>\n",
       "      <td>A</td>\n",
       "      <td>recommender_system_test</td>\n",
       "      <td>iPhone</td>\n",
       "      <td>2020-12-23 14:31:23</td>\n",
       "      <td>product_page</td>\n",
       "      <td>NaN</td>\n",
       "      <td>2020-12-16 14:31:37</td>\n",
       "      <td>6 days 23:59:46</td>\n",
       "    </tr>\n",
       "    <tr>\n",
       "      <th>38263</th>\n",
       "      <td>693922FA03FC6666</td>\n",
       "      <td>B</td>\n",
       "      <td>recommender_system_test</td>\n",
       "      <td>PC</td>\n",
       "      <td>2020-12-22 18:21:25</td>\n",
       "      <td>purchase</td>\n",
       "      <td>4.890000000000001</td>\n",
       "      <td>2020-12-15 18:21:55</td>\n",
       "      <td>6 days 23:59:30</td>\n",
       "    </tr>\n",
       "    <tr>\n",
       "      <th>38262</th>\n",
       "      <td>693922FA03FC6666</td>\n",
       "      <td>B</td>\n",
       "      <td>recommender_system_test</td>\n",
       "      <td>PC</td>\n",
       "      <td>2020-12-22 18:20:15</td>\n",
       "      <td>purchase</td>\n",
       "      <td>99.99</td>\n",
       "      <td>2020-12-15 18:21:55</td>\n",
       "      <td>6 days 23:58:20</td>\n",
       "    </tr>\n",
       "    <tr>\n",
       "      <th>90344</th>\n",
       "      <td>F9236DA883A6285C</td>\n",
       "      <td>A</td>\n",
       "      <td>interface_eu_test</td>\n",
       "      <td>Android</td>\n",
       "      <td>2020-12-21 10:11:00</td>\n",
       "      <td>product_page</td>\n",
       "      <td>NaN</td>\n",
       "      <td>2020-12-14 10:12:50</td>\n",
       "      <td>6 days 23:58:10</td>\n",
       "    </tr>\n",
       "    <tr>\n",
       "      <th>24921</th>\n",
       "      <td>44692DD8619119D1</td>\n",
       "      <td>A</td>\n",
       "      <td>interface_eu_test</td>\n",
       "      <td>Mac</td>\n",
       "      <td>2020-12-22 20:45:42</td>\n",
       "      <td>product_cart</td>\n",
       "      <td>NaN</td>\n",
       "      <td>2020-12-15 20:50:55</td>\n",
       "      <td>6 days 23:54:47</td>\n",
       "    </tr>\n",
       "    <tr>\n",
       "      <th>...</th>\n",
       "      <td>...</td>\n",
       "      <td>...</td>\n",
       "      <td>...</td>\n",
       "      <td>...</td>\n",
       "      <td>...</td>\n",
       "      <td>...</td>\n",
       "      <td>...</td>\n",
       "      <td>...</td>\n",
       "      <td>...</td>\n",
       "    </tr>\n",
       "    <tr>\n",
       "      <th>30061</th>\n",
       "      <td>524879CA4380D898</td>\n",
       "      <td>A</td>\n",
       "      <td>interface_eu_test</td>\n",
       "      <td>iPhone</td>\n",
       "      <td>2020-12-10 02:55:00</td>\n",
       "      <td>registration</td>\n",
       "      <td>-3.8</td>\n",
       "      <td>2020-12-10 02:55:00</td>\n",
       "      <td>0 days 00:00:00</td>\n",
       "    </tr>\n",
       "    <tr>\n",
       "      <th>66432</th>\n",
       "      <td>B6C207AB67D61922</td>\n",
       "      <td>A</td>\n",
       "      <td>interface_eu_test</td>\n",
       "      <td>Android</td>\n",
       "      <td>2020-12-19 09:49:40</td>\n",
       "      <td>registration</td>\n",
       "      <td>0.0</td>\n",
       "      <td>2020-12-19 09:49:40</td>\n",
       "      <td>0 days 00:00:00</td>\n",
       "    </tr>\n",
       "    <tr>\n",
       "      <th>66422</th>\n",
       "      <td>B6C0B0221D98E4FA</td>\n",
       "      <td>B</td>\n",
       "      <td>interface_eu_test</td>\n",
       "      <td>Android</td>\n",
       "      <td>2020-12-08 22:40:06</td>\n",
       "      <td>registration</td>\n",
       "      <td>0.0</td>\n",
       "      <td>2020-12-08 22:40:06</td>\n",
       "      <td>0 days 00:00:00</td>\n",
       "    </tr>\n",
       "    <tr>\n",
       "      <th>66417</th>\n",
       "      <td>B6B88E3240A47646</td>\n",
       "      <td>A</td>\n",
       "      <td>recommender_system_test</td>\n",
       "      <td>Mac</td>\n",
       "      <td>2020-12-20 06:49:44</td>\n",
       "      <td>registration</td>\n",
       "      <td>0.0</td>\n",
       "      <td>2020-12-20 06:49:44</td>\n",
       "      <td>0 days 00:00:00</td>\n",
       "    </tr>\n",
       "    <tr>\n",
       "      <th>0</th>\n",
       "      <td>0002CE61FF2C4011</td>\n",
       "      <td>B</td>\n",
       "      <td>interface_eu_test</td>\n",
       "      <td>Mac</td>\n",
       "      <td>2020-12-07 04:37:31</td>\n",
       "      <td>registration</td>\n",
       "      <td>-2.38</td>\n",
       "      <td>2020-12-07 04:37:31</td>\n",
       "      <td>0 days 00:00:00</td>\n",
       "    </tr>\n",
       "  </tbody>\n",
       "</table>\n",
       "<p>80410 rows × 9 columns</p>\n",
       "</div>"
      ],
      "text/plain": [
       "                user_id group                  ab_test   device  \\\n",
       "64172  AFD2C642DE1D5D2A     A  recommender_system_test   iPhone   \n",
       "38263  693922FA03FC6666     B  recommender_system_test       PC   \n",
       "38262  693922FA03FC6666     B  recommender_system_test       PC   \n",
       "90344  F9236DA883A6285C     A        interface_eu_test  Android   \n",
       "24921  44692DD8619119D1     A        interface_eu_test      Mac   \n",
       "...                 ...   ...                      ...      ...   \n",
       "30061  524879CA4380D898     A        interface_eu_test   iPhone   \n",
       "66432  B6C207AB67D61922     A        interface_eu_test  Android   \n",
       "66422  B6C0B0221D98E4FA     B        interface_eu_test  Android   \n",
       "66417  B6B88E3240A47646     A  recommender_system_test      Mac   \n",
       "0      0002CE61FF2C4011     B        interface_eu_test      Mac   \n",
       "\n",
       "                 event_dt    event_name            details  \\\n",
       "64172 2020-12-23 14:31:23  product_page                NaN   \n",
       "38263 2020-12-22 18:21:25      purchase  4.890000000000001   \n",
       "38262 2020-12-22 18:20:15      purchase              99.99   \n",
       "90344 2020-12-21 10:11:00  product_page                NaN   \n",
       "24921 2020-12-22 20:45:42  product_cart                NaN   \n",
       "...                   ...           ...                ...   \n",
       "30061 2020-12-10 02:55:00  registration               -3.8   \n",
       "66432 2020-12-19 09:49:40  registration                0.0   \n",
       "66422 2020-12-08 22:40:06  registration                0.0   \n",
       "66417 2020-12-20 06:49:44  registration                0.0   \n",
       "0     2020-12-07 04:37:31  registration              -2.38   \n",
       "\n",
       "          registration_dt        lifetime  \n",
       "64172 2020-12-16 14:31:37 6 days 23:59:46  \n",
       "38263 2020-12-15 18:21:55 6 days 23:59:30  \n",
       "38262 2020-12-15 18:21:55 6 days 23:58:20  \n",
       "90344 2020-12-14 10:12:50 6 days 23:58:10  \n",
       "24921 2020-12-15 20:50:55 6 days 23:54:47  \n",
       "...                   ...             ...  \n",
       "30061 2020-12-10 02:55:00 0 days 00:00:00  \n",
       "66432 2020-12-19 09:49:40 0 days 00:00:00  \n",
       "66422 2020-12-08 22:40:06 0 days 00:00:00  \n",
       "66417 2020-12-20 06:49:44 0 days 00:00:00  \n",
       "0     2020-12-07 04:37:31 0 days 00:00:00  \n",
       "\n",
       "[80410 rows x 9 columns]"
      ]
     },
     "execution_count": 17,
     "metadata": {},
     "output_type": "execute_result"
    }
   ],
   "source": [
    "#  Найдем время регистрации для каждого пользователя\n",
    "registration_times = merged_df[merged_df['event_name'] == 'registration'].groupby('user_id')['event_dt'].min()\n",
    "\n",
    "# Объединим с основным датафреймом, чтобы добавить время регистрации к каждому событию\n",
    "filtered_df = merged_df.merge(registration_times.rename('registration_dt'), \n",
    "                           how='left', \n",
    "                           on='user_id')\n",
    "\n",
    "# Рассчитаем лайфтайм (разница между временем события и регистрации в днях)\n",
    "filtered_df['lifetime'] = filtered_df['event_dt'] - filtered_df['registration_dt']\n",
    "\n",
    "# Оставим только события, которые произошли в первые 7 дней после регистрации\n",
    "filtered_df = filtered_df[filtered_df['lifetime'] <= '7 days 00:00:00'].copy()\n",
    "filtered_df.sort_values('lifetime', ascending=False)"
   ]
  },
  {
   "cell_type": "markdown",
   "id": "7cf1df48",
   "metadata": {},
   "source": [
    "Оценим достаточность выборки для получения статистически значимых результатов A/B-теста. Параметры:\n",
    "- базовый показатель конверсии — 30%,\n",
    "- мощность теста — 80%,\n",
    "- достоверность теста — 95%."
   ]
  },
  {
   "cell_type": "markdown",
   "id": "d838445e",
   "metadata": {},
   "source": [
    "Для оценки достаточности выборки в A/B-тесте используем библиотеку statsmodels."
   ]
  },
  {
   "cell_type": "code",
   "execution_count": 52,
   "id": "7d97b466",
   "metadata": {},
   "outputs": [
    {
     "name": "stdout",
     "output_type": "stream",
     "text": [
      "Размер выборки для каждой группы: 14856\n"
     ]
    }
   ],
   "source": [
    "# Заданные параметры\n",
    "baseline_conversion = 0.30  # базовая конверсия (30%)\n",
    "effect_size = 0.05  # минимальный детектируемый эффект (5%)\n",
    "alpha = 0.05  # уровень значимости (5%, соответствует 95% достоверности)\n",
    "power = 0.80  # мощность теста (80%)\n",
    "\n",
    "# Расчет MDE (Minimum Detectable Effect) в абсолютных значениях\n",
    "mde_absolute = baseline_conversion * effect_size\n",
    "\n",
    "# Расчет размера выборки для одной группы (формула для пропорций)\n",
    "sample_size = smp.tt_ind_solve_power(\n",
    "    effect_size=smprop.proportion_effectsize(baseline_conversion, baseline_conversion + mde_absolute),\n",
    "    alpha=alpha,\n",
    "    power=power,\n",
    "    ratio=1.0,  # равные размеры групп\n",
    "    alternative='two-sided'  # двусторонний тест\n",
    ")\n",
    "\n",
    "print(f\"Размер выборки для каждой группы: {round(sample_size)}\")"
   ]
  },
  {
   "cell_type": "markdown",
   "id": "SadyUDgZs0t3",
   "metadata": {
    "id": "SadyUDgZs0t3"
   },
   "source": [
    "Рассчитаем для каждой группы количество посетителей, сделавших покупку, и общее количество посетителей."
   ]
  },
  {
   "cell_type": "code",
   "execution_count": 53,
   "id": "7ph853Xks4sy",
   "metadata": {
    "id": "7ph853Xks4sy"
   },
   "outputs": [
    {
     "name": "stdout",
     "output_type": "stream",
     "text": [
      "  group  users_with_purchase  total_users  conversion_rate\n",
      "0     A                 1937         7034         0.275377\n",
      "1     B                 1645         5717         0.287738\n"
     ]
    }
   ],
   "source": [
    "# Фильтруем только события 'purchase'\n",
    "purchase_events = filtered_df[filtered_df['event_name'] == 'purchase']\n",
    "\n",
    "# Группируем по 'group' и считаем:\n",
    "# 1) Уникальных пользователей, сделавших покупку\n",
    "# 2) Общее количество уникальных пользователей в каждой группе (из исходного DataFrame)\n",
    "\n",
    "# 1. Уникальные пользователи с покупкой по группам\n",
    "purchase_users_per_group = purchase_events.groupby('group')['user_id'].nunique().reset_index()\n",
    "purchase_users_per_group.columns = ['group', 'users_with_purchase']\n",
    "\n",
    "# 2. Общее количество уникальных пользователей по группам (из всего filtered_df)\n",
    "total_users_per_group = filtered_df.groupby('group')['user_id'].nunique().reset_index()\n",
    "total_users_per_group.columns = ['group', 'total_users']\n",
    "\n",
    "# Объединяем результаты\n",
    "result = pd.merge(\n",
    "    purchase_users_per_group,\n",
    "    total_users_per_group,\n",
    "    on='group'\n",
    ")\n",
    "\n",
    "result['conversion_rate'] = result['users_with_purchase'] / result['total_users']\n",
    "print(result)"
   ]
  },
  {
   "cell_type": "markdown",
   "id": "896b5887",
   "metadata": {
    "id": "hHTHPkJYs8mE"
   },
   "source": [
    "**Вывод:** \n",
    "- конверсия в тестовой группе B выше на ~4,5 процентных пункта  по сравнению с контрольной группой A, т.о.эффект от изменений есть, более 3 запланированых процентов. Определим является ли он статистически значимым."
   ]
  },
  {
   "cell_type": "markdown",
   "id": "IKZ1Oo3Ws919",
   "metadata": {
    "id": "IKZ1Oo3Ws919"
   },
   "source": [
    "## Проведем оценку результатов A/B-тестирования"
   ]
  },
  {
   "cell_type": "markdown",
   "id": "dcUdBSmvtC-E",
   "metadata": {
    "id": "dcUdBSmvtC-E"
   },
   "source": [
    "Проверим изменение конверсии подходящим статистическим тестом, учитывая все этапы проверки гипотез."
   ]
  },
  {
   "cell_type": "markdown",
   "id": "4b9399aa",
   "metadata": {
    "id": "l_KOziBQtL3t"
   },
   "source": [
    "Для проверки статистической значимости различий в конверсии между группами A и B используем Z-тест для пропорций (так как сравниваем доли успехов в двух группах). \n",
    "\n",
    "Сформулируем гипотизы:\n",
    "- H0: статистически значимых различий нет;\n",
    "- H1: статистически значимые разлия есть."
   ]
  },
  {
   "cell_type": "code",
   "execution_count": 18,
   "id": "baf1dfaf",
   "metadata": {
    "scrolled": true
   },
   "outputs": [
    {
     "name": "stdout",
     "output_type": "stream",
     "text": [
      "Z-статистика = -1.980\n",
      "p-value = 0.0477\n",
      "Отвергаем H₀: различия в конверсии статистически значимы.\n"
     ]
    }
   ],
   "source": [
    "# Конверсия\n",
    "conv_A = 0.287  \n",
    "conv_B = 0.303  \n",
    "\n",
    "# Размеры групп \n",
    "n_A = 7034\n",
    "n_B = 5717\n",
    "\n",
    "# Количество успехов (покупок)\n",
    "success_A = int(conv_A * n_A)\n",
    "success_B = int(conv_B * n_B)\n",
    "\n",
    "# Z-тест для пропорций\n",
    "z_score, p_value = proportions_ztest(\n",
    "    count=[success_A, success_B],\n",
    "    nobs=[n_A, n_B],\n",
    "    alternative='two-sided'  \n",
    ")\n",
    "\n",
    "print(f\"Z-статистика = {z_score:.3f}\")\n",
    "print(f\"p-value = {p_value:.4f}\")\n",
    "\n",
    "# Интерпретация\n",
    "if p_value < 0.05:\n",
    "    print(\"Отвергаем H₀: различия в конверсии статистически значимы.\")\n",
    "else:\n",
    "    print(\"Не отвергаем H₀: статистически значимых различий нет.\")"
   ]
  },
  {
   "cell_type": "markdown",
   "id": "npoPPSKytKvR",
   "metadata": {
    "id": "npoPPSKytKvR"
   },
   "source": [
    "**Итоговые выводы:**\n",
    "- распределение пользователей по группам равномерное;\n",
    "- удалены пользователи, участвующие сразу в 2х тестах;\n",
    "- конверсия в тестовой группе B выше на ~4,5%, более ожидаемых 3%, результат статистически значемый.\n",
    "\n",
    "**Рекомендации:**\n",
    "- Рекомендуем использовать новую версию сайта."
   ]
  }
 ],
 "metadata": {
  "ExecuteTimeLog": [
   {
    "duration": 374,
    "start_time": "2025-05-29T11:09:59.192Z"
   },
   {
    "duration": 296,
    "start_time": "2025-05-29T11:09:59.689Z"
   },
   {
    "duration": 79,
    "start_time": "2025-05-29T11:10:08.913Z"
   },
   {
    "duration": 134,
    "start_time": "2025-05-29T11:10:11.974Z"
   },
   {
    "duration": 20,
    "start_time": "2025-05-29T11:10:28.153Z"
   },
   {
    "duration": 13,
    "start_time": "2025-05-29T11:23:10.583Z"
   },
   {
    "duration": 8,
    "start_time": "2025-05-29T11:28:13.853Z"
   },
   {
    "duration": 2,
    "start_time": "2025-05-29T11:28:42.612Z"
   },
   {
    "duration": 2,
    "start_time": "2025-05-29T11:28:45.687Z"
   },
   {
    "duration": 16,
    "start_time": "2025-05-29T11:28:53.499Z"
   },
   {
    "duration": 2,
    "start_time": "2025-05-29T11:29:22.272Z"
   },
   {
    "duration": 639,
    "start_time": "2025-05-29T11:29:22.728Z"
   },
   {
    "duration": 13,
    "start_time": "2025-05-29T11:29:23.369Z"
   },
   {
    "duration": 12,
    "start_time": "2025-05-29T11:29:24.090Z"
   },
   {
    "duration": 4,
    "start_time": "2025-05-29T11:29:25.086Z"
   },
   {
    "duration": 5,
    "start_time": "2025-05-29T11:29:29.080Z"
   },
   {
    "duration": 5,
    "start_time": "2025-05-29T11:29:47.206Z"
   },
   {
    "duration": 13,
    "start_time": "2025-05-29T11:34:36.555Z"
   },
   {
    "duration": 8,
    "start_time": "2025-05-29T11:34:55.039Z"
   },
   {
    "duration": 7,
    "start_time": "2025-05-29T11:35:17.556Z"
   },
   {
    "duration": 3,
    "start_time": "2025-05-29T11:36:11.412Z"
   },
   {
    "duration": 125,
    "start_time": "2025-05-29T11:36:12.176Z"
   },
   {
    "duration": 12,
    "start_time": "2025-05-29T11:36:13.382Z"
   },
   {
    "duration": 12,
    "start_time": "2025-05-29T11:36:14.744Z"
   },
   {
    "duration": 7,
    "start_time": "2025-05-29T11:36:16.662Z"
   },
   {
    "duration": 7,
    "start_time": "2025-05-29T11:39:01.116Z"
   },
   {
    "duration": 13,
    "start_time": "2025-05-29T11:39:19.466Z"
   },
   {
    "duration": 8,
    "start_time": "2025-05-29T11:39:36.284Z"
   },
   {
    "duration": 7,
    "start_time": "2025-05-29T11:42:19.662Z"
   },
   {
    "duration": 14,
    "start_time": "2025-05-29T11:42:57.133Z"
   },
   {
    "duration": 7,
    "start_time": "2025-05-29T11:43:09.990Z"
   },
   {
    "duration": 6,
    "start_time": "2025-05-29T11:43:32.046Z"
   },
   {
    "duration": 7,
    "start_time": "2025-05-29T11:43:37.486Z"
   },
   {
    "duration": 3,
    "start_time": "2025-05-29T12:00:12.526Z"
   },
   {
    "duration": 244,
    "start_time": "2025-05-29T12:00:12.531Z"
   },
   {
    "duration": 12,
    "start_time": "2025-05-29T12:00:12.777Z"
   },
   {
    "duration": 15,
    "start_time": "2025-05-29T12:00:14.310Z"
   },
   {
    "duration": 16,
    "start_time": "2025-05-29T12:00:20.244Z"
   },
   {
    "duration": 10,
    "start_time": "2025-05-29T12:00:21.894Z"
   },
   {
    "duration": 3,
    "start_time": "2025-05-29T12:00:44.265Z"
   },
   {
    "duration": 95,
    "start_time": "2025-05-29T12:00:44.889Z"
   },
   {
    "duration": 11,
    "start_time": "2025-05-29T12:00:45.962Z"
   },
   {
    "duration": 12,
    "start_time": "2025-05-29T12:00:49.798Z"
   },
   {
    "duration": 13,
    "start_time": "2025-05-29T12:00:59.712Z"
   },
   {
    "duration": 7,
    "start_time": "2025-05-29T12:01:01.677Z"
   },
   {
    "duration": 3,
    "start_time": "2025-05-29T12:01:52.065Z"
   },
   {
    "duration": 202,
    "start_time": "2025-05-29T12:01:52.635Z"
   },
   {
    "duration": 11,
    "start_time": "2025-05-29T12:01:54.640Z"
   },
   {
    "duration": 12,
    "start_time": "2025-05-29T12:02:00.402Z"
   },
   {
    "duration": 12,
    "start_time": "2025-05-29T12:02:03.837Z"
   },
   {
    "duration": 8,
    "start_time": "2025-05-29T12:02:07.763Z"
   },
   {
    "duration": 2,
    "start_time": "2025-05-29T12:02:39.824Z"
   },
   {
    "duration": 556,
    "start_time": "2025-05-29T12:02:40.373Z"
   },
   {
    "duration": 8,
    "start_time": "2025-05-29T12:02:56.471Z"
   },
   {
    "duration": 10,
    "start_time": "2025-05-29T12:03:07.931Z"
   },
   {
    "duration": 11,
    "start_time": "2025-05-29T12:03:08.707Z"
   },
   {
    "duration": 8,
    "start_time": "2025-05-29T12:03:11.743Z"
   },
   {
    "duration": 2,
    "start_time": "2025-05-29T12:04:18.336Z"
   },
   {
    "duration": 251,
    "start_time": "2025-05-29T12:04:20.286Z"
   },
   {
    "duration": 13,
    "start_time": "2025-05-29T12:04:22.005Z"
   },
   {
    "duration": 13,
    "start_time": "2025-05-29T12:04:26.548Z"
   },
   {
    "duration": 11,
    "start_time": "2025-05-29T12:04:35.557Z"
   },
   {
    "duration": 7,
    "start_time": "2025-05-29T12:04:39.106Z"
   },
   {
    "duration": 7,
    "start_time": "2025-05-29T12:05:06.948Z"
   },
   {
    "duration": 487,
    "start_time": "2025-05-29T12:22:24.779Z"
   },
   {
    "duration": 17,
    "start_time": "2025-05-29T12:22:43.571Z"
   },
   {
    "duration": 9,
    "start_time": "2025-05-29T12:26:13.859Z"
   },
   {
    "duration": 9,
    "start_time": "2025-05-29T12:28:47.821Z"
   },
   {
    "duration": 9,
    "start_time": "2025-05-29T12:48:38.891Z"
   },
   {
    "duration": 14,
    "start_time": "2025-05-29T12:48:42.306Z"
   },
   {
    "duration": 37,
    "start_time": "2025-05-29T12:52:09.883Z"
   },
   {
    "duration": 3,
    "start_time": "2025-05-29T12:53:00.911Z"
   },
   {
    "duration": 45,
    "start_time": "2025-05-29T12:53:13.172Z"
   },
   {
    "duration": 2,
    "start_time": "2025-05-29T12:55:27.298Z"
   },
   {
    "duration": 81,
    "start_time": "2025-05-29T12:55:32.557Z"
   },
   {
    "duration": 12,
    "start_time": "2025-05-29T12:55:32.996Z"
   },
   {
    "duration": 11,
    "start_time": "2025-05-29T12:55:33.528Z"
   },
   {
    "duration": 11,
    "start_time": "2025-05-29T12:55:34.014Z"
   },
   {
    "duration": 7,
    "start_time": "2025-05-29T12:55:34.541Z"
   },
   {
    "duration": 8,
    "start_time": "2025-05-29T12:55:35.804Z"
   },
   {
    "duration": 10,
    "start_time": "2025-05-29T12:55:36.230Z"
   },
   {
    "duration": 20,
    "start_time": "2025-05-29T12:55:37.632Z"
   },
   {
    "duration": 3,
    "start_time": "2025-05-29T12:58:48.936Z"
   },
   {
    "duration": 10,
    "start_time": "2025-05-29T12:59:42.961Z"
   },
   {
    "duration": 10,
    "start_time": "2025-05-29T13:05:04.048Z"
   },
   {
    "duration": 9,
    "start_time": "2025-05-29T13:22:51.359Z"
   },
   {
    "duration": 630,
    "start_time": "2025-05-29T13:23:05.947Z"
   },
   {
    "duration": 136,
    "start_time": "2025-05-29T13:25:50.841Z"
   },
   {
    "duration": 81,
    "start_time": "2025-05-29T13:27:22.786Z"
   },
   {
    "duration": 1444,
    "start_time": "2025-05-29T13:28:45.730Z"
   },
   {
    "duration": 944,
    "start_time": "2025-05-30T09:16:24.857Z"
   },
   {
    "duration": 1681,
    "start_time": "2025-05-30T09:16:34.404Z"
   },
   {
    "duration": 35,
    "start_time": "2025-05-30T09:18:03.586Z"
   },
   {
    "duration": 135,
    "start_time": "2025-05-30T09:18:07.550Z"
   },
   {
    "duration": 720,
    "start_time": "2025-05-30T11:38:00.903Z"
   },
   {
    "duration": 22,
    "start_time": "2025-05-30T11:43:50.519Z"
   },
   {
    "duration": 22,
    "start_time": "2025-05-30T11:45:58.904Z"
   },
   {
    "duration": 36,
    "start_time": "2025-05-30T11:48:42.962Z"
   },
   {
    "duration": 72,
    "start_time": "2025-05-30T11:49:11.530Z"
   },
   {
    "duration": 34,
    "start_time": "2025-05-30T11:49:33.359Z"
   },
   {
    "duration": 40,
    "start_time": "2025-05-30T11:54:27.543Z"
   },
   {
    "duration": 36,
    "start_time": "2025-05-30T11:54:56.765Z"
   },
   {
    "duration": 66,
    "start_time": "2025-05-30T11:56:11.779Z"
   },
   {
    "duration": 117,
    "start_time": "2025-05-30T11:56:22.753Z"
   },
   {
    "duration": 18,
    "start_time": "2025-05-30T11:58:03.757Z"
   },
   {
    "duration": 12,
    "start_time": "2025-05-30T12:02:11.780Z"
   },
   {
    "duration": 1404,
    "start_time": "2025-05-30T13:51:38.117Z"
   },
   {
    "duration": 104,
    "start_time": "2025-05-30T14:13:23.168Z"
   },
   {
    "duration": 1529,
    "start_time": "2025-05-30T14:13:41.971Z"
   },
   {
    "duration": 22,
    "start_time": "2025-05-30T14:13:48.887Z"
   },
   {
    "duration": 1606,
    "start_time": "2025-05-30T14:14:00.162Z"
   },
   {
    "duration": 2536,
    "start_time": "2025-05-30T14:14:30.232Z"
   },
   {
    "duration": 1505,
    "start_time": "2025-05-30T14:15:00.268Z"
   },
   {
    "duration": 17,
    "start_time": "2025-05-30T14:15:41.349Z"
   },
   {
    "duration": 6,
    "start_time": "2025-05-30T14:15:51.399Z"
   },
   {
    "duration": 244,
    "start_time": "2025-05-30T14:27:59.437Z"
   },
   {
    "duration": 36,
    "start_time": "2025-05-30T14:30:24.210Z"
   },
   {
    "duration": 10,
    "start_time": "2025-05-30T14:34:29.585Z"
   },
   {
    "duration": 11,
    "start_time": "2025-05-30T14:34:43.182Z"
   },
   {
    "duration": 8,
    "start_time": "2025-05-30T14:46:23.974Z"
   },
   {
    "duration": 19,
    "start_time": "2025-05-30T14:46:39.812Z"
   },
   {
    "duration": 125,
    "start_time": "2025-05-30T14:46:40.460Z"
   },
   {
    "duration": 18,
    "start_time": "2025-05-30T14:46:42.402Z"
   },
   {
    "duration": 6,
    "start_time": "2025-05-30T14:46:43.017Z"
   },
   {
    "duration": 12,
    "start_time": "2025-05-30T14:46:44.077Z"
   },
   {
    "duration": 12,
    "start_time": "2025-05-30T14:46:44.700Z"
   },
   {
    "duration": 196,
    "start_time": "2025-05-30T14:46:46.953Z"
   },
   {
    "duration": 10,
    "start_time": "2025-05-30T14:46:49.578Z"
   },
   {
    "duration": 6,
    "start_time": "2025-05-30T15:00:37.580Z"
   },
   {
    "duration": 1228,
    "start_time": "2025-05-30T15:01:20.095Z"
   },
   {
    "duration": 109,
    "start_time": "2025-05-30T15:01:21.324Z"
   },
   {
    "duration": 16,
    "start_time": "2025-05-30T15:01:21.435Z"
   },
   {
    "duration": 16,
    "start_time": "2025-05-30T15:01:21.453Z"
   },
   {
    "duration": 30,
    "start_time": "2025-05-30T15:01:21.471Z"
   },
   {
    "duration": 10,
    "start_time": "2025-05-30T15:01:21.503Z"
   },
   {
    "duration": 12,
    "start_time": "2025-05-30T15:01:21.514Z"
   },
   {
    "duration": 11,
    "start_time": "2025-05-30T15:01:21.527Z"
   },
   {
    "duration": 116,
    "start_time": "2025-05-30T15:01:21.540Z"
   },
   {
    "duration": 0,
    "start_time": "2025-05-30T15:01:21.657Z"
   },
   {
    "duration": 0,
    "start_time": "2025-05-30T15:01:21.659Z"
   },
   {
    "duration": 0,
    "start_time": "2025-05-30T15:01:21.660Z"
   },
   {
    "duration": 0,
    "start_time": "2025-05-30T15:01:21.670Z"
   },
   {
    "duration": 0,
    "start_time": "2025-05-30T15:01:21.673Z"
   },
   {
    "duration": 0,
    "start_time": "2025-05-30T15:01:21.674Z"
   },
   {
    "duration": 0,
    "start_time": "2025-05-30T15:01:21.675Z"
   },
   {
    "duration": 0,
    "start_time": "2025-05-30T15:01:21.677Z"
   },
   {
    "duration": 0,
    "start_time": "2025-05-30T15:01:21.677Z"
   },
   {
    "duration": 9,
    "start_time": "2025-05-30T15:01:33.549Z"
   },
   {
    "duration": 4,
    "start_time": "2025-05-30T15:02:02.786Z"
   },
   {
    "duration": 1776,
    "start_time": "2025-05-30T15:02:13.346Z"
   },
   {
    "duration": 18,
    "start_time": "2025-05-30T15:02:17.253Z"
   },
   {
    "duration": 147,
    "start_time": "2025-05-30T15:02:18.567Z"
   },
   {
    "duration": 17,
    "start_time": "2025-05-30T15:02:24.135Z"
   },
   {
    "duration": 6,
    "start_time": "2025-05-30T15:02:24.885Z"
   },
   {
    "duration": 11,
    "start_time": "2025-05-30T15:02:26.473Z"
   },
   {
    "duration": 6,
    "start_time": "2025-05-30T15:02:28.003Z"
   },
   {
    "duration": 243,
    "start_time": "2025-05-30T15:02:29.547Z"
   },
   {
    "duration": 9,
    "start_time": "2025-05-30T15:02:35.603Z"
   },
   {
    "duration": 5,
    "start_time": "2025-05-30T15:14:07.956Z"
   },
   {
    "duration": 11,
    "start_time": "2025-05-30T15:14:49.940Z"
   },
   {
    "duration": 2916,
    "start_time": "2025-05-30T15:16:09.914Z"
   },
   {
    "duration": 19,
    "start_time": "2025-05-30T15:16:12.832Z"
   },
   {
    "duration": 143,
    "start_time": "2025-05-30T15:16:12.852Z"
   },
   {
    "duration": 17,
    "start_time": "2025-05-30T15:16:13.631Z"
   },
   {
    "duration": 6,
    "start_time": "2025-05-30T15:16:14.353Z"
   },
   {
    "duration": 12,
    "start_time": "2025-05-30T15:16:15.744Z"
   },
   {
    "duration": 6,
    "start_time": "2025-05-30T15:16:20.306Z"
   },
   {
    "duration": 186,
    "start_time": "2025-05-30T15:16:28.816Z"
   },
   {
    "duration": 79,
    "start_time": "2025-05-30T15:26:34.228Z"
   },
   {
    "duration": 1520,
    "start_time": "2025-05-30T15:27:02.528Z"
   },
   {
    "duration": 1714,
    "start_time": "2025-05-30T15:35:21.040Z"
   },
   {
    "duration": 1596,
    "start_time": "2025-05-30T15:37:41.263Z"
   },
   {
    "duration": 1675,
    "start_time": "2025-05-30T15:38:54.056Z"
   },
   {
    "duration": 27,
    "start_time": "2025-05-30T15:40:55.801Z"
   },
   {
    "duration": 8,
    "start_time": "2025-05-30T15:41:12.594Z"
   },
   {
    "duration": 18,
    "start_time": "2025-05-30T15:42:51.487Z"
   },
   {
    "duration": 19,
    "start_time": "2025-05-30T15:43:10.649Z"
   },
   {
    "duration": 34,
    "start_time": "2025-05-30T15:43:56.008Z"
   },
   {
    "duration": 1683,
    "start_time": "2025-05-30T15:45:11.229Z"
   },
   {
    "duration": 19,
    "start_time": "2025-05-30T15:45:13.157Z"
   },
   {
    "duration": 141,
    "start_time": "2025-05-30T15:45:14.916Z"
   },
   {
    "duration": 19,
    "start_time": "2025-05-30T15:45:19.098Z"
   },
   {
    "duration": 6,
    "start_time": "2025-05-30T15:45:22.117Z"
   },
   {
    "duration": 11,
    "start_time": "2025-05-30T15:45:25.731Z"
   },
   {
    "duration": 5,
    "start_time": "2025-05-30T15:45:27.554Z"
   },
   {
    "duration": 185,
    "start_time": "2025-05-30T15:45:35.637Z"
   },
   {
    "duration": 1277,
    "start_time": "2025-05-30T15:48:17.938Z"
   },
   {
    "duration": 74,
    "start_time": "2025-05-30T15:48:19.218Z"
   },
   {
    "duration": 17,
    "start_time": "2025-05-30T15:48:19.294Z"
   },
   {
    "duration": 15,
    "start_time": "2025-05-30T15:48:19.313Z"
   },
   {
    "duration": 12,
    "start_time": "2025-05-30T15:48:19.330Z"
   },
   {
    "duration": 25,
    "start_time": "2025-05-30T15:48:19.344Z"
   },
   {
    "duration": 6,
    "start_time": "2025-05-30T15:48:19.371Z"
   },
   {
    "duration": 8,
    "start_time": "2025-05-30T15:48:19.379Z"
   },
   {
    "duration": 121,
    "start_time": "2025-05-30T15:48:19.389Z"
   },
   {
    "duration": 0,
    "start_time": "2025-05-30T15:48:19.513Z"
   },
   {
    "duration": 0,
    "start_time": "2025-05-30T15:48:19.514Z"
   },
   {
    "duration": 0,
    "start_time": "2025-05-30T15:48:19.515Z"
   },
   {
    "duration": 0,
    "start_time": "2025-05-30T15:48:19.516Z"
   },
   {
    "duration": 0,
    "start_time": "2025-05-30T15:48:19.517Z"
   },
   {
    "duration": 0,
    "start_time": "2025-05-30T15:48:19.518Z"
   },
   {
    "duration": 0,
    "start_time": "2025-05-30T15:48:19.520Z"
   },
   {
    "duration": 0,
    "start_time": "2025-05-30T15:48:19.521Z"
   },
   {
    "duration": 0,
    "start_time": "2025-05-30T15:48:19.522Z"
   },
   {
    "duration": 0,
    "start_time": "2025-05-30T15:48:19.523Z"
   },
   {
    "duration": 0,
    "start_time": "2025-05-30T15:48:19.524Z"
   },
   {
    "duration": 3,
    "start_time": "2025-05-30T15:49:09.151Z"
   },
   {
    "duration": 79,
    "start_time": "2025-05-30T15:49:09.938Z"
   },
   {
    "duration": 13,
    "start_time": "2025-05-30T15:49:10.689Z"
   },
   {
    "duration": 12,
    "start_time": "2025-05-30T15:49:11.369Z"
   },
   {
    "duration": 13,
    "start_time": "2025-05-30T15:49:11.989Z"
   },
   {
    "duration": 7,
    "start_time": "2025-05-30T15:49:13.235Z"
   },
   {
    "duration": 6,
    "start_time": "2025-05-30T15:49:14.087Z"
   },
   {
    "duration": 7,
    "start_time": "2025-05-30T15:49:14.709Z"
   },
   {
    "duration": 15,
    "start_time": "2025-05-30T15:49:16.662Z"
   },
   {
    "duration": 10,
    "start_time": "2025-05-30T15:52:31.825Z"
   },
   {
    "duration": 3,
    "start_time": "2025-05-30T15:52:45.839Z"
   },
   {
    "duration": 3,
    "start_time": "2025-05-30T15:53:24.675Z"
   },
   {
    "duration": 80,
    "start_time": "2025-05-30T15:53:30.826Z"
   },
   {
    "duration": 13,
    "start_time": "2025-05-30T15:53:31.265Z"
   },
   {
    "duration": 12,
    "start_time": "2025-05-30T15:53:31.738Z"
   },
   {
    "duration": 12,
    "start_time": "2025-05-30T15:53:32.216Z"
   },
   {
    "duration": 9,
    "start_time": "2025-05-30T15:53:32.686Z"
   },
   {
    "duration": 6,
    "start_time": "2025-05-30T15:53:33.214Z"
   },
   {
    "duration": 7,
    "start_time": "2025-05-30T15:53:33.672Z"
   },
   {
    "duration": 9,
    "start_time": "2025-05-30T15:53:34.618Z"
   },
   {
    "duration": 1760,
    "start_time": "2025-05-30T15:53:43.213Z"
   },
   {
    "duration": 18,
    "start_time": "2025-05-30T15:53:45.072Z"
   },
   {
    "duration": 120,
    "start_time": "2025-05-30T15:53:47.856Z"
   },
   {
    "duration": 18,
    "start_time": "2025-05-30T15:53:54.158Z"
   },
   {
    "duration": 7,
    "start_time": "2025-05-30T15:53:55.096Z"
   },
   {
    "duration": 11,
    "start_time": "2025-05-30T15:53:58.933Z"
   },
   {
    "duration": 6,
    "start_time": "2025-05-30T15:54:02.966Z"
   },
   {
    "duration": 247,
    "start_time": "2025-05-30T15:54:07.234Z"
   },
   {
    "duration": 36,
    "start_time": "2025-05-30T15:54:10.507Z"
   },
   {
    "duration": 86,
    "start_time": "2025-05-30T15:54:25.844Z"
   },
   {
    "duration": 7,
    "start_time": "2025-05-30T15:54:26.237Z"
   },
   {
    "duration": 20,
    "start_time": "2025-05-30T15:55:13.200Z"
   },
   {
    "duration": 18,
    "start_time": "2025-05-30T15:56:46.531Z"
   },
   {
    "duration": 16,
    "start_time": "2025-05-30T15:57:25.974Z"
   },
   {
    "duration": 1201,
    "start_time": "2025-05-30T16:32:35.131Z"
   },
   {
    "duration": 116,
    "start_time": "2025-05-30T16:32:36.334Z"
   },
   {
    "duration": 16,
    "start_time": "2025-05-30T16:32:36.452Z"
   },
   {
    "duration": 31,
    "start_time": "2025-05-30T16:32:36.469Z"
   },
   {
    "duration": 37,
    "start_time": "2025-05-30T16:32:36.502Z"
   },
   {
    "duration": 42,
    "start_time": "2025-05-30T16:32:36.541Z"
   },
   {
    "duration": 7,
    "start_time": "2025-05-30T16:32:36.585Z"
   },
   {
    "duration": 8,
    "start_time": "2025-05-30T16:32:36.594Z"
   },
   {
    "duration": 106,
    "start_time": "2025-05-30T16:32:36.604Z"
   },
   {
    "duration": 1633,
    "start_time": "2025-05-30T16:32:36.713Z"
   },
   {
    "duration": 27,
    "start_time": "2025-05-30T16:32:38.348Z"
   },
   {
    "duration": 129,
    "start_time": "2025-05-30T16:32:38.377Z"
   },
   {
    "duration": 15,
    "start_time": "2025-05-30T16:32:38.508Z"
   },
   {
    "duration": 10,
    "start_time": "2025-05-30T16:32:38.525Z"
   },
   {
    "duration": 13,
    "start_time": "2025-05-30T16:32:38.536Z"
   },
   {
    "duration": 20,
    "start_time": "2025-05-30T16:32:38.551Z"
   },
   {
    "duration": 245,
    "start_time": "2025-05-30T16:32:38.573Z"
   },
   {
    "duration": 34,
    "start_time": "2025-05-30T16:32:38.820Z"
   },
   {
    "duration": 86,
    "start_time": "2025-05-30T16:32:38.856Z"
   },
   {
    "duration": 31,
    "start_time": "2025-05-30T16:32:38.944Z"
   },
   {
    "duration": 12,
    "start_time": "2025-05-30T16:42:33.467Z"
   },
   {
    "duration": 86,
    "start_time": "2025-05-30T16:56:49.156Z"
   },
   {
    "duration": 34,
    "start_time": "2025-05-30T16:56:59.879Z"
   },
   {
    "duration": 111,
    "start_time": "2025-05-30T17:07:46.758Z"
   },
   {
    "duration": 4,
    "start_time": "2025-05-30T17:10:44.349Z"
   },
   {
    "duration": 65,
    "start_time": "2025-05-30T17:10:59.275Z"
   },
   {
    "duration": 11,
    "start_time": "2025-05-30T17:11:17.747Z"
   },
   {
    "duration": 13,
    "start_time": "2025-05-30T17:15:15.076Z"
   },
   {
    "duration": 11,
    "start_time": "2025-05-30T17:18:22.957Z"
   },
   {
    "duration": 12,
    "start_time": "2025-05-30T17:18:42.331Z"
   },
   {
    "duration": 102,
    "start_time": "2025-05-30T17:21:40.567Z"
   },
   {
    "duration": 6,
    "start_time": "2025-05-30T17:21:52.743Z"
   },
   {
    "duration": 6,
    "start_time": "2025-05-30T17:23:05.138Z"
   },
   {
    "duration": 1218,
    "start_time": "2025-05-30T17:33:37.392Z"
   },
   {
    "duration": 117,
    "start_time": "2025-05-30T17:33:38.612Z"
   },
   {
    "duration": 17,
    "start_time": "2025-05-30T17:33:38.731Z"
   },
   {
    "duration": 13,
    "start_time": "2025-05-30T17:33:38.750Z"
   },
   {
    "duration": 17,
    "start_time": "2025-05-30T17:33:38.765Z"
   },
   {
    "duration": 9,
    "start_time": "2025-05-30T17:33:38.783Z"
   },
   {
    "duration": 7,
    "start_time": "2025-05-30T17:33:38.794Z"
   },
   {
    "duration": 11,
    "start_time": "2025-05-30T17:33:38.802Z"
   },
   {
    "duration": 19,
    "start_time": "2025-05-30T17:33:38.815Z"
   },
   {
    "duration": 1926,
    "start_time": "2025-05-30T17:33:38.838Z"
   },
   {
    "duration": 21,
    "start_time": "2025-05-30T17:33:40.765Z"
   },
   {
    "duration": 148,
    "start_time": "2025-05-30T17:33:40.788Z"
   },
   {
    "duration": 32,
    "start_time": "2025-05-30T17:33:40.939Z"
   },
   {
    "duration": 15,
    "start_time": "2025-05-30T17:33:40.973Z"
   },
   {
    "duration": 11,
    "start_time": "2025-05-30T17:33:40.990Z"
   },
   {
    "duration": 4,
    "start_time": "2025-05-30T17:33:41.003Z"
   },
   {
    "duration": 253,
    "start_time": "2025-05-30T17:33:41.009Z"
   },
   {
    "duration": 35,
    "start_time": "2025-05-30T17:33:41.272Z"
   },
   {
    "duration": 118,
    "start_time": "2025-05-30T17:33:41.309Z"
   },
   {
    "duration": 17,
    "start_time": "2025-05-30T17:33:41.429Z"
   },
   {
    "duration": 24,
    "start_time": "2025-05-30T17:33:41.448Z"
   },
   {
    "duration": 39,
    "start_time": "2025-05-30T17:33:41.474Z"
   },
   {
    "duration": 6,
    "start_time": "2025-05-30T17:33:41.515Z"
   },
   {
    "duration": 1245,
    "start_time": "2025-05-31T07:09:20.162Z"
   },
   {
    "duration": 50,
    "start_time": "2025-05-31T07:09:21.409Z"
   },
   {
    "duration": 16,
    "start_time": "2025-05-31T07:09:21.462Z"
   },
   {
    "duration": 15,
    "start_time": "2025-05-31T07:09:21.480Z"
   },
   {
    "duration": 38,
    "start_time": "2025-05-31T07:09:21.496Z"
   },
   {
    "duration": 15,
    "start_time": "2025-05-31T07:09:21.536Z"
   },
   {
    "duration": 7,
    "start_time": "2025-05-31T07:09:21.553Z"
   },
   {
    "duration": 11,
    "start_time": "2025-05-31T07:09:21.562Z"
   },
   {
    "duration": 9,
    "start_time": "2025-05-31T07:09:21.575Z"
   },
   {
    "duration": 1656,
    "start_time": "2025-05-31T07:09:21.586Z"
   },
   {
    "duration": 29,
    "start_time": "2025-05-31T07:09:23.243Z"
   },
   {
    "duration": 138,
    "start_time": "2025-05-31T07:09:23.273Z"
   },
   {
    "duration": 17,
    "start_time": "2025-05-31T07:09:23.413Z"
   },
   {
    "duration": 20,
    "start_time": "2025-05-31T07:09:23.432Z"
   },
   {
    "duration": 29,
    "start_time": "2025-05-31T07:09:23.465Z"
   },
   {
    "duration": 49,
    "start_time": "2025-05-31T07:09:23.496Z"
   },
   {
    "duration": 238,
    "start_time": "2025-05-31T07:09:23.547Z"
   },
   {
    "duration": 34,
    "start_time": "2025-05-31T07:09:23.786Z"
   },
   {
    "duration": 87,
    "start_time": "2025-05-31T07:09:23.822Z"
   },
   {
    "duration": 87,
    "start_time": "2025-05-31T07:09:23.911Z"
   },
   {
    "duration": 15,
    "start_time": "2025-05-31T07:09:23.999Z"
   },
   {
    "duration": 38,
    "start_time": "2025-05-31T07:09:24.015Z"
   },
   {
    "duration": 10,
    "start_time": "2025-05-31T07:09:24.055Z"
   },
   {
    "duration": 6,
    "start_time": "2025-05-31T07:09:40.055Z"
   },
   {
    "duration": 1466,
    "start_time": "2025-06-02T10:10:39.969Z"
   },
   {
    "duration": 83,
    "start_time": "2025-06-02T10:10:41.437Z"
   },
   {
    "duration": 17,
    "start_time": "2025-06-02T10:10:41.522Z"
   },
   {
    "duration": 14,
    "start_time": "2025-06-02T10:10:41.541Z"
   },
   {
    "duration": 12,
    "start_time": "2025-06-02T10:10:41.557Z"
   },
   {
    "duration": 140,
    "start_time": "2025-06-02T10:10:41.571Z"
   },
   {
    "duration": 52,
    "start_time": "2025-06-02T10:10:41.712Z"
   },
   {
    "duration": 7,
    "start_time": "2025-06-02T10:10:41.766Z"
   },
   {
    "duration": 11,
    "start_time": "2025-06-02T10:10:41.775Z"
   },
   {
    "duration": 2653,
    "start_time": "2025-06-02T10:10:41.788Z"
   },
   {
    "duration": 28,
    "start_time": "2025-06-02T10:10:44.442Z"
   },
   {
    "duration": 147,
    "start_time": "2025-06-02T10:10:44.471Z"
   },
   {
    "duration": 17,
    "start_time": "2025-06-02T10:10:44.620Z"
   },
   {
    "duration": 38,
    "start_time": "2025-06-02T10:10:44.639Z"
   },
   {
    "duration": 15,
    "start_time": "2025-06-02T10:10:44.679Z"
   },
   {
    "duration": 6,
    "start_time": "2025-06-02T10:10:44.696Z"
   },
   {
    "duration": 304,
    "start_time": "2025-06-02T10:10:44.703Z"
   },
   {
    "duration": 36,
    "start_time": "2025-06-02T10:10:45.009Z"
   },
   {
    "duration": 95,
    "start_time": "2025-06-02T10:10:45.061Z"
   },
   {
    "duration": 19,
    "start_time": "2025-06-02T10:10:45.158Z"
   },
   {
    "duration": 35,
    "start_time": "2025-06-02T10:10:45.179Z"
   },
   {
    "duration": 68,
    "start_time": "2025-06-02T10:10:45.216Z"
   },
   {
    "duration": 55,
    "start_time": "2025-06-02T10:10:45.286Z"
   },
   {
    "duration": 6,
    "start_time": "2025-06-02T10:10:45.343Z"
   },
   {
    "duration": 5,
    "start_time": "2025-06-02T10:13:05.800Z"
   },
   {
    "duration": 6,
    "start_time": "2025-06-02T10:13:08.210Z"
   },
   {
    "duration": 6,
    "start_time": "2025-06-02T10:13:10.960Z"
   },
   {
    "duration": 64,
    "start_time": "2025-06-02T10:14:42.579Z"
   },
   {
    "duration": 116,
    "start_time": "2025-06-02T10:27:35.405Z"
   },
   {
    "duration": 21,
    "start_time": "2025-06-02T10:28:15.439Z"
   },
   {
    "duration": 10,
    "start_time": "2025-06-02T10:28:39.811Z"
   },
   {
    "duration": 159,
    "start_time": "2025-06-02T10:37:04.199Z"
   },
   {
    "duration": 4851,
    "start_time": "2025-06-02T10:37:33.471Z"
   },
   {
    "duration": 113,
    "start_time": "2025-06-02T10:38:20.292Z"
   },
   {
    "duration": 149,
    "start_time": "2025-06-02T10:38:46.436Z"
   },
   {
    "duration": 147,
    "start_time": "2025-06-02T10:39:21.636Z"
   },
   {
    "duration": 146,
    "start_time": "2025-06-02T10:42:27.731Z"
   },
   {
    "duration": 142,
    "start_time": "2025-06-02T10:44:22.520Z"
   },
   {
    "duration": 159,
    "start_time": "2025-06-02T10:46:24.260Z"
   },
   {
    "duration": 10,
    "start_time": "2025-06-02T11:36:04.353Z"
   },
   {
    "duration": 19,
    "start_time": "2025-06-02T11:44:28.482Z"
   },
   {
    "duration": 18,
    "start_time": "2025-06-02T11:46:12.779Z"
   },
   {
    "duration": 71,
    "start_time": "2025-06-02T11:48:58.550Z"
   },
   {
    "duration": 5059,
    "start_time": "2025-06-02T11:52:38.605Z"
   },
   {
    "duration": 398,
    "start_time": "2025-06-02T11:53:58.026Z"
   },
   {
    "duration": 315,
    "start_time": "2025-06-02T11:54:54.245Z"
   },
   {
    "duration": 28,
    "start_time": "2025-06-02T12:14:21.590Z"
   },
   {
    "duration": 215,
    "start_time": "2025-06-02T12:23:48.448Z"
   },
   {
    "duration": 734,
    "start_time": "2025-06-02T12:28:01.420Z"
   },
   {
    "duration": 1321,
    "start_time": "2025-06-02T12:50:40.128Z"
   },
   {
    "duration": 59,
    "start_time": "2025-06-02T12:50:41.451Z"
   },
   {
    "duration": 16,
    "start_time": "2025-06-02T12:50:41.512Z"
   },
   {
    "duration": 13,
    "start_time": "2025-06-02T12:50:41.531Z"
   },
   {
    "duration": 15,
    "start_time": "2025-06-02T12:50:41.546Z"
   },
   {
    "duration": 7,
    "start_time": "2025-06-02T12:50:41.563Z"
   },
   {
    "duration": 6,
    "start_time": "2025-06-02T12:50:41.572Z"
   },
   {
    "duration": 7,
    "start_time": "2025-06-02T12:50:41.580Z"
   },
   {
    "duration": 18,
    "start_time": "2025-06-02T12:50:41.589Z"
   },
   {
    "duration": 141,
    "start_time": "2025-06-02T12:50:41.610Z"
   },
   {
    "duration": 0,
    "start_time": "2025-06-02T12:50:41.752Z"
   },
   {
    "duration": 0,
    "start_time": "2025-06-02T12:50:41.753Z"
   },
   {
    "duration": 0,
    "start_time": "2025-06-02T12:50:41.754Z"
   },
   {
    "duration": 0,
    "start_time": "2025-06-02T12:50:41.755Z"
   },
   {
    "duration": 0,
    "start_time": "2025-06-02T12:50:41.760Z"
   },
   {
    "duration": 0,
    "start_time": "2025-06-02T12:50:41.761Z"
   },
   {
    "duration": 0,
    "start_time": "2025-06-02T12:50:41.762Z"
   },
   {
    "duration": 0,
    "start_time": "2025-06-02T12:50:41.763Z"
   },
   {
    "duration": 0,
    "start_time": "2025-06-02T12:50:41.764Z"
   },
   {
    "duration": 0,
    "start_time": "2025-06-02T12:50:41.766Z"
   },
   {
    "duration": 0,
    "start_time": "2025-06-02T12:50:41.767Z"
   },
   {
    "duration": 0,
    "start_time": "2025-06-02T12:50:41.768Z"
   },
   {
    "duration": 0,
    "start_time": "2025-06-02T12:50:41.769Z"
   },
   {
    "duration": 0,
    "start_time": "2025-06-02T12:50:41.770Z"
   },
   {
    "duration": 0,
    "start_time": "2025-06-02T12:50:41.771Z"
   },
   {
    "duration": 0,
    "start_time": "2025-06-02T12:50:41.772Z"
   },
   {
    "duration": 13,
    "start_time": "2025-06-02T12:51:14.329Z"
   },
   {
    "duration": 11,
    "start_time": "2025-06-02T12:52:11.046Z"
   },
   {
    "duration": 517,
    "start_time": "2025-06-02T12:52:29.531Z"
   },
   {
    "duration": 142,
    "start_time": "2025-06-02T12:55:58.125Z"
   },
   {
    "duration": 226,
    "start_time": "2025-06-02T12:57:03.464Z"
   },
   {
    "duration": 138,
    "start_time": "2025-06-02T12:57:41.090Z"
   },
   {
    "duration": 150,
    "start_time": "2025-06-02T13:21:55.392Z"
   },
   {
    "duration": 14,
    "start_time": "2025-06-02T13:22:15.156Z"
   },
   {
    "duration": 590,
    "start_time": "2025-06-02T13:22:41.938Z"
   },
   {
    "duration": 336,
    "start_time": "2025-06-02T13:23:17.573Z"
   },
   {
    "duration": 598,
    "start_time": "2025-06-02T13:25:15.366Z"
   },
   {
    "duration": 15,
    "start_time": "2025-06-02T13:29:38.007Z"
   },
   {
    "duration": 21,
    "start_time": "2025-06-02T13:33:13.964Z"
   },
   {
    "duration": 650,
    "start_time": "2025-06-02T13:38:41.314Z"
   },
   {
    "duration": 580,
    "start_time": "2025-06-02T13:45:16.190Z"
   },
   {
    "duration": 10,
    "start_time": "2025-06-02T13:56:10.617Z"
   },
   {
    "duration": 1310,
    "start_time": "2025-06-02T13:57:13.449Z"
   },
   {
    "duration": 1058,
    "start_time": "2025-06-02T13:57:14.761Z"
   },
   {
    "duration": 18,
    "start_time": "2025-06-02T13:57:15.820Z"
   },
   {
    "duration": 16,
    "start_time": "2025-06-02T13:57:15.841Z"
   },
   {
    "duration": 16,
    "start_time": "2025-06-02T13:57:15.858Z"
   },
   {
    "duration": 5,
    "start_time": "2025-06-02T13:57:15.876Z"
   },
   {
    "duration": 5,
    "start_time": "2025-06-02T13:57:15.883Z"
   },
   {
    "duration": 5,
    "start_time": "2025-06-02T13:57:15.890Z"
   },
   {
    "duration": 20,
    "start_time": "2025-06-02T13:57:15.897Z"
   },
   {
    "duration": 546,
    "start_time": "2025-06-02T13:57:15.919Z"
   },
   {
    "duration": 23,
    "start_time": "2025-06-02T13:57:16.467Z"
   },
   {
    "duration": 608,
    "start_time": "2025-06-02T13:57:16.492Z"
   },
   {
    "duration": 10,
    "start_time": "2025-06-02T13:57:17.102Z"
   },
   {
    "duration": 1925,
    "start_time": "2025-06-02T13:57:17.114Z"
   },
   {
    "duration": 29,
    "start_time": "2025-06-02T13:57:19.042Z"
   },
   {
    "duration": 142,
    "start_time": "2025-06-02T13:57:19.073Z"
   },
   {
    "duration": 18,
    "start_time": "2025-06-02T13:57:19.217Z"
   },
   {
    "duration": 6,
    "start_time": "2025-06-02T13:57:19.236Z"
   },
   {
    "duration": 67,
    "start_time": "2025-06-02T13:57:19.244Z"
   },
   {
    "duration": 9,
    "start_time": "2025-06-02T13:57:19.313Z"
   },
   {
    "duration": 235,
    "start_time": "2025-06-02T13:57:19.324Z"
   },
   {
    "duration": 38,
    "start_time": "2025-06-02T13:57:19.561Z"
   },
   {
    "duration": 97,
    "start_time": "2025-06-02T13:57:19.601Z"
   },
   {
    "duration": 19,
    "start_time": "2025-06-02T13:57:19.700Z"
   },
   {
    "duration": 23,
    "start_time": "2025-06-02T13:57:19.721Z"
   },
   {
    "duration": 18,
    "start_time": "2025-06-02T13:57:19.746Z"
   },
   {
    "duration": 36,
    "start_time": "2025-06-02T13:57:19.766Z"
   },
   {
    "duration": 6,
    "start_time": "2025-06-02T13:57:19.805Z"
   },
   {
    "duration": 73,
    "start_time": "2025-06-02T13:58:41.482Z"
   },
   {
    "duration": 7,
    "start_time": "2025-06-02T14:08:49.375Z"
   },
   {
    "duration": 3,
    "start_time": "2025-06-02T14:12:53.741Z"
   },
   {
    "duration": 1426,
    "start_time": "2025-06-02T14:49:40.466Z"
   },
   {
    "duration": 1334,
    "start_time": "2025-06-02T14:50:16.687Z"
   },
   {
    "duration": 156,
    "start_time": "2025-06-02T14:50:18.023Z"
   },
   {
    "duration": 18,
    "start_time": "2025-06-02T14:50:18.181Z"
   },
   {
    "duration": 13,
    "start_time": "2025-06-02T14:50:18.201Z"
   },
   {
    "duration": 14,
    "start_time": "2025-06-02T14:50:18.216Z"
   },
   {
    "duration": 34,
    "start_time": "2025-06-02T14:50:18.232Z"
   },
   {
    "duration": 6,
    "start_time": "2025-06-02T14:50:18.267Z"
   },
   {
    "duration": 6,
    "start_time": "2025-06-02T14:50:18.275Z"
   },
   {
    "duration": 21,
    "start_time": "2025-06-02T14:50:18.283Z"
   },
   {
    "duration": 529,
    "start_time": "2025-06-02T14:50:18.307Z"
   },
   {
    "duration": 35,
    "start_time": "2025-06-02T14:50:18.838Z"
   },
   {
    "duration": 629,
    "start_time": "2025-06-02T14:50:18.875Z"
   },
   {
    "duration": 10,
    "start_time": "2025-06-02T14:50:19.505Z"
   },
   {
    "duration": 1697,
    "start_time": "2025-06-02T14:50:19.516Z"
   },
   {
    "duration": 19,
    "start_time": "2025-06-02T14:50:21.215Z"
   },
   {
    "duration": 148,
    "start_time": "2025-06-02T14:50:21.236Z"
   },
   {
    "duration": 18,
    "start_time": "2025-06-02T14:50:21.386Z"
   },
   {
    "duration": 53,
    "start_time": "2025-06-02T14:50:21.406Z"
   },
   {
    "duration": 27,
    "start_time": "2025-06-02T14:50:21.461Z"
   },
   {
    "duration": 6,
    "start_time": "2025-06-02T14:50:21.490Z"
   },
   {
    "duration": 240,
    "start_time": "2025-06-02T14:50:21.497Z"
   },
   {
    "duration": 44,
    "start_time": "2025-06-02T14:50:21.739Z"
   },
   {
    "duration": 180,
    "start_time": "2025-06-02T14:50:21.785Z"
   },
   {
    "duration": 0,
    "start_time": "2025-06-02T14:50:21.968Z"
   },
   {
    "duration": 0,
    "start_time": "2025-06-02T14:50:21.969Z"
   },
   {
    "duration": 0,
    "start_time": "2025-06-02T14:50:21.970Z"
   },
   {
    "duration": 0,
    "start_time": "2025-06-02T14:50:21.972Z"
   },
   {
    "duration": 0,
    "start_time": "2025-06-02T14:50:21.974Z"
   },
   {
    "duration": 0,
    "start_time": "2025-06-02T14:50:21.976Z"
   },
   {
    "duration": 0,
    "start_time": "2025-06-02T14:50:21.977Z"
   },
   {
    "duration": 1395,
    "start_time": "2025-06-02T14:50:44.912Z"
   },
   {
    "duration": 1269,
    "start_time": "2025-06-02T14:52:13.687Z"
   },
   {
    "duration": 5,
    "start_time": "2025-06-02T14:53:09.964Z"
   },
   {
    "duration": 223,
    "start_time": "2025-06-02T14:53:10.971Z"
   },
   {
    "duration": 13,
    "start_time": "2025-06-02T14:53:11.750Z"
   },
   {
    "duration": 12,
    "start_time": "2025-06-02T14:53:12.489Z"
   },
   {
    "duration": 13,
    "start_time": "2025-06-02T14:53:13.128Z"
   },
   {
    "duration": 5,
    "start_time": "2025-06-02T14:53:14.625Z"
   },
   {
    "duration": 7,
    "start_time": "2025-06-02T14:53:16.718Z"
   },
   {
    "duration": 5,
    "start_time": "2025-06-02T14:53:17.373Z"
   },
   {
    "duration": 20,
    "start_time": "2025-06-02T14:53:20.603Z"
   },
   {
    "duration": 645,
    "start_time": "2025-06-02T14:53:21.831Z"
   },
   {
    "duration": 23,
    "start_time": "2025-06-02T14:53:22.479Z"
   },
   {
    "duration": 579,
    "start_time": "2025-06-02T14:53:23.801Z"
   },
   {
    "duration": 11,
    "start_time": "2025-06-02T14:53:25.121Z"
   },
   {
    "duration": 1853,
    "start_time": "2025-06-02T14:53:38.772Z"
   },
   {
    "duration": 19,
    "start_time": "2025-06-02T14:53:40.627Z"
   },
   {
    "duration": 128,
    "start_time": "2025-06-02T14:53:40.777Z"
   },
   {
    "duration": 20,
    "start_time": "2025-06-02T14:53:43.733Z"
   },
   {
    "duration": 7,
    "start_time": "2025-06-02T14:53:44.387Z"
   },
   {
    "duration": 15,
    "start_time": "2025-06-02T14:53:46.652Z"
   },
   {
    "duration": 6,
    "start_time": "2025-06-02T14:53:48.049Z"
   },
   {
    "duration": 203,
    "start_time": "2025-06-02T14:53:50.216Z"
   },
   {
    "duration": 36,
    "start_time": "2025-06-02T14:53:51.197Z"
   },
   {
    "duration": 73,
    "start_time": "2025-06-02T14:53:52.803Z"
   },
   {
    "duration": 64,
    "start_time": "2025-06-02T14:54:12.689Z"
   },
   {
    "duration": 10,
    "start_time": "2025-06-02T14:54:25.676Z"
   },
   {
    "duration": 64,
    "start_time": "2025-06-02T14:54:33.800Z"
   },
   {
    "duration": 443,
    "start_time": "2025-06-02T14:55:02.820Z"
   },
   {
    "duration": 1282,
    "start_time": "2025-06-02T14:55:13.327Z"
   },
   {
    "duration": 9,
    "start_time": "2025-06-02T14:55:22.662Z"
   },
   {
    "duration": 10,
    "start_time": "2025-06-02T15:03:22.022Z"
   },
   {
    "duration": 40,
    "start_time": "2025-06-02T15:03:40.273Z"
   },
   {
    "duration": 1579,
    "start_time": "2025-06-02T15:03:59.470Z"
   },
   {
    "duration": 20,
    "start_time": "2025-06-02T15:04:07.201Z"
   },
   {
    "duration": 19,
    "start_time": "2025-06-02T15:04:18.939Z"
   },
   {
    "duration": 7,
    "start_time": "2025-06-02T15:04:32.079Z"
   },
   {
    "duration": 196,
    "start_time": "2025-06-02T15:04:51.455Z"
   },
   {
    "duration": 40,
    "start_time": "2025-06-02T15:04:54.767Z"
   },
   {
    "duration": 95,
    "start_time": "2025-06-02T15:05:06.233Z"
   },
   {
    "duration": 36,
    "start_time": "2025-06-02T15:06:35.458Z"
   },
   {
    "duration": 8,
    "start_time": "2025-06-02T15:06:47.098Z"
   },
   {
    "duration": 7,
    "start_time": "2025-06-02T15:06:58.086Z"
   },
   {
    "duration": 107,
    "start_time": "2025-06-02T15:07:43.685Z"
   },
   {
    "duration": 15,
    "start_time": "2025-06-02T15:07:57.537Z"
   },
   {
    "duration": 67,
    "start_time": "2025-06-02T15:08:18.804Z"
   },
   {
    "duration": 45,
    "start_time": "2025-06-02T15:09:00.365Z"
   },
   {
    "duration": 37,
    "start_time": "2025-06-02T15:10:22.456Z"
   },
   {
    "duration": 1363,
    "start_time": "2025-06-02T15:12:51.250Z"
   },
   {
    "duration": 1929,
    "start_time": "2025-06-02T15:13:44.973Z"
   },
   {
    "duration": 22,
    "start_time": "2025-06-02T15:13:46.904Z"
   },
   {
    "duration": 230,
    "start_time": "2025-06-02T15:13:46.928Z"
   },
   {
    "duration": 21,
    "start_time": "2025-06-02T15:13:49.165Z"
   },
   {
    "duration": 7,
    "start_time": "2025-06-02T15:13:49.983Z"
   },
   {
    "duration": 15,
    "start_time": "2025-06-02T15:13:52.247Z"
   },
   {
    "duration": 7,
    "start_time": "2025-06-02T15:13:57.112Z"
   },
   {
    "duration": 192,
    "start_time": "2025-06-02T15:14:00.352Z"
   },
   {
    "duration": 38,
    "start_time": "2025-06-02T15:14:07.293Z"
   },
   {
    "duration": 59,
    "start_time": "2025-06-02T15:14:30.607Z"
   },
   {
    "duration": 367,
    "start_time": "2025-06-02T15:14:38.888Z"
   },
   {
    "duration": 37,
    "start_time": "2025-06-02T15:14:45.946Z"
   },
   {
    "duration": 36,
    "start_time": "2025-06-02T15:14:54.664Z"
   },
   {
    "duration": 6,
    "start_time": "2025-06-02T15:15:23.478Z"
   },
   {
    "duration": 7,
    "start_time": "2025-06-02T15:15:27.204Z"
   },
   {
    "duration": 1344,
    "start_time": "2025-06-02T15:18:20.533Z"
   },
   {
    "duration": 70,
    "start_time": "2025-06-02T15:19:01.075Z"
   },
   {
    "duration": 844,
    "start_time": "2025-06-02T15:19:09.786Z"
   },
   {
    "duration": 37,
    "start_time": "2025-06-02T15:19:17.891Z"
   },
   {
    "duration": 88,
    "start_time": "2025-06-02T15:21:11.421Z"
   },
   {
    "duration": 37,
    "start_time": "2025-06-02T15:27:36.430Z"
   },
   {
    "duration": 19,
    "start_time": "2025-06-02T15:28:27.617Z"
   },
   {
    "duration": 41,
    "start_time": "2025-06-02T15:30:39.032Z"
   },
   {
    "duration": 31,
    "start_time": "2025-06-02T15:31:14.262Z"
   },
   {
    "duration": 29,
    "start_time": "2025-06-02T15:31:35.422Z"
   },
   {
    "duration": 6,
    "start_time": "2025-06-02T15:32:07.192Z"
   },
   {
    "duration": 6,
    "start_time": "2025-06-02T15:32:08.477Z"
   },
   {
    "duration": 1639,
    "start_time": "2025-06-02T15:37:10.484Z"
   },
   {
    "duration": 18,
    "start_time": "2025-06-02T15:37:15.398Z"
   },
   {
    "duration": 126,
    "start_time": "2025-06-02T15:37:16.108Z"
   },
   {
    "duration": 18,
    "start_time": "2025-06-02T15:37:19.425Z"
   },
   {
    "duration": 6,
    "start_time": "2025-06-02T15:37:23.408Z"
   },
   {
    "duration": 12,
    "start_time": "2025-06-02T15:37:25.265Z"
   },
   {
    "duration": 6,
    "start_time": "2025-06-02T15:37:28.415Z"
   },
   {
    "duration": 191,
    "start_time": "2025-06-02T15:37:34.821Z"
   },
   {
    "duration": 36,
    "start_time": "2025-06-02T15:37:38.091Z"
   },
   {
    "duration": 57,
    "start_time": "2025-06-02T15:39:47.537Z"
   },
   {
    "duration": 20,
    "start_time": "2025-06-02T15:40:07.280Z"
   },
   {
    "duration": 1783,
    "start_time": "2025-06-02T15:43:00.422Z"
   },
   {
    "duration": 21,
    "start_time": "2025-06-02T15:43:02.208Z"
   },
   {
    "duration": 146,
    "start_time": "2025-06-02T15:43:02.231Z"
   },
   {
    "duration": 18,
    "start_time": "2025-06-02T15:43:03.468Z"
   },
   {
    "duration": 6,
    "start_time": "2025-06-02T15:43:03.985Z"
   },
   {
    "duration": 14,
    "start_time": "2025-06-02T15:43:05.253Z"
   },
   {
    "duration": 6,
    "start_time": "2025-06-02T15:43:07.496Z"
   },
   {
    "duration": 199,
    "start_time": "2025-06-02T15:43:11.356Z"
   },
   {
    "duration": 36,
    "start_time": "2025-06-02T15:43:15.399Z"
   },
   {
    "duration": 56,
    "start_time": "2025-06-02T15:43:23.531Z"
   },
   {
    "duration": 22,
    "start_time": "2025-06-02T15:43:25.492Z"
   },
   {
    "duration": 44,
    "start_time": "2025-06-02T15:43:52.373Z"
   },
   {
    "duration": 1272,
    "start_time": "2025-06-02T15:45:24.405Z"
   },
   {
    "duration": 23,
    "start_time": "2025-06-02T15:47:04.230Z"
   },
   {
    "duration": 21,
    "start_time": "2025-06-02T15:47:16.271Z"
   },
   {
    "duration": 20,
    "start_time": "2025-06-02T15:47:35.089Z"
   },
   {
    "duration": 20,
    "start_time": "2025-06-02T15:47:37.562Z"
   },
   {
    "duration": 5,
    "start_time": "2025-06-02T15:47:48.723Z"
   },
   {
    "duration": 6,
    "start_time": "2025-06-02T15:47:52.655Z"
   },
   {
    "duration": 23,
    "start_time": "2025-06-02T15:48:17.065Z"
   },
   {
    "duration": 1668,
    "start_time": "2025-06-02T15:49:27.805Z"
   },
   {
    "duration": 20,
    "start_time": "2025-06-02T15:49:30.940Z"
   },
   {
    "duration": 127,
    "start_time": "2025-06-02T15:49:32.390Z"
   },
   {
    "duration": 19,
    "start_time": "2025-06-02T15:49:34.611Z"
   },
   {
    "duration": 7,
    "start_time": "2025-06-02T15:49:34.825Z"
   },
   {
    "duration": 13,
    "start_time": "2025-06-02T15:49:37.782Z"
   },
   {
    "duration": 6,
    "start_time": "2025-06-02T15:49:41.403Z"
   },
   {
    "duration": 191,
    "start_time": "2025-06-02T15:49:46.269Z"
   },
   {
    "duration": 37,
    "start_time": "2025-06-02T15:49:47.313Z"
   },
   {
    "duration": 102,
    "start_time": "2025-06-02T15:49:55.963Z"
   },
   {
    "duration": 21,
    "start_time": "2025-06-02T15:50:18.349Z"
   },
   {
    "duration": 34,
    "start_time": "2025-06-02T15:50:28.399Z"
   },
   {
    "duration": 6,
    "start_time": "2025-06-02T15:50:43.173Z"
   },
   {
    "duration": 71,
    "start_time": "2025-06-02T15:52:11.756Z"
   },
   {
    "duration": 39,
    "start_time": "2025-06-02T15:57:52.549Z"
   },
   {
    "duration": 1703,
    "start_time": "2025-06-02T15:58:18.536Z"
   },
   {
    "duration": 26,
    "start_time": "2025-06-02T15:58:20.241Z"
   },
   {
    "duration": 123,
    "start_time": "2025-06-02T15:58:21.007Z"
   },
   {
    "duration": 28,
    "start_time": "2025-06-02T15:58:26.158Z"
   },
   {
    "duration": 7,
    "start_time": "2025-06-02T15:58:27.893Z"
   },
   {
    "duration": 13,
    "start_time": "2025-06-02T15:58:31.088Z"
   },
   {
    "duration": 6,
    "start_time": "2025-06-02T15:58:33.560Z"
   },
   {
    "duration": 196,
    "start_time": "2025-06-02T15:58:48.278Z"
   },
   {
    "duration": 38,
    "start_time": "2025-06-02T15:58:51.767Z"
   },
   {
    "duration": 112,
    "start_time": "2025-06-02T15:59:01.714Z"
   },
   {
    "duration": 6,
    "start_time": "2025-06-02T15:59:11.695Z"
   },
   {
    "duration": 19,
    "start_time": "2025-06-02T15:59:25.794Z"
   },
   {
    "duration": 36,
    "start_time": "2025-06-02T15:59:38.272Z"
   },
   {
    "duration": 66,
    "start_time": "2025-06-02T16:12:33.144Z"
   },
   {
    "duration": 1315,
    "start_time": "2025-06-02T16:13:29.319Z"
   },
   {
    "duration": 76,
    "start_time": "2025-06-02T16:13:30.636Z"
   },
   {
    "duration": 20,
    "start_time": "2025-06-02T16:13:30.714Z"
   },
   {
    "duration": 14,
    "start_time": "2025-06-02T16:13:30.736Z"
   },
   {
    "duration": 16,
    "start_time": "2025-06-02T16:13:30.751Z"
   },
   {
    "duration": 11,
    "start_time": "2025-06-02T16:13:30.769Z"
   },
   {
    "duration": 15,
    "start_time": "2025-06-02T16:13:30.782Z"
   },
   {
    "duration": 20,
    "start_time": "2025-06-02T16:13:30.799Z"
   },
   {
    "duration": 37,
    "start_time": "2025-06-02T16:13:30.821Z"
   },
   {
    "duration": 533,
    "start_time": "2025-06-02T16:13:30.861Z"
   },
   {
    "duration": 22,
    "start_time": "2025-06-02T16:13:31.396Z"
   },
   {
    "duration": 614,
    "start_time": "2025-06-02T16:13:31.420Z"
   },
   {
    "duration": 9,
    "start_time": "2025-06-02T16:13:32.036Z"
   },
   {
    "duration": 2301,
    "start_time": "2025-06-02T16:13:32.047Z"
   },
   {
    "duration": 24,
    "start_time": "2025-06-02T16:13:34.350Z"
   },
   {
    "duration": 153,
    "start_time": "2025-06-02T16:13:34.376Z"
   },
   {
    "duration": 32,
    "start_time": "2025-06-02T16:13:34.532Z"
   },
   {
    "duration": 9,
    "start_time": "2025-06-02T16:13:34.566Z"
   },
   {
    "duration": 14,
    "start_time": "2025-06-02T16:13:34.577Z"
   },
   {
    "duration": 5,
    "start_time": "2025-06-02T16:13:34.593Z"
   },
   {
    "duration": 297,
    "start_time": "2025-06-02T16:13:34.600Z"
   },
   {
    "duration": 37,
    "start_time": "2025-06-02T16:13:34.899Z"
   },
   {
    "duration": 144,
    "start_time": "2025-06-02T16:13:34.938Z"
   },
   {
    "duration": 8,
    "start_time": "2025-06-02T16:13:35.085Z"
   },
   {
    "duration": 13,
    "start_time": "2025-06-02T16:13:35.094Z"
   },
   {
    "duration": 73,
    "start_time": "2025-06-02T16:13:35.109Z"
   },
   {
    "duration": 6,
    "start_time": "2025-06-02T16:13:35.184Z"
   },
   {
    "duration": 4,
    "start_time": "2025-06-02T16:13:41.441Z"
   },
   {
    "duration": 50,
    "start_time": "2025-06-02T16:13:42.232Z"
   },
   {
    "duration": 14,
    "start_time": "2025-06-02T16:13:42.816Z"
   },
   {
    "duration": 13,
    "start_time": "2025-06-02T16:13:45.239Z"
   },
   {
    "duration": 14,
    "start_time": "2025-06-02T16:13:46.106Z"
   },
   {
    "duration": 6,
    "start_time": "2025-06-02T16:13:49.470Z"
   },
   {
    "duration": 6,
    "start_time": "2025-06-02T16:13:55.730Z"
   },
   {
    "duration": 5,
    "start_time": "2025-06-02T16:13:56.250Z"
   },
   {
    "duration": 25,
    "start_time": "2025-06-02T16:14:00.972Z"
   },
   {
    "duration": 715,
    "start_time": "2025-06-02T16:14:04.330Z"
   },
   {
    "duration": 38,
    "start_time": "2025-06-02T16:14:05.047Z"
   },
   {
    "duration": 612,
    "start_time": "2025-06-02T16:14:09.853Z"
   },
   {
    "duration": 10,
    "start_time": "2025-06-02T16:14:12.191Z"
   },
   {
    "duration": 1613,
    "start_time": "2025-06-02T16:14:21.631Z"
   },
   {
    "duration": 23,
    "start_time": "2025-06-02T16:14:24.661Z"
   },
   {
    "duration": 129,
    "start_time": "2025-06-02T16:14:25.429Z"
   },
   {
    "duration": 19,
    "start_time": "2025-06-02T16:14:42.897Z"
   },
   {
    "duration": 7,
    "start_time": "2025-06-02T16:14:45.237Z"
   },
   {
    "duration": 13,
    "start_time": "2025-06-02T16:14:48.266Z"
   },
   {
    "duration": 6,
    "start_time": "2025-06-02T16:14:50.962Z"
   },
   {
    "duration": 203,
    "start_time": "2025-06-02T16:14:54.169Z"
   },
   {
    "duration": 37,
    "start_time": "2025-06-02T16:14:56.846Z"
   },
   {
    "duration": 108,
    "start_time": "2025-06-02T16:14:59.735Z"
   },
   {
    "duration": 6,
    "start_time": "2025-06-02T16:15:01.637Z"
   },
   {
    "duration": 13,
    "start_time": "2025-06-02T16:15:04.764Z"
   },
   {
    "duration": 38,
    "start_time": "2025-06-02T16:15:09.419Z"
   },
   {
    "duration": 6,
    "start_time": "2025-06-02T16:15:17.768Z"
   },
   {
    "duration": 1445,
    "start_time": "2025-06-17T16:38:23.744Z"
   },
   {
    "duration": 1647,
    "start_time": "2025-06-17T16:38:25.432Z"
   },
   {
    "duration": 23,
    "start_time": "2025-06-17T16:38:31.456Z"
   },
   {
    "duration": 126,
    "start_time": "2025-06-17T16:38:32.757Z"
   },
   {
    "duration": 4,
    "start_time": "2025-06-17T16:49:06.627Z"
   },
   {
    "duration": 1540,
    "start_time": "2025-06-17T16:49:07.103Z"
   },
   {
    "duration": 21,
    "start_time": "2025-06-17T16:49:08.646Z"
   },
   {
    "duration": 156,
    "start_time": "2025-06-17T16:49:08.669Z"
   },
   {
    "duration": 18,
    "start_time": "2025-06-17T16:49:11.917Z"
   },
   {
    "duration": 7,
    "start_time": "2025-06-17T16:49:12.979Z"
   },
   {
    "duration": 11,
    "start_time": "2025-06-17T16:49:14.516Z"
   },
   {
    "duration": 8,
    "start_time": "2025-06-17T16:49:17.355Z"
   },
   {
    "duration": 195,
    "start_time": "2025-06-17T16:49:19.037Z"
   },
   {
    "duration": 37,
    "start_time": "2025-06-17T16:49:19.591Z"
   },
   {
    "duration": 178,
    "start_time": "2025-06-17T16:50:10.279Z"
   },
   {
    "duration": 34,
    "start_time": "2025-06-17T16:50:16.396Z"
   },
   {
    "duration": 102,
    "start_time": "2025-06-17T16:50:18.502Z"
   },
   {
    "duration": 9,
    "start_time": "2025-06-17T16:54:51.256Z"
   }
  ],
  "colab": {
   "provenance": [],
   "toc_visible": true
  },
  "kernelspec": {
   "display_name": "Python 3 (ipykernel)",
   "language": "python",
   "name": "python3"
  },
  "language_info": {
   "codemirror_mode": {
    "name": "ipython",
    "version": 3
   },
   "file_extension": ".py",
   "mimetype": "text/x-python",
   "name": "python",
   "nbconvert_exporter": "python",
   "pygments_lexer": "ipython3",
   "version": "3.9.5"
  },
  "toc": {
   "base_numbering": 1,
   "nav_menu": {},
   "number_sections": true,
   "sideBar": true,
   "skip_h1_title": true,
   "title_cell": "Table of Contents",
   "title_sidebar": "Contents",
   "toc_cell": false,
   "toc_position": {},
   "toc_section_display": true,
   "toc_window_display": false
  }
 },
 "nbformat": 4,
 "nbformat_minor": 5
}
