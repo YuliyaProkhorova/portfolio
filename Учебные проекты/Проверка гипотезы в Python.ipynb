{
 "cells": [
  {
   "cell_type": "markdown",
   "id": "_E41Wr5fqnFT",
   "metadata": {
    "id": "_E41Wr5fqnFT"
   },
   "source": [
    "# Проверка гипотезы в Python"
   ]
  },
  {
   "cell_type": "markdown",
   "id": "e06910dd",
   "metadata": {
    "id": "e06910dd"
   },
   "source": [
    "- Автор: Юлия прохорова\n",
    "- Дата: 29.05.2025"
   ]
  },
  {
   "cell_type": "markdown",
   "id": "4149134c",
   "metadata": {
    "id": "4149134c"
   },
   "source": [
    "**Цели и задачи проекта**\n",
    "\n",
    "Сравнить пользователей из Санкт-Петербурга и Москвы сервиса Яндекс Книги. Проверить гипотезу: пользователи из Санкт-Петербурга проводят в среднем больше времени за чтением и прослушиванием книг в приложении по сравнению с пользователями из Москвы. "
   ]
  },
  {
   "cell_type": "markdown",
   "id": "728986ea",
   "metadata": {
    "id": "728986ea"
   },
   "source": [
    "**Описание данных**\n",
    "\n",
    "Данные пользователей из Москвы и Санкт-Петербурга c их активностью (суммой часов чтения и прослушивания) из файла `/datasets/yandex_knigi_data.csv`:\n",
    "- `city` - город пользователя;\n",
    "- `puid` - идентификатор пользователя;\n",
    "- `hours` - общее количество часов активности\n"
   ]
  },
  {
   "cell_type": "markdown",
   "id": "4fecaf95",
   "metadata": {
    "id": "4fecaf95"
   },
   "source": [
    "**Содержимое проекта**\n",
    "\n",
    "- 1. Загрузка данных и знакомство с ними\n",
    "- 2. Проверка гипотезы в Python\n",
    "- 3. Выводы "
   ]
  },
  {
   "cell_type": "markdown",
   "id": "6f7d21d6",
   "metadata": {
    "id": "6f7d21d6"
   },
   "source": [
    "## Загрузка данных и знакомство с ними"
   ]
  },
  {
   "cell_type": "code",
   "execution_count": 1,
   "id": "87810cad",
   "metadata": {},
   "outputs": [],
   "source": [
    "# Импортируем библиотеки\n",
    "import pandas as pd\n",
    "import matplotlib.pyplot as plt\n",
    "import seaborn as sns\n",
    "from scipy import stats as st\n",
    "from scipy.stats import ttest_ind\n",
    "from statsmodels.stats.proportion import proportions_ztest\n",
    "import numpy as np\n",
    "import statsmodels.stats.power as smp\n",
    "import statsmodels.stats.proportion as smprop"
   ]
  },
  {
   "cell_type": "code",
   "execution_count": 2,
   "id": "f68a7419",
   "metadata": {
    "id": "f68a7419"
   },
   "outputs": [],
   "source": [
    "# Загрузим исследуемый датасет\n",
    "df = pd.read_csv('https://code.s3.yandex.net/datasets/yandex_knigi_data.csv')"
   ]
  },
  {
   "cell_type": "code",
   "execution_count": 3,
   "id": "093f4ccf",
   "metadata": {},
   "outputs": [
    {
     "data": {
      "text/html": [
       "<div>\n",
       "<style scoped>\n",
       "    .dataframe tbody tr th:only-of-type {\n",
       "        vertical-align: middle;\n",
       "    }\n",
       "\n",
       "    .dataframe tbody tr th {\n",
       "        vertical-align: top;\n",
       "    }\n",
       "\n",
       "    .dataframe thead th {\n",
       "        text-align: right;\n",
       "    }\n",
       "</style>\n",
       "<table border=\"1\" class=\"dataframe\">\n",
       "  <thead>\n",
       "    <tr style=\"text-align: right;\">\n",
       "      <th></th>\n",
       "      <th>Unnamed: 0</th>\n",
       "      <th>city</th>\n",
       "      <th>puid</th>\n",
       "      <th>hours</th>\n",
       "    </tr>\n",
       "  </thead>\n",
       "  <tbody>\n",
       "    <tr>\n",
       "      <th>0</th>\n",
       "      <td>0</td>\n",
       "      <td>Москва</td>\n",
       "      <td>9668</td>\n",
       "      <td>26.167776</td>\n",
       "    </tr>\n",
       "    <tr>\n",
       "      <th>1</th>\n",
       "      <td>1</td>\n",
       "      <td>Москва</td>\n",
       "      <td>16598</td>\n",
       "      <td>82.111217</td>\n",
       "    </tr>\n",
       "    <tr>\n",
       "      <th>2</th>\n",
       "      <td>2</td>\n",
       "      <td>Москва</td>\n",
       "      <td>80401</td>\n",
       "      <td>4.656906</td>\n",
       "    </tr>\n",
       "    <tr>\n",
       "      <th>3</th>\n",
       "      <td>3</td>\n",
       "      <td>Москва</td>\n",
       "      <td>140205</td>\n",
       "      <td>1.840556</td>\n",
       "    </tr>\n",
       "    <tr>\n",
       "      <th>4</th>\n",
       "      <td>4</td>\n",
       "      <td>Москва</td>\n",
       "      <td>248755</td>\n",
       "      <td>151.326434</td>\n",
       "    </tr>\n",
       "    <tr>\n",
       "      <th>...</th>\n",
       "      <td>...</td>\n",
       "      <td>...</td>\n",
       "      <td>...</td>\n",
       "      <td>...</td>\n",
       "    </tr>\n",
       "    <tr>\n",
       "      <th>8779</th>\n",
       "      <td>8779</td>\n",
       "      <td>Санкт-Петербург</td>\n",
       "      <td>1130000028554332</td>\n",
       "      <td>4.107774</td>\n",
       "    </tr>\n",
       "    <tr>\n",
       "      <th>8780</th>\n",
       "      <td>8780</td>\n",
       "      <td>Санкт-Петербург</td>\n",
       "      <td>1130000030307246</td>\n",
       "      <td>45.069222</td>\n",
       "    </tr>\n",
       "    <tr>\n",
       "      <th>8781</th>\n",
       "      <td>8781</td>\n",
       "      <td>Санкт-Петербург</td>\n",
       "      <td>1130000038726322</td>\n",
       "      <td>0.211944</td>\n",
       "    </tr>\n",
       "    <tr>\n",
       "      <th>8782</th>\n",
       "      <td>8782</td>\n",
       "      <td>Санкт-Петербург</td>\n",
       "      <td>1130000047892100</td>\n",
       "      <td>4.311841</td>\n",
       "    </tr>\n",
       "    <tr>\n",
       "      <th>8783</th>\n",
       "      <td>8783</td>\n",
       "      <td>Санкт-Петербург</td>\n",
       "      <td>1130000061443598</td>\n",
       "      <td>20.847222</td>\n",
       "    </tr>\n",
       "  </tbody>\n",
       "</table>\n",
       "<p>8784 rows × 4 columns</p>\n",
       "</div>"
      ],
      "text/plain": [
       "      Unnamed: 0             city              puid       hours\n",
       "0              0           Москва              9668   26.167776\n",
       "1              1           Москва             16598   82.111217\n",
       "2              2           Москва             80401    4.656906\n",
       "3              3           Москва            140205    1.840556\n",
       "4              4           Москва            248755  151.326434\n",
       "...          ...              ...               ...         ...\n",
       "8779        8779  Санкт-Петербург  1130000028554332    4.107774\n",
       "8780        8780  Санкт-Петербург  1130000030307246   45.069222\n",
       "8781        8781  Санкт-Петербург  1130000038726322    0.211944\n",
       "8782        8782  Санкт-Петербург  1130000047892100    4.311841\n",
       "8783        8783  Санкт-Петербург  1130000061443598   20.847222\n",
       "\n",
       "[8784 rows x 4 columns]"
      ]
     },
     "execution_count": 3,
     "metadata": {},
     "output_type": "execute_result"
    }
   ],
   "source": [
    "# Познакомимся с данными загруженного датасета\n",
    "df"
   ]
  },
  {
   "cell_type": "code",
   "execution_count": 4,
   "id": "7ddeeaaa",
   "metadata": {},
   "outputs": [
    {
     "name": "stdout",
     "output_type": "stream",
     "text": [
      "<class 'pandas.core.frame.DataFrame'>\n",
      "RangeIndex: 8784 entries, 0 to 8783\n",
      "Data columns (total 4 columns):\n",
      " #   Column      Non-Null Count  Dtype  \n",
      "---  ------      --------------  -----  \n",
      " 0   Unnamed: 0  8784 non-null   int64  \n",
      " 1   city        8784 non-null   object \n",
      " 2   puid        8784 non-null   int64  \n",
      " 3   hours       8784 non-null   float64\n",
      "dtypes: float64(1), int64(2), object(1)\n",
      "memory usage: 274.6+ KB\n"
     ]
    }
   ],
   "source": [
    "# Познакомимся с данными загруженного датасета\n",
    "df.info()"
   ]
  },
  {
   "cell_type": "code",
   "execution_count": 5,
   "id": "c0b1b5d9",
   "metadata": {
    "scrolled": true
   },
   "outputs": [
    {
     "data": {
      "text/html": [
       "<div>\n",
       "<style scoped>\n",
       "    .dataframe tbody tr th:only-of-type {\n",
       "        vertical-align: middle;\n",
       "    }\n",
       "\n",
       "    .dataframe tbody tr th {\n",
       "        vertical-align: top;\n",
       "    }\n",
       "\n",
       "    .dataframe thead th {\n",
       "        text-align: right;\n",
       "    }\n",
       "</style>\n",
       "<table border=\"1\" class=\"dataframe\">\n",
       "  <thead>\n",
       "    <tr style=\"text-align: right;\">\n",
       "      <th></th>\n",
       "      <th>city</th>\n",
       "      <th>puid</th>\n",
       "      <th>hours</th>\n",
       "    </tr>\n",
       "  </thead>\n",
       "  <tbody>\n",
       "    <tr>\n",
       "      <th>0</th>\n",
       "      <td>Москва</td>\n",
       "      <td>9668</td>\n",
       "      <td>26.167776</td>\n",
       "    </tr>\n",
       "    <tr>\n",
       "      <th>1</th>\n",
       "      <td>Москва</td>\n",
       "      <td>16598</td>\n",
       "      <td>82.111217</td>\n",
       "    </tr>\n",
       "    <tr>\n",
       "      <th>2</th>\n",
       "      <td>Москва</td>\n",
       "      <td>80401</td>\n",
       "      <td>4.656906</td>\n",
       "    </tr>\n",
       "    <tr>\n",
       "      <th>3</th>\n",
       "      <td>Москва</td>\n",
       "      <td>140205</td>\n",
       "      <td>1.840556</td>\n",
       "    </tr>\n",
       "    <tr>\n",
       "      <th>4</th>\n",
       "      <td>Москва</td>\n",
       "      <td>248755</td>\n",
       "      <td>151.326434</td>\n",
       "    </tr>\n",
       "    <tr>\n",
       "      <th>...</th>\n",
       "      <td>...</td>\n",
       "      <td>...</td>\n",
       "      <td>...</td>\n",
       "    </tr>\n",
       "    <tr>\n",
       "      <th>8779</th>\n",
       "      <td>Санкт-Петербург</td>\n",
       "      <td>1130000028554332</td>\n",
       "      <td>4.107774</td>\n",
       "    </tr>\n",
       "    <tr>\n",
       "      <th>8780</th>\n",
       "      <td>Санкт-Петербург</td>\n",
       "      <td>1130000030307246</td>\n",
       "      <td>45.069222</td>\n",
       "    </tr>\n",
       "    <tr>\n",
       "      <th>8781</th>\n",
       "      <td>Санкт-Петербург</td>\n",
       "      <td>1130000038726322</td>\n",
       "      <td>0.211944</td>\n",
       "    </tr>\n",
       "    <tr>\n",
       "      <th>8782</th>\n",
       "      <td>Санкт-Петербург</td>\n",
       "      <td>1130000047892100</td>\n",
       "      <td>4.311841</td>\n",
       "    </tr>\n",
       "    <tr>\n",
       "      <th>8783</th>\n",
       "      <td>Санкт-Петербург</td>\n",
       "      <td>1130000061443598</td>\n",
       "      <td>20.847222</td>\n",
       "    </tr>\n",
       "  </tbody>\n",
       "</table>\n",
       "<p>8784 rows × 3 columns</p>\n",
       "</div>"
      ],
      "text/plain": [
       "                 city              puid       hours\n",
       "0              Москва              9668   26.167776\n",
       "1              Москва             16598   82.111217\n",
       "2              Москва             80401    4.656906\n",
       "3              Москва            140205    1.840556\n",
       "4              Москва            248755  151.326434\n",
       "...               ...               ...         ...\n",
       "8779  Санкт-Петербург  1130000028554332    4.107774\n",
       "8780  Санкт-Петербург  1130000030307246   45.069222\n",
       "8781  Санкт-Петербург  1130000038726322    0.211944\n",
       "8782  Санкт-Петербург  1130000047892100    4.311841\n",
       "8783  Санкт-Петербург  1130000061443598   20.847222\n",
       "\n",
       "[8784 rows x 3 columns]"
      ]
     },
     "execution_count": 5,
     "metadata": {},
     "output_type": "execute_result"
    }
   ],
   "source": [
    "# Удалим не нужный столбец Unnamed: 0\n",
    "df.drop(columns=['Unnamed: 0'])"
   ]
  },
  {
   "cell_type": "code",
   "execution_count": 6,
   "id": "77179c65",
   "metadata": {},
   "outputs": [
    {
     "data": {
      "text/plain": [
       "244"
      ]
     },
     "execution_count": 6,
     "metadata": {},
     "output_type": "execute_result"
    }
   ],
   "source": [
    "# Проверка дубликатов\n",
    "df['puid'].duplicated().sum()"
   ]
  },
  {
   "cell_type": "code",
   "execution_count": 7,
   "id": "2f430d90",
   "metadata": {},
   "outputs": [],
   "source": [
    "# Удалим дубликаты\n",
    "df=df.drop_duplicates(subset=['puid'], keep='first')"
   ]
  },
  {
   "cell_type": "code",
   "execution_count": 8,
   "id": "ea3a5d91",
   "metadata": {},
   "outputs": [
    {
     "data": {
      "text/plain": [
       "0"
      ]
     },
     "execution_count": 8,
     "metadata": {},
     "output_type": "execute_result"
    }
   ],
   "source": [
    "# Проверим удаление дубликатов\n",
    "df['puid'].duplicated().sum()"
   ]
  },
  {
   "cell_type": "markdown",
   "id": "956e82e2",
   "metadata": {
    "id": "956e82e2"
   },
   "source": [
    "## Проверка гипотезы в Python\n",
    "\n",
    "Гипотеза: пользователи из Санкт-Петербурга проводят в среднем больше времени за чтением и прослушиванием книг в приложении, чем пользователи из Москвы. Попробуем статистически это доказать, используя одностороннюю проверку гипотезы с двумя выборками.\n",
    "\n",
    "- Нулевая гипотеза H₀: Средняя активность пользователей в часах в двух группах (Москва и Санкт-Петербург) не различается.\n",
    "\n",
    "- Альтернативная гипотеза H₁: Средняя активность пользователей в Санкт-Петербурге больше, и это различие статистически значимо."
   ]
  },
  {
   "cell_type": "markdown",
   "id": "389d18f5",
   "metadata": {},
   "source": [
    "Рассмотрим размеры групп и среднее время активности в разрезе исследуемых городов."
   ]
  },
  {
   "cell_type": "code",
   "execution_count": 9,
   "id": "07df422f",
   "metadata": {},
   "outputs": [
    {
     "data": {
      "text/html": [
       "<div>\n",
       "<style scoped>\n",
       "    .dataframe tbody tr th:only-of-type {\n",
       "        vertical-align: middle;\n",
       "    }\n",
       "\n",
       "    .dataframe tbody tr th {\n",
       "        vertical-align: top;\n",
       "    }\n",
       "\n",
       "    .dataframe thead th {\n",
       "        text-align: right;\n",
       "    }\n",
       "</style>\n",
       "<table border=\"1\" class=\"dataframe\">\n",
       "  <thead>\n",
       "    <tr style=\"text-align: right;\">\n",
       "      <th></th>\n",
       "      <th>city</th>\n",
       "      <th>unique_puid_count</th>\n",
       "      <th>average_hours</th>\n",
       "    </tr>\n",
       "  </thead>\n",
       "  <tbody>\n",
       "    <tr>\n",
       "      <th>0</th>\n",
       "      <td>Москва</td>\n",
       "      <td>6234</td>\n",
       "      <td>10.881092</td>\n",
       "    </tr>\n",
       "    <tr>\n",
       "      <th>1</th>\n",
       "      <td>Санкт-Петербург</td>\n",
       "      <td>2306</td>\n",
       "      <td>11.264433</td>\n",
       "    </tr>\n",
       "  </tbody>\n",
       "</table>\n",
       "</div>"
      ],
      "text/plain": [
       "              city  unique_puid_count  average_hours\n",
       "0           Москва               6234      10.881092\n",
       "1  Санкт-Петербург               2306      11.264433"
      ]
     },
     "execution_count": 9,
     "metadata": {},
     "output_type": "execute_result"
    }
   ],
   "source": [
    "result = df.groupby('city').agg(\n",
    "    unique_puid_count=('puid', 'nunique'), \n",
    "    average_hours=('hours', 'mean')        \n",
    ").reset_index()\n",
    "result"
   ]
  },
  {
   "cell_type": "markdown",
   "id": "459d590e",
   "metadata": {},
   "source": [
    "Проверим распределение данных активности пользователей."
   ]
  },
  {
   "cell_type": "code",
   "execution_count": 28,
   "id": "1d8b3c4c",
   "metadata": {},
   "outputs": [
    {
     "data": {
      "image/png": "[encoded data removed]",
      "text/plain": [
       "<Figure size 864x432 with 2 Axes>"
      ]
     },
     "metadata": {},
     "output_type": "display_data"
    }
   ],
   "source": [
    "# Фильтрация данных по городам\n",
    "moscow_data = df[df['city'] == 'Москва']\n",
    "spb_data = df[df['city'] == 'Санкт-Петербург']\n",
    "\n",
    "plt.figure(figsize=(12, 6))\n",
    "plt.suptitle('Распределение активности пользователей', fontsize=14, y=1.05)  # Общий заголовок\n",
    "\n",
    "plt.subplot(1, 2, 1)\n",
    "plt.hist(moscow_data['hours'], bins=100, color='blue', alpha=0.7)\n",
    "plt.title('Москва')\n",
    "plt.xlabel('Часы')\n",
    "plt.ylabel('Количество пользователей')  # Подпись оси Y\n",
    "\n",
    "plt.subplot(1, 2, 2)\n",
    "plt.hist(spb_data['hours'], bins=100, color='green', alpha=0.7)\n",
    "plt.title('Санкт-Петербург')\n",
    "plt.xlabel('Часы')\n",
    "plt.ylabel('Количество пользователей')  # Подпись оси Y\n",
    "\n",
    "plt.tight_layout()  # Для лучшего расположения элементов\n",
    "plt.show()"
   ]
  },
  {
   "cell_type": "code",
   "execution_count": 11,
   "id": "f6b7557f",
   "metadata": {},
   "outputs": [
    {
     "name": "stdout",
     "output_type": "stream",
     "text": [
      "            Москва  Санкт-Петербург\n",
      "count  6234.000000      2306.000000\n",
      "mean     10.881092        11.264433\n",
      "std      36.851683        39.831755\n",
      "min       0.000018         0.000025\n",
      "25%       0.059903         0.060173\n",
      "50%       0.924498         0.875355\n",
      "75%       5.939972         6.138424\n",
      "max     857.209373       978.764775\n",
      "95%      54.871469        56.545642\n"
     ]
    }
   ],
   "source": [
    "# Фильтрация данных по городам\n",
    "moscow_stats = df[df['city'] == 'Москва']['hours'].describe()\n",
    "spb_stats = df[df['city'] == 'Санкт-Петербург']['hours'].describe()\n",
    "\n",
    "# Добавляем 95-й процентиль\n",
    "moscow_stats['95%'] = df[df['city'] == 'Москва']['hours'].quantile(0.95)\n",
    "spb_stats['95%'] = df[df['city'] == 'Санкт-Петербург']['hours'].quantile(0.95)\n",
    "\n",
    "# Объединение в одну таблицу для удобства\n",
    "stats_comparison = pd.DataFrame({\n",
    "    'Москва': moscow_stats,\n",
    "    'Санкт-Петербург': spb_stats\n",
    "})\n",
    "\n",
    "print(stats_comparison)"
   ]
  },
  {
   "cell_type": "markdown",
   "id": "bafccfc1",
   "metadata": {},
   "source": [
    "Согласно гистограммам и основным статистическим показателям, данные об активности содержат выбросы. Построим гистограммы активности пользователей содержащих данные меньше 95 процентиля."
   ]
  },
  {
   "cell_type": "code",
   "execution_count": 12,
   "id": "dcf42984",
   "metadata": {},
   "outputs": [
    {
     "data": {
      "image/png": "[encoded data removed]",
      "text/plain": [
       "<Figure size 864x360 with 2 Axes>"
      ]
     },
     "metadata": {},
     "output_type": "display_data"
    }
   ],
   "source": [
    "# Фильтрация данных по городам\n",
    "moscow_data = df[df['city'] == 'Москва']\n",
    "spb_data = df[df['city'] == 'Санкт-Петербург']\n",
    "\n",
    "# Вычисление 95-го процентиля для каждого города\n",
    "moscow_95 = moscow_data['hours'].quantile(0.95)\n",
    "spb_95 = spb_data['hours'].quantile(0.95)\n",
    "\n",
    "# Отбор значений ниже 95-го процентиля\n",
    "moscow_top_5 = moscow_data[moscow_data['hours'] < moscow_95]\n",
    "spb_top_5 = spb_data[spb_data['hours'] < spb_95]\n",
    "\n",
    "# Настройка стиля\n",
    "sns.set(style=\"whitegrid\", palette=\"pastel\")\n",
    "\n",
    "# Создание гистограмм\n",
    "plt.figure(figsize=(12, 5))\n",
    "\n",
    "# Гистограмма для Москвы\n",
    "plt.subplot(1, 2, 1)\n",
    "sns.histplot(moscow_top_5['hours'], bins=10, color='blue', kde=True)\n",
    "plt.title(f'Москва: hours < 95% ({moscow_95:.1f})')\n",
    "plt.xlabel('Часы')\n",
    "plt.ylabel('Количество')\n",
    "\n",
    "# Гистограмма для Санкт-Петербурга\n",
    "plt.subplot(1, 2, 2)\n",
    "sns.histplot(spb_top_5['hours'], bins=10, color='green', kde=True)\n",
    "plt.title(f'СПб: hours < 95% ({spb_95:.1f})')\n",
    "plt.xlabel('Часы')\n",
    "plt.ylabel('Количество')\n",
    "\n",
    "plt.tight_layout()\n",
    "plt.show()"
   ]
  },
  {
   "cell_type": "markdown",
   "id": "af101f58",
   "metadata": {},
   "source": [
    "Для проверки гипотезы будем использовать двухвыборочный t-тест Уэлча, т.к.:\n",
    "- Целевая метрика: hours (количество часов) — непрерывная числовая переменная,\n",
    "- Две независимые выборки: пользователи из Москвы и Санкт-Петербурга.\n",
    "- Данные распределены нормально;\n",
    "- Выборки отличны по размеру."
   ]
  },
  {
   "cell_type": "code",
   "execution_count": 13,
   "id": "67956690",
   "metadata": {
    "id": "67956690"
   },
   "outputs": [
    {
     "name": "stdout",
     "output_type": "stream",
     "text": [
      "p-значение: 0.6564291881233686\n",
      "❌ Не получилось отвергнуть нулевую гипотезу: разницы нет.\n"
     ]
    }
   ],
   "source": [
    "# Разделяем данные на две группы\n",
    "msk_hours = df[df['city'] == 'Москва']['hours']\n",
    "spb_hours = df[df['city'] == 'Санкт-Петербург']['hours']\n",
    "\n",
    "# Уровень значимости\n",
    "alpha = 0.05\n",
    "\n",
    "# Проводим t-тест\n",
    "results = st.ttest_ind(\n",
    "    msk_hours,\n",
    "    spb_hours,\n",
    "    alternative='greater',\n",
    "    equal_var=False\n",
    ")\n",
    "\n",
    "print('p-значение:', results.pvalue)\n",
    "\n",
    "# Интерпретация\n",
    "if results.pvalue < alpha:\n",
    "    print('✅ Отвергаем нулевую гипотезу: пользователи СПб активнее!')\n",
    "else:\n",
    "    print('❌ Не получилось отвергнуть нулевую гипотезу: разницы нет.')"
   ]
  },
  {
   "cell_type": "markdown",
   "id": "6953e84c",
   "metadata": {
    "id": "6953e84c"
   },
   "source": [
    "## Выводы"
   ]
  },
  {
   "cell_type": "markdown",
   "id": "d6c47613",
   "metadata": {},
   "source": [
    "**Тип теста:**\n",
    "- выбран односторонний t-тест Уэлча для двух независимых выборок (ttest_ind);\n",
    "- уровень статистической значимости - 0.05.\n",
    "\n",
    "**Результаты теста:**\n",
    "- p-value: 0.66.\n",
    "\n",
    "**Выводы:**\n",
    "- Поскольку p-value > α (0.66 > 0.05), нет оснований отвергнуть нулевую гипотезу.\n",
    "- Статистически значимых различий в среднем времени активности между пользователями Москвы и Санкт-Петербурга не обнаружено.\n",
    "\n",
    "**Возможные причины полученных результатов:**\n",
    "- 1. Пользователи из обоих городов могут иметь схожие модели поведения в приложении (например, одинаковую вовлеченность в чтение).\n",
    "- 2. Возможное влияние выбросов: наличие аномально высоких значений (например, у нескольких пользователей) могло \"перетянуть\" среднее, скрыв различия.\n"
   ]
  }
 ],
 "metadata": {
  "ExecuteTimeLog": [
   {
    "duration": 374,
    "start_time": "2025-05-29T11:09:59.192Z"
   },
   {
    "duration": 296,
    "start_time": "2025-05-29T11:09:59.689Z"
   },
   {
    "duration": 79,
    "start_time": "2025-05-29T11:10:08.913Z"
   },
   {
    "duration": 134,
    "start_time": "2025-05-29T11:10:11.974Z"
   },
   {
    "duration": 20,
    "start_time": "2025-05-29T11:10:28.153Z"
   },
   {
    "duration": 13,
    "start_time": "2025-05-29T11:23:10.583Z"
   },
   {
    "duration": 8,
    "start_time": "2025-05-29T11:28:13.853Z"
   },
   {
    "duration": 2,
    "start_time": "2025-05-29T11:28:42.612Z"
   },
   {
    "duration": 2,
    "start_time": "2025-05-29T11:28:45.687Z"
   },
   {
    "duration": 16,
    "start_time": "2025-05-29T11:28:53.499Z"
   },
   {
    "duration": 2,
    "start_time": "2025-05-29T11:29:22.272Z"
   },
   {
    "duration": 639,
    "start_time": "2025-05-29T11:29:22.728Z"
   },
   {
    "duration": 13,
    "start_time": "2025-05-29T11:29:23.369Z"
   },
   {
    "duration": 12,
    "start_time": "2025-05-29T11:29:24.090Z"
   },
   {
    "duration": 4,
    "start_time": "2025-05-29T11:29:25.086Z"
   },
   {
    "duration": 5,
    "start_time": "2025-05-29T11:29:29.080Z"
   },
   {
    "duration": 5,
    "start_time": "2025-05-29T11:29:47.206Z"
   },
   {
    "duration": 13,
    "start_time": "2025-05-29T11:34:36.555Z"
   },
   {
    "duration": 8,
    "start_time": "2025-05-29T11:34:55.039Z"
   },
   {
    "duration": 7,
    "start_time": "2025-05-29T11:35:17.556Z"
   },
   {
    "duration": 3,
    "start_time": "2025-05-29T11:36:11.412Z"
   },
   {
    "duration": 125,
    "start_time": "2025-05-29T11:36:12.176Z"
   },
   {
    "duration": 12,
    "start_time": "2025-05-29T11:36:13.382Z"
   },
   {
    "duration": 12,
    "start_time": "2025-05-29T11:36:14.744Z"
   },
   {
    "duration": 7,
    "start_time": "2025-05-29T11:36:16.662Z"
   },
   {
    "duration": 7,
    "start_time": "2025-05-29T11:39:01.116Z"
   },
   {
    "duration": 13,
    "start_time": "2025-05-29T11:39:19.466Z"
   },
   {
    "duration": 8,
    "start_time": "2025-05-29T11:39:36.284Z"
   },
   {
    "duration": 7,
    "start_time": "2025-05-29T11:42:19.662Z"
   },
   {
    "duration": 14,
    "start_time": "2025-05-29T11:42:57.133Z"
   },
   {
    "duration": 7,
    "start_time": "2025-05-29T11:43:09.990Z"
   },
   {
    "duration": 6,
    "start_time": "2025-05-29T11:43:32.046Z"
   },
   {
    "duration": 7,
    "start_time": "2025-05-29T11:43:37.486Z"
   },
   {
    "duration": 3,
    "start_time": "2025-05-29T12:00:12.526Z"
   },
   {
    "duration": 244,
    "start_time": "2025-05-29T12:00:12.531Z"
   },
   {
    "duration": 12,
    "start_time": "2025-05-29T12:00:12.777Z"
   },
   {
    "duration": 15,
    "start_time": "2025-05-29T12:00:14.310Z"
   },
   {
    "duration": 16,
    "start_time": "2025-05-29T12:00:20.244Z"
   },
   {
    "duration": 10,
    "start_time": "2025-05-29T12:00:21.894Z"
   },
   {
    "duration": 3,
    "start_time": "2025-05-29T12:00:44.265Z"
   },
   {
    "duration": 95,
    "start_time": "2025-05-29T12:00:44.889Z"
   },
   {
    "duration": 11,
    "start_time": "2025-05-29T12:00:45.962Z"
   },
   {
    "duration": 12,
    "start_time": "2025-05-29T12:00:49.798Z"
   },
   {
    "duration": 13,
    "start_time": "2025-05-29T12:00:59.712Z"
   },
   {
    "duration": 7,
    "start_time": "2025-05-29T12:01:01.677Z"
   },
   {
    "duration": 3,
    "start_time": "2025-05-29T12:01:52.065Z"
   },
   {
    "duration": 202,
    "start_time": "2025-05-29T12:01:52.635Z"
   },
   {
    "duration": 11,
    "start_time": "2025-05-29T12:01:54.640Z"
   },
   {
    "duration": 12,
    "start_time": "2025-05-29T12:02:00.402Z"
   },
   {
    "duration": 12,
    "start_time": "2025-05-29T12:02:03.837Z"
   },
   {
    "duration": 8,
    "start_time": "2025-05-29T12:02:07.763Z"
   },
   {
    "duration": 2,
    "start_time": "2025-05-29T12:02:39.824Z"
   },
   {
    "duration": 556,
    "start_time": "2025-05-29T12:02:40.373Z"
   },
   {
    "duration": 8,
    "start_time": "2025-05-29T12:02:56.471Z"
   },
   {
    "duration": 10,
    "start_time": "2025-05-29T12:03:07.931Z"
   },
   {
    "duration": 11,
    "start_time": "2025-05-29T12:03:08.707Z"
   },
   {
    "duration": 8,
    "start_time": "2025-05-29T12:03:11.743Z"
   },
   {
    "duration": 2,
    "start_time": "2025-05-29T12:04:18.336Z"
   },
   {
    "duration": 251,
    "start_time": "2025-05-29T12:04:20.286Z"
   },
   {
    "duration": 13,
    "start_time": "2025-05-29T12:04:22.005Z"
   },
   {
    "duration": 13,
    "start_time": "2025-05-29T12:04:26.548Z"
   },
   {
    "duration": 11,
    "start_time": "2025-05-29T12:04:35.557Z"
   },
   {
    "duration": 7,
    "start_time": "2025-05-29T12:04:39.106Z"
   },
   {
    "duration": 7,
    "start_time": "2025-05-29T12:05:06.948Z"
   },
   {
    "duration": 487,
    "start_time": "2025-05-29T12:22:24.779Z"
   },
   {
    "duration": 17,
    "start_time": "2025-05-29T12:22:43.571Z"
   },
   {
    "duration": 9,
    "start_time": "2025-05-29T12:26:13.859Z"
   },
   {
    "duration": 9,
    "start_time": "2025-05-29T12:28:47.821Z"
   },
   {
    "duration": 9,
    "start_time": "2025-05-29T12:48:38.891Z"
   },
   {
    "duration": 14,
    "start_time": "2025-05-29T12:48:42.306Z"
   },
   {
    "duration": 37,
    "start_time": "2025-05-29T12:52:09.883Z"
   },
   {
    "duration": 3,
    "start_time": "2025-05-29T12:53:00.911Z"
   },
   {
    "duration": 45,
    "start_time": "2025-05-29T12:53:13.172Z"
   },
   {
    "duration": 2,
    "start_time": "2025-05-29T12:55:27.298Z"
   },
   {
    "duration": 81,
    "start_time": "2025-05-29T12:55:32.557Z"
   },
   {
    "duration": 12,
    "start_time": "2025-05-29T12:55:32.996Z"
   },
   {
    "duration": 11,
    "start_time": "2025-05-29T12:55:33.528Z"
   },
   {
    "duration": 11,
    "start_time": "2025-05-29T12:55:34.014Z"
   },
   {
    "duration": 7,
    "start_time": "2025-05-29T12:55:34.541Z"
   },
   {
    "duration": 8,
    "start_time": "2025-05-29T12:55:35.804Z"
   },
   {
    "duration": 10,
    "start_time": "2025-05-29T12:55:36.230Z"
   },
   {
    "duration": 20,
    "start_time": "2025-05-29T12:55:37.632Z"
   },
   {
    "duration": 3,
    "start_time": "2025-05-29T12:58:48.936Z"
   },
   {
    "duration": 10,
    "start_time": "2025-05-29T12:59:42.961Z"
   },
   {
    "duration": 10,
    "start_time": "2025-05-29T13:05:04.048Z"
   },
   {
    "duration": 9,
    "start_time": "2025-05-29T13:22:51.359Z"
   },
   {
    "duration": 630,
    "start_time": "2025-05-29T13:23:05.947Z"
   },
   {
    "duration": 136,
    "start_time": "2025-05-29T13:25:50.841Z"
   },
   {
    "duration": 81,
    "start_time": "2025-05-29T13:27:22.786Z"
   },
   {
    "duration": 1444,
    "start_time": "2025-05-29T13:28:45.730Z"
   },
   {
    "duration": 944,
    "start_time": "2025-05-30T09:16:24.857Z"
   },
   {
    "duration": 1681,
    "start_time": "2025-05-30T09:16:34.404Z"
   },
   {
    "duration": 35,
    "start_time": "2025-05-30T09:18:03.586Z"
   },
   {
    "duration": 135,
    "start_time": "2025-05-30T09:18:07.550Z"
   },
   {
    "duration": 720,
    "start_time": "2025-05-30T11:38:00.903Z"
   },
   {
    "duration": 22,
    "start_time": "2025-05-30T11:43:50.519Z"
   },
   {
    "duration": 22,
    "start_time": "2025-05-30T11:45:58.904Z"
   },
   {
    "duration": 36,
    "start_time": "2025-05-30T11:48:42.962Z"
   },
   {
    "duration": 72,
    "start_time": "2025-05-30T11:49:11.530Z"
   },
   {
    "duration": 34,
    "start_time": "2025-05-30T11:49:33.359Z"
   },
   {
    "duration": 40,
    "start_time": "2025-05-30T11:54:27.543Z"
   },
   {
    "duration": 36,
    "start_time": "2025-05-30T11:54:56.765Z"
   },
   {
    "duration": 66,
    "start_time": "2025-05-30T11:56:11.779Z"
   },
   {
    "duration": 117,
    "start_time": "2025-05-30T11:56:22.753Z"
   },
   {
    "duration": 18,
    "start_time": "2025-05-30T11:58:03.757Z"
   },
   {
    "duration": 12,
    "start_time": "2025-05-30T12:02:11.780Z"
   },
   {
    "duration": 1404,
    "start_time": "2025-05-30T13:51:38.117Z"
   },
   {
    "duration": 104,
    "start_time": "2025-05-30T14:13:23.168Z"
   },
   {
    "duration": 1529,
    "start_time": "2025-05-30T14:13:41.971Z"
   },
   {
    "duration": 22,
    "start_time": "2025-05-30T14:13:48.887Z"
   },
   {
    "duration": 1606,
    "start_time": "2025-05-30T14:14:00.162Z"
   },
   {
    "duration": 2536,
    "start_time": "2025-05-30T14:14:30.232Z"
   },
   {
    "duration": 1505,
    "start_time": "2025-05-30T14:15:00.268Z"
   },
   {
    "duration": 17,
    "start_time": "2025-05-30T14:15:41.349Z"
   },
   {
    "duration": 6,
    "start_time": "2025-05-30T14:15:51.399Z"
   },
   {
    "duration": 244,
    "start_time": "2025-05-30T14:27:59.437Z"
   },
   {
    "duration": 36,
    "start_time": "2025-05-30T14:30:24.210Z"
   },
   {
    "duration": 10,
    "start_time": "2025-05-30T14:34:29.585Z"
   },
   {
    "duration": 11,
    "start_time": "2025-05-30T14:34:43.182Z"
   },
   {
    "duration": 8,
    "start_time": "2025-05-30T14:46:23.974Z"
   },
   {
    "duration": 19,
    "start_time": "2025-05-30T14:46:39.812Z"
   },
   {
    "duration": 125,
    "start_time": "2025-05-30T14:46:40.460Z"
   },
   {
    "duration": 18,
    "start_time": "2025-05-30T14:46:42.402Z"
   },
   {
    "duration": 6,
    "start_time": "2025-05-30T14:46:43.017Z"
   },
   {
    "duration": 12,
    "start_time": "2025-05-30T14:46:44.077Z"
   },
   {
    "duration": 12,
    "start_time": "2025-05-30T14:46:44.700Z"
   },
   {
    "duration": 196,
    "start_time": "2025-05-30T14:46:46.953Z"
   },
   {
    "duration": 10,
    "start_time": "2025-05-30T14:46:49.578Z"
   },
   {
    "duration": 6,
    "start_time": "2025-05-30T15:00:37.580Z"
   },
   {
    "duration": 1228,
    "start_time": "2025-05-30T15:01:20.095Z"
   },
   {
    "duration": 109,
    "start_time": "2025-05-30T15:01:21.324Z"
   },
   {
    "duration": 16,
    "start_time": "2025-05-30T15:01:21.435Z"
   },
   {
    "duration": 16,
    "start_time": "2025-05-30T15:01:21.453Z"
   },
   {
    "duration": 30,
    "start_time": "2025-05-30T15:01:21.471Z"
   },
   {
    "duration": 10,
    "start_time": "2025-05-30T15:01:21.503Z"
   },
   {
    "duration": 12,
    "start_time": "2025-05-30T15:01:21.514Z"
   },
   {
    "duration": 11,
    "start_time": "2025-05-30T15:01:21.527Z"
   },
   {
    "duration": 116,
    "start_time": "2025-05-30T15:01:21.540Z"
   },
   {
    "duration": 0,
    "start_time": "2025-05-30T15:01:21.657Z"
   },
   {
    "duration": 0,
    "start_time": "2025-05-30T15:01:21.659Z"
   },
   {
    "duration": 0,
    "start_time": "2025-05-30T15:01:21.660Z"
   },
   {
    "duration": 0,
    "start_time": "2025-05-30T15:01:21.670Z"
   },
   {
    "duration": 0,
    "start_time": "2025-05-30T15:01:21.673Z"
   },
   {
    "duration": 0,
    "start_time": "2025-05-30T15:01:21.674Z"
   },
   {
    "duration": 0,
    "start_time": "2025-05-30T15:01:21.675Z"
   },
   {
    "duration": 0,
    "start_time": "2025-05-30T15:01:21.677Z"
   },
   {
    "duration": 0,
    "start_time": "2025-05-30T15:01:21.677Z"
   },
   {
    "duration": 9,
    "start_time": "2025-05-30T15:01:33.549Z"
   },
   {
    "duration": 4,
    "start_time": "2025-05-30T15:02:02.786Z"
   },
   {
    "duration": 1776,
    "start_time": "2025-05-30T15:02:13.346Z"
   },
   {
    "duration": 18,
    "start_time": "2025-05-30T15:02:17.253Z"
   },
   {
    "duration": 147,
    "start_time": "2025-05-30T15:02:18.567Z"
   },
   {
    "duration": 17,
    "start_time": "2025-05-30T15:02:24.135Z"
   },
   {
    "duration": 6,
    "start_time": "2025-05-30T15:02:24.885Z"
   },
   {
    "duration": 11,
    "start_time": "2025-05-30T15:02:26.473Z"
   },
   {
    "duration": 6,
    "start_time": "2025-05-30T15:02:28.003Z"
   },
   {
    "duration": 243,
    "start_time": "2025-05-30T15:02:29.547Z"
   },
   {
    "duration": 9,
    "start_time": "2025-05-30T15:02:35.603Z"
   },
   {
    "duration": 5,
    "start_time": "2025-05-30T15:14:07.956Z"
   },
   {
    "duration": 11,
    "start_time": "2025-05-30T15:14:49.940Z"
   },
   {
    "duration": 2916,
    "start_time": "2025-05-30T15:16:09.914Z"
   },
   {
    "duration": 19,
    "start_time": "2025-05-30T15:16:12.832Z"
   },
   {
    "duration": 143,
    "start_time": "2025-05-30T15:16:12.852Z"
   },
   {
    "duration": 17,
    "start_time": "2025-05-30T15:16:13.631Z"
   },
   {
    "duration": 6,
    "start_time": "2025-05-30T15:16:14.353Z"
   },
   {
    "duration": 12,
    "start_time": "2025-05-30T15:16:15.744Z"
   },
   {
    "duration": 6,
    "start_time": "2025-05-30T15:16:20.306Z"
   },
   {
    "duration": 186,
    "start_time": "2025-05-30T15:16:28.816Z"
   },
   {
    "duration": 79,
    "start_time": "2025-05-30T15:26:34.228Z"
   },
   {
    "duration": 1520,
    "start_time": "2025-05-30T15:27:02.528Z"
   },
   {
    "duration": 1714,
    "start_time": "2025-05-30T15:35:21.040Z"
   },
   {
    "duration": 1596,
    "start_time": "2025-05-30T15:37:41.263Z"
   },
   {
    "duration": 1675,
    "start_time": "2025-05-30T15:38:54.056Z"
   },
   {
    "duration": 27,
    "start_time": "2025-05-30T15:40:55.801Z"
   },
   {
    "duration": 8,
    "start_time": "2025-05-30T15:41:12.594Z"
   },
   {
    "duration": 18,
    "start_time": "2025-05-30T15:42:51.487Z"
   },
   {
    "duration": 19,
    "start_time": "2025-05-30T15:43:10.649Z"
   },
   {
    "duration": 34,
    "start_time": "2025-05-30T15:43:56.008Z"
   },
   {
    "duration": 1683,
    "start_time": "2025-05-30T15:45:11.229Z"
   },
   {
    "duration": 19,
    "start_time": "2025-05-30T15:45:13.157Z"
   },
   {
    "duration": 141,
    "start_time": "2025-05-30T15:45:14.916Z"
   },
   {
    "duration": 19,
    "start_time": "2025-05-30T15:45:19.098Z"
   },
   {
    "duration": 6,
    "start_time": "2025-05-30T15:45:22.117Z"
   },
   {
    "duration": 11,
    "start_time": "2025-05-30T15:45:25.731Z"
   },
   {
    "duration": 5,
    "start_time": "2025-05-30T15:45:27.554Z"
   },
   {
    "duration": 185,
    "start_time": "2025-05-30T15:45:35.637Z"
   },
   {
    "duration": 1277,
    "start_time": "2025-05-30T15:48:17.938Z"
   },
   {
    "duration": 74,
    "start_time": "2025-05-30T15:48:19.218Z"
   },
   {
    "duration": 17,
    "start_time": "2025-05-30T15:48:19.294Z"
   },
   {
    "duration": 15,
    "start_time": "2025-05-30T15:48:19.313Z"
   },
   {
    "duration": 12,
    "start_time": "2025-05-30T15:48:19.330Z"
   },
   {
    "duration": 25,
    "start_time": "2025-05-30T15:48:19.344Z"
   },
   {
    "duration": 6,
    "start_time": "2025-05-30T15:48:19.371Z"
   },
   {
    "duration": 8,
    "start_time": "2025-05-30T15:48:19.379Z"
   },
   {
    "duration": 121,
    "start_time": "2025-05-30T15:48:19.389Z"
   },
   {
    "duration": 0,
    "start_time": "2025-05-30T15:48:19.513Z"
   },
   {
    "duration": 0,
    "start_time": "2025-05-30T15:48:19.514Z"
   },
   {
    "duration": 0,
    "start_time": "2025-05-30T15:48:19.515Z"
   },
   {
    "duration": 0,
    "start_time": "2025-05-30T15:48:19.516Z"
   },
   {
    "duration": 0,
    "start_time": "2025-05-30T15:48:19.517Z"
   },
   {
    "duration": 0,
    "start_time": "2025-05-30T15:48:19.518Z"
   },
   {
    "duration": 0,
    "start_time": "2025-05-30T15:48:19.520Z"
   },
   {
    "duration": 0,
    "start_time": "2025-05-30T15:48:19.521Z"
   },
   {
    "duration": 0,
    "start_time": "2025-05-30T15:48:19.522Z"
   },
   {
    "duration": 0,
    "start_time": "2025-05-30T15:48:19.523Z"
   },
   {
    "duration": 0,
    "start_time": "2025-05-30T15:48:19.524Z"
   },
   {
    "duration": 3,
    "start_time": "2025-05-30T15:49:09.151Z"
   },
   {
    "duration": 79,
    "start_time": "2025-05-30T15:49:09.938Z"
   },
   {
    "duration": 13,
    "start_time": "2025-05-30T15:49:10.689Z"
   },
   {
    "duration": 12,
    "start_time": "2025-05-30T15:49:11.369Z"
   },
   {
    "duration": 13,
    "start_time": "2025-05-30T15:49:11.989Z"
   },
   {
    "duration": 7,
    "start_time": "2025-05-30T15:49:13.235Z"
   },
   {
    "duration": 6,
    "start_time": "2025-05-30T15:49:14.087Z"
   },
   {
    "duration": 7,
    "start_time": "2025-05-30T15:49:14.709Z"
   },
   {
    "duration": 15,
    "start_time": "2025-05-30T15:49:16.662Z"
   },
   {
    "duration": 10,
    "start_time": "2025-05-30T15:52:31.825Z"
   },
   {
    "duration": 3,
    "start_time": "2025-05-30T15:52:45.839Z"
   },
   {
    "duration": 3,
    "start_time": "2025-05-30T15:53:24.675Z"
   },
   {
    "duration": 80,
    "start_time": "2025-05-30T15:53:30.826Z"
   },
   {
    "duration": 13,
    "start_time": "2025-05-30T15:53:31.265Z"
   },
   {
    "duration": 12,
    "start_time": "2025-05-30T15:53:31.738Z"
   },
   {
    "duration": 12,
    "start_time": "2025-05-30T15:53:32.216Z"
   },
   {
    "duration": 9,
    "start_time": "2025-05-30T15:53:32.686Z"
   },
   {
    "duration": 6,
    "start_time": "2025-05-30T15:53:33.214Z"
   },
   {
    "duration": 7,
    "start_time": "2025-05-30T15:53:33.672Z"
   },
   {
    "duration": 9,
    "start_time": "2025-05-30T15:53:34.618Z"
   },
   {
    "duration": 1760,
    "start_time": "2025-05-30T15:53:43.213Z"
   },
   {
    "duration": 18,
    "start_time": "2025-05-30T15:53:45.072Z"
   },
   {
    "duration": 120,
    "start_time": "2025-05-30T15:53:47.856Z"
   },
   {
    "duration": 18,
    "start_time": "2025-05-30T15:53:54.158Z"
   },
   {
    "duration": 7,
    "start_time": "2025-05-30T15:53:55.096Z"
   },
   {
    "duration": 11,
    "start_time": "2025-05-30T15:53:58.933Z"
   },
   {
    "duration": 6,
    "start_time": "2025-05-30T15:54:02.966Z"
   },
   {
    "duration": 247,
    "start_time": "2025-05-30T15:54:07.234Z"
   },
   {
    "duration": 36,
    "start_time": "2025-05-30T15:54:10.507Z"
   },
   {
    "duration": 86,
    "start_time": "2025-05-30T15:54:25.844Z"
   },
   {
    "duration": 7,
    "start_time": "2025-05-30T15:54:26.237Z"
   },
   {
    "duration": 20,
    "start_time": "2025-05-30T15:55:13.200Z"
   },
   {
    "duration": 18,
    "start_time": "2025-05-30T15:56:46.531Z"
   },
   {
    "duration": 16,
    "start_time": "2025-05-30T15:57:25.974Z"
   },
   {
    "duration": 1201,
    "start_time": "2025-05-30T16:32:35.131Z"
   },
   {
    "duration": 116,
    "start_time": "2025-05-30T16:32:36.334Z"
   },
   {
    "duration": 16,
    "start_time": "2025-05-30T16:32:36.452Z"
   },
   {
    "duration": 31,
    "start_time": "2025-05-30T16:32:36.469Z"
   },
   {
    "duration": 37,
    "start_time": "2025-05-30T16:32:36.502Z"
   },
   {
    "duration": 42,
    "start_time": "2025-05-30T16:32:36.541Z"
   },
   {
    "duration": 7,
    "start_time": "2025-05-30T16:32:36.585Z"
   },
   {
    "duration": 8,
    "start_time": "2025-05-30T16:32:36.594Z"
   },
   {
    "duration": 106,
    "start_time": "2025-05-30T16:32:36.604Z"
   },
   {
    "duration": 1633,
    "start_time": "2025-05-30T16:32:36.713Z"
   },
   {
    "duration": 27,
    "start_time": "2025-05-30T16:32:38.348Z"
   },
   {
    "duration": 129,
    "start_time": "2025-05-30T16:32:38.377Z"
   },
   {
    "duration": 15,
    "start_time": "2025-05-30T16:32:38.508Z"
   },
   {
    "duration": 10,
    "start_time": "2025-05-30T16:32:38.525Z"
   },
   {
    "duration": 13,
    "start_time": "2025-05-30T16:32:38.536Z"
   },
   {
    "duration": 20,
    "start_time": "2025-05-30T16:32:38.551Z"
   },
   {
    "duration": 245,
    "start_time": "2025-05-30T16:32:38.573Z"
   },
   {
    "duration": 34,
    "start_time": "2025-05-30T16:32:38.820Z"
   },
   {
    "duration": 86,
    "start_time": "2025-05-30T16:32:38.856Z"
   },
   {
    "duration": 31,
    "start_time": "2025-05-30T16:32:38.944Z"
   },
   {
    "duration": 12,
    "start_time": "2025-05-30T16:42:33.467Z"
   },
   {
    "duration": 86,
    "start_time": "2025-05-30T16:56:49.156Z"
   },
   {
    "duration": 34,
    "start_time": "2025-05-30T16:56:59.879Z"
   },
   {
    "duration": 111,
    "start_time": "2025-05-30T17:07:46.758Z"
   },
   {
    "duration": 4,
    "start_time": "2025-05-30T17:10:44.349Z"
   },
   {
    "duration": 65,
    "start_time": "2025-05-30T17:10:59.275Z"
   },
   {
    "duration": 11,
    "start_time": "2025-05-30T17:11:17.747Z"
   },
   {
    "duration": 13,
    "start_time": "2025-05-30T17:15:15.076Z"
   },
   {
    "duration": 11,
    "start_time": "2025-05-30T17:18:22.957Z"
   },
   {
    "duration": 12,
    "start_time": "2025-05-30T17:18:42.331Z"
   },
   {
    "duration": 102,
    "start_time": "2025-05-30T17:21:40.567Z"
   },
   {
    "duration": 6,
    "start_time": "2025-05-30T17:21:52.743Z"
   },
   {
    "duration": 6,
    "start_time": "2025-05-30T17:23:05.138Z"
   },
   {
    "duration": 1218,
    "start_time": "2025-05-30T17:33:37.392Z"
   },
   {
    "duration": 117,
    "start_time": "2025-05-30T17:33:38.612Z"
   },
   {
    "duration": 17,
    "start_time": "2025-05-30T17:33:38.731Z"
   },
   {
    "duration": 13,
    "start_time": "2025-05-30T17:33:38.750Z"
   },
   {
    "duration": 17,
    "start_time": "2025-05-30T17:33:38.765Z"
   },
   {
    "duration": 9,
    "start_time": "2025-05-30T17:33:38.783Z"
   },
   {
    "duration": 7,
    "start_time": "2025-05-30T17:33:38.794Z"
   },
   {
    "duration": 11,
    "start_time": "2025-05-30T17:33:38.802Z"
   },
   {
    "duration": 19,
    "start_time": "2025-05-30T17:33:38.815Z"
   },
   {
    "duration": 1926,
    "start_time": "2025-05-30T17:33:38.838Z"
   },
   {
    "duration": 21,
    "start_time": "2025-05-30T17:33:40.765Z"
   },
   {
    "duration": 148,
    "start_time": "2025-05-30T17:33:40.788Z"
   },
   {
    "duration": 32,
    "start_time": "2025-05-30T17:33:40.939Z"
   },
   {
    "duration": 15,
    "start_time": "2025-05-30T17:33:40.973Z"
   },
   {
    "duration": 11,
    "start_time": "2025-05-30T17:33:40.990Z"
   },
   {
    "duration": 4,
    "start_time": "2025-05-30T17:33:41.003Z"
   },
   {
    "duration": 253,
    "start_time": "2025-05-30T17:33:41.009Z"
   },
   {
    "duration": 35,
    "start_time": "2025-05-30T17:33:41.272Z"
   },
   {
    "duration": 118,
    "start_time": "2025-05-30T17:33:41.309Z"
   },
   {
    "duration": 17,
    "start_time": "2025-05-30T17:33:41.429Z"
   },
   {
    "duration": 24,
    "start_time": "2025-05-30T17:33:41.448Z"
   },
   {
    "duration": 39,
    "start_time": "2025-05-30T17:33:41.474Z"
   },
   {
    "duration": 6,
    "start_time": "2025-05-30T17:33:41.515Z"
   },
   {
    "duration": 1245,
    "start_time": "2025-05-31T07:09:20.162Z"
   },
   {
    "duration": 50,
    "start_time": "2025-05-31T07:09:21.409Z"
   },
   {
    "duration": 16,
    "start_time": "2025-05-31T07:09:21.462Z"
   },
   {
    "duration": 15,
    "start_time": "2025-05-31T07:09:21.480Z"
   },
   {
    "duration": 38,
    "start_time": "2025-05-31T07:09:21.496Z"
   },
   {
    "duration": 15,
    "start_time": "2025-05-31T07:09:21.536Z"
   },
   {
    "duration": 7,
    "start_time": "2025-05-31T07:09:21.553Z"
   },
   {
    "duration": 11,
    "start_time": "2025-05-31T07:09:21.562Z"
   },
   {
    "duration": 9,
    "start_time": "2025-05-31T07:09:21.575Z"
   },
   {
    "duration": 1656,
    "start_time": "2025-05-31T07:09:21.586Z"
   },
   {
    "duration": 29,
    "start_time": "2025-05-31T07:09:23.243Z"
   },
   {
    "duration": 138,
    "start_time": "2025-05-31T07:09:23.273Z"
   },
   {
    "duration": 17,
    "start_time": "2025-05-31T07:09:23.413Z"
   },
   {
    "duration": 20,
    "start_time": "2025-05-31T07:09:23.432Z"
   },
   {
    "duration": 29,
    "start_time": "2025-05-31T07:09:23.465Z"
   },
   {
    "duration": 49,
    "start_time": "2025-05-31T07:09:23.496Z"
   },
   {
    "duration": 238,
    "start_time": "2025-05-31T07:09:23.547Z"
   },
   {
    "duration": 34,
    "start_time": "2025-05-31T07:09:23.786Z"
   },
   {
    "duration": 87,
    "start_time": "2025-05-31T07:09:23.822Z"
   },
   {
    "duration": 87,
    "start_time": "2025-05-31T07:09:23.911Z"
   },
   {
    "duration": 15,
    "start_time": "2025-05-31T07:09:23.999Z"
   },
   {
    "duration": 38,
    "start_time": "2025-05-31T07:09:24.015Z"
   },
   {
    "duration": 10,
    "start_time": "2025-05-31T07:09:24.055Z"
   },
   {
    "duration": 6,
    "start_time": "2025-05-31T07:09:40.055Z"
   },
   {
    "duration": 1466,
    "start_time": "2025-06-02T10:10:39.969Z"
   },
   {
    "duration": 83,
    "start_time": "2025-06-02T10:10:41.437Z"
   },
   {
    "duration": 17,
    "start_time": "2025-06-02T10:10:41.522Z"
   },
   {
    "duration": 14,
    "start_time": "2025-06-02T10:10:41.541Z"
   },
   {
    "duration": 12,
    "start_time": "2025-06-02T10:10:41.557Z"
   },
   {
    "duration": 140,
    "start_time": "2025-06-02T10:10:41.571Z"
   },
   {
    "duration": 52,
    "start_time": "2025-06-02T10:10:41.712Z"
   },
   {
    "duration": 7,
    "start_time": "2025-06-02T10:10:41.766Z"
   },
   {
    "duration": 11,
    "start_time": "2025-06-02T10:10:41.775Z"
   },
   {
    "duration": 2653,
    "start_time": "2025-06-02T10:10:41.788Z"
   },
   {
    "duration": 28,
    "start_time": "2025-06-02T10:10:44.442Z"
   },
   {
    "duration": 147,
    "start_time": "2025-06-02T10:10:44.471Z"
   },
   {
    "duration": 17,
    "start_time": "2025-06-02T10:10:44.620Z"
   },
   {
    "duration": 38,
    "start_time": "2025-06-02T10:10:44.639Z"
   },
   {
    "duration": 15,
    "start_time": "2025-06-02T10:10:44.679Z"
   },
   {
    "duration": 6,
    "start_time": "2025-06-02T10:10:44.696Z"
   },
   {
    "duration": 304,
    "start_time": "2025-06-02T10:10:44.703Z"
   },
   {
    "duration": 36,
    "start_time": "2025-06-02T10:10:45.009Z"
   },
   {
    "duration": 95,
    "start_time": "2025-06-02T10:10:45.061Z"
   },
   {
    "duration": 19,
    "start_time": "2025-06-02T10:10:45.158Z"
   },
   {
    "duration": 35,
    "start_time": "2025-06-02T10:10:45.179Z"
   },
   {
    "duration": 68,
    "start_time": "2025-06-02T10:10:45.216Z"
   },
   {
    "duration": 55,
    "start_time": "2025-06-02T10:10:45.286Z"
   },
   {
    "duration": 6,
    "start_time": "2025-06-02T10:10:45.343Z"
   },
   {
    "duration": 5,
    "start_time": "2025-06-02T10:13:05.800Z"
   },
   {
    "duration": 6,
    "start_time": "2025-06-02T10:13:08.210Z"
   },
   {
    "duration": 6,
    "start_time": "2025-06-02T10:13:10.960Z"
   },
   {
    "duration": 64,
    "start_time": "2025-06-02T10:14:42.579Z"
   },
   {
    "duration": 116,
    "start_time": "2025-06-02T10:27:35.405Z"
   },
   {
    "duration": 21,
    "start_time": "2025-06-02T10:28:15.439Z"
   },
   {
    "duration": 10,
    "start_time": "2025-06-02T10:28:39.811Z"
   },
   {
    "duration": 159,
    "start_time": "2025-06-02T10:37:04.199Z"
   },
   {
    "duration": 4851,
    "start_time": "2025-06-02T10:37:33.471Z"
   },
   {
    "duration": 113,
    "start_time": "2025-06-02T10:38:20.292Z"
   },
   {
    "duration": 149,
    "start_time": "2025-06-02T10:38:46.436Z"
   },
   {
    "duration": 147,
    "start_time": "2025-06-02T10:39:21.636Z"
   },
   {
    "duration": 146,
    "start_time": "2025-06-02T10:42:27.731Z"
   },
   {
    "duration": 142,
    "start_time": "2025-06-02T10:44:22.520Z"
   },
   {
    "duration": 159,
    "start_time": "2025-06-02T10:46:24.260Z"
   },
   {
    "duration": 10,
    "start_time": "2025-06-02T11:36:04.353Z"
   },
   {
    "duration": 19,
    "start_time": "2025-06-02T11:44:28.482Z"
   },
   {
    "duration": 18,
    "start_time": "2025-06-02T11:46:12.779Z"
   },
   {
    "duration": 71,
    "start_time": "2025-06-02T11:48:58.550Z"
   },
   {
    "duration": 5059,
    "start_time": "2025-06-02T11:52:38.605Z"
   },
   {
    "duration": 398,
    "start_time": "2025-06-02T11:53:58.026Z"
   },
   {
    "duration": 315,
    "start_time": "2025-06-02T11:54:54.245Z"
   },
   {
    "duration": 28,
    "start_time": "2025-06-02T12:14:21.590Z"
   },
   {
    "duration": 215,
    "start_time": "2025-06-02T12:23:48.448Z"
   },
   {
    "duration": 734,
    "start_time": "2025-06-02T12:28:01.420Z"
   },
   {
    "duration": 1321,
    "start_time": "2025-06-02T12:50:40.128Z"
   },
   {
    "duration": 59,
    "start_time": "2025-06-02T12:50:41.451Z"
   },
   {
    "duration": 16,
    "start_time": "2025-06-02T12:50:41.512Z"
   },
   {
    "duration": 13,
    "start_time": "2025-06-02T12:50:41.531Z"
   },
   {
    "duration": 15,
    "start_time": "2025-06-02T12:50:41.546Z"
   },
   {
    "duration": 7,
    "start_time": "2025-06-02T12:50:41.563Z"
   },
   {
    "duration": 6,
    "start_time": "2025-06-02T12:50:41.572Z"
   },
   {
    "duration": 7,
    "start_time": "2025-06-02T12:50:41.580Z"
   },
   {
    "duration": 18,
    "start_time": "2025-06-02T12:50:41.589Z"
   },
   {
    "duration": 141,
    "start_time": "2025-06-02T12:50:41.610Z"
   },
   {
    "duration": 0,
    "start_time": "2025-06-02T12:50:41.752Z"
   },
   {
    "duration": 0,
    "start_time": "2025-06-02T12:50:41.753Z"
   },
   {
    "duration": 0,
    "start_time": "2025-06-02T12:50:41.754Z"
   },
   {
    "duration": 0,
    "start_time": "2025-06-02T12:50:41.755Z"
   },
   {
    "duration": 0,
    "start_time": "2025-06-02T12:50:41.760Z"
   },
   {
    "duration": 0,
    "start_time": "2025-06-02T12:50:41.761Z"
   },
   {
    "duration": 0,
    "start_time": "2025-06-02T12:50:41.762Z"
   },
   {
    "duration": 0,
    "start_time": "2025-06-02T12:50:41.763Z"
   },
   {
    "duration": 0,
    "start_time": "2025-06-02T12:50:41.764Z"
   },
   {
    "duration": 0,
    "start_time": "2025-06-02T12:50:41.766Z"
   },
   {
    "duration": 0,
    "start_time": "2025-06-02T12:50:41.767Z"
   },
   {
    "duration": 0,
    "start_time": "2025-06-02T12:50:41.768Z"
   },
   {
    "duration": 0,
    "start_time": "2025-06-02T12:50:41.769Z"
   },
   {
    "duration": 0,
    "start_time": "2025-06-02T12:50:41.770Z"
   },
   {
    "duration": 0,
    "start_time": "2025-06-02T12:50:41.771Z"
   },
   {
    "duration": 0,
    "start_time": "2025-06-02T12:50:41.772Z"
   },
   {
    "duration": 13,
    "start_time": "2025-06-02T12:51:14.329Z"
   },
   {
    "duration": 11,
    "start_time": "2025-06-02T12:52:11.046Z"
   },
   {
    "duration": 517,
    "start_time": "2025-06-02T12:52:29.531Z"
   },
   {
    "duration": 142,
    "start_time": "2025-06-02T12:55:58.125Z"
   },
   {
    "duration": 226,
    "start_time": "2025-06-02T12:57:03.464Z"
   },
   {
    "duration": 138,
    "start_time": "2025-06-02T12:57:41.090Z"
   },
   {
    "duration": 150,
    "start_time": "2025-06-02T13:21:55.392Z"
   },
   {
    "duration": 14,
    "start_time": "2025-06-02T13:22:15.156Z"
   },
   {
    "duration": 590,
    "start_time": "2025-06-02T13:22:41.938Z"
   },
   {
    "duration": 336,
    "start_time": "2025-06-02T13:23:17.573Z"
   },
   {
    "duration": 598,
    "start_time": "2025-06-02T13:25:15.366Z"
   },
   {
    "duration": 15,
    "start_time": "2025-06-02T13:29:38.007Z"
   },
   {
    "duration": 21,
    "start_time": "2025-06-02T13:33:13.964Z"
   },
   {
    "duration": 650,
    "start_time": "2025-06-02T13:38:41.314Z"
   },
   {
    "duration": 580,
    "start_time": "2025-06-02T13:45:16.190Z"
   },
   {
    "duration": 10,
    "start_time": "2025-06-02T13:56:10.617Z"
   },
   {
    "duration": 1310,
    "start_time": "2025-06-02T13:57:13.449Z"
   },
   {
    "duration": 1058,
    "start_time": "2025-06-02T13:57:14.761Z"
   },
   {
    "duration": 18,
    "start_time": "2025-06-02T13:57:15.820Z"
   },
   {
    "duration": 16,
    "start_time": "2025-06-02T13:57:15.841Z"
   },
   {
    "duration": 16,
    "start_time": "2025-06-02T13:57:15.858Z"
   },
   {
    "duration": 5,
    "start_time": "2025-06-02T13:57:15.876Z"
   },
   {
    "duration": 5,
    "start_time": "2025-06-02T13:57:15.883Z"
   },
   {
    "duration": 5,
    "start_time": "2025-06-02T13:57:15.890Z"
   },
   {
    "duration": 20,
    "start_time": "2025-06-02T13:57:15.897Z"
   },
   {
    "duration": 546,
    "start_time": "2025-06-02T13:57:15.919Z"
   },
   {
    "duration": 23,
    "start_time": "2025-06-02T13:57:16.467Z"
   },
   {
    "duration": 608,
    "start_time": "2025-06-02T13:57:16.492Z"
   },
   {
    "duration": 10,
    "start_time": "2025-06-02T13:57:17.102Z"
   },
   {
    "duration": 1925,
    "start_time": "2025-06-02T13:57:17.114Z"
   },
   {
    "duration": 29,
    "start_time": "2025-06-02T13:57:19.042Z"
   },
   {
    "duration": 142,
    "start_time": "2025-06-02T13:57:19.073Z"
   },
   {
    "duration": 18,
    "start_time": "2025-06-02T13:57:19.217Z"
   },
   {
    "duration": 6,
    "start_time": "2025-06-02T13:57:19.236Z"
   },
   {
    "duration": 67,
    "start_time": "2025-06-02T13:57:19.244Z"
   },
   {
    "duration": 9,
    "start_time": "2025-06-02T13:57:19.313Z"
   },
   {
    "duration": 235,
    "start_time": "2025-06-02T13:57:19.324Z"
   },
   {
    "duration": 38,
    "start_time": "2025-06-02T13:57:19.561Z"
   },
   {
    "duration": 97,
    "start_time": "2025-06-02T13:57:19.601Z"
   },
   {
    "duration": 19,
    "start_time": "2025-06-02T13:57:19.700Z"
   },
   {
    "duration": 23,
    "start_time": "2025-06-02T13:57:19.721Z"
   },
   {
    "duration": 18,
    "start_time": "2025-06-02T13:57:19.746Z"
   },
   {
    "duration": 36,
    "start_time": "2025-06-02T13:57:19.766Z"
   },
   {
    "duration": 6,
    "start_time": "2025-06-02T13:57:19.805Z"
   },
   {
    "duration": 73,
    "start_time": "2025-06-02T13:58:41.482Z"
   },
   {
    "duration": 7,
    "start_time": "2025-06-02T14:08:49.375Z"
   },
   {
    "duration": 3,
    "start_time": "2025-06-02T14:12:53.741Z"
   },
   {
    "duration": 1426,
    "start_time": "2025-06-02T14:49:40.466Z"
   },
   {
    "duration": 1334,
    "start_time": "2025-06-02T14:50:16.687Z"
   },
   {
    "duration": 156,
    "start_time": "2025-06-02T14:50:18.023Z"
   },
   {
    "duration": 18,
    "start_time": "2025-06-02T14:50:18.181Z"
   },
   {
    "duration": 13,
    "start_time": "2025-06-02T14:50:18.201Z"
   },
   {
    "duration": 14,
    "start_time": "2025-06-02T14:50:18.216Z"
   },
   {
    "duration": 34,
    "start_time": "2025-06-02T14:50:18.232Z"
   },
   {
    "duration": 6,
    "start_time": "2025-06-02T14:50:18.267Z"
   },
   {
    "duration": 6,
    "start_time": "2025-06-02T14:50:18.275Z"
   },
   {
    "duration": 21,
    "start_time": "2025-06-02T14:50:18.283Z"
   },
   {
    "duration": 529,
    "start_time": "2025-06-02T14:50:18.307Z"
   },
   {
    "duration": 35,
    "start_time": "2025-06-02T14:50:18.838Z"
   },
   {
    "duration": 629,
    "start_time": "2025-06-02T14:50:18.875Z"
   },
   {
    "duration": 10,
    "start_time": "2025-06-02T14:50:19.505Z"
   },
   {
    "duration": 1697,
    "start_time": "2025-06-02T14:50:19.516Z"
   },
   {
    "duration": 19,
    "start_time": "2025-06-02T14:50:21.215Z"
   },
   {
    "duration": 148,
    "start_time": "2025-06-02T14:50:21.236Z"
   },
   {
    "duration": 18,
    "start_time": "2025-06-02T14:50:21.386Z"
   },
   {
    "duration": 53,
    "start_time": "2025-06-02T14:50:21.406Z"
   },
   {
    "duration": 27,
    "start_time": "2025-06-02T14:50:21.461Z"
   },
   {
    "duration": 6,
    "start_time": "2025-06-02T14:50:21.490Z"
   },
   {
    "duration": 240,
    "start_time": "2025-06-02T14:50:21.497Z"
   },
   {
    "duration": 44,
    "start_time": "2025-06-02T14:50:21.739Z"
   },
   {
    "duration": 180,
    "start_time": "2025-06-02T14:50:21.785Z"
   },
   {
    "duration": 0,
    "start_time": "2025-06-02T14:50:21.968Z"
   },
   {
    "duration": 0,
    "start_time": "2025-06-02T14:50:21.969Z"
   },
   {
    "duration": 0,
    "start_time": "2025-06-02T14:50:21.970Z"
   },
   {
    "duration": 0,
    "start_time": "2025-06-02T14:50:21.972Z"
   },
   {
    "duration": 0,
    "start_time": "2025-06-02T14:50:21.974Z"
   },
   {
    "duration": 0,
    "start_time": "2025-06-02T14:50:21.976Z"
   },
   {
    "duration": 0,
    "start_time": "2025-06-02T14:50:21.977Z"
   },
   {
    "duration": 1395,
    "start_time": "2025-06-02T14:50:44.912Z"
   },
   {
    "duration": 1269,
    "start_time": "2025-06-02T14:52:13.687Z"
   },
   {
    "duration": 5,
    "start_time": "2025-06-02T14:53:09.964Z"
   },
   {
    "duration": 223,
    "start_time": "2025-06-02T14:53:10.971Z"
   },
   {
    "duration": 13,
    "start_time": "2025-06-02T14:53:11.750Z"
   },
   {
    "duration": 12,
    "start_time": "2025-06-02T14:53:12.489Z"
   },
   {
    "duration": 13,
    "start_time": "2025-06-02T14:53:13.128Z"
   },
   {
    "duration": 5,
    "start_time": "2025-06-02T14:53:14.625Z"
   },
   {
    "duration": 7,
    "start_time": "2025-06-02T14:53:16.718Z"
   },
   {
    "duration": 5,
    "start_time": "2025-06-02T14:53:17.373Z"
   },
   {
    "duration": 20,
    "start_time": "2025-06-02T14:53:20.603Z"
   },
   {
    "duration": 645,
    "start_time": "2025-06-02T14:53:21.831Z"
   },
   {
    "duration": 23,
    "start_time": "2025-06-02T14:53:22.479Z"
   },
   {
    "duration": 579,
    "start_time": "2025-06-02T14:53:23.801Z"
   },
   {
    "duration": 11,
    "start_time": "2025-06-02T14:53:25.121Z"
   },
   {
    "duration": 1853,
    "start_time": "2025-06-02T14:53:38.772Z"
   },
   {
    "duration": 19,
    "start_time": "2025-06-02T14:53:40.627Z"
   },
   {
    "duration": 128,
    "start_time": "2025-06-02T14:53:40.777Z"
   },
   {
    "duration": 20,
    "start_time": "2025-06-02T14:53:43.733Z"
   },
   {
    "duration": 7,
    "start_time": "2025-06-02T14:53:44.387Z"
   },
   {
    "duration": 15,
    "start_time": "2025-06-02T14:53:46.652Z"
   },
   {
    "duration": 6,
    "start_time": "2025-06-02T14:53:48.049Z"
   },
   {
    "duration": 203,
    "start_time": "2025-06-02T14:53:50.216Z"
   },
   {
    "duration": 36,
    "start_time": "2025-06-02T14:53:51.197Z"
   },
   {
    "duration": 73,
    "start_time": "2025-06-02T14:53:52.803Z"
   },
   {
    "duration": 64,
    "start_time": "2025-06-02T14:54:12.689Z"
   },
   {
    "duration": 10,
    "start_time": "2025-06-02T14:54:25.676Z"
   },
   {
    "duration": 64,
    "start_time": "2025-06-02T14:54:33.800Z"
   },
   {
    "duration": 443,
    "start_time": "2025-06-02T14:55:02.820Z"
   },
   {
    "duration": 1282,
    "start_time": "2025-06-02T14:55:13.327Z"
   },
   {
    "duration": 9,
    "start_time": "2025-06-02T14:55:22.662Z"
   },
   {
    "duration": 10,
    "start_time": "2025-06-02T15:03:22.022Z"
   },
   {
    "duration": 40,
    "start_time": "2025-06-02T15:03:40.273Z"
   },
   {
    "duration": 1579,
    "start_time": "2025-06-02T15:03:59.470Z"
   },
   {
    "duration": 20,
    "start_time": "2025-06-02T15:04:07.201Z"
   },
   {
    "duration": 19,
    "start_time": "2025-06-02T15:04:18.939Z"
   },
   {
    "duration": 7,
    "start_time": "2025-06-02T15:04:32.079Z"
   },
   {
    "duration": 196,
    "start_time": "2025-06-02T15:04:51.455Z"
   },
   {
    "duration": 40,
    "start_time": "2025-06-02T15:04:54.767Z"
   },
   {
    "duration": 95,
    "start_time": "2025-06-02T15:05:06.233Z"
   },
   {
    "duration": 36,
    "start_time": "2025-06-02T15:06:35.458Z"
   },
   {
    "duration": 8,
    "start_time": "2025-06-02T15:06:47.098Z"
   },
   {
    "duration": 7,
    "start_time": "2025-06-02T15:06:58.086Z"
   },
   {
    "duration": 107,
    "start_time": "2025-06-02T15:07:43.685Z"
   },
   {
    "duration": 15,
    "start_time": "2025-06-02T15:07:57.537Z"
   },
   {
    "duration": 67,
    "start_time": "2025-06-02T15:08:18.804Z"
   },
   {
    "duration": 45,
    "start_time": "2025-06-02T15:09:00.365Z"
   },
   {
    "duration": 37,
    "start_time": "2025-06-02T15:10:22.456Z"
   },
   {
    "duration": 1363,
    "start_time": "2025-06-02T15:12:51.250Z"
   },
   {
    "duration": 1929,
    "start_time": "2025-06-02T15:13:44.973Z"
   },
   {
    "duration": 22,
    "start_time": "2025-06-02T15:13:46.904Z"
   },
   {
    "duration": 230,
    "start_time": "2025-06-02T15:13:46.928Z"
   },
   {
    "duration": 21,
    "start_time": "2025-06-02T15:13:49.165Z"
   },
   {
    "duration": 7,
    "start_time": "2025-06-02T15:13:49.983Z"
   },
   {
    "duration": 15,
    "start_time": "2025-06-02T15:13:52.247Z"
   },
   {
    "duration": 7,
    "start_time": "2025-06-02T15:13:57.112Z"
   },
   {
    "duration": 192,
    "start_time": "2025-06-02T15:14:00.352Z"
   },
   {
    "duration": 38,
    "start_time": "2025-06-02T15:14:07.293Z"
   },
   {
    "duration": 59,
    "start_time": "2025-06-02T15:14:30.607Z"
   },
   {
    "duration": 367,
    "start_time": "2025-06-02T15:14:38.888Z"
   },
   {
    "duration": 37,
    "start_time": "2025-06-02T15:14:45.946Z"
   },
   {
    "duration": 36,
    "start_time": "2025-06-02T15:14:54.664Z"
   },
   {
    "duration": 6,
    "start_time": "2025-06-02T15:15:23.478Z"
   },
   {
    "duration": 7,
    "start_time": "2025-06-02T15:15:27.204Z"
   },
   {
    "duration": 1344,
    "start_time": "2025-06-02T15:18:20.533Z"
   },
   {
    "duration": 70,
    "start_time": "2025-06-02T15:19:01.075Z"
   },
   {
    "duration": 844,
    "start_time": "2025-06-02T15:19:09.786Z"
   },
   {
    "duration": 37,
    "start_time": "2025-06-02T15:19:17.891Z"
   },
   {
    "duration": 88,
    "start_time": "2025-06-02T15:21:11.421Z"
   },
   {
    "duration": 37,
    "start_time": "2025-06-02T15:27:36.430Z"
   },
   {
    "duration": 19,
    "start_time": "2025-06-02T15:28:27.617Z"
   },
   {
    "duration": 41,
    "start_time": "2025-06-02T15:30:39.032Z"
   },
   {
    "duration": 31,
    "start_time": "2025-06-02T15:31:14.262Z"
   },
   {
    "duration": 29,
    "start_time": "2025-06-02T15:31:35.422Z"
   },
   {
    "duration": 6,
    "start_time": "2025-06-02T15:32:07.192Z"
   },
   {
    "duration": 6,
    "start_time": "2025-06-02T15:32:08.477Z"
   },
   {
    "duration": 1639,
    "start_time": "2025-06-02T15:37:10.484Z"
   },
   {
    "duration": 18,
    "start_time": "2025-06-02T15:37:15.398Z"
   },
   {
    "duration": 126,
    "start_time": "2025-06-02T15:37:16.108Z"
   },
   {
    "duration": 18,
    "start_time": "2025-06-02T15:37:19.425Z"
   },
   {
    "duration": 6,
    "start_time": "2025-06-02T15:37:23.408Z"
   },
   {
    "duration": 12,
    "start_time": "2025-06-02T15:37:25.265Z"
   },
   {
    "duration": 6,
    "start_time": "2025-06-02T15:37:28.415Z"
   },
   {
    "duration": 191,
    "start_time": "2025-06-02T15:37:34.821Z"
   },
   {
    "duration": 36,
    "start_time": "2025-06-02T15:37:38.091Z"
   },
   {
    "duration": 57,
    "start_time": "2025-06-02T15:39:47.537Z"
   },
   {
    "duration": 20,
    "start_time": "2025-06-02T15:40:07.280Z"
   },
   {
    "duration": 1783,
    "start_time": "2025-06-02T15:43:00.422Z"
   },
   {
    "duration": 21,
    "start_time": "2025-06-02T15:43:02.208Z"
   },
   {
    "duration": 146,
    "start_time": "2025-06-02T15:43:02.231Z"
   },
   {
    "duration": 18,
    "start_time": "2025-06-02T15:43:03.468Z"
   },
   {
    "duration": 6,
    "start_time": "2025-06-02T15:43:03.985Z"
   },
   {
    "duration": 14,
    "start_time": "2025-06-02T15:43:05.253Z"
   },
   {
    "duration": 6,
    "start_time": "2025-06-02T15:43:07.496Z"
   },
   {
    "duration": 199,
    "start_time": "2025-06-02T15:43:11.356Z"
   },
   {
    "duration": 36,
    "start_time": "2025-06-02T15:43:15.399Z"
   },
   {
    "duration": 56,
    "start_time": "2025-06-02T15:43:23.531Z"
   },
   {
    "duration": 22,
    "start_time": "2025-06-02T15:43:25.492Z"
   },
   {
    "duration": 44,
    "start_time": "2025-06-02T15:43:52.373Z"
   },
   {
    "duration": 1272,
    "start_time": "2025-06-02T15:45:24.405Z"
   },
   {
    "duration": 23,
    "start_time": "2025-06-02T15:47:04.230Z"
   },
   {
    "duration": 21,
    "start_time": "2025-06-02T15:47:16.271Z"
   },
   {
    "duration": 20,
    "start_time": "2025-06-02T15:47:35.089Z"
   },
   {
    "duration": 20,
    "start_time": "2025-06-02T15:47:37.562Z"
   },
   {
    "duration": 5,
    "start_time": "2025-06-02T15:47:48.723Z"
   },
   {
    "duration": 6,
    "start_time": "2025-06-02T15:47:52.655Z"
   },
   {
    "duration": 23,
    "start_time": "2025-06-02T15:48:17.065Z"
   },
   {
    "duration": 1668,
    "start_time": "2025-06-02T15:49:27.805Z"
   },
   {
    "duration": 20,
    "start_time": "2025-06-02T15:49:30.940Z"
   },
   {
    "duration": 127,
    "start_time": "2025-06-02T15:49:32.390Z"
   },
   {
    "duration": 19,
    "start_time": "2025-06-02T15:49:34.611Z"
   },
   {
    "duration": 7,
    "start_time": "2025-06-02T15:49:34.825Z"
   },
   {
    "duration": 13,
    "start_time": "2025-06-02T15:49:37.782Z"
   },
   {
    "duration": 6,
    "start_time": "2025-06-02T15:49:41.403Z"
   },
   {
    "duration": 191,
    "start_time": "2025-06-02T15:49:46.269Z"
   },
   {
    "duration": 37,
    "start_time": "2025-06-02T15:49:47.313Z"
   },
   {
    "duration": 102,
    "start_time": "2025-06-02T15:49:55.963Z"
   },
   {
    "duration": 21,
    "start_time": "2025-06-02T15:50:18.349Z"
   },
   {
    "duration": 34,
    "start_time": "2025-06-02T15:50:28.399Z"
   },
   {
    "duration": 6,
    "start_time": "2025-06-02T15:50:43.173Z"
   },
   {
    "duration": 71,
    "start_time": "2025-06-02T15:52:11.756Z"
   },
   {
    "duration": 39,
    "start_time": "2025-06-02T15:57:52.549Z"
   },
   {
    "duration": 1703,
    "start_time": "2025-06-02T15:58:18.536Z"
   },
   {
    "duration": 26,
    "start_time": "2025-06-02T15:58:20.241Z"
   },
   {
    "duration": 123,
    "start_time": "2025-06-02T15:58:21.007Z"
   },
   {
    "duration": 28,
    "start_time": "2025-06-02T15:58:26.158Z"
   },
   {
    "duration": 7,
    "start_time": "2025-06-02T15:58:27.893Z"
   },
   {
    "duration": 13,
    "start_time": "2025-06-02T15:58:31.088Z"
   },
   {
    "duration": 6,
    "start_time": "2025-06-02T15:58:33.560Z"
   },
   {
    "duration": 196,
    "start_time": "2025-06-02T15:58:48.278Z"
   },
   {
    "duration": 38,
    "start_time": "2025-06-02T15:58:51.767Z"
   },
   {
    "duration": 112,
    "start_time": "2025-06-02T15:59:01.714Z"
   },
   {
    "duration": 6,
    "start_time": "2025-06-02T15:59:11.695Z"
   },
   {
    "duration": 19,
    "start_time": "2025-06-02T15:59:25.794Z"
   },
   {
    "duration": 36,
    "start_time": "2025-06-02T15:59:38.272Z"
   },
   {
    "duration": 66,
    "start_time": "2025-06-02T16:12:33.144Z"
   },
   {
    "duration": 1315,
    "start_time": "2025-06-02T16:13:29.319Z"
   },
   {
    "duration": 76,
    "start_time": "2025-06-02T16:13:30.636Z"
   },
   {
    "duration": 20,
    "start_time": "2025-06-02T16:13:30.714Z"
   },
   {
    "duration": 14,
    "start_time": "2025-06-02T16:13:30.736Z"
   },
   {
    "duration": 16,
    "start_time": "2025-06-02T16:13:30.751Z"
   },
   {
    "duration": 11,
    "start_time": "2025-06-02T16:13:30.769Z"
   },
   {
    "duration": 15,
    "start_time": "2025-06-02T16:13:30.782Z"
   },
   {
    "duration": 20,
    "start_time": "2025-06-02T16:13:30.799Z"
   },
   {
    "duration": 37,
    "start_time": "2025-06-02T16:13:30.821Z"
   },
   {
    "duration": 533,
    "start_time": "2025-06-02T16:13:30.861Z"
   },
   {
    "duration": 22,
    "start_time": "2025-06-02T16:13:31.396Z"
   },
   {
    "duration": 614,
    "start_time": "2025-06-02T16:13:31.420Z"
   },
   {
    "duration": 9,
    "start_time": "2025-06-02T16:13:32.036Z"
   },
   {
    "duration": 2301,
    "start_time": "2025-06-02T16:13:32.047Z"
   },
   {
    "duration": 24,
    "start_time": "2025-06-02T16:13:34.350Z"
   },
   {
    "duration": 153,
    "start_time": "2025-06-02T16:13:34.376Z"
   },
   {
    "duration": 32,
    "start_time": "2025-06-02T16:13:34.532Z"
   },
   {
    "duration": 9,
    "start_time": "2025-06-02T16:13:34.566Z"
   },
   {
    "duration": 14,
    "start_time": "2025-06-02T16:13:34.577Z"
   },
   {
    "duration": 5,
    "start_time": "2025-06-02T16:13:34.593Z"
   },
   {
    "duration": 297,
    "start_time": "2025-06-02T16:13:34.600Z"
   },
   {
    "duration": 37,
    "start_time": "2025-06-02T16:13:34.899Z"
   },
   {
    "duration": 144,
    "start_time": "2025-06-02T16:13:34.938Z"
   },
   {
    "duration": 8,
    "start_time": "2025-06-02T16:13:35.085Z"
   },
   {
    "duration": 13,
    "start_time": "2025-06-02T16:13:35.094Z"
   },
   {
    "duration": 73,
    "start_time": "2025-06-02T16:13:35.109Z"
   },
   {
    "duration": 6,
    "start_time": "2025-06-02T16:13:35.184Z"
   },
   {
    "duration": 4,
    "start_time": "2025-06-02T16:13:41.441Z"
   },
   {
    "duration": 50,
    "start_time": "2025-06-02T16:13:42.232Z"
   },
   {
    "duration": 14,
    "start_time": "2025-06-02T16:13:42.816Z"
   },
   {
    "duration": 13,
    "start_time": "2025-06-02T16:13:45.239Z"
   },
   {
    "duration": 14,
    "start_time": "2025-06-02T16:13:46.106Z"
   },
   {
    "duration": 6,
    "start_time": "2025-06-02T16:13:49.470Z"
   },
   {
    "duration": 6,
    "start_time": "2025-06-02T16:13:55.730Z"
   },
   {
    "duration": 5,
    "start_time": "2025-06-02T16:13:56.250Z"
   },
   {
    "duration": 25,
    "start_time": "2025-06-02T16:14:00.972Z"
   },
   {
    "duration": 715,
    "start_time": "2025-06-02T16:14:04.330Z"
   },
   {
    "duration": 38,
    "start_time": "2025-06-02T16:14:05.047Z"
   },
   {
    "duration": 612,
    "start_time": "2025-06-02T16:14:09.853Z"
   },
   {
    "duration": 10,
    "start_time": "2025-06-02T16:14:12.191Z"
   },
   {
    "duration": 1613,
    "start_time": "2025-06-02T16:14:21.631Z"
   },
   {
    "duration": 23,
    "start_time": "2025-06-02T16:14:24.661Z"
   },
   {
    "duration": 129,
    "start_time": "2025-06-02T16:14:25.429Z"
   },
   {
    "duration": 19,
    "start_time": "2025-06-02T16:14:42.897Z"
   },
   {
    "duration": 7,
    "start_time": "2025-06-02T16:14:45.237Z"
   },
   {
    "duration": 13,
    "start_time": "2025-06-02T16:14:48.266Z"
   },
   {
    "duration": 6,
    "start_time": "2025-06-02T16:14:50.962Z"
   },
   {
    "duration": 203,
    "start_time": "2025-06-02T16:14:54.169Z"
   },
   {
    "duration": 37,
    "start_time": "2025-06-02T16:14:56.846Z"
   },
   {
    "duration": 108,
    "start_time": "2025-06-02T16:14:59.735Z"
   },
   {
    "duration": 6,
    "start_time": "2025-06-02T16:15:01.637Z"
   },
   {
    "duration": 13,
    "start_time": "2025-06-02T16:15:04.764Z"
   },
   {
    "duration": 38,
    "start_time": "2025-06-02T16:15:09.419Z"
   },
   {
    "duration": 6,
    "start_time": "2025-06-02T16:15:17.768Z"
   },
   {
    "duration": 1319,
    "start_time": "2025-06-17T17:13:02.899Z"
   },
   {
    "duration": 52,
    "start_time": "2025-06-17T17:13:04.220Z"
   },
   {
    "duration": 15,
    "start_time": "2025-06-17T17:13:04.274Z"
   },
   {
    "duration": 22,
    "start_time": "2025-06-17T17:13:04.291Z"
   },
   {
    "duration": 10,
    "start_time": "2025-06-17T17:13:04.315Z"
   },
   {
    "duration": 9,
    "start_time": "2025-06-17T17:13:04.326Z"
   },
   {
    "duration": 7,
    "start_time": "2025-06-17T17:13:04.336Z"
   },
   {
    "duration": 6,
    "start_time": "2025-06-17T17:13:04.344Z"
   },
   {
    "duration": 20,
    "start_time": "2025-06-17T17:13:04.352Z"
   },
   {
    "duration": 500,
    "start_time": "2025-06-17T17:13:04.376Z"
   },
   {
    "duration": 22,
    "start_time": "2025-06-17T17:13:04.877Z"
   },
   {
    "duration": 583,
    "start_time": "2025-06-17T17:13:04.901Z"
   },
   {
    "duration": 8,
    "start_time": "2025-06-17T17:13:05.486Z"
   },
   {
    "duration": 1539,
    "start_time": "2025-06-17T17:13:05.496Z"
   },
   {
    "duration": 20,
    "start_time": "2025-06-17T17:13:07.038Z"
   },
   {
    "duration": 157,
    "start_time": "2025-06-17T17:13:07.059Z"
   },
   {
    "duration": 34,
    "start_time": "2025-06-17T17:13:07.218Z"
   },
   {
    "duration": 50,
    "start_time": "2025-06-17T17:13:07.256Z"
   },
   {
    "duration": 15,
    "start_time": "2025-06-17T17:13:07.308Z"
   },
   {
    "duration": 97,
    "start_time": "2025-06-17T17:13:07.325Z"
   },
   {
    "duration": 233,
    "start_time": "2025-06-17T17:13:07.424Z"
   },
   {
    "duration": 37,
    "start_time": "2025-06-17T17:13:07.660Z"
   },
   {
    "duration": 126,
    "start_time": "2025-06-17T17:13:07.698Z"
   },
   {
    "duration": 5,
    "start_time": "2025-06-17T17:13:07.826Z"
   },
   {
    "duration": 70,
    "start_time": "2025-06-17T17:13:07.835Z"
   },
   {
    "duration": 33,
    "start_time": "2025-06-17T17:13:07.907Z"
   },
   {
    "duration": 13,
    "start_time": "2025-06-17T17:13:07.942Z"
   },
   {
    "duration": 875,
    "start_time": "2025-06-17T17:14:47.507Z"
   }
  ],
  "colab": {
   "provenance": [],
   "toc_visible": true
  },
  "kernelspec": {
   "display_name": "Python 3 (ipykernel)",
   "language": "python",
   "name": "python3"
  },
  "language_info": {
   "codemirror_mode": {
    "name": "ipython",
    "version": 3
   },
   "file_extension": ".py",
   "mimetype": "text/x-python",
   "name": "python",
   "nbconvert_exporter": "python",
   "pygments_lexer": "ipython3",
   "version": "3.9.5"
  },
  "toc": {
   "base_numbering": 1,
   "nav_menu": {},
   "number_sections": true,
   "sideBar": true,
   "skip_h1_title": true,
   "title_cell": "Table of Contents",
   "title_sidebar": "Contents",
   "toc_cell": false,
   "toc_position": {},
   "toc_section_display": true,
   "toc_window_display": false
  }
 },
 "nbformat": 4,
 "nbformat_minor": 5
}
