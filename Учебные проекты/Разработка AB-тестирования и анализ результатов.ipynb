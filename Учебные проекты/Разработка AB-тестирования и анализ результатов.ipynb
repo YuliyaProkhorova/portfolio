{
 "cells": [
  {
   "cell_type": "markdown",
   "metadata": {},
   "source": [
    "# Разработка A/B-тестирования и анализ результатов"
   ]
  },
  {
   "cell_type": "markdown",
   "metadata": {},
   "source": [
    "Компания разрабатывает развлекательное приложение с функцией «бесконечной» ленты. Команда разработчиков рекомендательных систем создала новый алгоритм рекомендаций, который будет показывать более интересный контент для каждого пользователя.\n",
    "\n",
    "**Цели и задачи:**\n",
    "- рассчитать параметры A/B-теста, оценить корректность его проведения и проанализировать результаты эксперимента."
   ]
  },
  {
   "cell_type": "markdown",
   "metadata": {
    "id": "LJBRALHs0eMf"
   },
   "source": [
    "**Описание данных**\n",
    "\n",
    "Таблицы:\n",
    "\n",
    "- `sessions_project_history.csv` — таблица с историческими данными по сессиям пользователей на период с 2025-08-15 по 2025-09-23. \n",
    "\n",
    "- `sessions_project_test_part.csv` — таблица с данными за первый день проведения A/B-теста, то есть за 2025-10-14. \n",
    "\n",
    "- `sessions_project_test.csv` — таблица с данными за весь период проведения A/B-теста, то есть с 2025-10-14 по 2025-11-02. \n",
    "\n",
    "Поля таблиц `sessions_project_history.csv`, `sessions_project_test.csv`, `sessions_project_test_part.csv`:\n",
    "\n",
    "- `user_id` — идентификатор пользователя;\n",
    "- `session_id` — идентификатор сессии в приложении;\n",
    "- `session_date` — дата сессии;\n",
    "- `session_start_ts` — дата и время начала сессии;\n",
    "- `install_date` — дата установки приложения;\n",
    "- `session_number` — порядковый номер сессии для конкретного пользователя;\n",
    "- `registration_flag` — является ли пользователь зарегистрированным;\n",
    "- `page_counter` — количество просмотренных страниц во время сессии;\n",
    "- `region` — регион пользователя;\n",
    "- `device` — тип устройства пользователя;\n",
    "- `test_group` — тестовая группа (в таблице с историческими данными этого столбца нет)."
   ]
  },
  {
   "cell_type": "markdown",
   "metadata": {
    "id": "UpOucjID0eMl"
   },
   "source": [
    "###  Работа с историческими данными (EDA)"
   ]
  },
  {
   "cell_type": "markdown",
   "metadata": {
    "id": "8iJMtL-30eMl"
   },
   "source": [
    "####  Загрузка исторических данных"
   ]
  },
  {
   "cell_type": "markdown",
   "metadata": {},
   "source": [
    "Загрузим данные, ознакомимся с их содержимым."
   ]
  },
  {
   "cell_type": "code",
   "execution_count": 1,
   "metadata": {
    "id": "6TPR2-1RPboT"
   },
   "outputs": [],
   "source": [
    "# Импортируем библиотеки\n",
    "import pandas as pd\n",
    "import matplotlib.pyplot as plt\n",
    "import seaborn as sns\n",
    "from scipy import stats\n",
    "from scipy.stats import ttest_ind\n",
    "from statsmodels.stats.proportion import proportions_ztest\n",
    "from statsmodels.stats.power import NormalIndPower\n",
    "from math import ceil\n",
    "\n",
    
   ]
  },
  {
   "cell_type": "code",
   "execution_count": 2,
   "metadata": {},
   "outputs": [
    {
     "data": {
      "text/html": [
       "<div>\n",
       "<style scoped>\n",
       "    .dataframe tbody tr th:only-of-type {\n",
       "        vertical-align: middle;\n",
       "    }\n",
       "\n",
       "    .dataframe tbody tr th {\n",
       "        vertical-align: top;\n",
       "    }\n",
       "\n",
       "    .dataframe thead th {\n",
       "        text-align: right;\n",
       "    }\n",
       "</style>\n",
       "<table border=\"1\" class=\"dataframe\">\n",
       "  <thead>\n",
       "    <tr style=\"text-align: right;\">\n",
       "      <th></th>\n",
       "      <th>user_id</th>\n",
       "      <th>session_id</th>\n",
       "      <th>session_date</th>\n",
       "      <th>session_start_ts</th>\n",
       "      <th>install_date</th>\n",
       "      <th>session_number</th>\n",
       "      <th>registration_flag</th>\n",
       "      <th>page_counter</th>\n",
       "      <th>region</th>\n",
       "      <th>device</th>\n",
       "    </tr>\n",
       "  </thead>\n",
       "  <tbody>\n",
       "    <tr>\n",
       "      <th>0</th>\n",
       "      <td>E302123B7000BFE4</td>\n",
       "      <td>F9AF61A0C2023832</td>\n",
       "      <td>2025-08-15</td>\n",
       "      <td>2025-08-15 17:47:35</td>\n",
       "      <td>2025-08-15</td>\n",
       "      <td>1</td>\n",
       "      <td>0</td>\n",
       "      <td>3</td>\n",
       "      <td>CIS</td>\n",
       "      <td>iPhone</td>\n",
       "    </tr>\n",
       "    <tr>\n",
       "      <th>1</th>\n",
       "      <td>2530F72E221829FB</td>\n",
       "      <td>85003A206CBDAC6F</td>\n",
       "      <td>2025-08-15</td>\n",
       "      <td>2025-08-15 16:42:14</td>\n",
       "      <td>2025-08-15</td>\n",
       "      <td>1</td>\n",
       "      <td>0</td>\n",
       "      <td>4</td>\n",
       "      <td>MENA</td>\n",
       "      <td>Android</td>\n",
       "    </tr>\n",
       "    <tr>\n",
       "      <th>2</th>\n",
       "      <td>876E020A4FC512F5</td>\n",
       "      <td>3677423E49D72DEE</td>\n",
       "      <td>2025-08-15</td>\n",
       "      <td>2025-08-15 12:30:00</td>\n",
       "      <td>2025-08-15</td>\n",
       "      <td>1</td>\n",
       "      <td>0</td>\n",
       "      <td>4</td>\n",
       "      <td>EU</td>\n",
       "      <td>PC</td>\n",
       "    </tr>\n",
       "    <tr>\n",
       "      <th>3</th>\n",
       "      <td>2640B349E1D81584</td>\n",
       "      <td>956B45F5915CA225</td>\n",
       "      <td>2025-08-15</td>\n",
       "      <td>2025-08-15 15:31:31</td>\n",
       "      <td>2025-08-15</td>\n",
       "      <td>1</td>\n",
       "      <td>0</td>\n",
       "      <td>4</td>\n",
       "      <td>CIS</td>\n",
       "      <td>Android</td>\n",
       "    </tr>\n",
       "    <tr>\n",
       "      <th>4</th>\n",
       "      <td>94E1CBFAEF1F5EE9</td>\n",
       "      <td>83BF0DA35F9F1F40</td>\n",
       "      <td>2025-08-15</td>\n",
       "      <td>2025-08-15 21:33:53</td>\n",
       "      <td>2025-08-15</td>\n",
       "      <td>1</td>\n",
       "      <td>0</td>\n",
       "      <td>3</td>\n",
       "      <td>CIS</td>\n",
       "      <td>Android</td>\n",
       "    </tr>\n",
       "  </tbody>\n",
       "</table>\n",
       "</div>"
      ],
      "text/plain": [
       "            user_id        session_id session_date     session_start_ts  \\\n",
       "0  E302123B7000BFE4  F9AF61A0C2023832   2025-08-15  2025-08-15 17:47:35   \n",
       "1  2530F72E221829FB  85003A206CBDAC6F   2025-08-15  2025-08-15 16:42:14   \n",
       "2  876E020A4FC512F5  3677423E49D72DEE   2025-08-15  2025-08-15 12:30:00   \n",
       "3  2640B349E1D81584  956B45F5915CA225   2025-08-15  2025-08-15 15:31:31   \n",
       "4  94E1CBFAEF1F5EE9  83BF0DA35F9F1F40   2025-08-15  2025-08-15 21:33:53   \n",
       "\n",
       "  install_date  session_number  registration_flag  page_counter region  \\\n",
       "0   2025-08-15               1                  0             3    CIS   \n",
       "1   2025-08-15               1                  0             4   MENA   \n",
       "2   2025-08-15               1                  0             4     EU   \n",
       "3   2025-08-15               1                  0             4    CIS   \n",
       "4   2025-08-15               1                  0             3    CIS   \n",
       "\n",
       "    device  \n",
       "0   iPhone  \n",
       "1  Android  \n",
       "2       PC  \n",
       "3  Android  \n",
       "4  Android  "
      ]
     },
     "execution_count": 2,
     "metadata": {},
     "output_type": "execute_result"
    }
   ],
   "source": [
    "# Выводим первые пять строк датафрейма\n",
    "sessions_history.head()"
   ]
  },
  {
   "cell_type": "code",
   "execution_count": 3,
   "metadata": {},
   "outputs": [
    {
     "name": "stdout",
     "output_type": "stream",
     "text": [
      "<class 'pandas.core.frame.DataFrame'>\n",
      "RangeIndex: 435924 entries, 0 to 435923\n",
      "Data columns (total 10 columns):\n",
      " #   Column             Non-Null Count   Dtype \n",
      "---  ------             --------------   ----- \n",
      " 0   user_id            435924 non-null  object\n",
      " 1   session_id         435924 non-null  object\n",
      " 2   session_date       435924 non-null  object\n",
      " 3   session_start_ts   435924 non-null  object\n",
      " 4   install_date       435924 non-null  object\n",
      " 5   session_number     435924 non-null  int64 \n",
      " 6   registration_flag  435924 non-null  int64 \n",
      " 7   page_counter       435924 non-null  int64 \n",
      " 8   region             435924 non-null  object\n",
      " 9   device             435924 non-null  object\n",
      "dtypes: int64(3), object(7)\n",
      "memory usage: 33.3+ MB\n"
     ]
    }
   ],
   "source": [
    "# Выводим информацию о датафрейме\n",
    "sessions_history.info()"
   ]
  },
  {
   "cell_type": "code",
   "execution_count": 4,
   "metadata": {},
   "outputs": [],
   "source": [
    "# Приведем дату к нужному типу\n",
    "sessions_history['session_date'] = pd.to_datetime(sessions_history['session_date'])"
   ]
  },
  {
   "cell_type": "markdown",
   "metadata": {
    "id": "qTDoiODz0eMo"
   },
   "source": [
    "#### Знакомство с данными\n",
    "- Для каждого уникального пользователя `user_id` рассчитаем количество уникальных сессий `session_id`.\n",
    "\n",
    "- Выведим на экран все данные из таблицы `sessions_history` для одного пользователя с наибольшим количеством сессий. \n",
    "\n",
    "- Изучим таблицу для одного пользователя, чтобы лучше понять логику формирования каждого столбца данных."
   ]
  },
  {
   "cell_type": "code",
   "execution_count": 5,
   "metadata": {},
   "outputs": [
    {
     "name": "stdout",
     "output_type": "stream",
     "text": [
      "0\n"
     ]
    }
   ],
   "source": [
    "# Проверим наличие дубликатов\n",
    "duplicates = sessions_history.duplicated().sum()\n",
    "print(duplicates)"
   ]
  },
  {
   "cell_type": "code",
   "execution_count": 6,
   "metadata": {
    "id": "PWZO9vTIPbPN"
   },
   "outputs": [
    {
     "name": "stdout",
     "output_type": "stream",
     "text": [
      "Данные для пользователя 10E0DEFC1ABDBBE0 с 10 сессиями:\n"
     ]
    },
    {
     "data": {
      "text/html": [
       "<div>\n",
       "<style scoped>\n",
       "    .dataframe tbody tr th:only-of-type {\n",
       "        vertical-align: middle;\n",
       "    }\n",
       "\n",
       "    .dataframe tbody tr th {\n",
       "        vertical-align: top;\n",
       "    }\n",
       "\n",
       "    .dataframe thead th {\n",
       "        text-align: right;\n",
       "    }\n",
       "</style>\n",
       "<table border=\"1\" class=\"dataframe\">\n",
       "  <thead>\n",
       "    <tr style=\"text-align: right;\">\n",
       "      <th></th>\n",
       "      <th>user_id</th>\n",
       "      <th>session_id</th>\n",
       "      <th>session_date</th>\n",
       "      <th>session_start_ts</th>\n",
       "      <th>install_date</th>\n",
       "      <th>session_number</th>\n",
       "      <th>registration_flag</th>\n",
       "      <th>page_counter</th>\n",
       "      <th>region</th>\n",
       "      <th>device</th>\n",
       "    </tr>\n",
       "  </thead>\n",
       "  <tbody>\n",
       "    <tr>\n",
       "      <th>115558</th>\n",
       "      <td>10E0DEFC1ABDBBE0</td>\n",
       "      <td>B8F0423BBFFCF5DC</td>\n",
       "      <td>2025-08-14</td>\n",
       "      <td>2025-08-14 13:57:39</td>\n",
       "      <td>2025-08-14</td>\n",
       "      <td>1</td>\n",
       "      <td>0</td>\n",
       "      <td>4</td>\n",
       "      <td>CIS</td>\n",
       "      <td>Android</td>\n",
       "    </tr>\n",
       "    <tr>\n",
       "      <th>191751</th>\n",
       "      <td>10E0DEFC1ABDBBE0</td>\n",
       "      <td>87CA2FA549473837</td>\n",
       "      <td>2025-08-15</td>\n",
       "      <td>2025-08-15 16:42:10</td>\n",
       "      <td>2025-08-14</td>\n",
       "      <td>2</td>\n",
       "      <td>0</td>\n",
       "      <td>3</td>\n",
       "      <td>CIS</td>\n",
       "      <td>Android</td>\n",
       "    </tr>\n",
       "    <tr>\n",
       "      <th>239370</th>\n",
       "      <td>10E0DEFC1ABDBBE0</td>\n",
       "      <td>4ADD8011DCDCE318</td>\n",
       "      <td>2025-08-16</td>\n",
       "      <td>2025-08-16 19:53:21</td>\n",
       "      <td>2025-08-14</td>\n",
       "      <td>3</td>\n",
       "      <td>0</td>\n",
       "      <td>3</td>\n",
       "      <td>CIS</td>\n",
       "      <td>Android</td>\n",
       "    </tr>\n",
       "    <tr>\n",
       "      <th>274629</th>\n",
       "      <td>10E0DEFC1ABDBBE0</td>\n",
       "      <td>DF0FD0E09BF1F3D7</td>\n",
       "      <td>2025-08-17</td>\n",
       "      <td>2025-08-17 15:03:43</td>\n",
       "      <td>2025-08-14</td>\n",
       "      <td>4</td>\n",
       "      <td>0</td>\n",
       "      <td>1</td>\n",
       "      <td>CIS</td>\n",
       "      <td>Android</td>\n",
       "    </tr>\n",
       "    <tr>\n",
       "      <th>302501</th>\n",
       "      <td>10E0DEFC1ABDBBE0</td>\n",
       "      <td>3C221774B4DE6885</td>\n",
       "      <td>2025-08-18</td>\n",
       "      <td>2025-08-18 17:29:14</td>\n",
       "      <td>2025-08-14</td>\n",
       "      <td>5</td>\n",
       "      <td>0</td>\n",
       "      <td>4</td>\n",
       "      <td>CIS</td>\n",
       "      <td>Android</td>\n",
       "    </tr>\n",
       "    <tr>\n",
       "      <th>325557</th>\n",
       "      <td>10E0DEFC1ABDBBE0</td>\n",
       "      <td>031BD7A67048105B</td>\n",
       "      <td>2025-08-19</td>\n",
       "      <td>2025-08-19 13:23:55</td>\n",
       "      <td>2025-08-14</td>\n",
       "      <td>6</td>\n",
       "      <td>0</td>\n",
       "      <td>2</td>\n",
       "      <td>CIS</td>\n",
       "      <td>Android</td>\n",
       "    </tr>\n",
       "    <tr>\n",
       "      <th>345336</th>\n",
       "      <td>10E0DEFC1ABDBBE0</td>\n",
       "      <td>FF4315CF4AD4B100</td>\n",
       "      <td>2025-08-20</td>\n",
       "      <td>2025-08-20 19:31:54</td>\n",
       "      <td>2025-08-14</td>\n",
       "      <td>7</td>\n",
       "      <td>0</td>\n",
       "      <td>2</td>\n",
       "      <td>CIS</td>\n",
       "      <td>Android</td>\n",
       "    </tr>\n",
       "    <tr>\n",
       "      <th>377532</th>\n",
       "      <td>10E0DEFC1ABDBBE0</td>\n",
       "      <td>4045FEA0747203B4</td>\n",
       "      <td>2025-08-22</td>\n",
       "      <td>2025-08-22 17:54:13</td>\n",
       "      <td>2025-08-14</td>\n",
       "      <td>8</td>\n",
       "      <td>0</td>\n",
       "      <td>2</td>\n",
       "      <td>CIS</td>\n",
       "      <td>Android</td>\n",
       "    </tr>\n",
       "    <tr>\n",
       "      <th>403538</th>\n",
       "      <td>10E0DEFC1ABDBBE0</td>\n",
       "      <td>344B086C421C7F37</td>\n",
       "      <td>2025-08-24</td>\n",
       "      <td>2025-08-24 14:46:13</td>\n",
       "      <td>2025-08-14</td>\n",
       "      <td>9</td>\n",
       "      <td>0</td>\n",
       "      <td>2</td>\n",
       "      <td>CIS</td>\n",
       "      <td>Android</td>\n",
       "    </tr>\n",
       "    <tr>\n",
       "      <th>414743</th>\n",
       "      <td>10E0DEFC1ABDBBE0</td>\n",
       "      <td>054F20BA371E4C9D</td>\n",
       "      <td>2025-08-25</td>\n",
       "      <td>2025-08-25 18:36:41</td>\n",
       "      <td>2025-08-14</td>\n",
       "      <td>10</td>\n",
       "      <td>0</td>\n",
       "      <td>3</td>\n",
       "      <td>CIS</td>\n",
       "      <td>Android</td>\n",
       "    </tr>\n",
       "  </tbody>\n",
       "</table>\n",
       "</div>"
      ],
      "text/plain": [
       "                 user_id        session_id session_date     session_start_ts  \\\n",
       "115558  10E0DEFC1ABDBBE0  B8F0423BBFFCF5DC   2025-08-14  2025-08-14 13:57:39   \n",
       "191751  10E0DEFC1ABDBBE0  87CA2FA549473837   2025-08-15  2025-08-15 16:42:10   \n",
       "239370  10E0DEFC1ABDBBE0  4ADD8011DCDCE318   2025-08-16  2025-08-16 19:53:21   \n",
       "274629  10E0DEFC1ABDBBE0  DF0FD0E09BF1F3D7   2025-08-17  2025-08-17 15:03:43   \n",
       "302501  10E0DEFC1ABDBBE0  3C221774B4DE6885   2025-08-18  2025-08-18 17:29:14   \n",
       "325557  10E0DEFC1ABDBBE0  031BD7A67048105B   2025-08-19  2025-08-19 13:23:55   \n",
       "345336  10E0DEFC1ABDBBE0  FF4315CF4AD4B100   2025-08-20  2025-08-20 19:31:54   \n",
       "377532  10E0DEFC1ABDBBE0  4045FEA0747203B4   2025-08-22  2025-08-22 17:54:13   \n",
       "403538  10E0DEFC1ABDBBE0  344B086C421C7F37   2025-08-24  2025-08-24 14:46:13   \n",
       "414743  10E0DEFC1ABDBBE0  054F20BA371E4C9D   2025-08-25  2025-08-25 18:36:41   \n",
       "\n",
       "       install_date  session_number  registration_flag  page_counter region  \\\n",
       "115558   2025-08-14               1                  0             4    CIS   \n",
       "191751   2025-08-14               2                  0             3    CIS   \n",
       "239370   2025-08-14               3                  0             3    CIS   \n",
       "274629   2025-08-14               4                  0             1    CIS   \n",
       "302501   2025-08-14               5                  0             4    CIS   \n",
       "325557   2025-08-14               6                  0             2    CIS   \n",
       "345336   2025-08-14               7                  0             2    CIS   \n",
       "377532   2025-08-14               8                  0             2    CIS   \n",
       "403538   2025-08-14               9                  0             2    CIS   \n",
       "414743   2025-08-14              10                  0             3    CIS   \n",
       "\n",
       "         device  \n",
       "115558  Android  \n",
       "191751  Android  \n",
       "239370  Android  \n",
       "274629  Android  \n",
       "302501  Android  \n",
       "325557  Android  \n",
       "345336  Android  \n",
       "377532  Android  \n",
       "403538  Android  \n",
       "414743  Android  "
      ]
     },
     "execution_count": 6,
     "metadata": {},
     "output_type": "execute_result"
    }
   ],
   "source": [
    "# 1. Рассчитываем количество уникальных сессий для каждого пользователя\n",
    "sessions_count = sessions_history.groupby('user_id')['session_id'].nunique()\n",
    "\n",
    "# 2. Находим пользователя с максимальным количеством сессий\n",
    "max_sessions = sessions_count.max()  # максимальное количество сессий\n",
    "top_users = sessions_count[sessions_count == max_sessions].index.tolist()  # все пользователи с таким количеством\n",
    "\n",
    "# Выбираем первого из пользователей с максимальным количеством сессий\n",
    "selected_user = top_users[0]\n",
    "\n",
    "# 3. Выводим все записи для выбранного пользователя\n",
    "user_data = sessions_history[sessions_history['user_id'] == selected_user]\n",
    "\n",
    "print(f\"Данные для пользователя {selected_user} с {max_sessions} сессиями:\")\n",
    "user_data"
   ]
  },
  {
   "cell_type": "markdown",
   "metadata": {
    "id": "CmcGpJTP0eMq"
   },
   "source": [
    "####  Анализ числа регистраций\n",
    "Одна из важнейших метрик продукта — число зарегистрированных пользователей. Используя исторические данные, визуализируем, как менялось число регистраций в приложении за время его существования.\n",
    "\n",
    "- Агрегируйем исторические данные и рассчитаем число уникальных пользователей и число зарегистрированных пользователей для каждого дня наблюдения. Д\n",
    "\n",
    "- Построим линейные графики общего числа пользователей и общего числа зарегистрированных пользователей по дням. \n",
    "\n",
    "- Построим линейный график доли зарегистрированных пользователей от всех пользователей по дням."
   ]
  },
  {
   "cell_type": "code",
   "execution_count": 7,
   "metadata": {},
   "outputs": [
    {
     "data": {
      "text/html": [
       "<div>\n",
       "<style scoped>\n",
       "    .dataframe tbody tr th:only-of-type {\n",
       "        vertical-align: middle;\n",
       "    }\n",
       "\n",
       "    .dataframe tbody tr th {\n",
       "        vertical-align: top;\n",
       "    }\n",
       "\n",
       "    .dataframe thead th {\n",
       "        text-align: right;\n",
       "    }\n",
       "</style>\n",
       "<table border=\"1\" class=\"dataframe\">\n",
       "  <thead>\n",
       "    <tr style=\"text-align: right;\">\n",
       "      <th></th>\n",
       "      <th>session_date</th>\n",
       "      <th>unique_users</th>\n",
       "      <th>registered_users</th>\n",
       "    </tr>\n",
       "  </thead>\n",
       "  <tbody>\n",
       "    <tr>\n",
       "      <th>0</th>\n",
       "      <td>2025-08-11</td>\n",
       "      <td>3919</td>\n",
       "      <td>169</td>\n",
       "    </tr>\n",
       "    <tr>\n",
       "      <th>1</th>\n",
       "      <td>2025-08-12</td>\n",
       "      <td>6056</td>\n",
       "      <td>336</td>\n",
       "    </tr>\n",
       "    <tr>\n",
       "      <th>2</th>\n",
       "      <td>2025-08-13</td>\n",
       "      <td>8489</td>\n",
       "      <td>464</td>\n",
       "    </tr>\n",
       "    <tr>\n",
       "      <th>3</th>\n",
       "      <td>2025-08-14</td>\n",
       "      <td>10321</td>\n",
       "      <td>625</td>\n",
       "    </tr>\n",
       "    <tr>\n",
       "      <th>4</th>\n",
       "      <td>2025-08-15</td>\n",
       "      <td>14065</td>\n",
       "      <td>840</td>\n",
       "    </tr>\n",
       "    <tr>\n",
       "      <th>5</th>\n",
       "      <td>2025-08-16</td>\n",
       "      <td>12205</td>\n",
       "      <td>916</td>\n",
       "    </tr>\n",
       "    <tr>\n",
       "      <th>6</th>\n",
       "      <td>2025-08-17</td>\n",
       "      <td>11200</td>\n",
       "      <td>833</td>\n",
       "    </tr>\n",
       "    <tr>\n",
       "      <th>7</th>\n",
       "      <td>2025-08-18</td>\n",
       "      <td>10839</td>\n",
       "      <td>860</td>\n",
       "    </tr>\n",
       "    <tr>\n",
       "      <th>8</th>\n",
       "      <td>2025-08-19</td>\n",
       "      <td>12118</td>\n",
       "      <td>831</td>\n",
       "    </tr>\n",
       "    <tr>\n",
       "      <th>9</th>\n",
       "      <td>2025-08-20</td>\n",
       "      <td>13514</td>\n",
       "      <td>1008</td>\n",
       "    </tr>\n",
       "    <tr>\n",
       "      <th>10</th>\n",
       "      <td>2025-08-21</td>\n",
       "      <td>15051</td>\n",
       "      <td>1063</td>\n",
       "    </tr>\n",
       "    <tr>\n",
       "      <th>11</th>\n",
       "      <td>2025-08-22</td>\n",
       "      <td>17563</td>\n",
       "      <td>1251</td>\n",
       "    </tr>\n",
       "    <tr>\n",
       "      <th>12</th>\n",
       "      <td>2025-08-23</td>\n",
       "      <td>16082</td>\n",
       "      <td>1253</td>\n",
       "    </tr>\n",
       "    <tr>\n",
       "      <th>13</th>\n",
       "      <td>2025-08-24</td>\n",
       "      <td>13683</td>\n",
       "      <td>1181</td>\n",
       "    </tr>\n",
       "    <tr>\n",
       "      <th>14</th>\n",
       "      <td>2025-08-25</td>\n",
       "      <td>13635</td>\n",
       "      <td>1060</td>\n",
       "    </tr>\n",
       "    <tr>\n",
       "      <th>15</th>\n",
       "      <td>2025-08-26</td>\n",
       "      <td>13289</td>\n",
       "      <td>1050</td>\n",
       "    </tr>\n",
       "    <tr>\n",
       "      <th>16</th>\n",
       "      <td>2025-08-27</td>\n",
       "      <td>14766</td>\n",
       "      <td>1076</td>\n",
       "    </tr>\n",
       "    <tr>\n",
       "      <th>17</th>\n",
       "      <td>2025-08-28</td>\n",
       "      <td>15388</td>\n",
       "      <td>1175</td>\n",
       "    </tr>\n",
       "    <tr>\n",
       "      <th>18</th>\n",
       "      <td>2025-08-29</td>\n",
       "      <td>16873</td>\n",
       "      <td>1174</td>\n",
       "    </tr>\n",
       "    <tr>\n",
       "      <th>19</th>\n",
       "      <td>2025-08-30</td>\n",
       "      <td>14891</td>\n",
       "      <td>1165</td>\n",
       "    </tr>\n",
       "    <tr>\n",
       "      <th>20</th>\n",
       "      <td>2025-08-31</td>\n",
       "      <td>13266</td>\n",
       "      <td>1105</td>\n",
       "    </tr>\n",
       "    <tr>\n",
       "      <th>21</th>\n",
       "      <td>2025-09-01</td>\n",
       "      <td>12685</td>\n",
       "      <td>1028</td>\n",
       "    </tr>\n",
       "    <tr>\n",
       "      <th>22</th>\n",
       "      <td>2025-09-02</td>\n",
       "      <td>12672</td>\n",
       "      <td>1039</td>\n",
       "    </tr>\n",
       "    <tr>\n",
       "      <th>23</th>\n",
       "      <td>2025-09-03</td>\n",
       "      <td>12777</td>\n",
       "      <td>1035</td>\n",
       "    </tr>\n",
       "    <tr>\n",
       "      <th>24</th>\n",
       "      <td>2025-09-04</td>\n",
       "      <td>13683</td>\n",
       "      <td>1007</td>\n",
       "    </tr>\n",
       "    <tr>\n",
       "      <th>25</th>\n",
       "      <td>2025-09-05</td>\n",
       "      <td>15324</td>\n",
       "      <td>1030</td>\n",
       "    </tr>\n",
       "    <tr>\n",
       "      <th>26</th>\n",
       "      <td>2025-09-06</td>\n",
       "      <td>13078</td>\n",
       "      <td>1023</td>\n",
       "    </tr>\n",
       "    <tr>\n",
       "      <th>27</th>\n",
       "      <td>2025-09-07</td>\n",
       "      <td>12367</td>\n",
       "      <td>1069</td>\n",
       "    </tr>\n",
       "    <tr>\n",
       "      <th>28</th>\n",
       "      <td>2025-09-08</td>\n",
       "      <td>11826</td>\n",
       "      <td>1009</td>\n",
       "    </tr>\n",
       "    <tr>\n",
       "      <th>29</th>\n",
       "      <td>2025-09-09</td>\n",
       "      <td>11780</td>\n",
       "      <td>980</td>\n",
       "    </tr>\n",
       "    <tr>\n",
       "      <th>30</th>\n",
       "      <td>2025-09-10</td>\n",
       "      <td>12526</td>\n",
       "      <td>1015</td>\n",
       "    </tr>\n",
       "    <tr>\n",
       "      <th>31</th>\n",
       "      <td>2025-09-11</td>\n",
       "      <td>8623</td>\n",
       "      <td>824</td>\n",
       "    </tr>\n",
       "    <tr>\n",
       "      <th>32</th>\n",
       "      <td>2025-09-12</td>\n",
       "      <td>6436</td>\n",
       "      <td>669</td>\n",
       "    </tr>\n",
       "    <tr>\n",
       "      <th>33</th>\n",
       "      <td>2025-09-13</td>\n",
       "      <td>5183</td>\n",
       "      <td>537</td>\n",
       "    </tr>\n",
       "    <tr>\n",
       "      <th>34</th>\n",
       "      <td>2025-09-14</td>\n",
       "      <td>4364</td>\n",
       "      <td>440</td>\n",
       "    </tr>\n",
       "    <tr>\n",
       "      <th>35</th>\n",
       "      <td>2025-09-15</td>\n",
       "      <td>3698</td>\n",
       "      <td>383</td>\n",
       "    </tr>\n",
       "    <tr>\n",
       "      <th>36</th>\n",
       "      <td>2025-09-16</td>\n",
       "      <td>3032</td>\n",
       "      <td>286</td>\n",
       "    </tr>\n",
       "    <tr>\n",
       "      <th>37</th>\n",
       "      <td>2025-09-17</td>\n",
       "      <td>2548</td>\n",
       "      <td>272</td>\n",
       "    </tr>\n",
       "    <tr>\n",
       "      <th>38</th>\n",
       "      <td>2025-09-18</td>\n",
       "      <td>1952</td>\n",
       "      <td>201</td>\n",
       "    </tr>\n",
       "    <tr>\n",
       "      <th>39</th>\n",
       "      <td>2025-09-19</td>\n",
       "      <td>1418</td>\n",
       "      <td>132</td>\n",
       "    </tr>\n",
       "    <tr>\n",
       "      <th>40</th>\n",
       "      <td>2025-09-20</td>\n",
       "      <td>1100</td>\n",
       "      <td>107</td>\n",
       "    </tr>\n",
       "    <tr>\n",
       "      <th>41</th>\n",
       "      <td>2025-09-21</td>\n",
       "      <td>776</td>\n",
       "      <td>87</td>\n",
       "    </tr>\n",
       "    <tr>\n",
       "      <th>42</th>\n",
       "      <td>2025-09-22</td>\n",
       "      <td>546</td>\n",
       "      <td>68</td>\n",
       "    </tr>\n",
       "    <tr>\n",
       "      <th>43</th>\n",
       "      <td>2025-09-23</td>\n",
       "      <td>317</td>\n",
       "      <td>32</td>\n",
       "    </tr>\n",
       "  </tbody>\n",
       "</table>\n",
       "</div>"
      ],
      "text/plain": [
       "   session_date  unique_users  registered_users\n",
       "0    2025-08-11          3919               169\n",
       "1    2025-08-12          6056               336\n",
       "2    2025-08-13          8489               464\n",
       "3    2025-08-14         10321               625\n",
       "4    2025-08-15         14065               840\n",
       "5    2025-08-16         12205               916\n",
       "6    2025-08-17         11200               833\n",
       "7    2025-08-18         10839               860\n",
       "8    2025-08-19         12118               831\n",
       "9    2025-08-20         13514              1008\n",
       "10   2025-08-21         15051              1063\n",
       "11   2025-08-22         17563              1251\n",
       "12   2025-08-23         16082              1253\n",
       "13   2025-08-24         13683              1181\n",
       "14   2025-08-25         13635              1060\n",
       "15   2025-08-26         13289              1050\n",
       "16   2025-08-27         14766              1076\n",
       "17   2025-08-28         15388              1175\n",
       "18   2025-08-29         16873              1174\n",
       "19   2025-08-30         14891              1165\n",
       "20   2025-08-31         13266              1105\n",
       "21   2025-09-01         12685              1028\n",
       "22   2025-09-02         12672              1039\n",
       "23   2025-09-03         12777              1035\n",
       "24   2025-09-04         13683              1007\n",
       "25   2025-09-05         15324              1030\n",
       "26   2025-09-06         13078              1023\n",
       "27   2025-09-07         12367              1069\n",
       "28   2025-09-08         11826              1009\n",
       "29   2025-09-09         11780               980\n",
       "30   2025-09-10         12526              1015\n",
       "31   2025-09-11          8623               824\n",
       "32   2025-09-12          6436               669\n",
       "33   2025-09-13          5183               537\n",
       "34   2025-09-14          4364               440\n",
       "35   2025-09-15          3698               383\n",
       "36   2025-09-16          3032               286\n",
       "37   2025-09-17          2548               272\n",
       "38   2025-09-18          1952               201\n",
       "39   2025-09-19          1418               132\n",
       "40   2025-09-20          1100               107\n",
       "41   2025-09-21           776                87\n",
       "42   2025-09-22           546                68\n",
       "43   2025-09-23           317                32"
      ]
     },
     "execution_count": 7,
     "metadata": {},
     "output_type": "execute_result"
    }
   ],
   "source": [
    "# Рассчитываем число уникальных пользователей и число зарегистрированных пользователей\n",
    "grouped_data = sessions_history.groupby('session_date').agg(\n",
    "    unique_users=('user_id', 'count'),\n",
    "    registered_users=('registration_flag', 'sum')\n",
    ").reset_index()\n",
    "\n",
    "grouped_data"
   ]
  },
  {
   "cell_type": "code",
   "execution_count": 8,
   "metadata": {},
   "outputs": [
    {
     "data": {
      "image/png": "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\n",
      "text/plain": [
       "<Figure size 1152x432 with 1 Axes>"
      ]
     },
     "metadata": {
      "needs_background": "light"
     },
     "output_type": "display_data"
    }
   ],
   "source": [
    "# Построим линейные графики общего числа пользователей и общего числа зарегистрированных пользователей\n",
    "\n",
    "# Создаём фигуру и оси\n",
    "plt.figure(figsize=(16, 6))\n",
    "\n",
    "# Линейный график для общего числа пользователей\n",
    "plt.plot(\n",
    "    grouped_data['session_date'],\n",
    "    grouped_data['unique_users'],\n",
    "    label='Все пользователи',\n",
    "    color='blue' \n",
    ")\n",
    "\n",
    "# Линейный график для зарегистрированных пользователей\n",
    "plt.plot(\n",
    "    grouped_data['session_date'],\n",
    "    grouped_data['registered_users'],\n",
    "    label='Зарегистрированные пользователи',\n",
    "    color='green'\n",
    ")\n",
    "\n",
    "# Настройки графика\n",
    "plt.title('Динамика пользователей по дням', fontsize=14, pad=20)\n",
    "plt.xlabel('Дата', fontsize=12)\n",
    "plt.ylabel('Количество пользователей', fontsize=12)\n",
    "plt.grid(True, linestyle='--', alpha=0.7)\n",
    "plt.legend(fontsize=12) \n",
    "\n",
    "# Поворот дат для лучшей читаемости\n",
    "plt.xticks(rotation=45)\n",
    "\n",
    "# Автоматическое размещение подписей, чтобы не накладывались\n",
    "plt.tight_layout()\n",
    "\n",
    "# Показать график\n",
    "plt.show()"
   ]
  },
  {
   "cell_type": "code",
   "execution_count": 9,
   "metadata": {
    "scrolled": true
   },
   "outputs": [
    {
     "data": {
      "image/png": "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\n",
      "text/plain": [
       "<Figure size 1152x432 with 1 Axes>"
      ]
     },
     "metadata": {
      "needs_background": "light"
     },
     "output_type": "display_data"
    }
   ],
   "source": [
    "# Построим линейный график доли зарегистрированных пользователей\n",
    "# Рассчитываем долю зарегистрированных пользователей\n",
    "grouped_data['registration_ratio'] = grouped_data['registered_users'] / grouped_data['unique_users']\n",
    "\n",
    "# Создаем график\n",
    "plt.figure(figsize=(16, 6))\n",
    "\n",
    "# Линейный график доли\n",
    "plt.plot(\n",
    "    grouped_data['session_date'],\n",
    "    grouped_data['registration_ratio'],\n",
    "    label='Доля зарегистрированных',\n",
    "    color='green',\n",
    "    marker='o',\n",
    "    linestyle='-',\n",
    "    linewidth=2\n",
    ")\n",
    "\n",
    "# Настройки графика\n",
    "plt.title('Доля зарегистрированных пользователей', fontsize=18)\n",
    "plt.xlabel('Дата', fontsize=12)\n",
    "plt.ylabel('Доля', fontsize=12)\n",
    "plt.grid(True, linestyle='--', alpha=0.5)\n",
    "\n",
    "# Форматирование оси Y (проценты)\n",
    "plt.gca().yaxis.set_major_formatter(plt.FuncFormatter(lambda x, _: f'{x:.0%}'))\n",
    "\n",
    "# Настройка отображения дат\n",
    "plt.xticks(rotation=45)\n",
    "\n",
    "# Автоматическая подгонка layout\n",
    "plt.tight_layout()\n",
    "\n",
    "plt.show()"
   ]
  },
  {
   "cell_type": "markdown",
   "metadata": {
    "id": "UR7D7RhF0eMr"
   },
   "source": [
    "#### Анализ числа просмотренных страниц\n",
    "Другая важная метрика продукта — число просмотренных страниц в приложении. Чем больше страниц просмотрено, тем сильнее пользователь увлечён контентом, а значит, выше шансы на то, что он зарегистрируется и оплатит подписку.\n",
    "\n",
    "- Найдем количество сессий для каждого значения количества просмотренных страниц.\n",
    "\n",
    "- Построим столбчатую диаграмму, где по оси X будет число просмотренных страниц, по оси Y — количество сессий."
   ]
  },
  {
   "cell_type": "code",
   "execution_count": 10,
   "metadata": {
    "id": "cb6hPlVzPaSf"
   },
   "outputs": [
    {
     "data": {
      "image/png": "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\n",
      "text/plain": [
       "<Figure size 864x432 with 1 Axes>"
      ]
     },
     "metadata": {
      "needs_background": "light"
     },
     "output_type": "display_data"
    }
   ],
   "source": [
    "# Группируем данные по количеству просмотренных страниц и считаем количество сессий\n",
    "page_sessions = sessions_history.groupby('page_counter')['session_id'].count().reset_index()\n",
    "page_sessions.columns = ['page_count', 'sessions_count']\n",
    "\n",
    "# Сортируем по количеству страниц для лучшего отображения на графике\n",
    "page_sessions = page_sessions.sort_values('page_count')\n",
    "\n",
    "# Строим столбчатую диаграмму\n",
    "plt.figure(figsize=(12, 6))\n",
    "plt.bar(page_sessions['page_count'], page_sessions['sessions_count'])\n",
    "\n",
    "# Добавляем заголовок и подписи осей\n",
    "plt.title('Количество сессий по числу просмотренных страниц', fontsize=16)\n",
    "plt.xlabel('Количество просмотренных страниц', fontsize=12)\n",
    "plt.ylabel('Количество сессий', fontsize=12)\n",
    "\n",
    "# Добавляем сетку для лучшей читаемости\n",
    "plt.grid(axis='y', alpha=0.3)\n",
    "\n",
    "plt.show()"
   ]
  },
  {
   "cell_type": "markdown",
   "metadata": {
    "id": "xDltSpVP0eMr"
   },
   "source": [
    "####  Доля пользователей, просмотревших более четырёх страниц\n",
    "Продуктовая команда продукта считает, что сессии, в рамках которых пользователь просмотрел 4 и более страниц, говорят об удовлетворённости контентом и алгоритмами рекомендаций. Этот показатель является важной прокси-метрикой для продукта.\n",
    "\n",
    "- В датафрейме `sessions_history` создадим дополнительный столбец `good_session`. В него войдёт значение `1`, если за одну сессию было просмотрено 4 и более страниц, и значение `0`, если было просмотрено меньше.\n",
    "\n",
    "- Построим график со средним значением доли успешных сессий ко всем сессиям по дням за весь период наблюдения."
   ]
  },
  {
   "cell_type": "code",
   "execution_count": 11,
   "metadata": {
    "id": "iygaPfixPYMW"
   },
   "outputs": [
    {
     "data": {
      "text/html": [
       "<div>\n",
       "<style scoped>\n",
       "    .dataframe tbody tr th:only-of-type {\n",
       "        vertical-align: middle;\n",
       "    }\n",
       "\n",
       "    .dataframe tbody tr th {\n",
       "        vertical-align: top;\n",
       "    }\n",
       "\n",
       "    .dataframe thead th {\n",
       "        text-align: right;\n",
       "    }\n",
       "</style>\n",
       "<table border=\"1\" class=\"dataframe\">\n",
       "  <thead>\n",
       "    <tr style=\"text-align: right;\">\n",
       "      <th></th>\n",
       "      <th>user_id</th>\n",
       "      <th>session_id</th>\n",
       "      <th>session_date</th>\n",
       "      <th>session_start_ts</th>\n",
       "      <th>install_date</th>\n",
       "      <th>session_number</th>\n",
       "      <th>registration_flag</th>\n",
       "      <th>page_counter</th>\n",
       "      <th>region</th>\n",
       "      <th>device</th>\n",
       "      <th>good_session</th>\n",
       "    </tr>\n",
       "  </thead>\n",
       "  <tbody>\n",
       "    <tr>\n",
       "      <th>0</th>\n",
       "      <td>E302123B7000BFE4</td>\n",
       "      <td>F9AF61A0C2023832</td>\n",
       "      <td>2025-08-15</td>\n",
       "      <td>2025-08-15 17:47:35</td>\n",
       "      <td>2025-08-15</td>\n",
       "      <td>1</td>\n",
       "      <td>0</td>\n",
       "      <td>3</td>\n",
       "      <td>CIS</td>\n",
       "      <td>iPhone</td>\n",
       "      <td>0</td>\n",
       "    </tr>\n",
       "    <tr>\n",
       "      <th>1</th>\n",
       "      <td>2530F72E221829FB</td>\n",
       "      <td>85003A206CBDAC6F</td>\n",
       "      <td>2025-08-15</td>\n",
       "      <td>2025-08-15 16:42:14</td>\n",
       "      <td>2025-08-15</td>\n",
       "      <td>1</td>\n",
       "      <td>0</td>\n",
       "      <td>4</td>\n",
       "      <td>MENA</td>\n",
       "      <td>Android</td>\n",
       "      <td>1</td>\n",
       "    </tr>\n",
       "    <tr>\n",
       "      <th>2</th>\n",
       "      <td>876E020A4FC512F5</td>\n",
       "      <td>3677423E49D72DEE</td>\n",
       "      <td>2025-08-15</td>\n",
       "      <td>2025-08-15 12:30:00</td>\n",
       "      <td>2025-08-15</td>\n",
       "      <td>1</td>\n",
       "      <td>0</td>\n",
       "      <td>4</td>\n",
       "      <td>EU</td>\n",
       "      <td>PC</td>\n",
       "      <td>1</td>\n",
       "    </tr>\n",
       "    <tr>\n",
       "      <th>3</th>\n",
       "      <td>2640B349E1D81584</td>\n",
       "      <td>956B45F5915CA225</td>\n",
       "      <td>2025-08-15</td>\n",
       "      <td>2025-08-15 15:31:31</td>\n",
       "      <td>2025-08-15</td>\n",
       "      <td>1</td>\n",
       "      <td>0</td>\n",
       "      <td>4</td>\n",
       "      <td>CIS</td>\n",
       "      <td>Android</td>\n",
       "      <td>1</td>\n",
       "    </tr>\n",
       "    <tr>\n",
       "      <th>4</th>\n",
       "      <td>94E1CBFAEF1F5EE9</td>\n",
       "      <td>83BF0DA35F9F1F40</td>\n",
       "      <td>2025-08-15</td>\n",
       "      <td>2025-08-15 21:33:53</td>\n",
       "      <td>2025-08-15</td>\n",
       "      <td>1</td>\n",
       "      <td>0</td>\n",
       "      <td>3</td>\n",
       "      <td>CIS</td>\n",
       "      <td>Android</td>\n",
       "      <td>0</td>\n",
       "    </tr>\n",
       "  </tbody>\n",
       "</table>\n",
       "</div>"
      ],
      "text/plain": [
       "            user_id        session_id session_date     session_start_ts  \\\n",
       "0  E302123B7000BFE4  F9AF61A0C2023832   2025-08-15  2025-08-15 17:47:35   \n",
       "1  2530F72E221829FB  85003A206CBDAC6F   2025-08-15  2025-08-15 16:42:14   \n",
       "2  876E020A4FC512F5  3677423E49D72DEE   2025-08-15  2025-08-15 12:30:00   \n",
       "3  2640B349E1D81584  956B45F5915CA225   2025-08-15  2025-08-15 15:31:31   \n",
       "4  94E1CBFAEF1F5EE9  83BF0DA35F9F1F40   2025-08-15  2025-08-15 21:33:53   \n",
       "\n",
       "  install_date  session_number  registration_flag  page_counter region  \\\n",
       "0   2025-08-15               1                  0             3    CIS   \n",
       "1   2025-08-15               1                  0             4   MENA   \n",
       "2   2025-08-15               1                  0             4     EU   \n",
       "3   2025-08-15               1                  0             4    CIS   \n",
       "4   2025-08-15               1                  0             3    CIS   \n",
       "\n",
       "    device  good_session  \n",
       "0   iPhone             0  \n",
       "1  Android             1  \n",
       "2       PC             1  \n",
       "3  Android             1  \n",
       "4  Android             0  "
      ]
     },
     "execution_count": 11,
     "metadata": {},
     "output_type": "execute_result"
    }
   ],
   "source": [
    "# Добавляем столбец good_session\n",
    "sessions_history['good_session'] = (sessions_history['page_counter'] >= 4).astype(int)\n",
    "\n",
    "# проверим добавление столбца\n",
    "sessions_history.head()"
   ]
  },
  {
   "cell_type": "code",
   "execution_count": 12,
   "metadata": {},
   "outputs": [
    {
     "data": {
      "image/png": "iVBORw0KGgoAAAANSUhEUgAABHgAAAGoCAYAAAA99FLLAAAAOXRFWHRTb2Z0d2FyZQBNYXRwbG90bGliIHZlcnNpb24zLjMuNCwgaHR0cHM6Ly9tYXRwbG90bGliLm9yZy8QVMy6AAAACXBIWXMAAAsTAAALEwEAmpwYAAC6pUlEQVR4nOzdeXxcZfU/8M+TpNmapOmWJmnaBCht6UJBClRZZF9ERRYVKatogZ/ihnsRBa0gfBVF8fsVkEUJgiigguz7DgVKKaUtXZIuabqnSZqm2Z7fH2duZ5rOJLPce5/nzv28X6++ZjqdzDzNnDvLmXPOo7TWICIiIiIiIiKi4MoxvQAiIiIiIiIiIsoMEzxERERERERERAHHBA8RERERERERUcAxwUNEREREREREFHBM8BARERERERERBRwTPEREREREREREAccEDxERERFlFaXUVKXUl2L+XqSUmmtyTURERF5jgoeIiMhSSqk6pZQe4M9dptdIZKliAH9SSp2slBoH4OcAvjTIzxAREQVanukFEBER0aCeAvCXmL+XAPhfQ2shsp7W+i2l1AMAHo9c1AbgHINLIiIi8hwTPERERPZSkdNlWut7dl+o1CgwwUM0IK31JUqpeQAqAHyotd5uek1EREReYosWERGRvfIjp73J/oBSapRS6hal1BqlVFfk9Bal1MgE178rUQtYv+sppdQ3lFILlVJt/a77/CBrOiNyva8m+PcPlFLLlVIq5rIJSqk7lVJrI/+PJqXUv5RSh8RcpyHVFjal1BeVUi9H/g8dSqk3lFJnx7neXj+vlDomcvlF/S7/WeTyuv6/1wT/3+eVUg39LmtI4ve4x/0opWqUUluUUouUUkX9rluvlOpTSp0w0G1GrquUUl+N/C7aI3/eV0pd2+96BUqpH0cer06lVItS6j9KqYMzuM18pdT3lVILIo/HdqXUfKXU1xP9v2MuvzZyeUO/y3f/LrXWK7XWrwPYqZT6KHL9nw32OyEiIgoiVvAQERHZy0nw7ErmykqpYQBeBTABwB0A3gFwMIDLARynlDpMa92W4MfPjzk/B8BR/f79mwBuAvAGgB8CcKohbkpiaf8B0AzgywBu67fmWQCmAJirtdaRy2YCeAbAEAB/BrAIwAgAnwTwCQBvx9zEEgDz4tznX/tfoJT6BYC5kLadnwDoA3AGgAeUUl/XWt+SxP/FGlrrtUqpiwH8C8BvAVwKAEqpLwM4F8D1Wuunk7ipvwKYDXls5wFoATAZwNkAro7c5hDI7+0Tkev/AcAwAF8F8IpS6mit9fwUbzMfwBMAjgHwJIB7AHQCmA7gzMh9xBVJ9nwvif+b49uQ44KIiChrMcFDRERkr/LI6Y4kr/99APsD+JrW+o/OhUqpBZAPy9+HJDZiDQGg+7WAnYC9EzyfhyR1jtNad8Rc9xeDLUpr3aOUuhPAj5RSU7TWi2P++RJIhdJdkdtTkfMFAA7TWi+Mue51Sqn+1ccbYtces66/9vv7xyDJneu01j+O+aeblVIPR277LwMkwKyktf63Uur3AK5QSj0FSYb9HsDr2Pux3otS6guQRMw9AC7UWvfF/Fvs7/rrkETMKVrrJ2Ku88fIff5P5N9Tuc1vRX6m/2PS/3rx/A+ALQDWAxg9yP+xCsBVkETY6YPcLhERUWCxRYuIiMhezgfXjUle/wwAmwDc2u/yP0UuPyPOz+QjuQqhUgAdscmdFN0GQEMSOgAApdRQAF8E8JjWuily8UEApgK4s19yBwAQmyxI0ezI/d+tpI1t9x8A/4b8/z6e5m0n1P++Ivc3JMHVh8RcryjBdeL5HoB3Ib/jfwDoBvAlrXVPEj87O3L63f6/235/Pw9SLfV2v/9LPmQI+JExa072NmcD2AZgj7atONfbg1LqWABnAfgBkkt+Xg+pDPpZEtclIiIKLFbwEBER2WufyOnaFK4/v/8H+0gFzTIAH4vzM8MBtCZx2y8A+LpS6gZIwshp0UrqyyKt9Sql1NMAzldK/VBr3Q3gC5DEyu0xV90/cvpuMrebggMgQ6uXDHCdMS7fJyCJtXga41z2idjrK6U2Qqpgfqq1bk90B1rrXUqpLwH4AJIcm621bkhyffsDWK+13jDI9Q4AUITE/x8AGAVgTQq3uT+ABVrrziTXCqVULqQd7VWtdb1KMNcp5vqHQdoPL4O0iREREWUtJniIiIjsNSVyunjAa2WmGkDToNcCfgxpGfsO9p59sjLJ+7oVwAMAPgvgn5BqnmYAjyb585lQkAqeU5F4aPUHHtzviXEu+zVkfk1/CwFcGTlfCuBzkN93JaJVMYmcBiA3cv5gAPemutBBKADvR9aTyEDJH7dcCmAagMMGu2Kk3e/3AN6DJBHHe7s0IiIis5jgISIistdRADYj+QTKSgCTlFJ5sVU8Sqk8ABP7345SqhgyePb+wW5Ya90WGd47AZIUmgNJlOw1/2YA/4K0m12ilFoE4AgAv+pXcbQscnpQCrebjI8AnAJgtdb6Q5dvO6F4Q46VUtsQP8Gzrd/1H1JKzYAkxBJSsrPYdZBWqc0ArlRKPaW1fjKJJS4DcLpSaswgFTcfQVoGn02iTS7Z21wGYLJSqkBrnUyb4HBIO9edWuu3B7sygAsgiaCjtdZ9KrpJGxERUVbiDB4iIiILKaWOg7SwPOXsLpWEhyEfwr/S7/KvRi5/qN/l50LmwTye5O3fCGnzOltr/UQkGZF0e02kLesuACcD+Gnk4j/3u9p7kEqaLyulpva/DZX+p3Rn6PIvI20+/W/Xi/YsNygkrjiCUqoEwH2QWTZOK9IqAH9RSlUkcfv1kdMb+g827ve7/gukkihuBU+/31+yt1kPSdpcFef24j3O10K+nPxxnH/rrwSS9LpPa/1SEtcnIiIKPFbwEBERWSQyePhSRHdAalRKndfvaiWR030j//aQ1noHgBsgu13dEtk16l1Iu84lAJZG/h1KqVrIh+QvQ7YcH7SCJ7Iz0jcB/D+t9Vvp/w9xG6TF60sAXtBafxT7j1prHdn6+xkAbyqlnG3SyyHbpD8OabtJidb6LaXUzyCDdhcopR6AtKZVATgEwKcQ3ZbeMVYpdUrM3w+MnE7vd7lb22+PiLndEshQ7AOx99DsWP8LYD/I7lYbACAyj+dlyEDpTw2UINRaP6CUuh9S7bK/UurfkGTRREgiblrkqr+DtJvdGEk+PguZ3TQewPGQRN+xadzmZwBcpZQ6FLJVeidkjtAkACf0W+6nAVyptU5m6PghADogO8cRERGFAhM8REREdhkNmdHi+OEA1z0q8mcfADu01tuVUkcAuAbS1nMxgA0A/g8yqNfZAvxAyIfxXwOYN9huS0qpAyCVNvdorf839f9SlNZ6uVLqOQDHYe/qHec6b0U+8P8EMoj5Mkjr0ZsAXsngvq9RSs0H8A3IFt1DIS1jiyKX9XcC9k4yAFLFMtAsmnRNB/BY5PwOyCDmHwP4TbwrK6UugOxudUNsO5bW+k2l1FxIQu872DOe4jkXwEuQRODVkIqhVZB5Sc5tdiulTgPw/yCVQtdE/qkJ8rjcncZtdimlToLMHToXwC8hCZ6PANwZZ51LkVpy71da6zUpXJ+IiCjQVPJV30REROQ1pVQd5IPwxVrruwa57kWQD8L7pLBrknFKqf9CtiSv1lrvNL0eIiIiomzAGTxERETkG6XUBEibzj1M7hARERG5hy1aREREdmmHDJ9dkcR1V0Su2+7pilyglDocwAGQVqguDN42REREREQpYIsWEREReU4pdRdk6O5KAN/XWj9odkVERERE2YUJHiIiIiIiIiKigMvKFq1Ro0bpuro608ugAOnt7UVubq7pZVCIMQaJ7MJjkkxi/JFpjEEyifE3uLfffnuz1np0/8uzMsFTV1eH+fPnm14GBciOHTswdOhQ08ugEGMMEtmFxySZxPgj0xiDZBLjb3BKqcZ4l3MXLSIAfX19ppdAIccYJLILj0kyifFHpjEGySTGX/qY4CECsGXLFtNLoJBjDBLZhcckmcT4I9MYg2QS4y99TPAQEREREREREQUcEzxEAEpLS00vgUKOMUhkFx6TZBLjj0xjDJJJjL/0McFDBKCsrMz0EijkGINEduExSSYx/sg0xiCZxPhLHxM8RADWrVtnegkUcoxBIrvwmCSTGH9kGmOQTGL8pY8JHiIiIiIiIiKigGOChwhAfn6+6SVQyDEGiezCY5JMYvyRaYxBMonxlz6ltTa9BtfNnDlTz58/3/QyiIiIiIiIiIhcpZR6W2s9s//lrOAhArBmzRrTS6CQYwwS2YXHJJnE+CPTGINkEuMvfUzwEAHo7e01vQQKOcYgkV14TJJJjD8yjTFIJjH+0scEDxERERERERFRwDHBQwRg/PjxppdAIccYJLILj0kyifFHpgUtBuvrgbo6ICdHTuvrTa+IMhG0+LMJEzxEADZv3mx6CRRyjEEiu/CYJJMYf2RakGKwvh6YMwdobAS0ltM5c5jkCbIgxZ9tfEnwKKUKlVJvKqXeU0p9oJS6JnJ5vVJqqVJqkVLqDqXUkMjlZ0Wu95JSamTksv2UUvf7sV4Kn46ODtNLoJBjDBLZhcckmcT4I9OCFINz5wL9l9vRIZdTMAUp/mzjVwXPLgDHaa1nADgIwClKqVkA6gFMBjAdQBGAr0SufwWAQwH8CcC5kct+AeAqn9ZLREREREREllu9OrXLibKZLwkeLdojfx0S+aO11v+N/JsG8CaAmsh1+gAUACgG0K2UOgpAs9b6Iz/WS+FTUVFhegkUcoxBIrvwmCSTGH9kWpBiMNG4Fo5xCa4gxZ9t8vy6I6VULoC3AUwAcIvW+o2YfxsC4HwA34xcdB2ApwE0ATgPwAMAzhnk9ucAmAMANTU1aGhoAAAMHz4c+fn52LBhAwCgqKgIFRUVaGxsdH4OtbW1WL9+PXbt2gUAqK6uRnt7O1pbWwEAI0aMQF5eHjZu3AgAKC4uxqhRo7A6khbOzc3FuHHj0NTUhK6uLgDA2LFj0draira2NgDAyJEjkZOTg02bNgEASkpKUF5ejrVr1wIA8vLyUFNTg7Vr16KnpwfO/6OlpQXt7ZIbGz16NPr6+rBlyxYAQGlpKcrKyrBu3ToAQH5+Pqqrq7FmzZrdW8uNHz8emzdv3l3mVlFRgZ6eHmzduhUAUFZWhpKSEjQ1NQEACgoKUFVVhcbGRkjeDaitrcXGjRuxc+dOAMCYMWPQ1dWFbdu2AQDKy8tRWFiI5uZmAEBhYSEqKyt3PwYAUFdXh+bmZnR2dgIAKisr0dnZiZaWFisep02bNqGwsJCPk+WPUzYfT+vXr0dhYSEfJ8sfJx5P4XmcmpubUVhYyMfJ8scpW4+ntra23evg42Tv45TNx1NXV9fu37Htj9Pll2/FD384HIDa/X8sKurDt761BTt2FGf145Stx1NOTg6qqqr4OA3wOCWinP+cX5RS5QAeAnCF1npR5LLbAOzQWn8rzvUvADACwOsAvgtgG4Bvaq0TNubNnDlTz58/3/3FU9ZqaGhAXV2d6WVQiDEGiezCY5JMYvyRaUGKwQcfBM46K/r3mhrg+uuB2bPNrYkyE6T4M0Up9bbWemb/y32r4HForVuUUs8BOAXAIqXUTwGMBnBp/+sqpYoBXATgZACPADgTwNkAZgO4za81ExERERERkX2efHLPvz/2GDBtmpm1EJnm1y5aoyOVO1BKFQE4EcASpdRXIMmbL2mt++L86PcA3Ky17oYMYdaQ+TyJa5KI0lBWVmZ6CRRyjEEiu/CYJJMYf2RakGLwqafkdNgwOeUO28EXpPizjV+7aFUBeE4ptRDAWwCe0lo/AuD/AIwB8JpSaoFS6mrnB5RS1QAO01o/HLno95GfvQzAvT6tm0KipKTE9BIo5BiDRHbhMUkmMf7ItKDE4IoVwMqVwPDhwDHHyGWRUTAUYEGJPxv5tYvWQq31wVrrA7XW07TW10Yuz9Na76e1Pijy59qYn2nSWp8W8/cHtNZTtdZHaK152JKrnOFbRKYwBonswmOSTGL8kWlBiUGneuf444HKSjnPCp7gC0r82civCh4iIiIiIiIi1zgJnhNPBEaNkvOs4KEwY4KHCLJtHpFJjEEiu/CYJJMYf2RaEGKwpwd45hk5f+KJwOjRcp4JnuALQvzZigkeIgBVVVWml0AhxxgksguPSTKJ8UemBSEG588Htm8HJkwA9tknWsHDFq3gC0L82YoJHiIAjY2NppdAIccYJLILj0kyifFHpgUhBp3t0U86SU5ZwZM9ghB/tmKChwiA1tr0EijkGINEduExSSYx/si0IMRg7PwdgAmebBKE+LMVEzxEREREREQUGK2twOuvA7m5wLHHymVs0SJigocIAFBbW2t6CRRyjEEiu/CYJJMYf2Sa7TH4/PMyZPnww4Fhw+Sy2AoeFoAEm+3xZzMmeIgAbNy40fQSKOQYg0R24TFJJjH+yDTbY7B/exYAFBYCJSVAd7dU+FBw2R5/NmOChwjAzp07TS+BQo4xSGQXHpNkEuOPTLM9Bp0EjzNg2cE2rexge/zZjAkeIiIiIiIiCoTVq4GlS4GyMuCww/b8Nw5aprBjgocIwJgxY0wvgUKOMUhkFx6TZBLjj0yzOQad6p1jjwXy8vb8NyfBwwqeYLM5/mzHBA8RgK6uLtNLoJBjDBLZhcckmcT4I9NsjsEnn5TT/u1ZQLRFKygVPPX1QF0dkJMjp/X1pldkB5vjz3ZM8BAB2LZtm+klUMgxBonswmOSTGL8kWm2xmBfH/DMM3I+dsCyI0gtWvX1wJw5QGOj7PrV2Ch/Z5LH3vgLAiZ4iIiIiIiIyHrvvgts2QLU1gITJuz970Easjx3LtDRsedlHR1yOVG6mOAhAlBeXm56CRRyjEEiu/CYJJMYf2SarTEY256l1N7/HqQKntWrU7s8TGyNvyBggocIQGFhoeklUMgxBonswmOSTGL8kWm2xqAzYDleexYQrATP+PGpXR4mtsZfEDDBQwSgubnZ9BJSwoFs2SdoMUiU7XhMkkmMPzLNxhjcsQN4+WWp3Dn++PjXCVKL1rx5e+8CVlwsl4edjfEXFEzwEAUMB7IRERERUdi8+CLQ3Q3MnAmMGBH/OkGq4Jk9GzjooOjfa2qAW2+Vy4nSxQQPEYJVBsiBbNkpSDFIFAY8Jskkxh+ZZmMMDtaeBQQrwQMABQXR8/fdx+SOw8b4CwomeIgAVFZWml5C0jiQLTsFKQaJwoDHJJnE+CPTbIzB2AHLiQwbJm1PbW3Arl3+rCsTGzZEzy9fbm4dtrEx/oKCCR4iAA0NDaaXkDQOZMtOQYpBojDgMUkmMf7INNtisKkJ+OADYOhQ4OMfT3w9pYI1h2fjxuj5FSvMrcM2tsVfkDDBQxQw8+YB+fl7XlZUxIFsRERERJSdnn5aTo85Zu/3wf05bVq2J3g6O4HW1ujfmeAhNzDBQxQws2cDn/zknpd9+cvs2SUiIiKi7OS0Zw00f8fhVPDYPocntnoHYIKH3MEEDxGAuro600tISXu7nJ56qpza/gJGgwtaDBJlOx6TZBLjj0yzKQb7+qIVPMkkeIIyaNlJ8IwZI6ecwRNlU/wFDRM8RACam5tNLyFpvb3AggVy/uc/l9P//lfKPCm4ghSDRGHAY5JMYvyRaTbF4PvvyzDisWOBAw4Y/PpBmcHjDFieMUPGLWzZAmzfbnZNtrAp/oKGCR4iAJ0Byo4sXQrs3AnU1gKHHAIcdJBU9DjfbFAwBSkGicKAxySZxPgj02yKwdjt0ZUa/PpBq+CprAT23VfOs01L2BR/QcMED1HAvP22nB5yiJyecYacPvSQmfUQEREREXnFSfAMtD16rKAkeJwKnooKYMIEOc8ED2WKCR4iAJWVlaaXkLR33pHTj31MTp0Ez7//DfT0mFkTZS5IMUgUBjwmySTGH5lmSwx2dgIvvijnjz8+uZ8JSouWU8FTUQHst5+c5xweYUv8BRETPEQIVhlg/wTPtGmS9d+8GXjlFXProswEKQaJwoDHJJnE+CPTbInBl1+WJM9BB0kiJBlBq+AZMyaa4GEFj7Al/oKICR4iAC0tLaaXkJS+PuDdd+W8k+BRim1a2SAoMUgUFjwmySTGH5lmSww626Mn254FBCfBE6+ChwkeYUv8BRETPEQBsmIF0NYGVFdHt1QE9kzwaG1mbUREREREboodsJysoLVojRnDGTzkHiZ4iAAMHz7c9BKS0r89y3H44UBVFbB6dfQ6FCxBiUGisOAxSSYx/sg0G2Jw40ZgwQKgsBA48sjkf85J8GzZItXvtoodsjx+PJCbC6xdKy1pYWdD/AUVEzxkvfp6oK4OyMmR0/p69+8jPz/f/Rv1QP8dtBw5OcDnPifn2aYVTEGJQaKw4DFJJjH+yDQbYvDpp+X06KMlyZOsIUOA8nKgtxewtdOnry/aQjZ6tKy5tlYq8VetMrs2G9gQf0HFBA9Zrb4emDMHaGyUJ7zGRvm720meDU4K3XKJKngAzuEJuqDEIFFY8Jgkkxh/ZJoNMZhOe5bDqeKxdQ6PU100fDjg5DI4hyfKhvgLKiZ4yGpz5wIdHXte1tEhl4eN1gMneI45Rr6tWLwYWLrUz5UREREREblH6/QGLDtsH7QcO2DZwTk85AYmeMhqq1endnm6ioqK3L1BDzQ2Atu2yQvW2LF7//uQIcCnPy3nWcUTPEGIQaIw4TFJJjH+yDTTMfjhh0BTkwwgnj499Z+3fdBy7IBlByt4okzHX5AxwUNWGz8+tcvTVRGbPrdUbPWOUvGvc+aZcsoET/AEIQaJwoTHJJnE+CPTTMeg0551wgmJ3/cOxPYKntgByw4nwbN8uf/rsY3p+AsyJnjIavPmRftSHcXFcrmbGhsb3b1BDzgJnv4DlmOdfDJQVAS8+aZM4afgCEIMEoWJF8ekH5sGeCGo6w4yviaQaaZjMJP2LMD+BE+8Fi1W8ESZjr8gY4KHrDZ7NvDJT+552U9+IpeHjbODVrz5O47iYknyAMDDD3u+JCIiSpJfmwa4LajrJqLg6uoCXnhBzp9wQnq3YXuLllPBE9uite++crpqlewARpQOJnjIes3NclpTI6eVle7fh0qn9tNHWieX4AG4m1ZQ2R6DRGHj9jEZ1E0DgrruoONrAplmMgZfew3YsQOYNg2ork7vNoJYwTN0KFBVBXR3sxKfz4HpY4KHrLZ1K7BokbRpffWrctn8+e7fT21trfs36qKmJnmBKi+X8viBfPrTQG6ufPOxZYsfqyM32B6DRGHj9jHp16YBbgvquoOOrwlkmskYdNqz0tke3RGUBE9sBQ/AOTwOPgemjwkestorr0j1yuGHA5/4hFzmVLK4af369e7fqIuSGbDsGDECOPZYKe185BHv10busD0GicLG7WOy/5t4h9ubBrjNr80OaE98TSDTTMagM2A5kwRPUFq0+s8S5hwewefA9PmS4FFKFSql3lRKvaeU+kApdU3k8nql1FKl1CKl1B1KqSGRy8+KXO8lpdTIyGX7KaXu92O9ZI+XXpLTo46KDhdesADo6XH3fnbt2uXuDbosNsGTDLZpBY/tMUgUNm4ek9u2Scl9f15sGuC2efOkKjRWENYddHxNINNMxeCWLVKtn58PHH10+rcT1AqeCRPkNOwJHj4Hps+vCp5dAI7TWs8AcBCAU5RSswDUA5gMYDqAIgBfiVz/CgCHAvgTgHMjl/0CwFU+rZcs8eKLcnr00cDw4TJ8rLMTWLzY7Lr85lQtDbSDVqzTT5fTJ56QHmYiIjJDa+ArX5EPLXV1wLBhcnlpKXDrrfZvGjB7dnTNgFSJBmHdRBRMzz4rz5tHHCEzadLlJHhYwUNh40uCR4v2yF+HRP5orfV/I/+mAbwJIDJGF30ACgAUA+hWSh0FoFlr/ZEf6yU77NghiY2cHODjH5fLZs6UU7fn8FSnO8HNJ6lW8IwdK21tnZ3A4497ty5yj+0xSBQ2bh2Tt9wCPPggUFYGPP00cN99cvmMGcFIkmzeLPPwHF/4QjDWHXR8TSDTTMWg056V7vbojqFDgYICGQrff1C8aTt2yJoKCiTZH4szeASfA9OX59cdKaVyAbwNYAKAW7TWb8T82xAA5wP4ZuSi6wA8DaAJwHkAHgBwziC3PwfAHACoqalBQ0MDAGD48OHIz8/HhkiatKioCBUVFWhsbHR+DrW1tVi/fv3uUrDq6mq0t7ejtbUVADBixAjk5eVhY6SWrri4GKNGjcLqyITB3NxcjBs3Dk1NTejq6gIAjB07Fq2trWhrawMAjBw5Ejk5OdgUqRMsKSlBeXk51kZGpOfl5aGmpgZr165FT6T/qKamBi0tLWhvl9zY6NGj0dfXhy2RybmlpaUoKyvDunXrAAD5+fmorq7GmjVr0BvZW2/8+PHYvHkzOiLPbBUVFejp6cHWyLu1srIylJSUoKmpCQBQUFCAqqoqNDY2QvJuMuRq48aN2LlzJwBgzJgx6OrqwrZt2wAA5eXlKCwsRHNku6vCwkJUVlbufgwAoK6uDs3Nzejs7AQAVFZWorOzEy0tLQkfp/ffr0BPj8L06buwbVszyspqsf/+rQDK8NxzrTjvvELXHqfm5mYMHTrUysdp06YcrFs3HiUlGnl5jWhoSO5x+sxnxuKNN4bgr39txyGHbPbsceLx5M7xtHbtWgwdOpSPk+WPk9fPe3yc7Hmc1q1bh6FDh2b0OL36aieuvLIKgMItt+xCbu56jBqVA2A83n1XY+XKRuTk2P04LV06HkAOCgr6sGtXDt5+uxetrTuseZyy9Xjatm3b7n/PhuMpWx+nbHvei32cOjo6dj8Gfj1O1dVj8fjjOQByMXVqE9raSjN6nEaMqMH69XlYtaodQ4dutuZxWr06D0ANKir07t+p8zgNGbIawHgsX94HrXOwYUM4jyetNWpqarLmePLicUpEOf85vyilygE8BOAKrfWiyGW3Adihtf5WnOtfAGAEgNcBfBfANgDf1FonzMXOnDlTz/diqyXy1c9+BlxzDfCtbwE33SSXPfsscPzxwGGHAW+8MdBPp6ahoQF1g21PZcjjjwOnnipziJyWtWR89BEwcaKU1m/cKL3MZC+bY5AojDI9JltbpepyxQrg8suBP/4x+m/jxskWuB9+CEyenPlavXT99cCPfiRVO/X1QGEh0NYG5Pn2FWE48TWBTDMRg85715Ej5b1rToa9JgcfLLM7589PfsyBH15/XboTZs4E3nprz3/TWsZSbN8ubVz9W7jCgs+Bg1NKva21ntn/ct930dJatwB4DsApAKCU+imA0QC+0/+6SqliABcBuAXANQAuBPAyABYHh0Ds/B2H06L03nvxB1Zmo1Tbsxz77w9MnSovEM895/66iIgoPq2BOXMkuTNjBvCb3+z5784HDef53WbOGk84AaitldbfpUvNromIspOzPfoJJ2Se3AHsHbScaMAyILvlctAyZcKvXbRGRyp3oJQqAnAigCVKqa8AOBnAl7TWfXF+9HsAbtZad0OGMGvIfJ7ENUmUFbq6JLsNAEceGb28vFye9HbtAj74wL37GzFihHs35jLnzXU63zxwN63gsDkGicIok2PyttuA+++XGRB//7tUvcRyEvZBSvB87GPybTgAvPuuufWEBV8TyDQTMejG9uixbE3wJBqw7OAcHj4HZsKvCp4qAM8ppRYCeAvAU1rrRwD8H4AxAF5TSi1QSl3t/IBSqhrAYVrrhyMX/T7ys5cBuNendZMhb78N7NwJHHBA9MnZ4SQ6nJ2l3JBnca258/9MtYIHAM48U07/9S+gL14KlaxhcwwShVG6x+TChcA3IxMF//QnaTfoz3k+d/N1zAstLfINcmEhMGUKEzx+4msCmeZ3DHZ3RyvO3UrwjBolp7btpOVU8AyW4AlzBQ+fA9Pn1y5aC7XWB2utD9RaT9NaXxu5PE9rvZ/W+qDIn2tjfqZJa31azN8f0FpP1VofobW2LA9LbnvpJTk96qi9/82LnbScgVW22boVaGgAioqASZNS//mDDpKS+ubmaEUU2cnWGCQKq3SOyfZ22WWqsxO45JLEu03FtmjZnHx3EjkHHigzd5jg8Q9fE8g0v2PwzTdldtmkScD48e7cpu0VPPFatAAmeAA+B2bC9xk8RMmIN3/H4UUFj62cN9EzZqQ30FKpaJvWgw+6ty4iItrb174m82mmTgVuvjnx9aqqgMpK+TCzcqV/60tV/wrS2ASPz3t0EFGWc7s9C7A3wTNYBQ9n8FAmmOAh6/T2Ai+/LOfjVfDEDlqO7NaXsYG2mjMp3QHLsWLn8PANub1sjUGisEr1mLzrLuAvf5GKy7//HRjsx4Mwh6f/DLixY6XloaUFiOzuSh7hawKZ5ncMOgmek05y7zZtb9EarIInzDN4+ByYPiZ4yDqLFsnOT7W18Us0hw2THaK6utwbtDzKeQWwjBsJniOOkG8wVq4E3n/fnXWR+2yNQaKwSuWYXLxYqncA4JZbZF7NYIKwk1b/1yCl2KblF74mkGl+xuD27cAbb0i1+jHHuHe7tlbwDDZkuboaKCiQdbe1+bcum/A5MH1M8JB1Bpq/43B7Ds/q1avduSGXZbKDliM3Fzj9dDnP3bTsZWsMEoVVssdkR4fM3enoAM4/H7joouRu3/ZBy21twLJlwJAh0nLmYILHH3xNINP8jMHnnpMK/o9/HCgtde92nQSPrRU8iRI8OTnAvvvK+bC2afE5MH1M8JB1Bpq/4wjDHJ7WVnlznZ+f3LfBA+F26UTkt/p6oK5O3qjW1cnfs9E3vynVpJMmAX/8o1S5JCO2gsfG9tkFC2Rd06fLN8kOJzHFBA8RueXJJ+XUzfk7QLRFy6YKnp4eYMsWea0YqEiFc3goXUzwkFW0NlPBk5ub684NuWjBAjmdPl2SPJk4/nj5RuS99+we6BlmNsYgUbrq64E5c2ROi9ZyOmdOsJI8yRyT994L3H67JED+/negpCT526+pkTf3W7cCNn5RmahFmBU8/uBrApnmZwx6MWAZAEaMkETK1q2SWLHB5s3yujhy5MAbqIR9Jy0+B6aPCR6yyvLlsqX36NEDbwvuvMFcuBDYtSvz+x03blzmN+IyN+bvOAoKgNNOk/Os4rGTjTFIlKrubnmjftll0rIUq6MDmDvXzLrSMdgxuWwZcOmlcv53v5OtxFOhlN1tWs6a+rcIT5ggiax16+z6Vjzb8DWBTPMrBletkvf/5eXRL3DdkpsrSR5Akjw2GGzAsiPsg5b5HJg+JnjIKrHVOwOVuZeVSQKou1uGMmeqqakp8xtxmZsJHoBtWrazMQaJkrFjB/DggzJ/pqJCdkBpb49/XRsrVRIZ6Jjs7AS++EX5f37xi1KdlA6bBy0neg3KyQFmzJDzrOLxDl8TyDS/YtCp3jnuuIErWtJl26DlwQYsO8JewcPnwPQxwUNWSWb+jsPNOTxdbu237iI3BizHOvVUqeR59VWpkiK72BiDRIls2yZbgp9xhrx5Puss4J57ZPvsKVNkt8N44u2MaKuBjskrr5Q22v32A269Nfm5O/3ZWsHT0QF8+KF8+z19+t7/zjYt7/E1gUzzKwa9as9y2JbgGWzAsiPsM3j4HJg+JnjIKsnM33G4PYfHJoO9uU5HaSlwwgnS9/uvf7lzm0QUHk1NMkT4xBPljemFFwIPPwzs3Akcdhhw/fXA0qUycPiWW4Di4j1/vrgYmDfPyNJd9Y9/yO8hP1/m7pSVpX9bsV9U2DRo+b33gL4+2T2rqGjvf2eCh4jc0NsLPPOMnD/pJG/uwxlkbMtOWk4Fz2AtWrW1UjG5Zo074ygoPJjgIWusWycDgEtLo+XfA3Gzgmfs2LGZ34iLYt9cFxa6d7ts07KPs9PQvvvWZvVOQxRMH30E3HCDbF07dizwta8BTz8tyYjjjgP+8Ad58/nGG8APfgBMnCg/N3u2VLY4T61Kyd9nzzb3f0lVvNeFlSuBSy6R8//zP5m30NbVydyJTZskgWaLwVqEmeDxnm3vSyh8/IjBt9+WitB9941uC+62oFbw5OdL1WtfH9DQ4PmyrMPnwPQxwUPWcKp3jjhCKlcGc/DB8qHh/fczz2y3trZmdgMuc3v+juOzn5VvA559Fti+3d3bptTtudOQCuROQxRs8bYyX7AAuPpqqR6cOFESN6+/Lsnmz34WuOsu+QbymWck4VNTE/+2Z88G1q4FKislITRrln//Lzf0f13o6pJ5O62tkiz/+tczvw9bBy07a0n0GjR1KjBkiCQAE81boszY9r6EwsePGHTas7yq3gGiCR5bKniSHbIMhHsOD58D08cED1kjlfk7gFT6OIOW338/s/tua2vL7AZc5lWCZ/RoaX/r7gYefdTd26bUzZ0b/J2GKLjibWV+/vmSPP/5z2WAfVkZcO650pa0aZO0d154oWzvmiwbExjJ6P+68IMfSEtwXR3w5z+nP3enPxsHLQ82Ay4/X5I8WkvFKbnPtvclFD5+xOCTT8qpV/N3gGiLli0VPMkOWQbCPYeHz4HpY4KHrJHK/B1Hts7h8SrBA7BNyyaJdhQK0k5DFFzxEoxaSzXPnDnA44/LG+L6ehmiXFKS3v3YmMBI1b//Dfz2t7LDy333AcOHu3fbzvO8Lb+fzk6Zo6TUwO3STpuWLesmomBpbwdee01ec447zrv7sbVFixU85BUmeCwUr2Q+223ZIt8WFxQAhx6a/M+5NYdnZCpfR3ts1y75XSgFHHSQ+7f/uc/J6X//K8NR/RTG2B5Ioh2FgrTTEAVXokSi1sCf/gScfLJUamQqqBU8zutCYyNw0UVy2fXXA4cf7u792Pb7ef99oKcHmDwZGDo08fU4h8dbNr0voXDyOgZfeEEqyg87TGaRecW2Fq1UKnicBM/y5d6tx1Z8DkwfEzyWqa8HvvrVPUvmwzCT45VX5PTwwyXJkyy3Knhycuw5FJJ9c52u2lpJjHV0RHuf/RCvHSQMsT2QefMk2RUrW3YaIvsl2v3J7QSjrTtFDSYnJwfd3cCXviRDQD/9aeA733H/fiZMkJbjpiagudn920/VYO1ZDiZ4vGXT+xIKJ69j0I/2LMCuFi2tkx+yDIS7gofPgenjb84yc+fuXVURhpkczvydVNqzAKlwUUoqXjo707//TTY860d42Z7lMNGmxXkze/viF6XlwzF8ePB2GqJguu22+IPWvUgw1tTIN6jbtkliNyg2bdqEq66SFoKaGhku7dbcnVg5OXa1OyX7GjRjhvw+PvhABlCTu2x6X0Lh5HUM+jFgGbCrRau1VSr1hw5N7ktcJ8GzapXsphUmfA5MHxM8lgnrTA5n/k6yA5YdJSXAAQdIxcvChe6vywQ/Ezz//rf87vwQ1tgeyKJFe34w+uxnmdwh7z36KHD55XL+kkukqk8pOfUiwWjrTlGJOK2k++xTixtukPX/7W+pDZZOlU1zipzHaLAKntJSqT7q7pYkDxFRstauBT78UJ5H3G577c+p4Nm82XwVaSrVO4B8zhkzRpJC69Z5ty7KLkzwWCaMMzna2+UNZU4O8PGPp/7zbszhKUl3eqgH/EjwHHCAbH+8dWu0espLTzyR+EU1m2N7MK++KqcTJ8ppED78UrDNnw984QtAby9w1VXA7bcDDQ3yzWBDg3cJRpsSGAOJbSUFpFwnL8/7yiNbBi13dUV3pUxmBhzbtLxj0/sSCicvY9Cp3jnmGGDIEM/uBgBQVCTVMl1dgOmNmVIZsOwI6xwePgemjwkey8ybJyXysbJ9Jsfrr8uHjY99TDL5qXJjDk+5l9PdUtDdHa1Ect44e0Ep4Mwz5bzXbVrPPBMd7BzbjgQAhYXZHduDee01Ob30UiA3V2PxYmDHDrNrouy1ciVw2mnSGnnBBcC11/p330Gp4InXStrd7X0rqS2/n8WL5UPQ/vsnntEUiwke79jyvoTCy8sY9Ks9y2FLm1YqA5YdYZ3Dw+fA9DHBY5nZs6VE3unLDMNMjnTn7zjcqOBZu3Zt+j/sog8/lDLMCROAYcO8vS+nTevhh70rWX3pJWk76uyUJMZdd0kbiOO447I7tgfjJHiOOw6YOLEbfX3Ae++ZXRNlpy1bgFNPlW8PTzhBZvB4MU8mkdgKHtMl8gMx1Uo6aZJ8mbN6tdmdXpJtz3IwweMdW96XUHh5FYN9fdEEj9cDlh2xbVompdqiBYQ3wcPnwPQxwWOh2bOBG26Q85/5TPZ/AE53/o7joIOkvWvRIv+3/Xab8+bay/Ysx8yZwNix0ged6S5k8bz2GvCpT8m34RdfDPzxjxLLDQ3R1qS335Zvx8No40Z5sR46FJg2DZg+fRcAbx4LCredOyXRumwZcOCBwD//6c7256morQVGjJBvT21+z2aqTTo3N9oSZTJZkmqLsJPgee+98A0AdWY15eTIaZh3hCRKxXvvSaJl/Phoi7rXbKvgSaVFa8IEOQ1bgofSxwSPpQ49VE7fesvsOry2a5e0aAHAkUemdxtDh8pMmd7e9Act5/XvHTLEj/k7jpycaOvUgw+6e9tvvQWccorMVzrvPKkWiN3tcNYs+cZ6wwbg8cfdve+gcKp3DjtMWtdmzJBp10zwkJt6e4Hzz5ekak0N8N//Jtd647agDFqeN2/vVlK/2qRt+P2k+iVDRQVQXS3P9WGaDxE7q0lrOZ0zx90kjy3vSyi8vIjB+nqpWgaksvTee12/i7icBE+QK3jC9BwL8DkwE0zwWOrAA2Xo2JIl5geCeentt6V9Z8qUaPlkOpw5POm+Ma6pqUn/zl3kZ4IH8GYOz4IF0lPd2gp8/vPAnXfKt9OxlJKqHkD+PYycBM8nPiGnJ544HIDdH34peL77XanYGTYMeOwxqdozJQiDlmfPjraRermzWDymfz89PdEW0VReg5zrhqlNK96spo4Od2c12fK+hMLL7Rh0EqMtLfL3HTvcT4wm4nzGMF3Bk8mQ5RUr7G5xdhufA9PHBI+lCgqAGTPkQM7mD3yZzt9xOG+M061+sKHPs7dXkiOAfwmeo4+WtomlS2X+T6YWLZL5Hi0tUh1UX7/3t+GO88+Xqp7//Mf8C64JToLH2Tlu+PC1yMuTx6G93dy6KHvcdBPw29/KlwUPPSStgCbZUKEymM5OmYOjFLBo0TpPdxbrz/TvZ8kS+f/vs4/M/0tWGOfw+DGryYb3JRRubsegH4nRRGxr0UqlgmfUKNmEprVVqp7Cgs+B6WOCx2JhaNPKdP6OI9MKnp6enswW4IJly+SFrrYWGDnSn/vMy5M5T0DmVTxLlgDHHy8vPqedBtx//8BbX1ZXSxtXT0/4Zhd0d0eP61mz5DQvrwfTp0tSN0wflMgbDzwAXHmlnL/rLuDYY40uB4D5CpVkvPOOHJ9TpgDFxf4OCJsyRXYWXLkS2LbN17sGkPqAZUcYEzzjxsW/3M1ZTTa8L6FwczsGTQ2xB4LdoqVUOOfw8DkwfUzwWMxJWmRrgqe3F3j5ZTmfaQXPjBlSDfLBB8EdtOx3e5bD2U0rkwTPRx9JT/XGjdKe9Y9/JDfENbZNK0xlp++9J3E6ceKeybxME5VEgDyvnn++HFPXXw+ce67pFYl995VWseZmoKnJ9Gri619Z56e8PGnPBqLVnH5K9zUoNsETlufx88/f+7IhQ/yZ1UQUVKaG2AP2tGilM2QZCO9OWpQeJngslu0VPO+/L+WGdXWJvw1LVnExMHWqJI3S2Wbahj5PP3fQinXSSfL7mz8/vW9RVq2S5M769VIl8NBD8i10Mj7zGWkRW7gwXN/+9p+/A0gMZtpqSLRkieyYtWsXcPnlwPe/b3pFUUEYtBx7bJp4XTD5+0k3wVNbKy1dmzbZm7hz2y7Z9BBlZRLXgOwi5ubrtw3vSyjc3I7BH/5w78v8GmJvQ4tWV5eMMMjNlfe+qQjjoGU+B6aPCR6LHXCAPPE1NJgvKfSCW/N3HJl8OG5xJr4ZZKqCp6gIOPVUOf/ww6n97OrVktxZu1Z2Qfv3vyVmk1VQEJ1vEaZhy8428bFVAi0tLbsreJjgoXQ0N0vb47ZtkuT5/e+jHz5tYXObltZ7HpsmXhdM/X56e6NJ9lRfg5SyY4t3Pz3yiJz++9+S2LnoIvkdXnihtB27wYb3JRRubsegc2wUFvo/xN6p4DH5ecpJLo0evefOsskIYwUPnwPTxwSPxfLyom+0svEDn1vzdxyZtLe0G55q29eX/ptrN6TTprVunSR3GhqAww8HHn0UKClJ/b6dNq17741+K5rt4rWBtLe3Y9o0aW1btkyq24iS1d4us68aG4HDDgP+9re9d6+zgc0VPKtXSyXi8OHSPmnidcH5/fid4PnoI9nRZty46DfdqQjTHJ4VK6RSbtiwaBXmb38L1NRIxfUNN7hzP6bflxC5HYN//auc3nmnvO/1c4i9DRU86QxYdoRxBg+fA9PHBI/lsrVNS2u7KnhMW7lSPtBXVQGVlf7f/2mnSULxxReT+3ajuVkGKq9YIb/3xx+XUvV0HHywzFDaulW+Dc1269fLh/CyMhmqGqugABy0TCnr6QG+8AVJCuy3n+xMl0olnZ9sruBxEq+zZqX+7apbpk6VWS7LlgFtbf7db6Ytwk6Cx8bH1W2PPiqnp5wS3Uhg2DDgz3+W8z/7mbQdE1HU0qXAm2/KblCnn+7//ZeXy5cera3mvkxMZ4t0RxgreCh9TPBYLlsTPB99JE90FRXyTakbZsyQJ+/Fi/fehnEwo9P5ytJFzpviVHcvcUt5uVTj9PUNnmTZtEm2Ql+6VH7nTz4pP5+J2GHL2c75EHn44XtWWDgxyEHLwVRfL/PEcnLk1K+d4bSWWTuPPSYl6I89lt63g36ZMEHe4K9bF/020xb9Z2OZeF2ITfL6OWg509egMFXwOO1Zn/70npefdBJw6aWyC9uFF8ppJky/LyFyMwbvuUdOzz5bRgP4Talom5aprcYzqeAZO1YqvJubpWI3DPgcmD4meCwXm+DJpt0pYqt33JoRUVQk33729aX+xrivr8+dRaTJ1PydWGeeKacDtWlt3QqceKLsVjZ1KvDUU6kPiotn9mz5JvSJJ+SDXzaLN38HiMZgkCvRwqq+HpgzRyqztJbTOXP8SfL84hfA7bfLTIP//AfYf3/v7zMTOTn2Vnv0PzZNvS6YaGPL9DVo0iSJwcZGeZ3IVm1twAsvyPuWU07Z+99vvFESvAsWZD441vT7EiK3YlDraILnvPNcucm0mG7TSmeLdEduLrDPPnJ+5Ur31mQzPgemjwkey+23n8wDaG7Org++bs/fcaRb/bDFVDo/wtQOWrFOP13etD71VPzWgJYW+Ybyvfek6urpp9Ob1RDPqFGyo1ZfX7RHO1sl2obZiUEOWvZOplU2XV2yS9CCBXKc3HuvzN74f/9v76rBjg7gRz9yZ92J3HUXcPXVctz+7W/SWhQEThLTpiq1nTvlcc3JkRlGgLnXBb/b2Pr6Mk/wmN7i3S9PPy3PAx//eLQaIFZpabQSdd68zB5D0+9LiNyKwVdekXk7NTXAMce4cpNpcd6zmhq0nO4W6Y6wzeHhc2D68kwvgAamlHzge+opqeLJlh3j3J6/4zjkEOCOO4L14VhrOyp4KivlTeurr8pMnc9/PvpvbW2y09bbb0vS8dln3Z8VdPHFwIMPypvjH/zAvt1/3LBrV/RDbaIP41OnSpvGRx8B27fLbAfKnFNl4yRinCqbbdtkB7hNm+TPxo2Jz2/fntp9rlkjt/3JT8qb2k98Ahg61J3/z5NPAl/9qpz//e+Bz33Ondv1g42DlufPl1lGBx4oH9JN8nvQcuwMuKqq9G/n4INlxsa770rLbzZK1J4V65hjgG98A7j5ZuCCCyTOCwp8WR6RlZwv7mbPNjffDIgmZYNYwQNwDg8ljwmeAIhN8Di7HQXZmjWSyS8ri37j55Z0K3hKDb6jX71aStpHjTKfwDvjDEnwPPhgNMGzYwfwqU8Br78uVQ/PPiu9wG475RRJGi1bJlUuzhyMbPLuu5LkmTJl77lFTgzm58tx8dZb8gHv2GP9X2c2mjs3fpXNFVckfxs5OfINoPOnokJO//rXxMmfV16RP7/8pVQ5HHqoJHw++UngiCPSSyYsWACcdZYkJL73PeBrX0v9NkyycdBy//k7gLnXhenTpRz/ww/l+detpGAibn3BkO1zePr6gP/+V86fdtrA173uOrnuBx/I0OXrrkv9/ky+LyEC3InBzk7g73+X8+efn/HNZcSWFq10K3icBM/y5e6sx3Z8DkwfEzwB4MzhCVJVykCc9qwjjnB/G98DD5QPUam+MS5LdwsoF8QOtzRdtXLGGfKB8dFHJRHR2yutUy+/LMmnZ58Fxo/35r7z8uTF/8YbpYonGxM8idqzgD1jcOZMSfDMn88Ej1tWr078b9Om7Z20iXd++PD43z7OmrVndRAgu1j99rdSEfHCC8Dzz8ux/tpr8uf66+X575BD5Bv/T35Sqn0GeypavVoSru3twDnnyO0EzcSJ8ty8erWUysdrdfFbvNlYpl4XnHlyCxfKn3jPF25yvhDJdMh/tid43nlH2uXHjZMk3ECKi6WF8qijZNv0009PvYXS5PsSIsCdGHz0UWnxP/hgeV4zyZYWLVbwJIfPgenjDJ4AiE3wZMOgZa/m7wAy5HHatNQHLa8zOODIhvYsx377yZvXtjb5kDFyJPDcc/Ih9dlnowPevOLspnX//ZKgyzYDJXhiY5A7abkvUWKythZ4/32J7/vvl3anq6+WnanOOkuepw44QI6FRKXls2cDt94qt6WUnN56q7RQffrTkrR86y1pB3v0UeD735dd1ABpabnhBqkIGD5cnu+/+11pBWlpkevEzg7abz9g/XpJCN11l9ly93Tl5gIHHSTnbaji0Tr+sWnydcHPNi23XoOcyqMlS1LfyTIInPas005L7suYI44ArrxS3o9cdJHMeUqFyfgjAtyJQac9y3T1DhD8Fq2wzeDhc2D6AvjWMHzGjpXWlW3bsuOg9mr+jiNouxDZMGDZUV8v31AC8qGns1POf/vb/uzOc8AB8sG3rU3axLKNUyUwWHVS0GI4CObNkyqxWMXFme9045g9W1pP+/rkdPbsva9TVibVN7/6lbQ8btsm865+9CNJLOTkyGP+619L5dyIEZLYueii6A5dPT3y4fLcc4M918OmQcurVskb71Gjom+gTfNrTpGbM+CKioDJk+UYeP/9zNdmm0cfldOB5u/09/Ofy+va0qXAVVd5sy4iW23ZIq2KOTlScWqayRatvr7MEzx1dfL639gow96JEmGCJwCU2nO79CDbvBlYvFgqbZwqBbelU/2Qn5/vzWIGobVdCZ65c4Hu7r0vv+UW/9bgVPE4O5FkizVrZCe88nLZUri/2BicMkWOkRUrJAlAmTv99GhLaGyVTbxEjF9KS4GTT5b5PK++KhU7Tz4px+GRR0pCqrFRkjqxtJafCTK/BwkPJLY9K7Yyw9TrAuDfnCJnW/PRo92ZAZetbVrr10vytagotQHShYXA3XfLc89NN0UrmJNhMv6IgMxj8O9/l/eUJ56Y2QB3tzgVPCZatFpa5LW8rEyeF9JRUCBV9n198tyd7fgcmD4meAIiWxI8L78sp4cf7t23z+lUP1RXV3uzmEGsXy8Z/WHDvG9/SkaiOSUDzS9x2znnyIvfc8/JN+vZwmkBmTUrfltNbAwOGWJXC0s2+NvfZK7UJz4xcJWNSUOHyhvhX/xCPgi2tCRuBfHzmPSCTRU8iVonTb0uAMCMGfI88cEH0UpKL8RW77gxAy5bEzzOcOXjjpMkTyoOPRT44Q8lMXvxxcm3H5uMPyIg8xi0qT0LMFvBk+mAZUeY5vDwOTB9TPAERLYkeLycv+M48ED5gLxkiQwiTcaaNWu8W9AA3H5znalEc0q8Gqwcz7BhwJlnyvm77/bvfr0Wb5eeWP1jkG1a7tEa+N//lfOXX252LakoLrbjmPTC5MnyQXnVKqkgMSlRgsfU6wIgyb7Jk+UbXy/bndyuIHVuJ9sSPOm0Z8W6+mp5b7JiBfCDHyT3MybjjwjILAaXL5fn1qFDgc99zr01ZcJkgifTAcuOMCV4+ByYPiZ4AsJpO3rnnb3L9YPE6/k7gFQGTZsmH+qSfZPZ29vr3YIGELuDlg3mzZMPlbHcnFOSLKdN6667pNoiG8TbpSdW/xjkoGX3vPmmPBeMHAmcfbbp1aTGlmPSbXl5UqUCmE0GtLfLTlW5udEvUhymXhccfrSxuf0a5FQevv9+sN+rxNq1S1ongcG3R08kP1++sMjLk5bnZ54Z/GdMxx9RJjF4zz1yetZZye9o67WRI+V0yxb/31tmOn/HEaZBy3wOTJ8vCR6lVKFS6k2l1HtKqQ+UUtdELv+6Umq5UkorpUbFXP+syPVeUkqNjFy2n1Lqfj/Wa6NRo2S4VkeHbAEeRG1t8kY+N9f7bV+D8uHYph20gMS7AfndynLccVKh0Ngo20sHXWenxL5SwGGHJfczrOBxz//9n5xefHH6ve+m2HJMesGvQcIDeestoLdXkk22fAhxeP378WIGXHm5tBt3dkoVbTZ44QVpqzrwQJl/ka6DDpJKHgD48peB1lZXlkdkHa2jCR5b2rMASbQOGybP+c4ulX5xKnjcatFavjyz26Hs5lcFzy4Ax2mtZwA4CMApSqlZAF4BcAKA/qOirgBwKIA/ATg3ctkvAIR6D4Kgt2m99po8qX7sY0BJibf3leqH4/GG+h1sGrDsSGY3IK/l5AAXXijns2HY8ttvy6DBadNkwF48/WPwgAOiLSxbtviwyCy1dStw331y/tJLza4lXTYck17wa5DwQBK1ZwHmXhccXv9+1q2TVoXhw+ULJLdk2xyeTNuzYv3wh/K4rl4tW6gPxHT8EaUbg6+/LhUm1dXAsce6vKgMOW1afg9adquCJ0wtWnwOTJ8vCR4tnGkoQyJ/tNb6Xa11Q5wf6QNQAKAYQLdS6igAzVrrj/xYr62cBE9Qv9H3Y/6OI9UKns0GRupv3AisXSvJLj+2IA+aiy6S03/+E9i+3ehSMpbM9uj9YzAvL/pBycZBy/X18qEwJ0dO6+tNryi+v/xFqglOPNGeLbBJ2DBoeaAEj4nXhVix7U5ebInr1Qy4bErwaA385z9y3o0Ez5Ah0qqVnw/cfjvw+OOJr2s6/ojSjUFnuPK550Z3r7SFs5OW33N43B6yvHJl9owwSITPgenL8+uOlFK5AN4GMAHALVrrNwa4+nUAngbQBOA8AA8AOGeQ258DYA4A1NTUoKGhAQAwfPhw5OfnY0OkNq6oqAgVFRVojOwvp5RCbW0t1q9fj127dgGQqd3t7e1ojdTPjhgxAnl5edgYOTqLi4sxatQorI5sY5Kbm4tx48ahqakJXZF3YWPHjkVrayva2toAACNHjkROTg42RZ5RSkpKUF5ejrVr1wIA8vLyUFNTg7Vr16In0rheU1ODlpYWtEcmBU+bNgZAEV55ZRcaGtajtLQUZWVlWLduHQDZTq66uhpr1qzZ3bc4fvx4bN68GR0dHQCAiooK9PT0YGtkqmVZWRlKSkrQ1NQEACgoKEBVVRUaGxuhtQYA1NbWYuPGjdi5cycAYMyYMejq6sK2yP7N5eXlKCwsRHNzMwCgsLAQlZWVux8DAKirq8PTT3cByMfEiRvQ2TkMnZ2daInUSLr9OJWUAEOG1GLpUmDRotUoKdEDPk5r1qxBR0eHK4/T6NGj0dfXhy2RsotEj9OTT24CMBqTJ3cCyMfGjXY8Ts3NzeiMbNtSWVnp6eMEJD6eCgubcPjhI/DGG4X429968PnPb3f1eEr2cXLjeHrmmQ4Axdh//03QelTcx8mJwdjHaf/9R+DVV8swfz6w//72PE4PPzwUP/7xSOzcKd8RNDYCX/1qH3p7+3DaafY8Tjt2dOD3vx8LYAguvLADDQ0bB3ycsvl48vr1KZ3HafLk8SgoUFi+XGHhwkZMmDDa1+c9rYFXXhkHIBf7778JDQ079nicnGPS5OO07745WLkyF0891YSjjy519XF69tlyAOWYMaMXDQ1rEj5OqT7v1daWARiB117rRENDc8aPk8PE8bR2bSlWrRqJESN6UVGxBmvWZH48DRuWh2uvrcEPfwhcfHEPnniiCVOmVO/1OG3dunX37zxo7/f4vJcdj9P27dt3rzPZx2nr1nb87W/DAOTijDPa0dGRY9XjNHRoBYBirF/fg4aGtb49TqtWjQYwFCUlO9DQsCmjx2nUqHxs3pyDN99cgwMOKMva42nHjh0YPnx41hxPXjxOCWmtff0DoBzAcwCmxVzWAGBUgutfAOBbAGYB+AeA2wAUD3QfhxxyiM5Gra1aK6X1kCFad3aaXk1qOju1LijQGtB682Z/7vOQQ+T+Xnhh8OuuWrXK8/X098tfyvq++U3f7zow7rpLfkcf/7jplaSvr0/rykr5fyxdmvh68WLw7rvl584807v1paO2VtbV/09tremV7emZZ2Rd1dVad3ebXg3Fc+ih8hg995z/9710qdz3mDFynPZn4nWhv3POkTXefrv7t/3pT8tt33efu7e7bp3c7rBh8X+vQXLjjfJ/Of98d2+3p0frWbPkti+4IP51bIg/Crd0YvChhySuDzzQ9eW44stflvXddpu/9/uJTyT/mWQwznOHG7dlMz4HDg7AfB0nF+L7Llpa65ZIgueUwa6rlCoGcBGAWwBcA+BCAC8DyJIJBKkpLZVtU7u7ZdePIHnrLdmJYurU6BR7r6Uyh6ci06bYNNg2YNlGZ58tLWyvvRbcgZ2NjUBzs8T9QK148WLQ1mHhkS91kr7cFGe48le/Ki1vZB+Tg5Zj27PitSiZeF3oz8vfj1evQVVVMmdi+3aZIRZkjzwip260Z8XKzZVdIgsLpY303//e+zo2xB+FWzox6LRn2TRcOZapFi23hiwD2T9o2RkBsO++tVaPALCZX7tojVZKlUfOFwE4EUAyH9e+B+BmrXU3gCIAGjKfZ4CapOwW1EHLfs7fcaTy4bjHwH6uTPAMbuhQ4AtfkPN33WV0KWmL3R59oDkX8WJw0iT5HTQ2+v9mZCCJdpKxaR7e+vXAQw/JB6mvftX0aigRk4OWB5q/A5h5XejPq99PczPQ1CRfHDkfFtyiVHbM4WlpAV5+WZ5DTjrJ/dufNAm47jo5P2fO3sP0bYg/CrdUY3DbNkmKKgV86UseLSpDzpBlUzN43MjbZvOg5fp6eT5sbAS0VmhslL8zyZMavyp4qgA8p5RaCOAtAE9prR9RSn1DKbUWQA2AhUqp250fUEpVAzhMa/1w5KLfR372MgD3+rRu6wQ1wfPii3J61FH+3WcqFTxOr6Zftm2TAWmFhVKVRYldfLGc/uUvQBDf7w72IdIRLwZzc6MflGyq4vnyl/e+rLAQmDfP/7UkcscdEi+f+Qwwdqzp1VAiJgctO8dmouHnfr8uxOMc/++95+7zX+wXDDkevBPMhgTPE0/Izp9HHSXbv3vhG9+QL742bAC+9rU9/82G+KNwSzUGH3hABsIff7y9r7tOBY+f83t37gTa2mTIuhvPJc6GEdmY4Jk7F4iM09mto0Mup+T5tYvWQq31wVrrA7XW07TW10Yuv1lrXaO1ztNaV2utvxLzM01a69Ni/v6A1nqq1voIrbVF32X7y6lKCVKCp7cXeOUVOe9ngmfaNNmpYtkyIDKfyhrOm94ZM9g6MpgjjpDWpvXrgaeeMr2a1CWb4EnExjatyGw7lJZGLzvoIHu27+7tBW69Vc5ffrnZtdDApk6VN73LlskbYL+0tsruVHl50SSTjYYPB/bZR3aC+/BD927X6wrSbEjwOO1Zp5028PUykZMD3HmnVGref798QCYKKtvbswAzFTyx1Ttu7FiYzRU8QRkBYDvfZ/BQZg46SN6Qfvgh0N4+6NWt8N578sZ9n32Amhr/7jc/HzjwQDk/WHl7WVmZ9wuKwfas5CkV3TL9zjuNLiVlO3YACxZIJY5TfZdIohhMpRLNL//9r5zef7+86ObnA6+/bs9ssP/+V9a1337ACSeYXg0NpKAAmD5dxnQvWODf/b75ptznwQcDRUXxr+P360IiXrRpOQljJnji6+0FHntMzrs9f6e/ffcFbrxRzl9+eXRWhy3xR+GVSgyuWiUtjcXFwJlnerioDJlM8LgxfwfI7hk8iVr9bRoBEARM8ARMYaG8Ge7rC84bJxPzdxzJVj+UlJR4v5gYzht1m785tskFF8g3nf/6FxCkqvX58+WDwoEHyrDogSSKQdsqeJqbZS2FhcAxx8g8nssuk3/76U+NLm03Z7jypZd6035C7jIxaDmZyjq/XxcScX4/biZ4vH4N2m8/qfBbvz6asAiSN96QmTj77Sezcrx22WWSjN6yRZI8WtsTfxReqcTgPffI6RlnDP5+xyQTLVrOc6Bbc9MrKqTqr6UlWO+JkzFvniQJYxUX2zUCIAj41jeAgjaHx8T8HUey1Q9NTU3eLyYGK3hSU1MDnHii9HbfG6AJXKm0ZyWKwYkT5c3SmjV2fFB6/HE5Pe64aOXDj34k5x9+2Hyl0apV8s17fn50fhPZzcSg5cHm7wD+vy4k4nYCbPNmqXArLpbnFy/k5EgLMhCcL6NixbZnudFSMRilgD//WZJiDz0kr3O2xB+FV7IxqHU0wWNzexZgvkXLDUpl7xye2bOBP/wh+ve8PGm5t2UEQFAwwRNAQUrwaG22gsfkAM9E2tpk3sSQITJ/gpLjfFgPUptWpvN3APmgZHIr6f6c9qxPfSp6WWUlcMUVcv4nP/F/TbFuu02edz7/+eg3dWQ3v5+n+/rcOTb94hz/CxZE519lwkmkHXSQtI96JchtWo8+Kqdet2fFGj8euOkmOX/++dwimILjrbfkfe2YMTJg2WYlJdIa3NGx9zBfr7i5Rbojm+fwxBYE5OUB555rbi1BxQRPAAUpwbNsmWTJx4yJZpv9NHWqPJF/9BGwfXvi6xUUFPi2pgUL5APo9OlSZUDJOf102X3gnXfsmfUyEK2jW6QPVCXgGCgGbWnT6u4GnnxSzp966p7/9v3vy7fPjz8uffgmdHXJt+AAhysHyfTp8iZuyRKZW+W1pUultL26WloME/HzdWEgo0fLOnfskNfUTPnVIhzUBM/q1fIaU1Li/xdThYWS1NeaWwSTeck+BzrDlc891/6NQ5Tyv03L7QoeILvn8KxbFz3f2Smtq5QaJngCaOpUaYdYscL+3kunPevoo/0pc+4v2UHLVVVV/iwIbM9KV2FhNIsfhCqeFSvkzUNFhQwYH8xAMWjLoOXXXpNE6eTJMhg01siRwLe/Leevuko+oPjtwQfljdT06ckl1cgOhYXyutbXJ0P5vRZbvTPQ65KfrwuDcbONza/XoKAmeJzqnRNPlC+I/DR3rhwHsbhFMJmSzHNgdzdw331y3vb2LIffbVpuD1kGsruCJzbBA3AHrXQwwRNAeXnRN06mP/ANxmnPMjF/x+FUPwz0u2psbPRnMWCCJxNOm9Y990i1hs2S/RDpGCgGk4lhP8Rrz4r17W/Lts4vvAA8+6x/63I4w5Uvu8xMQpnS52cbYrKVdX6+LgzGzUHLzu/Y6wqeKVOkFXn5ctmWPihMtGc5uEUw2SSZ58DHH5cvs6ZOlbbPIHASPH5V8Lg9ZBnI3hk8ALB27Z5/5/Nf6pjgCaigtGnFVvCYksx8B+1juQF30ErfIYcA06bJi7LzJtxWzofIZGd8DBSDEyYAZWVAU5PsSmPKYAme8nLge9+T835X8SxeLImloUOB887z737JHX4OWk52/o6frwuDcSsBtm0bsHKlVE0dcEDm6xpIfr5U0wH+VGa5oaMDeOYZOZ/oec5LibYCHqiVkMgryTwHOu1Z558fnC9WnBYtvyt4vGjRysYEj1PBk5Mj8bdmjcHFBBQTPAHlfKNvc4Jn9WqgsREYNkw+lJtiS/UDIG8eFy+WwZbOG19KnlLBGbaczC49ybJh0PKaNcD778tciiOPTHy9K66Qb8defz2aEPLDn/4kp7NnSzKMgsWv+G5pkefg/PxgVVE6CbB33927hScVCxbI6YEH+jMrI2htWs8+KzMfZs6U4fF+i7dFMAAce6z/ayEazPbtwL//Le/NgjQI1+8WLS+GLI8bJxWSTU3+DYv2i1PBM3mylOqzgid1TPAElFPBY0PSIhGnPevII73dqWMwU6ZIH/2KFfLtZTy1tbW+rOX99+XN+ZQp0S2mKTXnnScfTP77X6C52fRq4mtrk8c6Ly+aYBzMYDFoOlH52GNyesIJA8+lKCmRbdMB2VErkw+jydqxA7j7bjnP4crBNGOGJDIXLwZ27vTuft54Q04/9rHB56v49bqQjMpKoKpKWp1Wrkz/dvxqz3IELcFjsj0LkAT1rbcCtbWAUnp3pcEDD2TnMFWy22DPgf/4B7BrF3DMMcGqMvNzyHJvb/R+nMSSG3Jzgbo6OZ/Ja4KNnAqeo4+WnWiY4EkdEzwBtf/+8i31unVmWzYGYsP8HUAy3E5fcKLy/41O/aTHnDfXQfrm2DYVFcBpp8mL5j33mF5NfG+9JYmNgw5KPpE3WAya3knL+eCTTNvCZZfJDkXvvgs89JC36wJkwOP27cCsWcGZAUB7Ki6WxHdvr7e75KWys51frwvJcmM7eb9nwAUpwaM18Mgjct5UggeQJE9DA7B+/UZs2iSVER0dwEUXyfFB5JfBngNj27OCxM8Knq1b5f3giBHyecRN2TqHx6ngmTJFhrexRSt1TPAEVE6O/W1aNszfcQz2xninl18Zx+CAZXfEtmlZNCZjt1Q+RDoGi0GTO2nt2gU8/bSc7789ejxFRdFdX66+2vsPJbHDlSm43BwknEiy83cA/14XkuXG78fvLxkOPFDaNz74QJ5HbLZwoXywqKyMJqZMcuLv97+X6q1XXgFuusnwoihUBnoObGyUuXeFhcBZZ/m4KBf4meDxYsCyIxvn8PT2Rqvzp05tA8AKnnQwwRNgNg9a3rQJ+PBD+aBnwzBh0+0tDg5YdsenPiUvlosX2xn/qXyITNZ++8k8q+Zm6bn204svyjfIM2YANTXJ/cwll0ibweLF0S1UvTB/vvwZPhz4whe8ux/ynhsVKgPp64u2aLl5bPol0zlFra3AsmXyLbJfc/FKSoCJE4GeHkny2MypUjztNPkSzRYjRgC33y7n5861//dI4VBfL6ef+1zw5t752aLlxYBlh5Pgyab2zQ0bJMlTUQGMG9cDpeQ9b3e36ZUFi0UvYZQqmxM8L78sp7NmyTBL0wb74DDGzclnCezaBSxaJN9mzpjh+d1ltSFDojsl2TZsua9PBgwDqX2IHCwGlTKXqBxs96x4CgqkegcAfvYz716cneqdiy7iXKug83rQ8uLFkuQYPx4YO3bw6/vxupCK2J3G0qlcdHaymj7d39floLRpOe1Zp51mdh2O2Pj71Kckad7VBVx4IT/skD8SPQdqHdz2LMBMBY8XLyfZWMHjtGfV1AA1NWNQVSXx5vcXm0HHBE+AxSZ4bGtTsWX+jmPKFCkjXblS+mH76+rq8nwNH3wgb8omTZJvNSkzTpvW3/7m7VDWVC1bJjFWVZV4y9t4kolBU21a6SR4AOCCC6RHfPly4C9/cX9dLS3AvffKebZnBd9BB0kic9Eib9p5nNbJZBOvfrwupGLsWPlgsm2btEekytQMOCfB42XrXaY2bZLEfH6+DJK3Qf/4+81v5DXl7beB6683tCiyRn29DNnNyZFTp6LGTYmeA995B1iyRJ6PTjrJ/fv1mpPgyZYKnmxK8DgDlseOlfhzhnezTSs1TPAE2Lhx8oSxdSuwapXp1ezJpvk7gOxmNNCg5W2JttdyEQcsu2vaNKlo2b4dePhh06uJit0eXankfy6ZGDQxaHn5cklalZdLRV4q8vKAa66R89de6/6H9r/8RZJ7xx8vbSAUbCUlwOTJ0s7z/vvu336qrZN+vC6kQqnMqpxMtQgHoYLn8cfli7JjjgFKS02vRvSPv7KyaMXqtdfa/fskb9XXA3PmSKJXazmdM8f9JE+i50CneudLX5LX+aAZMUKeT7du9X5GoJPg8aKCZ9995f/R2Civm9kgtoJn27Ztu78o5aDl1DDBE2CxLRs2tWm1tckbj7y81D8Qesn0HB4OWHZf7LBlW3gxf8cRW8HjV9Wesz36ySen90bui18Epk6Vb1+cORJu0JrDlbORl4OWvTw2/RLbppUqU69BToLnvffs3QXKtvasRI47DrjiCvkwd8EF9g+uJm/MnStz8WJ1dEQ3N/BST49UTgPBbM8CZIvxESPkfcSWLd7el5dDlgsLpdKlpyd7KlxiK3iAaCV8tvz//MIET8DZOIfn1VdlDskhhwBDh5peTdRAc3jKy8s9v38meNz3pS/JrJenn7bnyT/dD5HJxOA++8gw4Y0bo99yeC3d9ixHbq582wwAv/jF3m9K0/XiizLIvaoKOP10d26TzPNq0PKWLcDSpfKG2KnmHIwfrwupSjcBtmOHHC+5ubKzlZ9GjZJvYzs6gI8+8ve+k9HdDTzxhJy3KcGTKP6uu05aXxctilZIUrgker/j9vugeDH45JPyHmTy5GBvGOJXm5aXLVpA9g1adt7bjh0r8ccWrfQwwRNwToLH9O5QsWybv+MYqIKnsLDQ0/vu7o4OuLRh+9VsMXy47OCgtTczXlK1fbvMWsrPTz2Rl0wMxlbt+dGm1dEBPPecnD/llPRv54wzJO6bm4H//V931ubczle+IkO3KTt4VcHjDD6fOTP5AcNevy6kIzYBlkoV38KF8sXL1KmS5PKbzW1ar7wiz90HHBD9sGSDRPE3dChw990ye+VXv4rGNoVHovl+w4a5W90bLwZjhyun0oZuG2cnLa8HLXs5ZBnIvjk8TgVPTY3EH1u00sMET8A5CZ6337an9Nm2+TuOyZNll52Ghr1LMpubmz297yVLpJR6v/1klgm556KL5PSuu8wPG3/jDVnDxz6W+oeoZGPQz0HLzz0ncXvooZl9+6SUVO8AMhy0vT2zdW3YADz4oHzA+epXM7stsouTCFi4UHYMcks6lXVevy6ko7ZWEtubNkXfCCfDdAWpzQkeW9uzBoq/T3wC+O53JWl34YXuVUZSMMybJ69//bW0AF/+snvPnf1jsLU1OvNw9mx37sMUv3bS8rqCZ8IEOc22BM/YsRJ/bNFKDxM8AVdRIZn89nYpPzetsxN48005f8QRZtfSX15e9E2mn0NqAfNvrrPZiSfKC8GKFdHqMVP8mPHh5yypTNuzYp16qvxeNm8Gbr45s9u64w6pivv0p7G7fJeyQ1mZDMzu6pJqOLdkw/wdIP1By851TbVU2JzgefRROf30p82uI1XXXCMVWcuWAT/+senVkJ++8IVo5apSkvj91reA4mL5suukk+LvGJupBx+U9/lHHy33GWROBY+XLVpas4InFVrvOWQZAFu00sQETxawaQ7PW2/JN/7Tp8sAM9skmu/gdSk+d9DyTm6uDJsEzA9bTnUb5ljJxmBsi5aXFUtau5vgia3iufFG+aYxHb29wK23ynkOV85Obrdp9fREv3hI5di0sUULSG/QsukvGWITPKYrLWMtXy4VtuXlUhVjk8Hir7BQWrVyc4Hf/Q54/nl/1kXmzZ8v77UnTZIqroYG4KabpIK+qgp44QXZ5CTTmVf9YzC2PSvo/Kjg2bFDdvosLJRdIr2QTTN4Wlrk91VaKn8KCwsxerTM2mxpkU18KDlM8GQBmxI8ts7fcSSqfqisrPT0fk2/uc52TpuWM5egrs797UIH09cnLVpAegmeZGNw/Hhg5Ej51snLbzQ+/FDeNI4eHT1uMnXcccCxx8oL9W9+k95tPPGErGuffWRnL8o+bg9aXrRIqlz32QdI5ane69eFdKWaAOvslGqonBxgxgzv1jWQ8eOltWzLFv8GxCfDqd45+WT7ZnklE3+HHAJcdZWcv/hifgAKi2efldPjjtvz8kMOkWT2jBmS3Jk1Kzo2IR2xMbh2rbRtFxQAZ5+d/m3awo8ET+wW6V7NK3ISPCtX2pU8T0f/6p3KykooBc7hSQMTPFnApgSPrfN3HIk+ODQ0NHh2n729wIIFcp4JHm+89ZZ8eNFa/jQ2AnPm+Jvk+fBDGdQ5blz0xSkVycagX4OWneqdU06J3+ufrp//XE5vuim90mhnuPKll7q7LrKH2xU86bZnefm6kIlUW7Tef1+qmCZPNrezpVJ2tmnZ3J6VbPzNnSu/24YGmctD2S9RggeQ9x8vvywxvXUrcMIJ6W9CERuD9fXy/uqzn82OWZJ+tGh5uUW6o7xcvvTr6JCNLIKs/xbpTvyxTSt1fHucBZw3ewsWuDuUMhX19dKP62w16vXQsnRNniw9yo2N3m+N6PjoIynTHD8++oJC7po7VypoYnV0yOV+8XPGhx9zeNxsz4p1xBEyj6e9HbjhhtR+trFRPpANGSLfVlN2cl7T3ntPEhOZypb5O4799pNZRevXy5/B2FJBaluCp61N2ppycjLbJdC0IUPkA3x+vrSvPv646RWRlzo7Zec3ADjmmPjXKSmRYcjf+pbMq7vwQuAnP9n7fVKytM6u9izA3woeLxM8QPbM4YndIj0WK3hSxwRPFigvjw6lfP99/++/vl6qJWIzqz/4gf8tMsnIzfV/0LItb66zWaKsvp/Z/kzm76TK6520Wlul3TInx5s2KKeK5w9/SO4DquO22+SN5tlne/+GicwpLwf23Vc+yCxenPntOQke22aspCsnJ7VkiekByw7bEjxPPSUffmfNCv6XL9OmAddeK+e/8hVg2zaz6yHvvPaazN+ZMWPguM3NlUrZW26R54xf/AI491x5Xk3Ve+9Jm+fIkcFOhsZyEjx+VPB4NWDZkS1zeGK3SI/FnbRSxwRPlnDatPzYWae/uXP33qLT7+qJVMSrfqirq/Ps/pjg8Z7z5J/s5V7I9ENkKjHo9aDlp5+WyolPfELmZrjtkEOAM86QYXrXXZfcz3R3A7ffLuc5XDn7pTNIOJ6NG+VNb3ExcOCBqf2sl68LmUplTpEtr0HO/duS4LG5PQtIPf6++11JVq1bB3zzm96sicwbqD0rnv/3/yTWS0uB+++Xn3MqSwbjxKBTvXPOOfbNqkqXkxxjBY89+rdoOfHntGixgid5TPBkCZNzeGyonkhFvDfGzR42rnIHLe/Nmycf4GINGSKX+2HrVtmJpbAQOOig9G4jlRisqZE3DFu3ytwFt3nVnhXrmmtkLsef/pTcc8XDD8u3YVOn2jvEndzj1qDl11+X00MPBfLyUvtZL18XMpXsnKLYyt50n5vcMnGiPE+vXi3Dlk3q64smeE47zexaEkk1/nJzZaOBoiL5QP7ww96si8x67jk5PfbY5H/mlFOkrWv8ePky6vDDk6uObG5uRk8PcO+98vdsac8C9mzR8mo4ceyQZS9NmCCnQU/w9B+y7DwHsoIndUzwZAmTCR4bqidSEa+CpzOdmtUk9PXZ8+1pNps9W2YP1NZGdyrQ2r+WDOdD5CGHyByEdKQSg0p516bl9vboiUyfLt8GdnVFt08fiDNc+bLLvNuNguzh1qDlTObvePW64IZkBy1/8IEcYxMnytwek3Jzo1VUzsYDprz9tiSMx42T5yIbpRN/EycC118v5y+91N55iJSe9nbZrTMnJ/XNTKZPl5897DD5YujjH5c2xYF0dnbimWdkeO/++8vPZouiIhk639Ulv1cv+DFkGcjeCh7nOZBDllPHBE+WOOggefP0wQd7t0t5bd68vT9wFRf7Vz2RqokT5Ul9zZrky1TTtWqVzDOpqpI/5J3Zs+VNS1+f9Jn39ADf+Y4/921ixodXO2m9957MxamuTr2lJVU/+5m8Ub3jjoF7x5cskW8ti4uz6xtESix284De3vRvx5mNlS3zdxyxr2MDfYi37QsGW+bwxLZnZVvC+Otfl+G7GzcCl18e/K2TKerll+W9zcyZwLBhqf98ZaW8lp59trw3PfVU+XJsILHDlbPtWPG6TcvvFq2gz+DpX8HjcBI8a9emPyg8bJjgyRLFxTJkr7fX/zdOo0fLG4icHHnyr62VF4zZs/1dR7Jyc/f+9rOystL1+6mvl354AGhpsXPodLa68cboLhLOzm5ecmOXnlRj0KsKntjqHa/fzE2cKLt79PZGB4TG86c/yem556b3ppaCZ+RIeS3p6ACWLk3vNrq7o1WtznNxKrx4XXBLbm605Wqg13wmeOJ75BE5tbU9C0g//nJygDvvlNfAf/4TuO8+lxdGxqQ6fyee4mKZxfOjH8lr76WXyvymeIn0kpJKPPSQnD/vvPTv01Ze76Tl15Dlykp5XLdulc8bQbRzp6x/yJBo4s15DiwpAUaMkOHirEpMDhM8WcRUm5YzJHXePMmsNjTYm9xx9J/v4HYpvrOzmDOdf+dO+TuTPP6orgauvlrOf+MbUoLrld5eKXsGMkvwpBqDXg1a9qM9K9bVV8sL+j33xJ8JsHMncNddcp7DlcMl0zk8CxdK/EyYEH0jnwqbW7SA5Nq0bNlBy+EkeDJtvcvE+vXyeykqyuyDstcyib+6OtlBCQC+9jWgqcmdNZFZbiR4AEkC/vKXUj2blwf8+tfAWWcBO3bseb1//KMXHR3AkUcC++yT2X3ayEkkeLWTll8VPEoFv03Lac+qrpb4BPZ8DmSbVmqY4Mkizgc+PxM8r78OPP+89PZffrl/95up/nN4WlxOef/4x8HaWSwbffObwKRJwLJlwG9/6939LFok/dt1dfItSrpSjcHqarm/lhZg5cr07zfW1q1SjTRkCHD88e7c5mDq6mRbX62lZau/+++X/+Ohh9rzIZX8kWmCJ9PKOrdfF9w22E5jPT3ScglEEyumTZsm1UdLl+79YdIvThL7+OMlyWOrTOPvkkukBWfbNvmCia1awbZtmxzrQ4YARxzhzm1efDHw5JOyW+a//iVzfZwP2gBQXy8fE7OxegfwtoKnp0eGySs18Hb2bsmWBE9se1bsc6Az15U7aSWHCZ4sYqKCxxnm97WvBat1wq0dWuJ57bXg7SyWjfLzgZtvlvM///meb1rcZGL+DuDNoOUnn5QqvKOO8ncg69y5QEEB8MADew9fdYYrBymBTO7IdNByts7fcQz2+/nwQ6CzU755Hz7cv3UNpLAQmDJFkg0LF5pZQxDas9ygFHDbbUB5ucwcuvNO0yuiTLz4ohw3s2btvWtoJo49Vt7H7LefPJccfrhU5NfUAC+/XAgg+2bvOJwEjxcVPE7SaNQoSWp7LehzePoPWO6PO2mlhgmeLDJ9unxI+ugjf3owP/hAMv6FhVItESQTJ0pP59q10iM73IV3vytXAl/4wsAfJmzdWSxbnXQScMYZUmHz/e97cx9uzN8B0otBtwctO4NH/WrPcowdG03gOK11gLzZfPNN+YDyxS/6uyYyz0lgvPtueoMVMz023Xhd8NIBB8jr78qV8u1+f07ix7bKN5NzeHbtiu4cZHuCx434GzsW+MMf5Py3vgU0NmZ8k2SIW+1Z8UyaJBX5Rx0lH7Svusr5wC2ZnW9/OztHDHg5ZNmv9ixH0Ct44g1Yjn0OZItWapjgySJDhkSHLnpRmdLfr34lp1/+svcDxNyWk7Pn/IL8dPe2hryxvvJKYPJkqUAoLAROP33v0m+bdxbLZr/5jTwm994r34C5zakSyDTBk04M9m81zERvL/D443Le7wQPAPzwh3KM/Oc/0ZlG//d/cnrhhe5+Y0nBUFEhb/ba2+WLi1Q0N8s8uJISaQtKRyavC37IywNmzJDz8ZIltg1YdphM8LzwgrSGzZgR/cBgK7fi79xz5YuOtjZ5v8ZdaILJywQPIMmOp56S3fn6y9YRA162aPk1YNkR9ARPvAqe2OdAtmilhgmeLONXm1ZDg3xgzs0Fvvc9b+/LK7Efjjc4z8Qp6OqS2S777SdJhO5u4IIL5IPIww9LaXRtbTB2FstmdXWSPABk+9ieHvdue9MmKYctKsp8S/F0YjC21TDTN+3z50uZcl2dJCv9NmaMDMQGgJ/8BNi+XZ5jANnlg8Ip3XZap3rnsMPSL49P55j020CDlm0bsOwwmeAJUnuWW/GnlCTLR42SJIHT9krBsWGDzPsrKpIWKq8UFOw9P9KRjZUTXrZo+V3BM2GCnAY1wROvgif2OZAtWqlhgifL+JXg+Z//kW/8v/Ql+UAYROl+cNBath6dMkXKVrdtA445Rm7n7rujT06zZ0siLCg7i2Wz739f4vT996NVIW54/XU5PewwqaDzW1WVDFtubc38Rd3P7dET+d73ZPbPU0/J/2vHDnnDaXLHHTIr3efpbJ+/40g0aLm3NzrPypYByw6n0vj99+WLEb9oHU3wfPrT/t2vDSoqgD/9Sc5fcYVUMdfVZWfbTTZ6/nk5PfJIeU30UqJRAtk4YsDLFi2/K3jGj5eqzrVrZffIoBlsBo9TcckKnuQkneBRSj2b6I+XC6TU+JHg2bAB+POf5fwPfuDd/XgttoKnKMmtNN58U3YZOPts+UA9aRLw73/Lt2K2lcFTVFFRdCetn/wk+s1KptyavwMkH4P9udWm5ff26PGMGAGccIKcd75F3LVLdoDhB5FwSnfQshvHZrrHpJ8S/X4++kgSpOPGpbdFvJeGDQP23VeqYD/80L/7XbIEWLVKPtQddph/95sut+Nv506pZtNa/jQ28rk1KLxuz4o1b97eLdHZOmLAyxYtvyt48vKkWwCQ57mgcSp4YhM8sc+Bzvbp69fL+0IaWCoVPB8HUA/gXgCHRc47f8gSkyYBpaWS4fSquvzmm2Vnjs98Jv3ZBjaYMEF+V01NQG/vwM/ADQ1SrXT44cDLL8uLwh//KN9AfuYz2bvDQDb57GeBU06RAeQ//rE7t+nW/B0AqEjzXYAbO2lt2CA/X1goO2qYFC85na39/zS42AqVZNsQu7qix8OsWenfd7rHpJ+mTpUdA5ctk0o+h63tWQ4TbVpO9c6pp/qzq02m3I6/uXOlsitWR4dsp3755fKe5qWX4g/sJrOee05O/Xh9nj1bRgrIiAGd1SMG/GjR8nNGaVDn8PT2ytw8QBI5jtjnwLy8aPLHq11xs0kqCZ4erfWftda3A+gBcH/k73/2aG2Uhpyc6Bs6L6p4WluBW26R8z/6kfu376fY39Vjj8Uv6WhpkfaeSZOA++6T0tgf/lC+Hb38cjNtOZQepYDf/U4eszvukGqsTPT0RI8xNxI8jWlub+LGTlrOcOVjjzU/zNj5Fqc/9l2HU2WltCK2tspuUclYsEC+4Zs0SarC0pXuMemn/HzZQROItmQB9g5YdphI8Di7BAalPcvt+Ev0HLprl7Quf+1rUqE8YoRUfn3qU/L+569/jR5T5L81a+Q9Z2mpfwlbZ8TAypWNWT1iYNgwSfZu3y5fDLjJ+ZLdz+8JgjqHZ8MGSfJUVMhrmqP/cyDbtJKXSoJnp1KqQilVDSAfwCKl1Oe8WRZlwvnA50WC53//V54IP/lJdz7Umua8WC5atOduFd3dwO9/L0+WN94oT/yzZwNLlwLXXScvChQ8EycC3/mOlKd//euZDSZeuFC+/ZwwwWwLhBuDlm1oz3KEqf+fkpPqHJ6wzN9xxGvTYoJnT9u2SfVtbi5w0kn+3KdtEj2HVlTIRhEXXyzvH4uKJNH+2GPy/ueCC+TxGjpUZg9+8YvAL34B/OtfknR1Xnfq62WuD+f7uMup3vnkJ6WKgdyTkxOdw+N2FY/fLVpAcCt44g1YjoeDlpOXSoLnHwAWAJgP4A8AzgbwM6XUQ4P9oFKqUCn1plLqPaXUB0qpayKXf10ptVwppZVSo2Kuf1bkei8ppUZGLttPKXV/CusNLa/m8OzcCdx0k5wPevWOw0mGLVokU+u0ljct06bJjj5btsg3Wm+9BdxzT7S/lYLrqqukBPStt4A770z/dtxszwIAlWaf35gx0a2kly1L/ed7eoAnnpDzNiR4wtT/T8lJNEg4EbdmY6V7TPqtfwKsry/6u7K9RWvBAn+27X7iCfmG+KijgPJy7+/PDW7HX6Ln1t/8RjaMuOMOeV1sa5PXkn/+E/jZz4CzzpIvR7SWmUl//7vMsvvc5+QD5bBh8kXHhRfKXB/O93GXn/N3+gvKc2AmvErw+D1kGYgmeJYv9+8+3ZBowHL/+HMqeJjgGVwqueCvAfhX5PyTWmutlJoJIJlNsncBOE5r3a6UGgLgZaXUYwBeAfAIgOf7Xf8KAIcCOBPAuQB+D+AXAK5KYb2h5SR45s+XF1q3np/vukuesA4+OHu+AXOeVJ5+uhhVVfLGb8kSuWziROCGG2R2Swhe40KjpAT49a9lptIPfwiceSYwfHjqt+PmgGUAqM0gezhzpnwD8vbbqW9x/tprUpU3aZIMPjXNKQWfO1dexMePlw8m2VoiToMbaCvweNw6NjM5Jv3Uv4Jn5UppaauqkhY3G1VVyQefDRtkIKjzwcQrQWvPAtyPv2SfW3Nzgf33lz9nnhm9fOdOYPFimT0Y+6e5Wb5g6K+jA7j0Uvm3ww6TVkJWoKRGa7MJnqA8B2bCi0HLWrOCJxXxBiwDe8efU8HDFq3BJV3Bo8UTkT86clmP1vq6JH/WefofEvmjtdbvaq0b4vxIH4ACAMUAupVSRwFo1lp/lOx6w6yuDhg5Up6s3Mpy9vRIqS4g1TvZkPCorweuvjr69+ZmSe4MHSqDpBctAk4/PTv+r7SnL35Ryp03bwZ++tP0bsP5EOlWG8j69evT/tlMBi3b1J7lcPr/+/qQ1f3/lJzYCh5595HY2rXy5q+sTNpJMpHJMekn54PzkiWyc5aTCLO1PcvhrM/rNq3e3ujz3GmneXtfbvIi/jJ5bi0qkmPxoovkS5Inn5QdbTZtSvw+accO4LLL5LEuK5Ntvq+8Erj/fknsDXY8h92KFfJ8NnJkdNaWn4LyHJgJLwYtt7bKaIeSEn/nGjpf0jU07D1Q3WbOl+39W7T6xx9btJKXdC5dKXVton/TWl+d6N9ifj4XwNsAJgC4RWv9xgBXvw7A0wCaAJwH4AEA5wxy+3MAzAGAmpoaNDQ0AACGDx+O/Px8bIjUyhUVFaGiomL34CalFGpra7F+/XrsikyQq66uRnt7O1ojW1KMGDECeXl52BhJxxYXF2PUqFFYHYmw3NxcjBs3Dk1NTeiKTOkaO3YsWltb0dbWBgAYOXIkcnJysCmSIi4pKUF5eTnWRtKWeXl5qKmpwdq1a9HT0wPn/9HS0oL2yFcjo0ePRl9fH7Zs2QIAKC0tRVlZGdZFjoz8/HxUV1dj7do1mDZtJF54oRhvvNGHoqLN6IjsOVxRUYGenh5s3boVAFBWVoaSkhI0NTUBAAoKClBVVYXGxkZE8niora3Fbbe1YtWqYair68app/Zg+/YubItstVBeXo7CwkI0R0agFxYWorKycvdjAAB1dXVobm5GZ2cnAKCyshKdnZ1oaWkx9jj94Ac16OjY+xAoL+/DZz6zGuvWefs4rVmzBr2RZ+Dx48dj8+bMH6eNGzdi586dAIAxY8agqyv4jxPgzfH0q19V4IgjinDLLcCppzbhsMMKk36cGht3YdWqcSgp0Rg/vg0NDZk/Tk1NTdi1a1daj9OBB8potFde6URDQ3NKj9PDD48EkI8TT+zG1q1t1j1OPJ6CcTx5+Th1dTVh5Mhx2LIlFw0NQE5O4sfplVeqABRgxoydWL16Q0aPk3NM2v44NTevxf77V+PDD/Px3nvACy+0ASjFfvu1oKenxNrjacoUhcceK8Rzz7XghBPg2fH00EPN2Lq1CrW13Zg0aUhgjqft27fvXqftz3vV1T1Yt27v91PDhvXi1FNlU4OVK3PxyivAK69E/33kyF4cfHAPjjoqH7W1GzBjRheGD9d83os8Tg88UAJgFI45Blizxv/Xp/b29t0/Y9vznluPU0HBCABl2LQJrh1PK1bkAqhBRYXGhg3+vo+orByH5uZcvPbaWtTU9ATicVqypBBACUaN2oW2tq7dj9OOHTswatSo3cdTYWExgAqsWNGNhoZ1GT9O2fB+LyGtdVJ/AHQBuDPen2RvI3I75QCeAzAt5rIGAKMSXP8CAN8CMAsyB+g2AMUD3cchhxyiw+4nP9Ea0Pr738/8tvr6tJ4+XW7vttsyvz1bKCX/p/5/lDK9MvLLN74hj/lRR0mcJ+vBB+XnjjvOvbWsWrUq7Z/duFHWM3So1j09yf/c6tXRn+vsTPvuiTx36qkSqw88MPD1vv1tud5Pf5r5fWZyTPrt4ovl//3732t9wgly/uGHTa9qYA88IOs89VRv7+dHP5L7+eY3vb0ftwUp/u65R+vi4j3fSxUXy+WOLVu0fvxxra+5RuvTTtN61Kj478H231/r2bO1vvlmrV9/XV6b7rlH69paeX9WW7vn7Wazc86R38ktt5i5/yDFYLquvlp+x1df7d5tvvSS3OasWe7dZrKOOkru+6mn/L/vdB1zTPw194+/zZvlemVl/q3NdgDm6zi5kFSGLO/SWl8c708KtwGtdUskwXPKYNdVShUDuAjALQCuAXAhgJcBsGB/EG4OWn70Uemzrq4Gzj8/89uzBXfroWuukfLcl14C7rsv+Z9ze/4OIJn6dI0eLXG7Y4fs9Jasxx6T0xNOAAoK0r57Is/F2ykqHjePzUyOSb/FzilyWrRsHbDs8GMnrfp64H/+R87/7W/BGvobpPibPRu49VbZiEIpOb311j1bwEaMAE4+WVrjH3lEZpSsXCmvvd/+NnDEEUBhoWwJXl8vG13MmiUtLhdcEL4Bzqbn7wDBisF0edGiZWLAsiOIc3gSDVnuH38jRsjzQWurzI6kxFJJ8EApVaeUGhtJvKTyc6OVUuWR80UATgSwJIkf/R6Am7XW3QCKAGjIfB4fOxqDydkdKpOtkwF5gbkuMmXpyiuz60Mgd+uh8nLg+uvl/He/K7uHJMPt+TsAdpcSpyv2mE+WjfN3iOJJZqv0zk75d6WAww/P/D4zPSb95Px+HnlEtgQfPXrvN8u22WcfmcvS3CyzXNxWXw985StAd7f8fePGYCUGghR/QOrzfZSSGPjiF2Unr5dflg9u77wD/N//ybbtU6fK7fV/H9vRIcOis9nixRKzVVWyCYIJQYvBdDi7aLk5ZNnEgGXHhAlyGpQEj9aJt0nvH39KRXfS4qDlgaWS4BkKYAWANQDalFJrlVK/V0qVJPGzVQCeU0otBPAWgKe01o8opb6hlFoLoAbAQqXU7c4PKKWqARymtX44ctHvIz97GYB7U1h3KFVVyZu71tb0tk52vPSSbAc9YoS8Mcome37jpON+40TZ76KLZIePpibgF78Y/PpdXdHKuFmz3FuH02ObLifBk+yg5V27gKeflvOnnprRXRN5LplBy++8Ix/mp0xxZyvsTI9JP82YAeTkRL+F/tjH7N8gICcHOOggOe9WFY/WskHCNddIgiAyDmG3ICUGghR/bhkyRCq7Lr1Utm1ftChxHGf7oNXY6h1Tx3IYYtCLXbScBA8reAbX0iI79JWWyp9Y8eKPg5aTk8ouWjmQocxFkITMeZCByTcn8bMLtdYHa60P1FpP01pfG7n8Zq11jdY6T2tdrbX+SszPNGmtT4v5+wNa66la6yO01i4ehtnLjTYtp3rniitkGny2cb5xWrmykbv1hFRODvCHP8gbqJtuGrzFacECSY5MmiSJT1ukupPWSy9JS9f06dFvRIhsNW6c7CSzeXPib+68aJ0MiuJi4IADon+3vT3L4UabltbyvPejHwGTJ8tz2s9+Fq3c6Y8fDIIlUdt8/2/7s43p9qywcCp4vGjRMlHB4yR4li/3/77TkWiL9ESY4ElOSi1akXk+u7TW67XWzwM4HwA/GljKSfCks3UyIB9kH39c3jhecYVry7LSCJs+qZPvDj0UuOQS+UDwjW8MvHWrF+1ZQOYx6HygW7AAiGxQMCC2Z1GQKDV4m5bbCZ6gvS7EVi3demswWpHSTfD09kqS+tvfBurq5Dn8+uulYnnkSHk+d76Z7y8oc/aCFn9eiddODwATJ/q/Fr/09gIvvCDnjz3W3DrCEINeVvCYTPCsWDHwe1lbJNoiHYgff2zRSk5KCR4AUErlKKWqlFI5WuvNWusTvVgYZS7TCh5nNsmcOfKGKZvl5e29vSeFyy9/KR+QnnwS+Ne/El/PqyqBTGNw5EiZZ9DRASxJYsKZk+A57bSBr0dki4EGLWst7cSAe8nXIL0u1NfLVtSOzZuDMW8mlQRPdzfw1FPAZZfJt71HHw389rfyTW51NfC1r0nVQ3MzcPvtUpEZ5Dl7QYo/L/Uf4FxVBeTmAs88Azz4oOnVeeO992SWVl2dvK6bEoYYjK3gyWRmaSyTQ5ZHjACGD5cKbSfRZLOBKnjixR8reJKTdIJHKVWqlPoLgE4A6wDsVErdrZQa5tnqKCPOTI53301cqpzI8uXAAw9IP/SVV7q/NttsDMKzIHlq9OjoDJ5vf1t6guNxPkS6neBxIwaTbdNasUJa0YYNC2c7CwXTQBU8q1fLoN7hw937Zj9Irwtz5+79Oh+EeTMHHCCbN6xcGX9XlM5O4N//lllpY8YAJ50E/OlP8gFqn31kOP6rr8q3uX/4g1Q7OJ8JktnZyWZBij+vxQ5wbmoCfv1rufySS7Lzg54t7VlhiMH8fBn23tvr3s5MJit4gGDN4Rmogide/DHBk5xUKnh+Dxm0PA0yh2c6ZDerQWfwkBnDh8s09c5O4IMPUvvZG26QF9Lzz8/+Pmcix6WXAgceKG8kb7hh739ft04+SJSVySBX2yS7k5azPfrJJ0c/DBHZLjbB07/03KmsmzVL5mqFTaI3u7a/CR4yRCoyAHnPUlcH/PnPwN//LrsrjR4NnH46cPfdUtEwZQrwk5/IF1crVgA33ihJ6kSPeao7O1EwfOMbUn3a0iKPaTJtyUFiS4InLNxu0zI5ZBkI1hyeRFukJ8IWreSk8jboFADna62XRebwLANwceRyslQ6bVpNTfJmSing+9/3Zl22KY7X4E2hk5cn3wID0qK4atWe/+7lh0g3YjDZCh7O36EgqquTJMDGjfI6FcuL1skgvS4kmitj+7yZ+vroG3WtgcZG2dr8i1+UJE97u7TmzZsHfPihfFl17bWy+5btu4RlKkjx5zelgDvvlOTgyy8ntwNmUHR3Ay++KOdNzt8BwhODToLHjUHLu3ZJ4jE3V16vTAhSBU+iLdKB+PHnJHjWrpWqK4ovlY8onQD6j6wbBWCXe8sht6WT4PnNb2Qr6DPPlJ2CwmCU04RLoXfUUfKNYGcn8J3v7PlvXrVnAe7EYDKDljs6gOeek/OnMD1PAaJUdA5P/yo1t+fvAMF6XYg3iDYI82bmzo3/Jr2gQN6LrFolj/WPfyw7ZIVJkOLPhNGjJUGoFPDzn0eHEgfdW2/J/JTJk2W2lElhiUHnv+lGBY9zG6NHm6smDVKCZ6AKnnjxV1Qkv9vu7uisI9pbKqF3O4CnlFKXKaVOVUpdBuAJALd5szRyg9OykWyCZ+tW6W8HZMvRsFhtex07+eqGG4CSEuDhh4Ennohe7uU2zG7E4PDh8sLe2QksXhz/Os8/L/8+c6a58mGidMUbtLxzpyQ1c3KAww5z776C9LoQ1HkziX7FXV3RHbLCKkjxZ8qxx0ryr69PYn3LFtMrypzzBYzp6h0gPDHoZouWyQHLjgkT5DQICZ6Bhiwnij+2aQ0ulQTPPADXAzgbwK8jpzdorX/uxcLIHR/7mLzpff/9xENjY91yi5REn3hitBqAKGyqq4Grr5bz3/iGfNjYtSv6ofLww82tbTCDtWk9+qicsj2LgijeoOX586Vibdo0oLTUzLpsEMR5M0FtLSN7/PSn8qXLunUydDkIW0MPhPN3/Odmi5bpActAcCp4du6UwoIhQ6KPQTI4aHlwSSd4tLhDa32C1npK5PTPSqn3lVIrI3+GeLlYSt3QoTKUsLdXtl0cyI4dwO9+J+fDVL0DALm5uaaXQJb55jelRXHZMtmK9513JNEzdapsp+42t2JwoEHLWnP+DgWbk+CJreDxqrKOrwveC2prmR8Yf8kZMgS4917ZFfJf/wL++EfTK0pfZyfwyity/phjjC4FQHhi0M0WLRsqeKqqgMJC+f+0tppbx2Cc9qzq6vjtbIniz6ngYYInsUETPEqpFwf6A2AygGMBHKu1TnEzbvJDsnN4br9dylsPP9yOFxY/jXOeLYgi8vOBmyN7BF57LfCPf8h5r7YVdysGnQRPvAqeJUvkm/1Ro6LXIwqSffeVXeyamoDmZrnMi/k7AF8X/BDU1jI/MP6SV1cH3BYZGHHllYN/oWmr116TauEZM6JJB5PCEoNutmjZUMGTkyOvlYDdVTwDbZEOJI4/p4KHLVqJJVPBcyiAPyf4cweAbq11o9a60bNVUkaSSfB0dQH/8z9y/kc/yv7dKfpr6r8lCxGAk04CzjhDqtt+8xu57KGHZLCj29yKQWdGyXvvyRC6WE71zimnyA4PREGTk7PnHB6tvavg4euCP4LYWuYHxl9qPv954KtflQTJOefI63bQ2NaeFZYYdJJpbrZomZ5xGIQ5PINtkZ4o/tiiNbhkEjzdWuu7E/y5C0CCvVrIFskkeOrrZdDVlCnAZz7jz7ps0tXVZXoJZKmjj97z71u2AHPmuJ/kcSsGhw0D9t9f3uR+8MGe/8b2LMoGsTtprVolb6hHjYq+oXULXxfIJMZf6n77W3kfu2QJ8K1vmV5N6mxL8IQlBr0YsmyyggcIxhyegbZIBxLHH4csD87QBm7kpwMPlHaTpUvj92L29QG/+pWc/8EPzG3rR2Sj3/5278s6OmR7X1vFa9NqbQVeekmO75NOMrMuIjfEDlp2qndmzQpf5SkR7am4GLjvPqCgQMYO3H+/6RUlr70dePNNeY0+6ijTqwmXbGvRAqIJnuXLza5jIINV8CTCCp7BJfNRvjgyb+c5pdTjSql6pdQvlVJnK6WGe75Cylh+vvTzah1/8OrDD0vyp7YW+NKXfF+eFcam+uxCoZHoBcTtFxY3YzDeTlrPPCMtW7NmASNHunZXRL6LbdHyav4OwNcFMovxl57p06Mt1XPmSJVfELz8suwGOHOmVOLaICwx6GaLlg1DloFgVfAkCrNE8VdZCeTlSTKts9OjxQVcMgmeSyDzduoBPALgIwBjAVwDYA2AIs9WR65J1KalNXDddXL+u9+V3QjCqNXmMfNklF/b+LoZg/F20mJ7FmWLiROBkhIpz370UbnMi+HnfF0gkxh/6bv8cpmf19oKnHvu3vPobGRbexYQnhgsLZUvw3fskK27M2FLBU+QZvAkatFKFH+5udGkkJMkoj0NmuCJmbdzu9b6D1rrn2mtL9RaT4Ukf3KVUndE/nBsp6WcD3z9EzzPPCPf8o8eDXz5y/6vyxZtbW2ml0CW8msbXzdj8OCD5XThQhmgHrs9+mmnuXY3REbk5ERjvLFR3uw5X2K4ia8LZBLjL31KSYtWTQ3w+uvAT39qekWDszHBE5YYVCrappVJFU9fX7TNy3SCp7ZWXhvXrJGZjDYarIJnoPhjm9bAMpq2orW+H8B5AF6I/OlzY1HkvkQVPE71zre+tfeHWCIK5ja+ZWXApEmS3Fm0SBI9TU1AVZW0axIFndOmBcicuaFDza2FiOwzYgRw772SEL7+evlC01bbtknL6ZAhwBFHmF5NODltWpnM4dm2Tdrshg2TOVAmDRkiSRCt7WxT7O0FmpvlfHV16j/PBM/AMh6nq7W+N6bKR7uxKHLfAQfIG+DGxuiT15tvyjcGpaXA//t/Ztdn2kgOJaEB+LGNr9sxGDtoObY9i4NoKRvEfiP50Ufu72oH8HWBzGL8Ze6oo4Crr5YPueef784QXS+88IKs8eMft+vL1jDFoBuDlm1pz3LYPIdnwwZJ8lRUSHtcPAPFH3fSGhj3SwqJ3NzoN57O4NXrr5fTyy8HysuNLMsaOdw6jAxzOwZjBy1z/g5lk/p64K67on9vb5dhqm4nefi6QCYx/txx1VXA0UcD69cDF10kiRTbOO1Zxx5rdh39hSkG3WjRsmXAssPmOTyDbZEODBx/rOAZWHiOXNqjTevDD4GHHpISwm9/2+y6bLDJ1q91KDTcjkGngufZZ2Wnobw84IQTXL0LIiPmzt1754yODrncTXxdIJMYf+7IzQXuuQcYPly+7Pjd70yvaG/PPSenNs3fAcIVg260aLGCJ3nJbJE+UPwxwTMwJnhCJDbB86tfyfmLL5bt5ogouxx8sLRjrVghrWVHHSWzeYiCLtEbOr7RI6J4xo0D7rxTzn//+zLvxhYbNsisvKIi4PDDTa8mvNxs0bKlgsdJ8CxfbnYd8Qw2YHkwbNEaGBM8IeIkeF56SUrZc3KA733P7JpsUVJSYnoJFHJux2BJiQxVdrz7rjdzSoj85nxzl+zl6eLrApnE+HPX6acDX/uabJl+zjnS2mmD55+X0yOPND+Yt78wxaBTweNGixYreAY32BbpwMDxF1vBY2PbpWlM8ITIvvvK8Lbt22XKe2Eh8Nprpldlh/KwDyEi49yOwfr66JsNAGhp8WZOCZHf5s3bexBpcbFc7ia+LpBJjD/33XgjMH26DGb/+tdNr0bYuD26I0wxmM1DlletkoHGNkmmgmeg+Bs2TL7I3LFD3t/SnpjgCZF7791zbkFHBz/wOdY6zzREhrgdg3Pn7v2C7sWcEiK/zZ4N3HorUFsrbYi1tfJ3t3e34+sCmcT4c19REXD//XJ69912vP+1OcETphh0I8Fj25DloUNlDEdXV7RixhbJVPAMFH9KcQ7PQJjgCZG5c2UWRyx+4CPKTpxTQtls9mygoUFe0xoa3E/uEFF2OuAA4Oab5fxll5ltX1mzRuajlJZGd7olM9xo0bKtggeQ2AKAujr5Y0NSE0huyPJgmOBJjAmeEOEHvsTy8vJML4FCzu0Y9GtOCVG24usCmcT4884llwCf/7zM4TnnHKlwMMHZPeuTn5SdLm0TphjMxgqe+npg5Uo5rzXQ2GhH54bWyW2TPlj8cdByYkzwhAg/8CVWM9AzDJEP3I5Bv+aUEGUrvi6QSYw/7ygVbfOcP18+3Ofk+F/hYHN7FhCuGBwxQuJi69b059XYVsFja6t+Swuwc6dUFzkVRvEMFn+s4EmMCZ4Q4Qe+xMLUZ0x2cjsG/ZpTQpSt+LpAJjH+vFVeDlx0kZxvbfW/wkFr+xM8YYrBvDxg+HB5XLZuTf3nOzqkIiw/XwYA28DWzo1kt0gfLP6Y4EmMCZ4Q4Qe+xHp6ekwvgULOixjknBKi9PF1gUxi/Hnvrrv2vsyvCocVK6S1ZORI2dnLRmGLwUzatGKrd5Ryb02ZsLVzI5kBy8Dg8ccWrcSY4AkZfuAjIiIiorAzWeHgVO8ce6y0h5F5ToInnUHLtrVnAfZ2biRbwTMYVvAkxqcUIoSrz5jsxBgksguPSTKJ8ee9RJUMTmWAl2xvzwLCF4POTlrpVPDYNmAZiHZuDBkif6+stKNzI9kKnsHiz/nndevSn5uUrZjgIQLQ0tJiegkUcoxBIrvwmCSTGH/ei1fhAADV1VLp7hWtoztoHXusd/eTqbDFoFstWjaZPRs4+2w5/8tfmk/uAMlvkT5Y/BUUSEKttxdYv96dtWULJniIALS3t5teAoUcY5DILjwmySTGn/f6z6asqpIPja+/Dnz/+97d7+LFkhCoqgImTfLufjIVthh0KngyadGyqYLHMXWqnC5aZHYdjmS2SAeSiz+2acXHBA8REREREYVO7GzKpibg0UdlR6Vf/xr43e+8uc/Y9ixbBvJSZhU8TouWbRU8ADBtmpx+8IHZdTiSreBJhpPg4aDlPTHBQwRgtPOsTmQIY5DILjwmySTGnxnHHw/ccYec//a3gX/+0/37CML8HSB8MZiNLVqAvRU8gyV4kok/Z14WK3j2xAQPEYA+L5utiZLAGCSyC49JMonxZ87558u8Eq2lwueVV9y77d5e4Pnn5bztCZ6wxWAmLVo2Dll27LMPUFQklTOmxyrt3Als3SqDnwfL3yQTf2zRio8JHiIAW7ZsMb0ECjnGIJFdeEySSYw/s374Q+Cyy4Bdu4DPfhZYssSd212wQD5k77MPUFfnzm16JWwxmK0VPLm5wAEHyHnTbVpOe1Z1NZAzSBYimfhzKnjYorUnJniIiIiIiIgilAL+8AdJ7mzdCpx6KtDcnPntBmH3rLByEjzZNmQZsGcOT7JbpCeLFTzxMcFDBKC0tNT0EijkGINEduExSSYx/szLzQX+9jfg8MNlEPNppwGZbiwVlPk7QPhi0GnR2rRJ2vOS1dsbTQo5t2EbW+bwpDJgOZn4Y4InPiZ4iACUlZWZXgKFHGOQyC48Jskkxp8diouB//wHmDABeOcd4POfB7q707ut7m7gxRflfBAqeMIWg8XF8mfXrtQSeVu2yC5sI0bIbBkbOQke0xU8yW6RDiQXfxUV8jvfsgXo6MhwcVmECR4iAOuclDKRIYxBIrvwmCSTGH/2GD0aeOwxqc54/HGZzZNKhYfjrbeAHTuAyZNlBontwhiD6bRp2Txg2eG0aAWpgieZ+MvJ4RyeeJjgISIiIiIiSmDCBOCRR2Q3ojvuAK69NvXbCFJ7VljFtmkly+YBy47x44GSEllrOkOk3ZLsFumpYJvW3nxJ8CilCpVSbyql3lNKfaCUuiZy+T5KqTeUUsuVUvcrpfIjl1+hlFqklPpvzGVHKqVu8mO9FD75+fmml0AhxxgksguPSTKJ8Wefww8H7rtPqgZ+9jNJ9KQiaAmeMMZgOjtpBaGCRyk72rRSGbKcbPyxgmdvflXw7AJwnNZ6BoCDAJyilJoF4FcAbtJaTwCwDcAlkevPBnAggFcBnKyUUgB+AuDnPq2XQqY6CLWylNUYg0R24TFJJjH+7PTZzwK33CLn58yRlq1kdHYCr74q5z/5SW/W5rYwxqBTwZNKi1YQKngAOxI8qVTwJBt/rODZmy8JHi2ccVVDIn80gOMA/CNy+d0APhc5ryLXKQbQDeA8AI9prbf6sV4KnzVM+5JhjEEiu/CYJJMYf/a67DLgxz+W3ZPOPluGLw/mtddkeO+MGfbutNRfGGMwnQqeoCR4TM/h6e0FmpvlfDK5m2Tjz0nwhDBcE8rz646UUrkA3gYwAcAtAFYAaNFa90SushaAk8/7A4DXAXwA4BUA/wJw8iC3PwfAHACoqalBQ0MDAGD48OHIz8/Hhkj9XFFRESoqKtDY2Oj8HGpra7F+/Xrs2rULgGQM29vb0draCgAYMWIE8vLysDFyBBcXF2PUqFFYHUkV5ubmYty4cWhqakJXVxcAYOzYsWhtbUVbWxsAYOTIkcjJycGmyDNGSUkJysvLsTaSyszLy0NNTQ3Wrl2Lnh75ldTU1KClpQXtkVHuo0ePRl9fH7Zs2QJAto8rKyvbPYQqPz8f1dXVWLNmDXp7ewEA48ePx+bNm9ERGS1eUVGBnp4ebN0qubKysjKUlJSgqakJAFBQUICqqio0NjZCRybI1dbWYuPGjdi5cycAYMyYMejq6sK2bdsAAOXl5SgsLERz5KgtLCxEZWXl7scAAOrq6tDc3IzOzk4AQGVlJTo7O9HS0mLF47Rx40b09vbycbL8ccrm48mJQT5Odj9OPJ7C8zg5xyQfJ7sfp2w9nnbs2LH7/8/Hyb7H6StfAVatGou//W0ITj65Fw89tB4HHFCU8HF68MFSAOU49liNjRs3BeJx6uzs3P0zQX2cgNSe9/LySgAMx6ZNyT9OK1aMBFCKMWNg9fE0cqQCUIlFi/qwdWuL749TTk4NenuBkSN70dS0ZtDHaceOHeju7h70ea+0tBVAOZYu3YmODm3t8eTF814iSqczBj4DSqlyAA9BWq7uirRnQSk1DlKlM63f9a8GsBBAH4ALAKwBcKXWui/RfcycOVPPnz/fm/8AZaWGhgbU1dWZXgaFGGOQyC48Jskkxp/9urqAT30KeOYZYNIkacEaMSL+dY84Qv79P/8BPv1pf9eZrjDG4G23Sevdl78M/PnPyf3MZz4jA7gfegj43Oc8XV5GmpqkNWr4cNlWXCl/7//NN2WO1cc+Brz99uDXTzb+PvhAqpMmTgSWLs18nUGilHpbaz2z/+W+76KltW4B8ByAjwMoV0o5VUQ1APbYD00pVQ3gMK31wwCuBPBFAC0AjvdpuRQS4536PiJDGINEduExSSYx/uyXnw/885/AgQfKB8vPflZm7fTX1iYfbnNzgaOP9n+d6QpjDGbrkGUAqKoCysuBbduirVJ+SmWLdCD5+Isdsuxz3Yq1/NpFa3SkcgdKqSIAJwL4EJLoOTtytQshrVixfg7g6sj5Isjcnj7IbB4i12xOZZoakQcYg0R24TFJJjH+gmHYMOC//5VdgV55BTjvPJk1Euvll4GeHmDmTKCszMw60xHGGHQSPNk4ZFkps3N4Ut0iPdn4KyuT43DnTqlMIv8qeKoAPKeUWgjgLQBPaa0fAfADAN9RSi0HMBLA7mI4pdTBAKC1dkaX3QvgfQBHAEhyZj1RcpweWyJTGINEduExSSYx/oJj7FjgscfkQ+Y//wl85zt7VhI426Mfe6yZ9aUrjDHoDMBOtoJH6+AkeACzO2mlskU6kFr8cSetPfkyZFlrvRDAwXEuXwngsAQ/8y6i26ZDa/1bAL/1ZoVERERERESpmzYNePhh4OSTgZtvBmprJdEDAM89J6fHHWdseZSkVFu02tulcqSoCCgp8W5dbglSBU8qxo8H3n9f2rQ+9jH3bz9ofJ/BQ2SjiiCk3SmrMQaJ7MJjkkxi/AXPMccAd98t56+8Erj/fpl38s47wJAhMmg5SMIYg+XlMitp+3agu3vw68dW7/g9tDgdQargSSX+nDk8rOARTPAQAbu3ViQyhTFIZBcek2QS4y+YzjkHuPFGOT97tlTyaA3k5MguS0ESxhjMyQFGjpTzyYyACcqAZYdTwfPBB/4PJE51yHIq8ccWrT0xwUMEYOvWraaXQCHHGCSyC49JMonxF1xXXgmcdJIMW25rk8t27ZLtt+vrza4tFWGNwVTatII0fweQ/9vo0RKXa9b4d79ap96ilUr8xe6kRUzwEBERERERuUIpYMmSvS/v6ADmzvV/PZQaZ9ByMhU8ToInKBU8gJk5PC0tMquotNSbneRYwbMnJniIAJQFad9KykqMQSK78Jgkkxh/wZaokiBIH0DDGoOpVPA4LVpBqeABzMzhSWfAcirxxwTPnpjgIQJQEoTR95TVGINEduExSSYx/oLN+cCZ7OU2CmsMOgmeVCp4gpTgiZ3D45dUBywDqcXf2LFSObd+fXLDsbMdEzxEAJqamkwvgUKOMUhkFx6TZBLjL9jmzQOKi/e8rLhYLg+KsMag06KVSgVPkFq0nAoeP1u00qngSSX+hgwBqqqAvj4gpGG7ByZ4iIiIiIiIXDJ7NnDrrbKLllJyeuutcjnZLZuHLAPRBM/ixZIQ8UM6FTypcqrjOGiZCR4iAEBBQYHpJVDIMQaJ7MJjkkxi/AXf7NlAQ4N8iG5oCF5yJ6wxmE6LVpAqeIYPB6qrZejxqlX+3GeqW6QDqcefs5MW5/AwwUMEAKiqqjK9BAo5xiCRXXhMkkmMPzItrDGYTotWkCp4AP/n8KTTopVq/HHQchQTPEQAGhsbTS+BQo4xSGQXHpNkEuOPTAtrDCbbotXdDWzdCuTkACNHer8uN/k9hyedFq1U448tWlFM8BAB0FqbXgKFHGOQyC48Jskkxh+ZFtYYTLZFy0kAjRoF5OZ6uya3BaGCJ9X4Y4tWFBM8REREREREFHpONc7mzcBAOYYgDlh2+FnBs3OnVDoNGRJNnnmBLVpRTPAQAaitrTW9BAo5xiCRXXhMkkmMPzItrDFYUACUlQE9PUBLS+LrBXGLdMeUKXK6ZIn8P73ktGdVV0s7W7JSjT+2aEUxwUMEYKOThicyhDFIZBcek2QS449MC3MMOoOWB2rTCnIFT2kpUFsLdHUBy5d7e1/pbpGeavyNGgUUFgLbtgFtbandV7ZhgocIwM6dO00vgUKOMUhkFx6TZBLjj0wLcwwmM2g5yAkewL85POlskQ6kHn9KRefwhL2KhwkeIiIiIiIiIiQ3aDnILVqAf3N40hmwnC4meAQTPEQAxgT12ZmyBmOQyC48Jskkxh+ZFuYYdFq0WMGTuXRbtNKJPw5aFkzwEAHo6uoyvQQKOcYgkV14TJJJjD8yLcwxmEyLFit4kpNuBU868cdBy4IJHiIA27ZtM70ECjnGIJFdeEySSYw/Mi3MMZhMi1bQK3gOOEDm1nz0EbBrl3f3k24FTzrx57RosYKHiIiIiIiIiFJq0QpqBU9REbDffrJN+rJl3t2PnzN42KIlmOAhAlBeXm56CRRyjEEiu/CYJJMYf2RamGNwsBYtraMJHue6QeS0aXk1h6e3F2hulvPV1an9bDrxxxYtwQQPEYDCwkLTS6CQYwwS2YXHJJnE+CPTwhyDg7Vobd8OdHUBJSVAcbF/63KbM2jZqzk8GzZIkqeiAsjPT+1n04m/2F20+vpS/vGswQQPEYBmJ71MZAhjkMguPCbJJMYfmRbmGBysRSvoA5YdXlfwZNKelU78DR0KjBghM4UGaq/LdkzwEBEREREREWHwFq2gD1h2eF3Bk+6A5UywTYsJHiIA4S5DJTswBonswmOSTGL8kWlhjsHSUmDIEGDHDmDnzr3/PegDlh0TJwK5ucCKFfH/n5nKpIIn3fjjTlpM8BABACorK00vgUKOMUhkFx6TZBLjj0wLcwwqNfAcHqdFK+gVPAUFkuTRGvjwQ/dvP5MKnnTjjztpMcFDBABoaGgwvQQKOcYgkV14TJJJjD8yLewxOFCCJ1tatABv5/BkUsGTbvyxRYsJHiIiIiIiIqLdBhq0nC1DlgFv5/CYmMHDFi0meIiIiIiIiIh2G2jQMit4kuMkeNKp4EkXK3iY4CECANTV1ZleAoUcY5DILjwmySTGH5kW9hhMZgYPK3gS0zqzFq10448zeJjgIQIANDc3m14ChRxjkMguPCbJJMYfmRb2GByoRSubKngmTADy84HGRqCtzb3bbWmRnblKS4GystR/Pt34q6oCcnKA5magqyutmwg8JniIAHR2dppeAoUcY5DILjwmySTGH5kW9hgMS4tWXh4webKcX7zYvdvNpHoHSD/+8vLkPrWOtoiFDRM8RERERERERBGJWrQ6O4Ht2yWRMHy4/+vyghdzeEwMWHaEfdAyEzxEACorK00vgUKOMUhkFx6TZBLjj0wLewwmatFy/j56tLQCZQMv5vBkWsGTSfyFfQ5PloQlUWbCXoZK5jEGiezCY5JMYvyRaWGPwUQtWtk0YNlhYwVPJvEX9p20mOAhAtDS0mJ6CRRyjEEiu/CYJJMYf2Ra2GPQqeDp36KVTfN3HF5U8GS6RXom8ccWLSIiIiIiIiICAIwcKadbtgC9vdHLszHBs88+QFER0NQEbNvmzm1m2qKVCbZoERGGZ8uUNAosxiCRXXhMkkmMPzIt7DGYlweMGCG7McUmPbKxRSsnB5gyRc671aaVaYtWJvHHFi0iQn5+vuklUMgxBonswmOSTGL8kWmMwfiDlrOxggdwfw5PphU8mcQfW7SICBucdDyRIYxBIrvwmCSTGH9kGmMw/qDlbKzgAaJzeNxI8OzcCWzdCgwZEv0dpiqT+BsxAiguBlpbZUv7sGGCh4iIiIiIiCiGk5yIHbSc7RU8bgxadtqzqqvNbCWvVLjbtHz5lSulCpVSbyql3lNKfaCUuiZy+T5KqTeUUsuVUvcrpfIjl1+hlFqklPpvzGVHKqVu8mO9FD5FRUWml0AhxxgksguPSTKJ8UemMQYHbtFiBU9imc7fATKPvzC3afmVU9sF4Dit9QwABwE4RSk1C8CvANyktZ4AYBuASyLXnw3gQACvAjhZKaUA/ATAz31aL4VMRbal4SlwGINEduExSSYx/sg0xuDALVrZ9usZNw4oLZUEVuz/Nx2ZbpEOZB5/rODxmBbtkb8OifzRAI4D8I/I5XcD+FzkvIpcpxhAN4DzADymtd7qx3opfBobG00vgUKOMUhkFx6TZBLjj0xjDO7dotXXF01+pDtbxlZKuTdo2Y0t0jONvzBvle5bV5xSKlcptQDARgBPAVgBoEVr3RO5yloAThj8AcDrAMYDeAXAxQBu8WutREREREREFF79W7S2bgV6e4HycqCgwNiyPOPWHB43WrQyFeYWrTy/7khr3QvgIKVUOYCHAEwe4Lp/BfBXAFBKXQ3gZgCnKqUuALAGwJVa677Yn1FKzQEwBwBqamrQ0NAAABg+fDjy8/N3T+IuKipCRUXF7qygUgq1tbVYv349du3aBQCorq5Ge3s7WltbAQAjRoxAXl4eNkaaLouLizFq1CisjkRMbm4uxo0bh6amJnR1dQEAxo4di9bWVrS1tQEARo4ciZycHGyKPEOUlJSgvLwcayMpzry8PNTU1GDt2rXo6ZGcV01NDVpaWtDeLsVPo0ePRl9fH7Zs2QIAKC0tRVlZGdZFjqL8/HxUV1djzZo16O3tBQCMHz8emzdvRkdHBwApd+vp6cHWrVIMVVZWhpKSEjQ1NQEACgoKUFVVhcbGRmitAQC1tbXYuHEjdu7cCQAYM2YMurq6sG3bNgBAeXk5CgsL0dzcDAAoLCxEZWXl7scAAOrq6tDc3IzOzk4AQGVlJTo7O9HS0mLF4+T8Tvk42f04ZfPx5KyDj5PdjxOPp/A8Ts7/hY+T3Y9Tth5Pu3bt2v3/5+Nk7+OUzcdTd3f37p8J6+PU16cBjEFzcy9aW3fg3XfbAIzFyJG96OrqteJxcvN4qq4uAzACixZpNDQ0pv04rVhRBaAA+fkb0dDQkdbjtGPHDnR3d6d9POXnFwKoxOrVfWhoWJ1VjxMgx1MiyvnP+SmStNkJ4AcAKrXWPUqpjwP4mdb65JjrVQO4VWv9aaXUC5CWrqsAvKq1firR7c+cOVPPnz/f2/8EERERERERZaX584FDDwUOPhh45x3g+eeBY48FjjoKePFF06tz31NPASedBBx5JPDSS+nfzqxZwBtvAC+/DBxxhHvrS8WyZcCkScA++wArV5pZg9eUUm9rrWf2v9yvXbRGRyp3oJQqAnAigA8BPAfg7MjVLgTwr34/+nMAV0fOF0Hm9vRBZvMQuWb9+vWml0AhxxgksguPSTKJ8UemMQb3HrKcrQOWHbE7aWVSA+LGDJ5M489p0Vq7VmYnhYlfM3iqADynlFoI4C0AT2mtH4FU8HxHKbUcwEgAf3Z+QCl1MABord+JXHQvgPcBHAHgcZ/WTSHhlMMRmcIYJLILj0kyifFHpjEG9xyyrHV0i/RsTfBUVgLDhwPbtgHp5ld6e4FINxOqq9NfS6bxV1Qkj193dzQxFxa+zODRWi8EcHCcy1cCOCzBz7yL6Lbp0Fr/FsBvvVkhERERERERkSgulkTBzp3Ajh3RRMGYMWbX5RWlpIrnpZekiiedBM2GDZLkqagA8vPdX2Mqxo2T6qvVq4GqKrNr8ZNvu2gR2aw6kxQzkQsYg0R24TFJJjH+yDTGoIht08r2Ch4g85203GjPAtyJv7Bulc4EDxGwe4I7kSmMQSK78Jgkkxh/ZBpjUMS2aWV7BQ+w5xyedLi1Rbob8eckeNasyfimAoUJHiJg9xZ0RKYwBonswmOSTGL8kWmMQTFqlJyygic5blXwuBF/zqBlVvAQERERERERhVxYW7TS3UnLrQoeN7CChyjERowYYXoJFHKMQSK78Jgkkxh/ZBpjUIStRWv0aElgtbenV/niJHgyreBxI/44g4coxPLyfNlQjighxiCRXXhMkkmMPzKNMSicFq3GRtlJKz8fKCszuyavxVbxpMpp0cq0gseN+GOLFlGIbXRqLokMYQwS2YXHJJnE+CPTGIPCqeBxkh1jxsh24tnMGbSczhwetyp43Ii/ykogL09a6zo7M765wGCCh4iIiIiIiKgfp4LHSfBk8/wdR7oVPFq7N2TZDbm50UoiZ11hwAQPEYDi4mLTS6CQYwwS2YXHJJnE+CPTGIPCqeBx5u+EIcGTbgVPSwuwcydQWpp5G5tb8RfGNi0meIgAjHLS80SGMAaJ7MJjkkxi/JFpjEHhJHgc2Txg2eFU8Hz4IdDbm/zPuVm941b8hXEnLSZ4iACsDlNal6zEGCSyC49JMonxR6YxBkX/PEMYKnjKyyVJs3MnsGpV8j/n5hbpbsUfK3iIiIiIiIiICMOHyywXRxgqeID05vC4NWDZTWHcKp0JHiIAubHP3EQGMAaJ7MJjkkxi/JFpjEGRkwOMHBn9exgqeID05vC42aLlVvyxRYsopMY59XtEhjAGiezCY5JMYvyRaYzBqNg2LVbwJOZmi5Zb8ccWLaKQampqMr0ECjnGIJFdeEySSYw/Mo0xGBU7aJkVPIm5WcHjVvzFVvBo7cpNWo8JHiIAXV1dppdAIccYJLILj0kyifFHpjEGo8KY4JkyRU6XLgW6u5P7GTcreNyKv2HDZNv29nbZxj0MmOAhIiIiIiIiiiO2Rav/tunZqqQEqKsDurqA5cuT+xk3K3jcolT42rSY4CECMNamZyIKJcYgkV14TJJJjD8yjTEY1dwcPT9hAlBfb24tfkplDs/OncDWrcCQIe4kwdyMv7ANWmaChwhAa2ur6SVQyDEGiezCY5JMYvyRaYxBUV8PPPpo9O+NjcCcOeFI8qQyh8cZmVNdLTuPZcrN+AvbVulM8BABaGtrM70ECjnGIJFdeEySSYw/Mo0xKObO3XsGTUeHXJ7tUqngcbs9y834Y4sWERERERERUcglSgqEIVmQSgWPmwOW3cYWLaIQGjlypOklUMgxBonswmOSTGL8kWmMQeEkB5K9PJtMniztVh99BOzaNfB13a7gcTP+2KJFFEI5bjSLEmWAMUhkFx6TZBLjj0xjDIp584Di4j0vKy6Wy7NdURGw335Ab69slz4Qtyt43Iw/tmgRhdCmTZtML4FCjjFIZBcek2QS449MYwyK2bOBW28Famtly+3aWvn77NmmV+aPZOfwuF3B42b8OUmndeskWZXtmOAhIiIiIiIiimP2bKChAejrk9OwJHeA6ByewRI8Ns/gKSgAKislubN+venVeI8JHiIAJSUlppdAIccYJLILj0kyifFHpjEGCYhW8Aw2aNlJ8LhVweN2/DltWmEYtMwEDxGA8vJy00ugkGMMEtmFxySZxPgj0xiDBCRXwRNbGVNd7c79uh1/YRq0zAQPEYC1TuMokSGMQSK78Jgkkxh/ZBpjkABg4kQgLw9YsQLo6Ih/nQ0bJMlTUQHk57tzv27HX5gGLTPBQ0RERERERER7yM+XJI/WwJIl8a/j9oBlLzgVPGzRIgqJvLw800ugkGMMEtmFxySZxPgj0xiD5BhsDo8XA5bdjj+2aBGFTI2NI98pVBiDRHbhMUkmMf7INMYgOQabw+NFBY/b8ccWLaKQYZ8xmcYYJLILj0kyifFHpjEGyWGigsft+GOLFlHI9PT0mF4ChRxjkMguPCbJJMYfmcYYJMdgFTxub5EOuB9/zgDozZsTD4vOFkzwEBEREREREdFe9ttPkiONjUBb297/HoQhyzk50QqjbK/iYYKHCOwzJvMYg0R24TFJJjH+yDTGIDny8oADDpDzixfv/e9etGh5EX9hadNigocIQEtLi+klUMgxBonswmOSTGL8kWmMQYqVaA6P1t5U8HgRf2HZSYsJHiIA7e3tppdAIccYJLILj0kyifFHpjEGKVaiOTwtLcDOnUBpKVBW5t79eRF/zk5arOAhIiIiIiIiolBKVMEThPk7DlbwEIXI6NGjTS+BQo4xSGQXHpNkEuOPTGMMUiwnwdO/gseL+TuAN/HHBA9RiPT19ZleAoUcY5DILjwmySTGH5nGGKRY++wDFBUBTU3Atm3Ry73YIh3wJv7YokUUIlu2bDG9BAo5xiCRXXhMkkmMPzKNMUixcnKAKVPkfGwVj1ctWl7En5PgWb1ahkNnKyZ4iIiIiIiIiCghZ9By7Bwer1q0vPCf/wBKyVDo8eOB+nrTK/IGEzxEAEpLS00vgUKOMUhkFx6TZBLjj0xjDFJ/8ebweFXB43b81dcDc+ZEK3fWrpW/Z2OSx5cEj1JqnFLqOaXUYqXUB0qpb0Yun6GUek0p9b5S6j9KqbLI5UcopRYqpeYrpfaPXFaulHpSKcWkFLmuzM19/YjSwBgksguPSTKJ8UemMQapPz8reNyOv7lzgY6OPS/r6JDLs41fyZIeAFdqracAmAXga0qpKQBuB/BDrfV0AA8B+F7k+lcC+BSAbwG4LHLZVQB+qbXmxC9y3Trn2YnIEMYgkV14TJJJjD8yjTFI/flZweN2/CXaOSsbd9TyJcGjtV6vtX4ncr4NwIcAxgKYCODFyNWeAnBW5Hw3gOLIn26l1H4Axmmtn/djvUREREREREQkxo0DSkuBTZuAjRtlls3WrcCQIYAHu5q7ytkiPdnLgyzP7ztUStUBOBjAGwA+AHA6gIcBfB5AZLY1rgPwFwA7AZwP4H8gFTwD3e4cAHMAoKamBg0NDQCA4cOHIz8/Hxs2bAAAFBUVoaKiAo2Njc7Poba2FuvXr8euXbsAANXV1Whvb0draysAYMSIEcjLy8PGjRsBAMXFxRg1ahRWR1J+ubm5GDduHJqamtDV1QUAGDt2LFpbW9HW1gYAGDlyJHJycrBp0yYAQElJCcrLy7E2kvbMy8tDTU0N1q5di56eHjj/j5aWFrS3twMARo8ejb6+vt1TxUtLS1FWVrY7w5mfn4/q6mqsWbMGvb29AIDx48dj8+b/3979B9lV1nccf3/5kcQYaBDID34lUHAUWxwxZZD6A2mHEaatdWSqbbQTB3/XUrRjh4EZYbSpFltUxmmdNG0FmwGs0A7WWEWLvwjghN9SEIHZgMQQQhIE2SSE/faPcza52e4muze7+5xz7/s188w99zn33PPccz7PZvPsOc/dxPP1NWnz5s1j586dbN68Gaguf5szZw7r168HYObMmSxcuJB169aR9U2KixYtYuPGjQwODgIwf/58duzYwZb6O/Lmzp3LrFmz2LBhAwCzZs1iwYIFu84BwOLFi9mwYQPbtm0DYMGCBWzbto2tW7c24jxt3bqVgYEBz1PDz1Mv96fhDHqemn2e7E/9dZ4GBgY8Ty04T9B7/enFF1/c9fk9T809T73cn4Bd23iemnueprs/nXjiAu66axZr1jzDYYc9CxzDwoVDDA4OTup52r59Oy+88MKknacLL3wpF198OIODu69veclLhli+PHjyyXaep7FETuN3hEXEHOD7wPLMvCEiXgFcCRwO3AhckJmHj9jmjcDbgH8EPkV1dc9fZuaTY+1nyZIluXbt2in6FJIkSZIk9Zf3vQ9WroQrr4RTToEzz4QzzoBbbindsn1btaqac+exx6ord5Yvh6VLS7eqexFxR2YuGVk/bRMWR8TBwPXAqsy8ASAzH8zMszPztcA1wCMjtgmqK3c+BVwK/BXwT8AF09Vu9YfHH3+8dBPU58yg1Cz2SZVk/lSaGdRoOufhmcqvSJ+K/C1dCgMDMDRUPbZ5cGdvputbtAL4Z+CBzLyio35e/XgA1UDOl0Zs+qfA6szcTDUfz1Bdxr4mSerC8KV+UilmUGoW+6RKMn8qzQxqNJ3fpDVVEyyD+dsf0zUHz29TzaVzX0TcXdddDJwUEX9WP78B+NfhDSJiNrAMOLuuugJYDewA/mTqmyxJkiRJkmDPK3hOPbVanooreNS9aZ2DZ7o4B48mamhoiAMOmLY7FqX/xwxKzWKfVEnmT6WZQY0mE444ovr2rNNPh9tug2uvhXe8Y3L3Y/72rfgcPFKTbdq0qXQT1OfMoNQs9kmVZP5UmhnUaCJ2X8Xz4x9Xj1NxBY/5654DPBLs+no9qRQzKDWLfVIlmT+VZgY1luF5eIaGqsepmIPH/HXPAR5JkiRJkrRPw1fwDDvqqDLt0Ogc4JGAefPmlW6C+pwZlJrFPqmSzJ9KM4May/AVPADz5sGMGZO/D/PXPQd4JGDnzp2lm6A+ZwalZrFPqiTzp9LMoMbSeQXPVNyeBeZvfzjAIwGbN28u3QT1OTMoNYt9UiWZP5VmBjWWb30Lhr/g6sEHYdWqyd+H+eueAzySJEmSJGmvVq2C979/9wTLg4PV86kY5FF3HOCRgEMPPbR0E9TnzKDULPZJlWT+VJoZ1GguuQRGfsHV889X9ZPJ/HXPAR4JmDNnTukmqM+ZQalZ7JMqyfypNDOo0Tz22MTqu2X+uucAjwSsX7++dBPU58yg1Cz2SZVk/lSaGdRojjtuYvXdMn/dc4BHkiRJkiTt1fLlMHv2nnWzZ1f1agYHeCRg5syZpZugPmcGpWaxT6ok86fSzKBGs3QprFgBixZBRPW4YkVVP5nMX/ciM0u3YdItWbIk165dW7oZkiRJkiRJkyoi7sjMJSPrvYJHAtatW1e6CepzZlBqFvukSjJ/Ks0MqiTz1z0HeCSgF69kU7uYQalZ7JMqyfypNDOoksxf9xzgkSRJkiRJajnn4JGoRokjonQz1MfMoNQs9kmVZP5UmhlUSeZv35yDR9qLjRs3lm6C+pwZlJrFPqmSzJ9KM4Mqyfx1zwEeCRgcHCzdBPU5Myg1i31SJZk/lWYGVZL5654DPJIkSZIkSS3nAI8EzJ8/v3QT1OfMoNQs9kmVZP5UmhlUSeavew7wSMCOHTtKN0F9zgxKzWKfVEnmT6WZQZVk/rrnAI8EbNmypXQT1OfMoNQs9kmVZP5UmhlUSeavew7wSJIkSZIktVxkZuk2TLqIeApYV7odapUjgE2lG6G+ZgalZrFPqiTzp9LMoEoyf/u2KDOPHFnZkwM80kRFxNrMXFK6HepfZlBqFvukSjJ/Ks0MqiTz1z1v0ZIkSZIkSWo5B3gkSZIkSZJazgEeqbKidAPU98yg1Cz2SZVk/lSaGVRJ5q9LzsEjSZIkSZLUcl7BI0mSJEmS1HIO8EiSJEmSJLWcAzxqpIg4NiJujoj/jYj7I+Iv6vqXRcRNEfGz+vGwun5pRNwbEfdFxJqIeHXHew3U9XdHxNq97PMtEfHTiHg4Ii7qqP+diLiz3v5HEXHiGNsvj4jHI+K5EfXLIuKpevu7I+K9+3t8NPXalsGImB0R34iIB+v2fqZj3cfqz3FvRHw3IhZN1nGSpkvD+uRZdZ/8SURcFREHjbH98RFxe739dRExo65/Y739zog4b7KOkaZOj+XvuPqz3FW38dzJOk6aOi3N4EfqbTMijuioPzMinondvxt/YjKOkaZOS/O3qt7+JxHxLxFx8L7a1hMy02JpXAEWAqfWy4cADwEnA5cDF9X1FwF/Wy+fARxWL58D3N7xXgPAEfvY34HAI8AJwAzgHuDket1DwCvr5Q8DXx7jPU6v2/3ciPplwBdLH1NLb2cQmA28uV6eAfwQOKd+/mZgdr38IeC60sfXYploaUqfpPrj2OPAy+vXfRI4f4z3+Crwznr5S8CH6uXFwCnA1cB5pY+tpe/yt6Jj+WRgoPTxtfRsBl9T/7zbY3/AmcB/lT6mlp7P37lA1OWajp97Y7atF4pX8KiRMvMXmXlnvfws8ABwNPBW4Kr6ZVcBf1i/Zk1mbqnrbwOOmeAuTwMezsxHM3MHcG29L4AEDq2Xfw1YP0abb8vMX0xwv2qotmUwM5/PzJvr5R3AncNtyMybM/P5/WibVFyD+uThwI7MfKh+3U3A20duHBEBnAV8bZS2DWTmvcDQBNukQnopf4zz9xo1S9syWLfhrswcmOB+1UAtzd/qrAE/ZvfvxfvbtkZzgEeNFxGLqf4CcDswv2MQZQMwf5RNzge+2fE8gW9HxB0R8f4xdnM01WjwsJ/XdQDvBVZHxM+BdwOfYeLeXl8K+LWIOLaL7VVQ2zIYEXOB3we+O462Sa1TuE9uAg6KiCV1/XnAaD/XDwe2ZubOEdur5Xogf5cB76r/TVkN/PkYbVBDtSSD+/K6iLgnIr4ZEa/qYnsV0rb81bdmvRv473G0rfVGvV9NaoqImANcD1yYmb+s/iBVycyMiBzx+jdTddTXd1S/PjOfiIh5wE0R8WBm/mACzfgocG5m3h4RHweuoPoP93h9HbgmM7dHxAeoRrfPmsD2KqhtGazvQ74GuDIzHx2x7l3AEuBNE9i31Cil+2S9j3cCn4uImcC3gRf371OpLXokf39Mdavv30fE64CvRMRvZKZXlLVAj2TwTmBRZj4X1RxQ/wmcNMH3UAEtzd8/AD/IzB+Oo22t5xU8aqx6tPV6YFVm3lBXPxkRC+v1C4GNHa8/BVgJvDUznx6uz8wn6seNwH8Ap0U1UdjwxG4fBJ5gz9HfY4AnIuJI4NWZeXtdfx1wRkQc2LH9J/f2OTLz6czcXj9dCby2i8OhAlqawRXAzzLz8yM+y+8ClwB/0JFHqVWa0Cfr7W7NzDdk5mnAD6jmIiAivlVvvxJ4Gpgbuyd/3LW92qmH8nc+1fw8ZOatwCxg1wS4aq6WZXBMmfnLzHyuXl4NHBwdkzCrmdqYv4i4FDgS+NiIzzJq23pCNmAiIItlZKGaDOtq4PMj6j/LnhN5XV4vHwc8DJwx4vUvBQ7pWF4DvGWU/R0EPAocz+6JvF5V129i90Re5wPX76PtIydZXtix/DbgttLH19KbGQT+muof3gNG1L+GaqK6k0ofV4ul29KUPlmvm1c/zqS6FfKsMdr87+w5ye2HR6z/Mk6y3IrSS/mjuh1hWb38Sqo5eKL0Mbb0XgY73muAPSdZXjCcOaq5Vh4zg80ubcwf1dXua4CXjKgftW29Uoo3wGIZrVBdKpfAvcDddTmX6p7y7wI/A74DvKx+/UpgS8dr19b1J9Q/EO4B7gcu2cs+z6UaAX6k83VUgzL31e/xPeCEMba/nOr+0KH68bK6/tP1vu8BbgZeUfr4Wnovg1R/2UiqSe+G2/Deet13gCc76m8sfXwtlomWhvXJz9Z97adUl6mPtf0JVBM7Pkz1n+2Zdf1v1f9O/IrqSov7Sx9fS1/l72TglroNdwNnlz6+lp7N4AX1z7qdVAOJK+v6j7D7d+Pb6NH/aPdSaWn+dtbbDrfhE3trW6+U4ZFTSZIkSZIktZRz8EiSJEmSJLWcAzySJEmSJEkt5wCPJEmSJElSyznAI0mSJEmS1HIO8EiSJEmSJLWcAzySJEmSJEkt5wCPJElSLSKWRcSLEfFcXbZFxI9Kt0uSJGlfHOCRJEna062ZOScz5wAfLN0YSZKk8XCAR5IkabeDgRdHWxERvx4R/xMRT0fEpohYFRFz63Vf7LjqJyPiV/XyN+v174mIByLi2Yh4NCI+MH0fSZIk9QMHeCRJknabBWwfY10AnwaOAl4JHAtcBpCZH+m46gfg1fXzc+rnG4HfAw4F3gN8LiJOnZqPIEmS+pEDPJIkSbsdATw92orMfDgzb8rM7Zn5FHAF8KbxvGlmfiMzH8nK94FvA2+YtFZLkqS+d1DpBkiSJDXI8cC60VZExHzgC1QDM4dQ/aFsy3jeNCLOAS4FXl5vNxu4bxLaK0mSBHgFjyRJUqclwF1jrPsbIIHfzMxDgXdR3ba1VxExE7ge+DtgfmbOBVaPZ1tJkqTxcoBHkiQJiIh3AIuA74zxkkOA54BnIuJo4OPjfOsZwEzgKWBnfTXP2fvZXEmSpD14i5YkSep7EbEU+DdgCFgXsevimoOAgyPifuCPgKuBZ4CHga8AH93Xe2fmsxFxAfBVqoGerwM3TvZnkCRJ/S0ys3QbJEmSioqIZcCZmblslHWLge9l5uLpbZUkSdL4eYuWJEmSJElSy3kFjyRJ6nsRcSBwQGa+MMq6AGZk5vbpb5kkSdL4OMAjSZIkSZLUct6iJUmSJEmS1HIO8EiSJEmSJLWcAzySJEmSJEkt5wCPJEmSJElSyznAI0mSJEmS1HL/B0y1xK53jFFtAAAAAElFTkSuQmCC\n",
      "text/plain": [
       "<Figure size 1152x432 with 1 Axes>"
      ]
     },
     "metadata": {
      "needs_background": "light"
     },
     "output_type": "display_data"
    }
   ],
   "source": [
    "# Рассчитываем число сессий и число успешных сессий\n",
    "grouped_data = sessions_history.groupby('session_date').agg(\n",
    "    all_session=('session_id', 'count'),\n",
    "    successful_sessions=('good_session', 'sum')\n",
    ").reset_index()\n",
    "\n",
    "# Рассчитываем долю успешных сессий\n",
    "grouped_data['share'] = grouped_data['successful_sessions'] / grouped_data['all_session']\n",
    "\n",
    "# Создаем график\n",
    "plt.figure(figsize=(16, 6))\n",
    "\n",
    "# Линейный график доли\n",
    "plt.plot(\n",
    "    grouped_data['session_date'],\n",
    "    grouped_data['share'],\n",
    "    label='Доля',\n",
    "    color='blue',\n",
    "    marker='o',\n",
    "    linestyle='-',\n",
    "    linewidth=2\n",
    ")\n",
    "\n",
    "# Настройки графика\n",
    "plt.title('Доля успешных сессий', fontsize=18)\n",
    "plt.xlabel('Дата', fontsize=12)\n",
    "plt.ylabel('Доля', fontsize=12)\n",
    "plt.grid(True, linestyle='--', alpha=0.5)\n",
    "\n",
    "# Форматирование оси Y (проценты)\n",
    "plt.gca().yaxis.set_major_formatter(plt.FuncFormatter(lambda x, _: f'{x:.0%}'))\n",
    "\n",
    "# Автоматическая подгонка layout\n",
    "plt.tight_layout()\n",
    "\n",
    "plt.show()"
   ]
  },
  {
   "cell_type": "markdown",
   "metadata": {
    "id": "21JcG77Y0eMt"
   },
   "source": [
    "###  Подготовка к тесту\n",
    "При планировании теста необходимо проделать несколько важных шагов:\n",
    "\n",
    "- Определиться с целевой метрикой.\n",
    "\n",
    "- Рассчитать необходимый размер выборки.\n",
    "\n",
    "- Исходя из текущих значений трафика, рассчитаем необходимую длительность проведения теста."
   ]
  },
  {
   "cell_type": "markdown",
   "metadata": {
    "id": "uzaeln270eMt"
   },
   "source": [
    "#### Расчёт размера выборки\n",
    "Рассчитаем необходимое для дизайна эксперимента количество пользователей.\n",
    "Параметры:\n",
    "\n",
    "- Уровень значимости — 0.05;\n",
    "- Вероятность ошибки второго рода — 0.2;\n",
    "- Мощность теста;\n",
    "- Минимальный детектируемый эффект, или MDE, — 3%. Обратите внимание, что здесь нужно указать десятичную дробь, а не процент.\n",
    "\n",
    "При расчёте размера выборки мы будем использовать метод `solve_power()` из класса `power.NormalIndPower` модуля `statsmodels.stats`."
   ]
  },
  {
   "cell_type": "code",
   "execution_count": 13,
   "metadata": {
    "id": "zSxJyPGPNdaI"
   },
   "outputs": [
    {
     "name": "stdout",
     "output_type": "stream",
     "text": [
      "Необходимый размер выборки для каждой группы: 17441\n"
     ]
    }
   ],
   "source": [
    "# Задаём параметры\n",
    "alpha = 0.05  # Уровень значимости\n",
    "beta = 0.2  # Ошибка второго рода, часто 1 - мощность\n",
    "power = 0.8  # Мощность теста\n",
    "mde = 0.03  # Минимальный детектируемый эффект\n",
    "\n",
    "# Инициализируем класс NormalIndPower\n",
    "power_analysis = NormalIndPower()\n",
    "\n",
    "# Рассчитываем размер выборки\n",
    "sample_size = power_analysis.solve_power(\n",
    "    effect_size = mde,\n",
    "    power = power,\n",
    "    alpha = alpha,\n",
    "    ratio = 1 # Равномерное распределение выборок\n",
    ")\n",
    "\n",
    "print(f\"Необходимый размер выборки для каждой группы: {int(sample_size)}\")"
   ]
  },
  {
   "cell_type": "markdown",
   "metadata": {
    "id": "qLEv4RoV0eMu"
   },
   "source": [
    "#### Расчёт длительности A/B-теста\n",
    "\n",
    "Рассчитаем длительность теста.\n",
    "\n",
    "- Рассчитаем среднее количество уникальных пользователей приложения в день.\n",
    "- Определим длительность теста, исходя из рассчитанного значения размера выборок и среднего дневного трафика приложения."
   ]
  },
  {
   "cell_type": "code",
   "execution_count": 14,
   "metadata": {
    "id": "KZDRbryDOGHa"
   },
   "outputs": [
    {
     "name": "stdout",
     "output_type": "stream",
     "text": [
      "Рассчитанная длительность A/B-теста при текущем уровене трафика в 9907.363636363636 пользователей в день составит 4 дня.\n"
     ]
    }
   ],
   "source": [
    "# Среднее количество пользователей приложения в день по историческим данным\n",
    "avg_daily_users = sessions_history.groupby('session_date')['user_id'].nunique().mean()\n",
    "\n",
    "# Рассчитываем длительность теста в днях как отношение размера выборки к среднему числу пользователей\n",
    "test_duration = ceil((sample_size*2)  / avg_daily_users)\n",
    "\n",
    "print(f\"Рассчитанная длительность A/B-теста при текущем уровене трафика в {avg_daily_users} пользователей в день составит {test_duration} дня.\")"
   ]
  },
  {
   "cell_type": "markdown",
   "metadata": {
    "id": "ZuvtAdha0eMv"
   },
   "source": [
    "### Мониторинг А/В-теста"
   ]
  },
  {
   "cell_type": "markdown",
   "metadata": {
    "id": "jq5sE3Ya0eMv"
   },
   "source": [
    "#### Проверка распределения пользователей\n",
    "\n",
    "A/B-тест успешно запущен, и уже доступны данные за первые три дня. На этом этапе нужно убедиться, что всё идёт хорошо: пользователи разделены правильным образом, а интересующие нас метрики корректно считаются.\n",
    "\n",
    "- Считаем и сохраним в датафрейм `sessions_test_part` CSV-файл с историческими данными о сессиях пользователей `sessions_project_test_part.csv`.\n",
    "\n",
    "- Рассчитаем количество уникальных пользователей в каждой из экспериментальных групп для одного дня наблюдения.\n",
    "\n",
    "- Рассчитаем и выведим на экран процентную разницу в количестве пользователей в группах A и B. Построим визуализацию, на которой можно было бы увидеть возможное различие двух групп."
   ]
  },
  {
   "cell_type": "code",
   "execution_count": 15,
   "metadata": {
    "id": "G1bqIzDJOUiz"
   },
   "outputs": [],
   "source": [
    "# Считываем CSV-файл в датафрейм\n",
    "sessions_test_part = pd.read_csv('https://code.s3.yandex.net/datasets/sessions_project_test_part.csv')"
   ]
  },
  {
   "cell_type": "code",
   "execution_count": 16,
   "metadata": {},
   "outputs": [
    {
     "data": {
      "text/html": [
       "<div>\n",
       "<style scoped>\n",
       "    .dataframe tbody tr th:only-of-type {\n",
       "        vertical-align: middle;\n",
       "    }\n",
       "\n",
       "    .dataframe tbody tr th {\n",
       "        vertical-align: top;\n",
       "    }\n",
       "\n",
       "    .dataframe thead th {\n",
       "        text-align: right;\n",
       "    }\n",
       "</style>\n",
       "<table border=\"1\" class=\"dataframe\">\n",
       "  <thead>\n",
       "    <tr style=\"text-align: right;\">\n",
       "      <th></th>\n",
       "      <th>test_group</th>\n",
       "      <th>unique_users_count</th>\n",
       "    </tr>\n",
       "  </thead>\n",
       "  <tbody>\n",
       "    <tr>\n",
       "      <th>0</th>\n",
       "      <td>A</td>\n",
       "      <td>1477</td>\n",
       "    </tr>\n",
       "    <tr>\n",
       "      <th>1</th>\n",
       "      <td>B</td>\n",
       "      <td>1466</td>\n",
       "    </tr>\n",
       "  </tbody>\n",
       "</table>\n",
       "</div>"
      ],
      "text/plain": [
       "  test_group  unique_users_count\n",
       "0          A                1477\n",
       "1          B                1466"
      ]
     },
     "execution_count": 16,
     "metadata": {},
     "output_type": "execute_result"
    }
   ],
   "source": [
    "# Группируем по test_group и считаем уникальных пользователей\n",
    "grouped_users = sessions_test_part.groupby('test_group')['user_id'].nunique().reset_index()\n",
    "\n",
    "# Переименовываем колонку для ясности\n",
    "grouped_users.columns = ['test_group', 'unique_users_count']\n",
    "\n",
    "# Выводим результат\n",
    "grouped_users"
   ]
  },
  {
   "cell_type": "code",
   "execution_count": 17,
   "metadata": {},
   "outputs": [
    {
     "name": "stdout",
     "output_type": "stream",
     "text": [
      "Процентная разница между группами A и B: 0.74%\n"
     ]
    }
   ],
   "source": [
    "# Рассчитываем процентную разницу между группами A и B\n",
    "value_A = grouped_users[grouped_users['test_group'] == 'A']['unique_users_count'].values[0]\n",
    "value_B = grouped_users[grouped_users['test_group'] == 'B']['unique_users_count'].values[0]\n",
    "\n",
    "percentage_diff = 100 * (value_A - value_B) / value_A\n",
    "\n",
    "print(f\"Процентная разница между группами A и B: {percentage_diff:.2f}%\")"
   ]
  },
  {
   "cell_type": "code",
   "execution_count": 18,
   "metadata": {},
   "outputs": [
    {
     "data": {
      "image/png": "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\n",
      "text/plain": [
       "<Figure size 576x576 with 1 Axes>"
      ]
     },
     "metadata": {},
     "output_type": "display_data"
    }
   ],
   "source": [
    "# Переводим количество в проценты\n",
    "total_users = grouped_users['unique_users_count'].sum()\n",
    "grouped_users['percentage'] = (grouped_users['unique_users_count'] / total_users) * 100\n",
    "\n",
    "# Строим круговую диаграмму\n",
    "plt.figure(figsize=(8, 8))\n",
    "plt.pie(grouped_users['percentage'], \n",
    "        labels=grouped_users['test_group'], \n",
    "        autopct='%1.1f%%',\n",
    "        startangle=90,\n",
    "        colors=['#ff9999','#66b3ff','#99ff99'])\n",
    "\n",
    "plt.title('Распределение пользователей по тестовым группам')\n",
    "plt.axis('equal')  # Чтобы диаграмма была круглой\n",
    "\n",
    "plt.show()"
   ]
  },
  {
   "cell_type": "markdown",
   "metadata": {
    "id": "sgpNY5bv0eM0"
   },
   "source": [
    "#### Проверка пересечений пользователей\n",
    "Помимо проверки равенства количества пользователей в группах полезно убедиться в том, что группы независимы. Для этого нужно убедиться, что никто из пользователей случайно не попал в обе группы одновременно.\n",
    "\n",
    "- Рассчитаем количество пользователей, которые встречаются одновременно в группах A и B, или убедимся, что таких нет."
   ]
  },
  {
   "cell_type": "code",
   "execution_count": 19,
   "metadata": {
    "id": "E72ozN9FOX1u"
   },
   "outputs": [
    {
     "name": "stdout",
     "output_type": "stream",
     "text": [
      "Пересекающихся пользователей между группами A и B не обнаружено.\n"
     ]
    }
   ],
   "source": [
    "# Получаем уникальных пользователей из групп A и B\n",
    "users_in_A = sessions_test_part[sessions_test_part['test_group'] == 'A']['user_id'].unique()\n",
    "users_in_B = sessions_test_part[sessions_test_part['test_group'] == 'B']['user_id'].unique()\n",
    "\n",
    "# Находим пересечение (пользователей, которые есть и в A, и в B)\n",
    "common_users = set(users_in_A) & set(users_in_B)\n",
    "\n",
    "# Выводим результат\n",
    "if len(common_users) > 0:\n",
    "    print(f\"Найдено {len(common_users)} пользователей, которые есть и в группе A, и в группе B:\")\n",
    "    print(common_users)\n",
    "else:\n",
    "    print(\"Пересекающихся пользователей между группами A и B не обнаружено.\")"
   ]
  },
  {
   "cell_type": "markdown",
   "metadata": {
    "id": "6RvkNLrg0eM1"
   },
   "source": [
    "#### Равномерность разделения пользователей по устройствам\n",
    "Полезно также убедиться в том, что пользователи равномерно распределены по всем доступным категориальным переменным — типам устройства и регионам.\n",
    "\n",
    "Построим две диаграммы:\n",
    "\n",
    "- доля каждого типа устройства для пользователей из группы A;\n",
    "- доля каждого типа устройства для пользователей из группы B."
   ]
  },
  {
   "cell_type": "code",
   "execution_count": 20,
   "metadata": {
    "id": "x_IP6PUNPWHC"
   },
   "outputs": [
    {
     "data": {
      "image/png": "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\n",
      "text/plain": [
       "<Figure size 1008x504 with 2 Axes>"
      ]
     },
     "metadata": {},
     "output_type": "display_data"
    }
   ],
   "source": [
    "# Фильтруем данные по группам A и B\n",
    "group_A = sessions_test_part[sessions_test_part['test_group'] == 'A']\n",
    "group_B = sessions_test_part[sessions_test_part['test_group'] == 'B']\n",
    "\n",
    "# Считаем количество устройств в каждой группе (исправила код!)\n",
    "device_counts_A = group_A.groupby('device')['user_id'].nunique()\n",
    "device_counts_B = group_B.groupby('device')['user_id'].nunique()\n",
    "\n",
    "# Создаем фигуру с двумя подграфиками\n",
    "fig, (ax1, ax2) = plt.subplots(1, 2, figsize=(14, 7))\n",
    "fig.suptitle('Распределение типов устройств в тестовых группах A и B', fontsize=16)\n",
    "\n",
    "# Круговая диаграмма для группы A\n",
    "ax1.pie(device_counts_A, \n",
    "        labels=device_counts_A.index, \n",
    "        autopct='%1.1f%%',\n",
    "        startangle=90,\n",
    "        colors=['#ff9999','#66b3ff','#99ff99', '#ffcc99'])\n",
    "ax1.set_title('Группа A', fontsize=14)\n",
    "\n",
    "# Круговая диаграмма для группы B\n",
    "ax2.pie(device_counts_B, \n",
    "        labels=device_counts_B.index, \n",
    "        autopct='%1.1f%%',\n",
    "        startangle=90,\n",
    "        colors=['#ff9999','#66b3ff','#99ff99', '#ffcc99'])\n",
    "ax2.set_title('Группа B', fontsize=14)\n",
    "\n",
    "# Добавляем легенду\n",
    "plt.legend(device_counts_A.index, \n",
    "           title='Типы устройств',\n",
    "           loc='center left',\n",
    "           bbox_to_anchor=(1, 0.5))\n",
    "\n",
    "plt.tight_layout()\n",
    "plt.show()"
   ]
  },
  {
   "cell_type": "markdown",
   "metadata": {
    "id": "gAgmP6vo0eM1"
   },
   "source": [
    "#### Равномерность распределения пользователей по регионам\n",
    "\n",
    "Постройте две диаграммы:\n",
    "- доля каждого региона для пользователей из группы A;\n",
    "- доля каждого региона для пользователей из группы B."
   ]
  },
  {
   "cell_type": "code",
   "execution_count": 21,
   "metadata": {},
   "outputs": [
    {
     "data": {
      "image/png": "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\n",
      "text/plain": [
       "<Figure size 1152x432 with 2 Axes>"
      ]
     },
     "metadata": {
      "needs_background": "light"
     },
     "output_type": "display_data"
    }
   ],
   "source": [
    "# Считаем количество пользователей по регионам в каждой группе \n",
    "region_counts_A = group_A.groupby('region')['user_id'].nunique()\n",
    "region_counts_B = group_B.groupby('region')['user_id'].nunique()\n",
    "\n",
    "# Нормируем данные (переводим в проценты)\n",
    "norm_A = (region_counts_A / region_counts_A.sum()) * 100\n",
    "norm_B = (region_counts_B / region_counts_B.sum()) * 100\n",
    "\n",
    "# Создаем фигуру и оси\n",
    "fig, (ax1, ax2) = plt.subplots(1, 2, figsize=(16, 6))\n",
    "fig.suptitle('Распределение пользователей по регионам в группах A и B', fontsize=16, y=1.05)\n",
    "\n",
    "# Столбчатая диаграмма для группы A\n",
    "ax1.bar(norm_A.index, norm_A, color='#66b3ff', alpha=0.7)\n",
    "ax1.set_title('Группа A', fontsize=14)\n",
    "ax1.set_ylabel('Доля пользователей, %', fontsize=12)\n",
    "ax1.set_xlabel('Регион', fontsize=12)\n",
    "ax1.grid(axis='y', linestyle='--', alpha=0.5)\n",
    "\n",
    "# Столбчатая диаграмма для группы B\n",
    "ax2.bar(norm_B.index, norm_B, color='#ff9999', alpha=0.7)\n",
    "ax2.set_title('Группа B', fontsize=14)\n",
    "ax2.set_ylabel('Доля пользователей, %', fontsize=12)\n",
    "ax2.set_xlabel('Регион', fontsize=12)\n",
    "ax2.grid(axis='y', linestyle='--', alpha=0.5)\n",
    "\n",
    "plt.tight_layout()\n",
    "plt.show()"
   ]
  },
  {
   "cell_type": "markdown",
   "metadata": {
    "id": "X2WSZ-sDrSUi"
   },
   "source": [
    "#### Вывод после проверки A/B-теста"
   ]
  },
  {
   "cell_type": "markdown",
   "metadata": {
    "id": "dDELHlAcOi8d"
   },
   "source": [
    "**Выводы:**\n",
    "\n",
    "- Различие в количестве пользователей в двух группах незначительные 0,74%.\n",
    "\n",
    "- Выборки являются независимыми. Пересечение пользователей из тестовой и контрольной групп не обнаружено.\n",
    "\n",
    "- Сохраняется равномерное распределение пользователей тестовой и контрольной групп по категориальным переменным: устройствам и регионам.\n",
    "\n",
    "**Заключение:** A/B-тест проходит корректно, нарушений не наблюдается."
   ]
  },
  {
   "cell_type": "markdown",
   "metadata": {
    "id": "nudRr_BQ0eM2"
   },
   "source": [
    "### Проверка результатов A/B-теста\n",
    "\n",
    "A/B-тест завершён, и у нас есть результаты за все дни проведения эксперимента. Необходимо убедиться в корректности теста и верно интерпретировать результаты."
   ]
  },
  {
   "cell_type": "markdown",
   "metadata": {
    "id": "JVve-YBB0eM2"
   },
   "source": [
    "#### Получение результатов теста и подсчёт основной метрики\n",
    "\n",
    "- Считаим и сохраним в датафрейм `sessions_test` CSV-файл с историческими данными о сессиях пользователей `sessions_project_test.csv`.\n",
    "\n",
    "- В датафрейме `sessions_test` создадим дополнительный столбец `good_session`. В него войдёт значение `1`, если за одну сессию было просмотрено 4 и более страниц, и значение `0`, если просмотрено меньше."
   ]
  },
  {
   "cell_type": "code",
   "execution_count": 22,
   "metadata": {
    "id": "EqRlwMtKPTir"
   },
   "outputs": [
    {
     "data": {
      "text/html": [
       "<div>\n",
       "<style scoped>\n",
       "    .dataframe tbody tr th:only-of-type {\n",
       "        vertical-align: middle;\n",
       "    }\n",
       "\n",
       "    .dataframe tbody tr th {\n",
       "        vertical-align: top;\n",
       "    }\n",
       "\n",
       "    .dataframe thead th {\n",
       "        text-align: right;\n",
       "    }\n",
       "</style>\n",
       "<table border=\"1\" class=\"dataframe\">\n",
       "  <thead>\n",
       "    <tr style=\"text-align: right;\">\n",
       "      <th></th>\n",
       "      <th>user_id</th>\n",
       "      <th>session_id</th>\n",
       "      <th>session_date</th>\n",
       "      <th>session_start_ts</th>\n",
       "      <th>install_date</th>\n",
       "      <th>session_number</th>\n",
       "      <th>registration_flag</th>\n",
       "      <th>page_counter</th>\n",
       "      <th>region</th>\n",
       "      <th>device</th>\n",
       "      <th>test_group</th>\n",
       "      <th>good_session</th>\n",
       "    </tr>\n",
       "  </thead>\n",
       "  <tbody>\n",
       "    <tr>\n",
       "      <th>0</th>\n",
       "      <td>6DAE3B3654DA738E</td>\n",
       "      <td>C69249E26E58F6E2</td>\n",
       "      <td>2025-10-26</td>\n",
       "      <td>2025-10-26 18:15:05</td>\n",
       "      <td>2025-10-16</td>\n",
       "      <td>3</td>\n",
       "      <td>0</td>\n",
       "      <td>3</td>\n",
       "      <td>MENA</td>\n",
       "      <td>Android</td>\n",
       "      <td>A</td>\n",
       "      <td>0</td>\n",
       "    </tr>\n",
       "    <tr>\n",
       "      <th>1</th>\n",
       "      <td>0A3FE5D1DD59110A</td>\n",
       "      <td>66D66D7C9F5181B7</td>\n",
       "      <td>2025-10-21</td>\n",
       "      <td>2025-10-21 17:04:53</td>\n",
       "      <td>2025-10-15</td>\n",
       "      <td>2</td>\n",
       "      <td>1</td>\n",
       "      <td>2</td>\n",
       "      <td>CIS</td>\n",
       "      <td>Android</td>\n",
       "      <td>B</td>\n",
       "      <td>0</td>\n",
       "    </tr>\n",
       "    <tr>\n",
       "      <th>2</th>\n",
       "      <td>2041F1D7AA740B88</td>\n",
       "      <td>50DE51D42215E74C</td>\n",
       "      <td>2025-10-23</td>\n",
       "      <td>2025-10-23 17:39:29</td>\n",
       "      <td>2025-10-19</td>\n",
       "      <td>3</td>\n",
       "      <td>0</td>\n",
       "      <td>2</td>\n",
       "      <td>MENA</td>\n",
       "      <td>Android</td>\n",
       "      <td>A</td>\n",
       "      <td>0</td>\n",
       "    </tr>\n",
       "    <tr>\n",
       "      <th>3</th>\n",
       "      <td>43D7585009168086</td>\n",
       "      <td>5763C0C353C22263</td>\n",
       "      <td>2025-10-24</td>\n",
       "      <td>2025-10-24 15:01:57</td>\n",
       "      <td>2025-10-18</td>\n",
       "      <td>4</td>\n",
       "      <td>0</td>\n",
       "      <td>1</td>\n",
       "      <td>CIS</td>\n",
       "      <td>iPhone</td>\n",
       "      <td>B</td>\n",
       "      <td>0</td>\n",
       "    </tr>\n",
       "    <tr>\n",
       "      <th>4</th>\n",
       "      <td>15AD68B14D62D88C</td>\n",
       "      <td>B1AD09F93C1053BC</td>\n",
       "      <td>2025-10-17</td>\n",
       "      <td>2025-10-17 17:34:39</td>\n",
       "      <td>2025-10-17</td>\n",
       "      <td>1</td>\n",
       "      <td>0</td>\n",
       "      <td>2</td>\n",
       "      <td>MENA</td>\n",
       "      <td>Android</td>\n",
       "      <td>B</td>\n",
       "      <td>0</td>\n",
       "    </tr>\n",
       "  </tbody>\n",
       "</table>\n",
       "</div>"
      ],
      "text/plain": [
       "            user_id        session_id session_date     session_start_ts  \\\n",
       "0  6DAE3B3654DA738E  C69249E26E58F6E2   2025-10-26  2025-10-26 18:15:05   \n",
       "1  0A3FE5D1DD59110A  66D66D7C9F5181B7   2025-10-21  2025-10-21 17:04:53   \n",
       "2  2041F1D7AA740B88  50DE51D42215E74C   2025-10-23  2025-10-23 17:39:29   \n",
       "3  43D7585009168086  5763C0C353C22263   2025-10-24  2025-10-24 15:01:57   \n",
       "4  15AD68B14D62D88C  B1AD09F93C1053BC   2025-10-17  2025-10-17 17:34:39   \n",
       "\n",
       "  install_date  session_number  registration_flag  page_counter region  \\\n",
       "0   2025-10-16               3                  0             3   MENA   \n",
       "1   2025-10-15               2                  1             2    CIS   \n",
       "2   2025-10-19               3                  0             2   MENA   \n",
       "3   2025-10-18               4                  0             1    CIS   \n",
       "4   2025-10-17               1                  0             2   MENA   \n",
       "\n",
       "    device test_group  good_session  \n",
       "0  Android          A             0  \n",
       "1  Android          B             0  \n",
       "2  Android          A             0  \n",
       "3   iPhone          B             0  \n",
       "4  Android          B             0  "
      ]
     },
     "execution_count": 22,
     "metadata": {},
     "output_type": "execute_result"
    }
   ],
   "source": [
    "# Считываем CSV-файл в датафрейм\n",
    "sessions_test = pd.read_csv('https://code.s3.yandex.net/datasets/sessions_project_test.csv')\n",
    "\n",
    "# Добавляем столбец good_session\n",
    "sessions_test['good_session'] = (sessions_test['page_counter'] >= 4).astype(int)\n",
    "\n",
    "# проверим добавление столбца\n",
    "sessions_test.head()"
   ]
  },
  {
   "cell_type": "markdown",
   "metadata": {
    "id": "aeYhrMYy0eM2"
   },
   "source": [
    "#### Проверка корректности результатов теста\n",
    "\n",
    "- Рассчитаем количество уникальных сессий для каждого дня и обеих тестовых групп, используя группировку.\n",
    "\n",
    "- Проверим, что количество уникальных дневных сессий в двух выборках не различается или различия не статистически значимы. Используйте статистический тест, который позволит сделать вывод о равенстве средних двух выборок."
   ]
  },
  {
   "cell_type": "code",
   "execution_count": 23,
   "metadata": {},
   "outputs": [],
   "source": [
    "# Приведем дату к нужному типу\n",
    "sessions_test['session_date'] = pd.to_datetime(sessions_test['session_date'])"
   ]
  },
  {
   "cell_type": "code",
   "execution_count": 24,
   "metadata": {},
   "outputs": [
    {
     "data": {
      "text/html": [
       "<div>\n",
       "<style scoped>\n",
       "    .dataframe tbody tr th:only-of-type {\n",
       "        vertical-align: middle;\n",
       "    }\n",
       "\n",
       "    .dataframe tbody tr th {\n",
       "        vertical-align: top;\n",
       "    }\n",
       "\n",
       "    .dataframe thead th {\n",
       "        text-align: right;\n",
       "    }\n",
       "</style>\n",
       "<table border=\"1\" class=\"dataframe\">\n",
       "  <thead>\n",
       "    <tr style=\"text-align: right;\">\n",
       "      <th></th>\n",
       "      <th>session_date</th>\n",
       "      <th>test_group</th>\n",
       "      <th>session_id</th>\n",
       "    </tr>\n",
       "  </thead>\n",
       "  <tbody>\n",
       "    <tr>\n",
       "      <th>0</th>\n",
       "      <td>2025-10-14</td>\n",
       "      <td>A</td>\n",
       "      <td>1502</td>\n",
       "    </tr>\n",
       "    <tr>\n",
       "      <th>1</th>\n",
       "      <td>2025-10-14</td>\n",
       "      <td>B</td>\n",
       "      <td>1628</td>\n",
       "    </tr>\n",
       "    <tr>\n",
       "      <th>2</th>\n",
       "      <td>2025-10-15</td>\n",
       "      <td>A</td>\n",
       "      <td>2235</td>\n",
       "    </tr>\n",
       "    <tr>\n",
       "      <th>3</th>\n",
       "      <td>2025-10-15</td>\n",
       "      <td>B</td>\n",
       "      <td>2283</td>\n",
       "    </tr>\n",
       "    <tr>\n",
       "      <th>4</th>\n",
       "      <td>2025-10-16</td>\n",
       "      <td>A</td>\n",
       "      <td>3280</td>\n",
       "    </tr>\n",
       "    <tr>\n",
       "      <th>5</th>\n",
       "      <td>2025-10-16</td>\n",
       "      <td>B</td>\n",
       "      <td>3241</td>\n",
       "    </tr>\n",
       "    <tr>\n",
       "      <th>6</th>\n",
       "      <td>2025-10-17</td>\n",
       "      <td>A</td>\n",
       "      <td>4089</td>\n",
       "    </tr>\n",
       "    <tr>\n",
       "      <th>7</th>\n",
       "      <td>2025-10-17</td>\n",
       "      <td>B</td>\n",
       "      <td>4054</td>\n",
       "    </tr>\n",
       "    <tr>\n",
       "      <th>8</th>\n",
       "      <td>2025-10-18</td>\n",
       "      <td>A</td>\n",
       "      <td>5013</td>\n",
       "    </tr>\n",
       "    <tr>\n",
       "      <th>9</th>\n",
       "      <td>2025-10-18</td>\n",
       "      <td>B</td>\n",
       "      <td>5059</td>\n",
       "    </tr>\n",
       "    <tr>\n",
       "      <th>10</th>\n",
       "      <td>2025-10-19</td>\n",
       "      <td>A</td>\n",
       "      <td>6535</td>\n",
       "    </tr>\n",
       "    <tr>\n",
       "      <th>11</th>\n",
       "      <td>2025-10-19</td>\n",
       "      <td>B</td>\n",
       "      <td>6779</td>\n",
       "    </tr>\n",
       "    <tr>\n",
       "      <th>12</th>\n",
       "      <td>2025-10-20</td>\n",
       "      <td>A</td>\n",
       "      <td>5837</td>\n",
       "    </tr>\n",
       "    <tr>\n",
       "      <th>13</th>\n",
       "      <td>2025-10-20</td>\n",
       "      <td>B</td>\n",
       "      <td>6089</td>\n",
       "    </tr>\n",
       "    <tr>\n",
       "      <th>14</th>\n",
       "      <td>2025-10-21</td>\n",
       "      <td>A</td>\n",
       "      <td>3927</td>\n",
       "    </tr>\n",
       "    <tr>\n",
       "      <th>15</th>\n",
       "      <td>2025-10-21</td>\n",
       "      <td>B</td>\n",
       "      <td>3981</td>\n",
       "    </tr>\n",
       "    <tr>\n",
       "      <th>16</th>\n",
       "      <td>2025-10-22</td>\n",
       "      <td>A</td>\n",
       "      <td>3083</td>\n",
       "    </tr>\n",
       "    <tr>\n",
       "      <th>17</th>\n",
       "      <td>2025-10-22</td>\n",
       "      <td>B</td>\n",
       "      <td>3111</td>\n",
       "    </tr>\n",
       "    <tr>\n",
       "      <th>18</th>\n",
       "      <td>2025-10-23</td>\n",
       "      <td>A</td>\n",
       "      <td>2470</td>\n",
       "    </tr>\n",
       "    <tr>\n",
       "      <th>19</th>\n",
       "      <td>2025-10-23</td>\n",
       "      <td>B</td>\n",
       "      <td>2548</td>\n",
       "    </tr>\n",
       "    <tr>\n",
       "      <th>20</th>\n",
       "      <td>2025-10-24</td>\n",
       "      <td>A</td>\n",
       "      <td>2090</td>\n",
       "    </tr>\n",
       "    <tr>\n",
       "      <th>21</th>\n",
       "      <td>2025-10-24</td>\n",
       "      <td>B</td>\n",
       "      <td>2068</td>\n",
       "    </tr>\n",
       "    <tr>\n",
       "      <th>22</th>\n",
       "      <td>2025-10-25</td>\n",
       "      <td>A</td>\n",
       "      <td>1897</td>\n",
       "    </tr>\n",
       "    <tr>\n",
       "      <th>23</th>\n",
       "      <td>2025-10-25</td>\n",
       "      <td>B</td>\n",
       "      <td>1814</td>\n",
       "    </tr>\n",
       "    <tr>\n",
       "      <th>24</th>\n",
       "      <td>2025-10-26</td>\n",
       "      <td>A</td>\n",
       "      <td>1669</td>\n",
       "    </tr>\n",
       "    <tr>\n",
       "      <th>25</th>\n",
       "      <td>2025-10-26</td>\n",
       "      <td>B</td>\n",
       "      <td>1692</td>\n",
       "    </tr>\n",
       "    <tr>\n",
       "      <th>26</th>\n",
       "      <td>2025-10-27</td>\n",
       "      <td>A</td>\n",
       "      <td>1454</td>\n",
       "    </tr>\n",
       "    <tr>\n",
       "      <th>27</th>\n",
       "      <td>2025-10-27</td>\n",
       "      <td>B</td>\n",
       "      <td>1517</td>\n",
       "    </tr>\n",
       "    <tr>\n",
       "      <th>28</th>\n",
       "      <td>2025-10-28</td>\n",
       "      <td>A</td>\n",
       "      <td>1279</td>\n",
       "    </tr>\n",
       "    <tr>\n",
       "      <th>29</th>\n",
       "      <td>2025-10-28</td>\n",
       "      <td>B</td>\n",
       "      <td>1289</td>\n",
       "    </tr>\n",
       "    <tr>\n",
       "      <th>30</th>\n",
       "      <td>2025-10-29</td>\n",
       "      <td>A</td>\n",
       "      <td>1068</td>\n",
       "    </tr>\n",
       "    <tr>\n",
       "      <th>31</th>\n",
       "      <td>2025-10-29</td>\n",
       "      <td>B</td>\n",
       "      <td>1131</td>\n",
       "    </tr>\n",
       "    <tr>\n",
       "      <th>32</th>\n",
       "      <td>2025-10-30</td>\n",
       "      <td>A</td>\n",
       "      <td>887</td>\n",
       "    </tr>\n",
       "    <tr>\n",
       "      <th>33</th>\n",
       "      <td>2025-10-30</td>\n",
       "      <td>B</td>\n",
       "      <td>876</td>\n",
       "    </tr>\n",
       "    <tr>\n",
       "      <th>34</th>\n",
       "      <td>2025-10-31</td>\n",
       "      <td>A</td>\n",
       "      <td>644</td>\n",
       "    </tr>\n",
       "    <tr>\n",
       "      <th>35</th>\n",
       "      <td>2025-10-31</td>\n",
       "      <td>B</td>\n",
       "      <td>669</td>\n",
       "    </tr>\n",
       "    <tr>\n",
       "      <th>36</th>\n",
       "      <td>2025-11-01</td>\n",
       "      <td>A</td>\n",
       "      <td>434</td>\n",
       "    </tr>\n",
       "    <tr>\n",
       "      <th>37</th>\n",
       "      <td>2025-11-01</td>\n",
       "      <td>B</td>\n",
       "      <td>465</td>\n",
       "    </tr>\n",
       "    <tr>\n",
       "      <th>38</th>\n",
       "      <td>2025-11-02</td>\n",
       "      <td>A</td>\n",
       "      <td>158</td>\n",
       "    </tr>\n",
       "    <tr>\n",
       "      <th>39</th>\n",
       "      <td>2025-11-02</td>\n",
       "      <td>B</td>\n",
       "      <td>160</td>\n",
       "    </tr>\n",
       "  </tbody>\n",
       "</table>\n",
       "</div>"
      ],
      "text/plain": [
       "   session_date test_group  session_id\n",
       "0    2025-10-14          A        1502\n",
       "1    2025-10-14          B        1628\n",
       "2    2025-10-15          A        2235\n",
       "3    2025-10-15          B        2283\n",
       "4    2025-10-16          A        3280\n",
       "5    2025-10-16          B        3241\n",
       "6    2025-10-17          A        4089\n",
       "7    2025-10-17          B        4054\n",
       "8    2025-10-18          A        5013\n",
       "9    2025-10-18          B        5059\n",
       "10   2025-10-19          A        6535\n",
       "11   2025-10-19          B        6779\n",
       "12   2025-10-20          A        5837\n",
       "13   2025-10-20          B        6089\n",
       "14   2025-10-21          A        3927\n",
       "15   2025-10-21          B        3981\n",
       "16   2025-10-22          A        3083\n",
       "17   2025-10-22          B        3111\n",
       "18   2025-10-23          A        2470\n",
       "19   2025-10-23          B        2548\n",
       "20   2025-10-24          A        2090\n",
       "21   2025-10-24          B        2068\n",
       "22   2025-10-25          A        1897\n",
       "23   2025-10-25          B        1814\n",
       "24   2025-10-26          A        1669\n",
       "25   2025-10-26          B        1692\n",
       "26   2025-10-27          A        1454\n",
       "27   2025-10-27          B        1517\n",
       "28   2025-10-28          A        1279\n",
       "29   2025-10-28          B        1289\n",
       "30   2025-10-29          A        1068\n",
       "31   2025-10-29          B        1131\n",
       "32   2025-10-30          A         887\n",
       "33   2025-10-30          B         876\n",
       "34   2025-10-31          A         644\n",
       "35   2025-10-31          B         669\n",
       "36   2025-11-01          A         434\n",
       "37   2025-11-01          B         465\n",
       "38   2025-11-02          A         158\n",
       "39   2025-11-02          B         160"
      ]
     },
     "execution_count": 24,
     "metadata": {},
     "output_type": "execute_result"
    }
   ],
   "source": [
    "# Группируем по дате и тестовой группе, считаем уникальные сессии\n",
    "daily_sessions = sessions_test.groupby(['session_date', 'test_group'])['session_id'].nunique().reset_index()\n",
    "daily_sessions"
   ]
  },
  {
   "cell_type": "code",
   "execution_count": 25,
   "metadata": {},
   "outputs": [
    {
     "name": "stdout",
     "output_type": "stream",
     "text": [
      "Результат t-теста:\n",
      "t-статистика = -0.078, p-value = 0.9382\n",
      "Вывод: Нет статистически значимых различий (p > 0.05). Группы сопоставимы.\n"
     ]
    }
   ],
   "source": [
    "# Разделяем на две группы\n",
    "group_a = daily_sessions[daily_sessions['test_group'] == 'A']['session_id']\n",
    "group_b = daily_sessions[daily_sessions['test_group'] == 'B']['session_id']\n",
    "\n",
    "# Проводим t-тест (по умолчанию equal_var=True, Уэлч = False)\n",
    "t_stat, p_value = ttest_ind(group_a, group_b, equal_var=False)  # Уэлч, если дисперсии неравны\n",
    "\n",
    "print(f\"Результат t-теста:\")\n",
    "print(f\"t-статистика = {t_stat:.3f}, p-value = {p_value:.4f}\")\n",
    "\n",
    "# Интерпретация\n",
    "if p_value > 0.05:\n",
    "    print(\"Вывод: Нет статистически значимых различий (p > 0.05). Группы сопоставимы.\")\n",
    "else:\n",
    "    print(\"Вывод: Есть статистически значимые различия (p ≤ 0.05). Группы могут быть несбалансированы.\")"
   ]
  },
  {
   "cell_type": "markdown",
   "metadata": {
    "id": "7kwRxzg70eM3"
   },
   "source": [
    "#### Сравнение доли успешных сессий\n",
    "\n",
    "Используя созданный столбец `good_session` и рассчитаем долю успешных сессий для выборок A и B, а также разницу в этом показателе. "
   ]
  },
  {
   "cell_type": "code",
   "execution_count": 26,
   "metadata": {
    "id": "Uku-V1CpPRCz"
   },
   "outputs": [
    {
     "name": "stdout",
     "output_type": "stream",
     "text": [
      "           test_group      interpretation\n",
      "0                   A              30.77%\n",
      "1                   B              31.83%\n",
      "2  Difference (A - B)  Difference: -1.06%\n"
     ]
    }
   ],
   "source": [
    "# Группируем по test_group и считаем среднее good_session (это и будет доля 1)\n",
    "group_results = sessions_test.groupby('test_group')['good_session'].mean().reset_index()\n",
    "\n",
    "# Переименовываем столбец для ясности\n",
    "group_results = group_results.rename(columns={'good_session': 'good_session_rate'})\n",
    "\n",
    "# Получаем значения для каждой группы\n",
    "rate_a = group_results[group_results['test_group'] == 'A']['good_session_rate'].values[0]\n",
    "rate_b = group_results[group_results['test_group'] == 'B']['good_session_rate'].values[0]\n",
    "\n",
    "# Рассчитываем разницу\n",
    "difference = rate_a - rate_b\n",
    "\n",
    "# Создаем DataFrame для красивого вывода\n",
    "result = pd.DataFrame({\n",
    "    'test_group': ['A', 'B', 'Difference (A - B)'],\n",
    "    'good_session_rate': [rate_a, rate_b, difference],\n",
    "    'interpretation': [\n",
    "        f\"{rate_a:.2%}\",\n",
    "        f\"{rate_b:.2%}\",\n",
    "        f\"Difference: {difference:.2%}\"\n",
    "    ]\n",
    "})\n",
    "\n",
    "# Выводим результат\n",
    "print(result[['test_group', 'interpretation']])"
   ]
  },
  {
   "cell_type": "markdown",
   "metadata": {
    "id": "9fMFuja10eM4"
   },
   "source": [
    "#### Насколько статистически значимо изменение ключевой метрики\n",
    "\n",
    "На предыдущем шаге мы убедились, что количество успешных сессий в тестовой выборке примерно на 1.1% выше, чем в контрольной, но делать выводы только на основе этого значения будет некорректно. Для принятия решения всегда необходимо отвечать на вопрос: является ли это изменение статистически значимым.\n",
    "\n",
    "- Используя статистический тест, рассчитаим, является ли изменение в метрике доли успешных сессий статистически значимым.\n",
    "\n",
    "- Выведим на экран полученное значение p-value и свои выводы о статистической значимости. Уровень значимости в эксперименте был выбран на уровне 0.05."
   ]
  },
  {
   "cell_type": "code",
   "execution_count": 27,
   "metadata": {
    "id": "gFvhRGwlPLS0"
   },
   "outputs": [
    {
     "name": "stdout",
     "output_type": "stream",
     "text": [
      "Z-статистика: -3.6027\n",
      "p-value: 0.0003\n",
      "\n",
      "Вывод: Разница статистически значима (p-value < 0.05).\n"
     ]
    }
   ],
   "source": [
    "# Считаем количество успешных и общее количество сессий в каждой группе\n",
    "success_a = sessions_test[sessions_test['test_group'] == 'A']['good_session'].sum()\n",
    "total_a = sessions_test[sessions_test['test_group'] == 'A'].shape[0]\n",
    "\n",
    "success_b = sessions_test[sessions_test['test_group'] == 'B']['good_session'].sum()\n",
    "total_b = sessions_test[sessions_test['test_group'] == 'B'].shape[0]\n",
    "\n",
    "# Проводим Z-тест для пропорций\n",
    "count = [success_a, success_b]  # кол-во успешных сессий\n",
    "nobs = [total_a, total_b]       # общее кол-во сессий\n",
    "z_stat, p_value = proportions_ztest(count, nobs, alternative='two-sided')\n",
    "\n",
    "print(f\"Z-статистика: {z_stat:.4f}\")\n",
    "print(f\"p-value: {p_value:.4f}\")\n",
    "\n",
    "# Проверяем статистическую значимость (α = 0.05)\n",
    "alpha = 0.05\n",
    "if p_value < alpha:\n",
    "    print(\"\\nВывод: Разница статистически значима (p-value < 0.05).\")\n",
    "else:\n",
    "    print(\"\\nВывод: Разница статистически НЕ значима (p-value ≥ 0.05).\")"
   ]
  },
  {
   "cell_type": "markdown",
   "metadata": {
    "id": "GnJrkY9Q63zS"
   },
   "source": [
    "#### Вывод по результатам A/B-эксперимента"
   ]
  },
  {
   "cell_type": "markdown",
   "metadata": {
    "id": "rri8KRIgPMrW"
   },
   "source": [
    "В результате проведенной работы были рассчитаны параметры A/B-теста, которые позволи проверить гипотезу (новый алгоритм рекомендаций, будет показывать более интересный контент для каждого пользователя ), и проанализировать его результаты.\n",
    "\n",
    "Характеристики проведённого эксперимента:\n",
    "- Уровень значимости — 0.05.\n",
    "- Вероятность ошибки второго рода — 0.2.\n",
    "- Мощность теста - 0,8.\n",
    "- Минимальный детектируемый эффект, или MDE, — 3%.количество задействованных пользователей и длительность эксперимента.\n",
    "\n",
    "Внедрение нового алгоритма рекомендаций на рост ключевой метрики повлияло незначительно количество успешных сессий в тестовой выборке примерно на 1.1% выше, чем в контрольной.\n",
    "\n",
    "Был проведен Z-тест пропорций\n",
    "Значение p-value для оценки статистической значимости выявленного эффекта составило p-value: 0.0003 - разница статистически значима.\n",
    "\n",
    "Внедрять новоовведение в приложение не стоит. Если бизнесу важен  эффект в 1.1%, нужно планировать тест с MDE ≤1%, что приведет к большому увеличению групп и времени тестирования.\n"
   ]
  }
 ],
 "metadata": {
  "ExecuteTimeLog": [
   {
    "duration": 2599,
    "start_time": "2025-05-20T09:56:32.171Z"
   },
   {
    "duration": 17,
    "start_time": "2025-05-20T09:57:00.563Z"
   },
   {
    "duration": 11,
    "start_time": "2025-05-20T09:57:36.252Z"
   },
   {
    "duration": 145,
    "start_time": "2025-05-20T09:58:21.114Z"
   },
   {
    "duration": 2010,
    "start_time": "2025-05-20T09:58:38.989Z"
   },
   {
    "duration": 77,
    "start_time": "2025-05-20T10:07:19.255Z"
   },
   {
    "duration": 599,
    "start_time": "2025-05-20T10:07:54.514Z"
   },
   {
    "duration": 587,
    "start_time": "2025-05-20T10:13:33.793Z"
   },
   {
    "duration": 630,
    "start_time": "2025-05-20T10:15:55.985Z"
   },
   {
    "duration": 839,
    "start_time": "2025-05-20T10:27:07.396Z"
   },
   {
    "duration": 2590,
    "start_time": "2025-05-20T10:43:01.266Z"
   },
   {
    "duration": 108,
    "start_time": "2025-05-20T10:51:23.395Z"
   },
   {
    "duration": 30,
    "start_time": "2025-05-20T10:54:41.326Z"
   },
   {
    "duration": 162,
    "start_time": "2025-05-20T10:56:01.768Z"
   },
   {
    "duration": 4,
    "start_time": "2025-05-20T10:56:35.617Z"
   },
   {
    "duration": 6,
    "start_time": "2025-05-20T10:58:19.101Z"
   },
   {
    "duration": 77,
    "start_time": "2025-05-20T11:08:40.713Z"
   },
   {
    "duration": 670,
    "start_time": "2025-05-20T11:17:28.738Z"
   },
   {
    "duration": 13,
    "start_time": "2025-05-20T11:17:38.868Z"
   },
   {
    "duration": 704,
    "start_time": "2025-05-20T11:19:15.641Z"
   },
   {
    "duration": 11,
    "start_time": "2025-05-20T11:19:22.913Z"
   },
   {
    "duration": 2581,
    "start_time": "2025-05-20T11:23:48.405Z"
   },
   {
    "duration": 1933,
    "start_time": "2025-05-20T11:24:05.020Z"
   },
   {
    "duration": 807,
    "start_time": "2025-05-20T11:52:32.723Z"
   },
   {
    "duration": 65,
    "start_time": "2025-05-20T11:58:25.817Z"
   },
   {
    "duration": 817,
    "start_time": "2025-05-20T11:58:35.683Z"
   },
   {
    "duration": 257,
    "start_time": "2025-05-20T11:58:56.513Z"
   },
   {
    "duration": 244,
    "start_time": "2025-05-20T12:00:26.663Z"
   },
   {
    "duration": 68,
    "start_time": "2025-05-20T12:03:35.198Z"
   },
   {
    "duration": 69,
    "start_time": "2025-05-20T12:04:00.070Z"
   },
   {
    "duration": 839,
    "start_time": "2025-05-20T12:09:36.405Z"
   },
   {
    "duration": 871,
    "start_time": "2025-05-20T12:09:54.186Z"
   },
   {
    "duration": 847,
    "start_time": "2025-05-20T12:11:17.604Z"
   },
   {
    "duration": 880,
    "start_time": "2025-05-20T12:14:41.501Z"
   },
   {
    "duration": 648,
    "start_time": "2025-05-20T12:20:02.450Z"
   },
   {
    "duration": 954,
    "start_time": "2025-05-20T12:20:27.210Z"
   },
   {
    "duration": 868,
    "start_time": "2025-05-20T12:20:43.609Z"
   },
   {
    "duration": 879,
    "start_time": "2025-05-20T12:21:32.909Z"
   },
   {
    "duration": 849,
    "start_time": "2025-05-20T12:26:40.297Z"
   },
   {
    "duration": 880,
    "start_time": "2025-05-20T12:27:57.657Z"
   },
   {
    "duration": 847,
    "start_time": "2025-05-20T12:28:06.604Z"
   },
   {
    "duration": 857,
    "start_time": "2025-05-20T12:28:22.381Z"
   },
   {
    "duration": 859,
    "start_time": "2025-05-20T12:28:46.169Z"
   },
   {
    "duration": 846,
    "start_time": "2025-05-20T12:29:27.989Z"
   },
   {
    "duration": 858,
    "start_time": "2025-05-20T12:29:51.621Z"
   },
   {
    "duration": 948,
    "start_time": "2025-05-20T12:30:56.223Z"
   },
   {
    "duration": 838,
    "start_time": "2025-05-20T12:34:13.621Z"
   },
   {
    "duration": 812,
    "start_time": "2025-05-20T12:34:34.771Z"
   },
   {
    "duration": 108,
    "start_time": "2025-05-20T12:40:05.945Z"
   },
   {
    "duration": 255,
    "start_time": "2025-05-20T12:40:21.859Z"
   },
   {
    "duration": 218,
    "start_time": "2025-05-20T12:40:57.823Z"
   },
   {
    "duration": 228,
    "start_time": "2025-05-20T12:41:24.117Z"
   },
   {
    "duration": 227,
    "start_time": "2025-05-20T12:41:43.791Z"
   },
   {
    "duration": 229,
    "start_time": "2025-05-20T12:43:36.399Z"
   },
   {
    "duration": 6,
    "start_time": "2025-05-20T12:51:18.646Z"
   },
   {
    "duration": 19,
    "start_time": "2025-05-20T12:51:32.736Z"
   },
   {
    "duration": 14,
    "start_time": "2025-05-20T12:52:55.696Z"
   },
   {
    "duration": 20,
    "start_time": "2025-05-20T12:58:22.803Z"
   },
   {
    "duration": 13,
    "start_time": "2025-05-20T13:08:44.367Z"
   },
   {
    "duration": 163,
    "start_time": "2025-05-20T13:12:02.905Z"
   },
   {
    "duration": 48,
    "start_time": "2025-05-20T13:15:18.756Z"
   },
   {
    "duration": 9,
    "start_time": "2025-05-20T13:21:09.335Z"
   },
   {
    "duration": 10,
    "start_time": "2025-05-20T13:21:37.816Z"
   },
   {
    "duration": 10,
    "start_time": "2025-05-20T13:22:29.264Z"
   },
   {
    "duration": 13,
    "start_time": "2025-05-20T13:24:09.894Z"
   },
   {
    "duration": 11,
    "start_time": "2025-05-20T13:25:59.186Z"
   },
   {
    "duration": 137,
    "start_time": "2025-05-20T13:26:46.472Z"
   },
   {
    "duration": 10,
    "start_time": "2025-05-20T13:27:04.539Z"
   },
   {
    "duration": 124,
    "start_time": "2025-05-20T13:27:10.173Z"
   },
   {
    "duration": 209,
    "start_time": "2025-05-20T13:28:25.393Z"
   },
   {
    "duration": 10,
    "start_time": "2025-05-20T13:29:38.289Z"
   },
   {
    "duration": 6,
    "start_time": "2025-05-20T13:33:37.645Z"
   },
   {
    "duration": 9,
    "start_time": "2025-05-20T13:34:16.249Z"
   },
   {
    "duration": 396,
    "start_time": "2025-05-20T13:34:43.843Z"
   },
   {
    "duration": 71,
    "start_time": "2025-05-20T13:37:03.604Z"
   },
   {
    "duration": 84,
    "start_time": "2025-05-20T13:37:28.729Z"
   },
   {
    "duration": 95,
    "start_time": "2025-05-20T13:43:55.511Z"
   },
   {
    "duration": 9,
    "start_time": "2025-05-20T13:48:42.320Z"
   },
   {
    "duration": 369,
    "start_time": "2025-05-20T13:53:00.071Z"
   },
   {
    "duration": 72,
    "start_time": "2025-05-20T13:53:47.250Z"
   },
   {
    "duration": 377,
    "start_time": "2025-05-20T13:54:02.808Z"
   },
   {
    "duration": 363,
    "start_time": "2025-05-20T13:57:33.484Z"
   },
   {
    "duration": 371,
    "start_time": "2025-05-20T13:59:14.552Z"
   },
   {
    "duration": 368,
    "start_time": "2025-05-20T14:00:51.155Z"
   },
   {
    "duration": 606,
    "start_time": "2025-05-20T14:12:25.461Z"
   },
   {
    "duration": 73,
    "start_time": "2025-05-20T14:16:58.614Z"
   },
   {
    "duration": 15,
    "start_time": "2025-05-20T14:17:11.574Z"
   },
   {
    "duration": 13,
    "start_time": "2025-05-20T14:18:26.790Z"
   },
   {
    "duration": 50,
    "start_time": "2025-05-20T14:19:19.238Z"
   },
   {
    "duration": 14,
    "start_time": "2025-05-20T14:20:20.374Z"
   },
   {
    "duration": 2020,
    "start_time": "2025-05-20T14:20:55.083Z"
   },
   {
    "duration": 9,
    "start_time": "2025-05-20T14:21:10.513Z"
   },
   {
    "duration": 92,
    "start_time": "2025-05-20T14:49:57.821Z"
   },
   {
    "duration": 121,
    "start_time": "2025-05-20T14:50:09.258Z"
   },
   {
    "duration": 23,
    "start_time": "2025-05-20T14:52:04.942Z"
   },
   {
    "duration": 52,
    "start_time": "2025-05-20T14:52:39.761Z"
   },
   {
    "duration": 46,
    "start_time": "2025-05-20T14:52:49.331Z"
   },
   {
    "duration": 1805,
    "start_time": "2025-05-20T15:10:33.778Z"
   },
   {
    "duration": 15,
    "start_time": "2025-05-20T15:11:28.169Z"
   },
   {
    "duration": 45,
    "start_time": "2025-05-20T15:12:12.242Z"
   },
   {
    "duration": 46,
    "start_time": "2025-05-20T15:14:06.250Z"
   },
   {
    "duration": 7,
    "start_time": "2025-05-20T15:14:10.573Z"
   },
   {
    "duration": 19,
    "start_time": "2025-05-20T15:26:39.100Z"
   },
   {
    "duration": 17,
    "start_time": "2025-05-20T15:28:01.117Z"
   },
   {
    "duration": 2020,
    "start_time": "2025-05-20T15:46:08.796Z"
   },
   {
    "duration": 55,
    "start_time": "2025-05-20T15:48:27.922Z"
   },
   {
    "duration": 61,
    "start_time": "2025-05-20T15:48:39.121Z"
   },
   {
    "duration": 63,
    "start_time": "2025-05-20T16:02:26.714Z"
   },
   {
    "duration": 3141,
    "start_time": "2025-05-20T16:21:01.252Z"
   },
   {
    "duration": 15,
    "start_time": "2025-05-20T16:21:04.395Z"
   },
   {
    "duration": 235,
    "start_time": "2025-05-20T16:21:04.412Z"
   },
   {
    "duration": 111,
    "start_time": "2025-05-20T16:21:04.649Z"
   },
   {
    "duration": 622,
    "start_time": "2025-05-20T16:21:04.762Z"
   },
   {
    "duration": 50,
    "start_time": "2025-05-20T16:21:05.386Z"
   },
   {
    "duration": 493,
    "start_time": "2025-05-20T16:21:05.438Z"
   },
   {
    "duration": 365,
    "start_time": "2025-05-20T16:21:05.933Z"
   },
   {
    "duration": 215,
    "start_time": "2025-05-20T16:21:06.300Z"
   },
   {
    "duration": 15,
    "start_time": "2025-05-20T16:21:06.519Z"
   },
   {
    "duration": 95,
    "start_time": "2025-05-20T16:21:06.536Z"
   },
   {
    "duration": 301,
    "start_time": "2025-05-20T16:21:06.633Z"
   },
   {
    "duration": 45,
    "start_time": "2025-05-20T16:21:06.936Z"
   },
   {
    "duration": 11,
    "start_time": "2025-05-20T16:21:06.983Z"
   },
   {
    "duration": 11,
    "start_time": "2025-05-20T16:21:06.996Z"
   },
   {
    "duration": 106,
    "start_time": "2025-05-20T16:21:07.009Z"
   },
   {
    "duration": 10,
    "start_time": "2025-05-20T16:21:07.117Z"
   },
   {
    "duration": 392,
    "start_time": "2025-05-20T16:21:07.129Z"
   },
   {
    "duration": 381,
    "start_time": "2025-05-20T16:21:07.523Z"
   },
   {
    "duration": 481,
    "start_time": "2025-05-20T16:21:07.906Z"
   },
   {
    "duration": 20,
    "start_time": "2025-05-20T16:21:08.389Z"
   },
   {
    "duration": 50,
    "start_time": "2025-05-20T16:21:08.410Z"
   },
   {
    "duration": 20,
    "start_time": "2025-05-20T16:21:08.461Z"
   },
   {
    "duration": 35,
    "start_time": "2025-05-20T16:21:08.483Z"
   },
   {
    "duration": 67,
    "start_time": "2025-05-20T16:21:08.520Z"
   },
   {
    "duration": 3268,
    "start_time": "2025-05-20T19:15:06.169Z"
   },
   {
    "duration": 17,
    "start_time": "2025-05-20T19:15:09.439Z"
   },
   {
    "duration": 213,
    "start_time": "2025-05-20T19:15:09.458Z"
   },
   {
    "duration": 137,
    "start_time": "2025-05-20T19:15:09.672Z"
   },
   {
    "duration": 605,
    "start_time": "2025-05-20T19:15:09.812Z"
   },
   {
    "duration": 60,
    "start_time": "2025-05-20T19:15:10.418Z"
   },
   {
    "duration": 453,
    "start_time": "2025-05-20T19:15:10.480Z"
   },
   {
    "duration": 388,
    "start_time": "2025-05-20T19:15:10.935Z"
   },
   {
    "duration": 228,
    "start_time": "2025-05-20T19:15:11.325Z"
   },
   {
    "duration": 23,
    "start_time": "2025-05-20T19:15:11.555Z"
   },
   {
    "duration": 27,
    "start_time": "2025-05-20T19:15:11.581Z"
   },
   {
    "duration": 191,
    "start_time": "2025-05-20T19:15:11.610Z"
   },
   {
    "duration": 39,
    "start_time": "2025-05-20T19:15:11.804Z"
   },
   {
    "duration": 9,
    "start_time": "2025-05-20T19:15:11.846Z"
   },
   {
    "duration": 5,
    "start_time": "2025-05-20T19:15:11.857Z"
   },
   {
    "duration": 138,
    "start_time": "2025-05-20T19:15:11.864Z"
   },
   {
    "duration": 23,
    "start_time": "2025-05-20T19:15:12.005Z"
   },
   {
    "duration": 436,
    "start_time": "2025-05-20T19:15:12.030Z"
   },
   {
    "duration": 379,
    "start_time": "2025-05-20T19:15:12.477Z"
   },
   {
    "duration": 577,
    "start_time": "2025-05-20T19:15:12.857Z"
   },
   {
    "duration": 20,
    "start_time": "2025-05-20T19:15:13.435Z"
   },
   {
    "duration": 75,
    "start_time": "2025-05-20T19:15:13.457Z"
   },
   {
    "duration": 7,
    "start_time": "2025-05-20T19:15:13.534Z"
   },
   {
    "duration": 165,
    "start_time": "2025-05-20T19:15:13.542Z"
   },
   {
    "duration": 72,
    "start_time": "2025-05-20T19:15:13.709Z"
   },
   {
    "duration": 4719,
    "start_time": "2025-05-23T10:20:38.616Z"
   },
   {
    "duration": 15,
    "start_time": "2025-05-23T10:20:43.337Z"
   },
   {
    "duration": 171,
    "start_time": "2025-05-23T10:20:43.354Z"
   },
   {
    "duration": 117,
    "start_time": "2025-05-23T10:20:43.527Z"
   },
   {
    "duration": 93,
    "start_time": "2025-05-23T10:23:18.295Z"
   },
   {
    "duration": 650,
    "start_time": "2025-05-23T10:26:09.716Z"
   },
   {
    "duration": 669,
    "start_time": "2025-05-23T10:27:22.358Z"
   },
   {
    "duration": 605,
    "start_time": "2025-05-23T10:28:26.727Z"
   },
   {
    "duration": 47,
    "start_time": "2025-05-23T10:28:29.722Z"
   },
   {
    "duration": 565,
    "start_time": "2025-05-23T10:28:40.894Z"
   },
   {
    "duration": 334,
    "start_time": "2025-05-23T10:29:05.972Z"
   },
   {
    "duration": 205,
    "start_time": "2025-05-23T10:29:24.542Z"
   },
   {
    "duration": 14,
    "start_time": "2025-05-23T10:30:07.050Z"
   },
   {
    "duration": 248,
    "start_time": "2025-05-23T10:31:22.056Z"
   },
   {
    "duration": 48,
    "start_time": "2025-05-23T11:04:45.373Z"
   },
   {
    "duration": 52,
    "start_time": "2025-05-23T11:06:59.987Z"
   },
   {
    "duration": 50,
    "start_time": "2025-05-23T11:07:57.478Z"
   },
   {
    "duration": 42,
    "start_time": "2025-05-23T11:08:08.422Z"
   },
   {
    "duration": 417,
    "start_time": "2025-05-23T11:09:54.383Z"
   },
   {
    "duration": 380,
    "start_time": "2025-05-23T11:10:29.797Z"
   },
   {
    "duration": 386,
    "start_time": "2025-05-23T11:12:27.679Z"
   },
   {
    "duration": 268,
    "start_time": "2025-05-23T11:12:41.258Z"
   },
   {
    "duration": 3473,
    "start_time": "2025-05-23T11:12:58.664Z"
   },
   {
    "duration": 16,
    "start_time": "2025-05-23T11:13:02.139Z"
   },
   {
    "duration": 182,
    "start_time": "2025-05-23T11:13:02.171Z"
   },
   {
    "duration": 121,
    "start_time": "2025-05-23T11:13:02.356Z"
   },
   {
    "duration": 693,
    "start_time": "2025-05-23T11:13:02.478Z"
   },
   {
    "duration": 607,
    "start_time": "2025-05-23T11:13:03.173Z"
   },
   {
    "duration": 48,
    "start_time": "2025-05-23T11:13:03.782Z"
   },
   {
    "duration": 493,
    "start_time": "2025-05-23T11:13:03.832Z"
   },
   {
    "duration": 374,
    "start_time": "2025-05-23T11:13:04.326Z"
   },
   {
    "duration": 220,
    "start_time": "2025-05-23T11:13:04.703Z"
   },
   {
    "duration": 15,
    "start_time": "2025-05-23T11:13:04.924Z"
   },
   {
    "duration": 412,
    "start_time": "2025-05-23T11:13:04.940Z"
   },
   {
    "duration": 21,
    "start_time": "2025-05-23T11:13:05.353Z"
   },
   {
    "duration": 171,
    "start_time": "2025-05-23T11:13:05.376Z"
   },
   {
    "duration": 184,
    "start_time": "2025-05-23T11:13:05.549Z"
   },
   {
    "duration": 12,
    "start_time": "2025-05-23T11:13:05.734Z"
   },
   {
    "duration": 28,
    "start_time": "2025-05-23T11:13:05.748Z"
   },
   {
    "duration": 101,
    "start_time": "2025-05-23T11:13:05.778Z"
   },
   {
    "duration": 10,
    "start_time": "2025-05-23T11:13:05.882Z"
   },
   {
    "duration": 466,
    "start_time": "2025-05-23T11:13:05.893Z"
   },
   {
    "duration": 356,
    "start_time": "2025-05-23T11:13:06.360Z"
   },
   {
    "duration": 942,
    "start_time": "2025-05-23T11:13:06.718Z"
   },
   {
    "duration": 24,
    "start_time": "2025-05-23T11:13:07.662Z"
   },
   {
    "duration": 67,
    "start_time": "2025-05-23T11:13:07.688Z"
   },
   {
    "duration": 8,
    "start_time": "2025-05-23T11:13:07.757Z"
   },
   {
    "duration": 115,
    "start_time": "2025-05-23T11:13:07.771Z"
   },
   {
    "duration": 66,
    "start_time": "2025-05-23T11:13:07.888Z"
   },
   {
    "duration": 120,
    "start_time": "2025-05-23T11:13:47.584Z"
   },
   {
    "duration": 152,
    "start_time": "2025-05-23T11:14:35.003Z"
   },
   {
    "duration": 169,
    "start_time": "2025-05-23T11:15:27.217Z"
   },
   {
    "duration": 158,
    "start_time": "2025-05-23T11:23:34.871Z"
   },
   {
    "duration": 6,
    "start_time": "2025-05-23T11:24:37.713Z"
   },
   {
    "duration": 5,
    "start_time": "2025-05-23T11:26:10.782Z"
   },
   {
    "duration": 163,
    "start_time": "2025-05-23T11:26:17.309Z"
   },
   {
    "duration": 165,
    "start_time": "2025-05-23T11:26:24.293Z"
   },
   {
    "duration": 2,
    "start_time": "2025-05-23T11:27:28.288Z"
   },
   {
    "duration": 5,
    "start_time": "2025-05-23T11:27:40.137Z"
   },
   {
    "duration": 4,
    "start_time": "2025-05-23T11:27:48.367Z"
   },
   {
    "duration": 4,
    "start_time": "2025-05-23T11:28:32.585Z"
   },
   {
    "duration": 7,
    "start_time": "2025-05-23T11:28:38.670Z"
   },
   {
    "duration": 163,
    "start_time": "2025-05-23T11:28:47.367Z"
   },
   {
    "duration": 160,
    "start_time": "2025-05-23T11:28:54.465Z"
   },
   {
    "duration": 187,
    "start_time": "2025-05-23T11:29:23.225Z"
   },
   {
    "duration": 158,
    "start_time": "2025-05-23T11:29:29.428Z"
   },
   {
    "duration": 374,
    "start_time": "2025-05-23T11:51:43.859Z"
   },
   {
    "duration": 4925,
    "start_time": "2025-05-23T12:02:31.346Z"
   },
   {
    "duration": 17,
    "start_time": "2025-05-23T12:02:36.273Z"
   },
   {
    "duration": 180,
    "start_time": "2025-05-23T12:02:36.292Z"
   },
   {
    "duration": 118,
    "start_time": "2025-05-23T12:02:36.475Z"
   },
   {
    "duration": 705,
    "start_time": "2025-05-23T12:02:36.595Z"
   },
   {
    "duration": 650,
    "start_time": "2025-05-23T12:02:37.302Z"
   },
   {
    "duration": 59,
    "start_time": "2025-05-23T12:02:37.954Z"
   },
   {
    "duration": 495,
    "start_time": "2025-05-23T12:02:38.015Z"
   },
   {
    "duration": 386,
    "start_time": "2025-05-23T12:02:38.512Z"
   },
   {
    "duration": 211,
    "start_time": "2025-05-23T12:02:38.901Z"
   },
   {
    "duration": 15,
    "start_time": "2025-05-23T12:02:39.113Z"
   },
   {
    "duration": 368,
    "start_time": "2025-05-23T12:02:39.129Z"
   },
   {
    "duration": 18,
    "start_time": "2025-05-23T12:02:39.499Z"
   },
   {
    "duration": 188,
    "start_time": "2025-05-23T12:02:39.519Z"
   },
   {
    "duration": 67,
    "start_time": "2025-05-23T12:02:39.710Z"
   },
   {
    "duration": 10,
    "start_time": "2025-05-23T12:02:39.779Z"
   },
   {
    "duration": 21,
    "start_time": "2025-05-23T12:02:39.791Z"
   },
   {
    "duration": 104,
    "start_time": "2025-05-23T12:02:39.813Z"
   },
   {
    "duration": 9,
    "start_time": "2025-05-23T12:02:39.919Z"
   },
   {
    "duration": 438,
    "start_time": "2025-05-23T12:02:39.930Z"
   },
   {
    "duration": 347,
    "start_time": "2025-05-23T12:02:40.370Z"
   },
   {
    "duration": 591,
    "start_time": "2025-05-23T12:02:40.718Z"
   },
   {
    "duration": 23,
    "start_time": "2025-05-23T12:02:41.311Z"
   },
   {
    "duration": 69,
    "start_time": "2025-05-23T12:02:41.336Z"
   },
   {
    "duration": 8,
    "start_time": "2025-05-23T12:02:41.407Z"
   },
   {
    "duration": 119,
    "start_time": "2025-05-23T12:02:41.417Z"
   },
   {
    "duration": 98,
    "start_time": "2025-05-23T12:02:41.539Z"
   },
   {
    "duration": 4141,
    "start_time": "2025-05-24T09:08:46.809Z"
   },
   {
    "duration": 15,
    "start_time": "2025-05-24T09:08:50.952Z"
   },
   {
    "duration": 166,
    "start_time": "2025-05-24T09:08:50.969Z"
   },
   {
    "duration": 120,
    "start_time": "2025-05-24T09:08:51.137Z"
   },
   {
    "duration": 697,
    "start_time": "2025-05-24T09:08:51.259Z"
   },
   {
    "duration": 648,
    "start_time": "2025-05-24T09:08:51.958Z"
   },
   {
    "duration": 48,
    "start_time": "2025-05-24T09:08:52.608Z"
   },
   {
    "duration": 638,
    "start_time": "2025-05-24T09:08:52.658Z"
   },
   {
    "duration": 339,
    "start_time": "2025-05-24T09:08:53.298Z"
   },
   {
    "duration": 214,
    "start_time": "2025-05-24T09:08:53.640Z"
   },
   {
    "duration": 18,
    "start_time": "2025-05-24T09:08:53.855Z"
   },
   {
    "duration": 393,
    "start_time": "2025-05-24T09:08:53.875Z"
   },
   {
    "duration": 17,
    "start_time": "2025-05-24T09:08:54.270Z"
   },
   {
    "duration": 186,
    "start_time": "2025-05-24T09:08:54.289Z"
   },
   {
    "duration": 43,
    "start_time": "2025-05-24T09:08:54.477Z"
   },
   {
    "duration": 11,
    "start_time": "2025-05-24T09:08:54.521Z"
   },
   {
    "duration": 25,
    "start_time": "2025-05-24T09:08:54.533Z"
   },
   {
    "duration": 105,
    "start_time": "2025-05-24T09:08:54.560Z"
   },
   {
    "duration": 9,
    "start_time": "2025-05-24T09:08:54.667Z"
   },
   {
    "duration": 433,
    "start_time": "2025-05-24T09:08:54.678Z"
   },
   {
    "duration": 354,
    "start_time": "2025-05-24T09:08:55.112Z"
   },
   {
    "duration": 545,
    "start_time": "2025-05-24T09:08:55.469Z"
   },
   {
    "duration": 21,
    "start_time": "2025-05-24T09:08:56.016Z"
   },
   {
    "duration": 213,
    "start_time": "2025-05-24T09:08:56.039Z"
   },
   {
    "duration": 7,
    "start_time": "2025-05-24T09:08:56.254Z"
   },
   {
    "duration": 104,
    "start_time": "2025-05-24T09:08:56.262Z"
   },
   {
    "duration": 83,
    "start_time": "2025-05-24T09:08:56.367Z"
   },
   {
    "duration": 102,
    "start_time": "2025-05-24T09:11:24.514Z"
   },
   {
    "duration": 103,
    "start_time": "2025-05-24T09:12:07.343Z"
   },
   {
    "duration": 81,
    "start_time": "2025-05-24T09:12:09.125Z"
   },
   {
    "duration": 6,
    "start_time": "2025-05-24T09:12:24.072Z"
   },
   {
    "duration": 6,
    "start_time": "2025-05-24T09:12:34.299Z"
   },
   {
    "duration": 4,
    "start_time": "2025-05-24T09:12:40.849Z"
   },
   {
    "duration": 3755,
    "start_time": "2025-06-17T17:40:40.008Z"
   },
   {
    "duration": 14,
    "start_time": "2025-06-17T17:40:43.765Z"
   },
   {
    "duration": 173,
    "start_time": "2025-06-17T17:40:43.781Z"
   },
   {
    "duration": 119,
    "start_time": "2025-06-17T17:40:43.957Z"
   },
   {
    "duration": 705,
    "start_time": "2025-06-17T17:40:50.017Z"
   },
   {
    "duration": 695,
    "start_time": "2025-06-17T17:40:51.008Z"
   },
   {
    "duration": 46,
    "start_time": "2025-06-17T17:42:39.362Z"
   },
   {
    "duration": 483,
    "start_time": "2025-06-17T17:42:40.596Z"
   },
   {
    "duration": 379,
    "start_time": "2025-06-17T17:42:53.401Z"
   },
   {
    "duration": 208,
    "start_time": "2025-06-17T17:44:05.570Z"
   },
   {
    "duration": 2706,
    "start_time": "2025-06-17T17:48:48.479Z"
   },
   {
    "duration": 3530,
    "start_time": "2025-06-17T18:00:56.144Z"
   },
   {
    "duration": 15,
    "start_time": "2025-06-17T18:00:59.676Z"
   },
   {
    "duration": 187,
    "start_time": "2025-06-17T18:00:59.692Z"
   },
   {
    "duration": 125,
    "start_time": "2025-06-17T18:00:59.881Z"
   },
   {
    "duration": 753,
    "start_time": "2025-06-17T18:01:00.009Z"
   },
   {
    "duration": 664,
    "start_time": "2025-06-17T18:01:00.764Z"
   },
   {
    "duration": 62,
    "start_time": "2025-06-17T18:01:01.429Z"
   },
   {
    "duration": 608,
    "start_time": "2025-06-17T18:01:01.493Z"
   },
   {
    "duration": 378,
    "start_time": "2025-06-17T18:01:02.103Z"
   },
   {
    "duration": 225,
    "start_time": "2025-06-17T18:01:02.483Z"
   },
   {
    "duration": 34,
    "start_time": "2025-06-17T18:01:02.711Z"
   },
   {
    "duration": 426,
    "start_time": "2025-06-17T18:01:02.747Z"
   },
   {
    "duration": 16,
    "start_time": "2025-06-17T18:01:03.174Z"
   },
   {
    "duration": 207,
    "start_time": "2025-06-17T18:01:03.193Z"
   },
   {
    "duration": 89,
    "start_time": "2025-06-17T18:01:03.402Z"
   },
   {
    "duration": 153,
    "start_time": "2025-06-17T18:01:03.493Z"
   },
   {
    "duration": 8,
    "start_time": "2025-06-17T18:01:03.648Z"
   },
   {
    "duration": 131,
    "start_time": "2025-06-17T18:01:03.657Z"
   },
   {
    "duration": 9,
    "start_time": "2025-06-17T18:01:03.789Z"
   },
   {
    "duration": 420,
    "start_time": "2025-06-17T18:01:03.800Z"
   },
   {
    "duration": 382,
    "start_time": "2025-06-17T18:01:04.222Z"
   },
   {
    "duration": 630,
    "start_time": "2025-06-17T18:01:04.606Z"
   },
   {
    "duration": 29,
    "start_time": "2025-06-17T18:01:05.239Z"
   },
   {
    "duration": 78,
    "start_time": "2025-06-17T18:01:05.270Z"
   },
   {
    "duration": 14,
    "start_time": "2025-06-17T18:01:05.351Z"
   },
   {
    "duration": 160,
    "start_time": "2025-06-17T18:01:05.367Z"
   },
   {
    "duration": 175,
    "start_time": "2025-06-17T18:01:05.529Z"
   }
  ],
  "colab": {
   "provenance": []
  },
  "kernelspec": {
   "display_name": "Python 3 (ipykernel)",
   "language": "python",
   "name": "python3"
  },
  "language_info": {
   "codemirror_mode": {
    "name": "ipython",
    "version": 3
   },
   "file_extension": ".py",
   "mimetype": "text/x-python",
   "name": "python",
   "nbconvert_exporter": "python",
   "pygments_lexer": "ipython3",
   "version": "3.9.5"
  },
  "toc": {
   "base_numbering": 1,
   "nav_menu": {},
   "number_sections": true,
   "sideBar": true,
   "skip_h1_title": true,
   "title_cell": "Table of Contents",
   "title_sidebar": "Contents",
   "toc_cell": false,
   "toc_position": {},
   "toc_section_display": true,
   "toc_window_display": false
  }
 },
 "nbformat": 4,
 "nbformat_minor": 1
}
